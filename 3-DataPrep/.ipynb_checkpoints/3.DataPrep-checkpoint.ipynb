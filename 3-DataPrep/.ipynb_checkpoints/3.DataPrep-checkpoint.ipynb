{
 "cells": [
  {
   "cell_type": "markdown",
   "id": "23a01d6e-4df2-4049-b643-751de5a85e41",
   "metadata": {},
   "source": [
    "## 3.Data Preparation"
   ]
  },
  {
   "cell_type": "markdown",
   "id": "1cc07583-edfa-4fb8-8a82-29adc9c867c8",
   "metadata": {},
   "source": [
    "On the data preparation stage the objective is prepare the data for the modeling stage. To accoplish this objective, we will utilise the tasks raised by the preceding stage, the data analysis stage. At the end of the third stage we will have the data tables to proceed with the modeling. "
   ]
  },
  {
   "cell_type": "markdown",
   "id": "fefd944d-9b16-4ca9-b3a5-0f7527edd5af",
   "metadata": {},
   "source": [
    "### A)Selecting the data"
   ]
  },
  {
   "cell_type": "code",
   "execution_count": 1,
   "id": "cdf83a81-1f06-4661-95b9-340b4344e727",
   "metadata": {
    "tags": []
   },
   "outputs": [
    {
     "data": {
      "text/html": [
       "<div>\n",
       "    <div style=\"width: 24px; height: 24px; background-color: #e1e1e1; border: 3px solid #9D9D9D; border-radius: 5px; position: absolute;\"> </div>\n",
       "    <div style=\"margin-left: 48px;\">\n",
       "        <h3 style=\"margin-bottom: 0px;\">Client</h3>\n",
       "        <p style=\"color: #9D9D9D; margin-bottom: 0px;\">Client-7bbf29d2-41a0-11ee-9b5b-309c231c6682</p>\n",
       "        <table style=\"width: 100%; text-align: left;\">\n",
       "\n",
       "        <tr>\n",
       "        \n",
       "            <td style=\"text-align: left;\"><strong>Connection method:</strong> Cluster object</td>\n",
       "            <td style=\"text-align: left;\"><strong>Cluster type:</strong> distributed.LocalCluster</td>\n",
       "        \n",
       "        </tr>\n",
       "\n",
       "        \n",
       "            <tr>\n",
       "                <td style=\"text-align: left;\">\n",
       "                    <strong>Dashboard: </strong> <a href=\"http://127.0.0.1:8787/status\" target=\"_blank\">http://127.0.0.1:8787/status</a>\n",
       "                </td>\n",
       "                <td style=\"text-align: left;\"></td>\n",
       "            </tr>\n",
       "        \n",
       "\n",
       "        </table>\n",
       "\n",
       "        \n",
       "\n",
       "        \n",
       "            <details>\n",
       "            <summary style=\"margin-bottom: 20px;\"><h3 style=\"display: inline;\">Cluster Info</h3></summary>\n",
       "            <div class=\"jp-RenderedHTMLCommon jp-RenderedHTML jp-mod-trusted jp-OutputArea-output\">\n",
       "    <div style=\"width: 24px; height: 24px; background-color: #e1e1e1; border: 3px solid #9D9D9D; border-radius: 5px; position: absolute;\">\n",
       "    </div>\n",
       "    <div style=\"margin-left: 48px;\">\n",
       "        <h3 style=\"margin-bottom: 0px; margin-top: 0px;\">LocalCluster</h3>\n",
       "        <p style=\"color: #9D9D9D; margin-bottom: 0px;\">030caf7f</p>\n",
       "        <table style=\"width: 100%; text-align: left;\">\n",
       "            <tr>\n",
       "                <td style=\"text-align: left;\">\n",
       "                    <strong>Dashboard:</strong> <a href=\"http://127.0.0.1:8787/status\" target=\"_blank\">http://127.0.0.1:8787/status</a>\n",
       "                </td>\n",
       "                <td style=\"text-align: left;\">\n",
       "                    <strong>Workers:</strong> 12\n",
       "                </td>\n",
       "            </tr>\n",
       "            <tr>\n",
       "                <td style=\"text-align: left;\">\n",
       "                    <strong>Total threads:</strong> 24\n",
       "                </td>\n",
       "                <td style=\"text-align: left;\">\n",
       "                    <strong>Total memory:</strong> 223.52 GiB\n",
       "                </td>\n",
       "            </tr>\n",
       "            \n",
       "            <tr>\n",
       "    <td style=\"text-align: left;\"><strong>Status:</strong> running</td>\n",
       "    <td style=\"text-align: left;\"><strong>Using processes:</strong> True</td>\n",
       "</tr>\n",
       "\n",
       "            \n",
       "        </table>\n",
       "\n",
       "        <details>\n",
       "            <summary style=\"margin-bottom: 20px;\">\n",
       "                <h3 style=\"display: inline;\">Scheduler Info</h3>\n",
       "            </summary>\n",
       "\n",
       "            <div style=\"\">\n",
       "    <div>\n",
       "        <div style=\"width: 24px; height: 24px; background-color: #FFF7E5; border: 3px solid #FF6132; border-radius: 5px; position: absolute;\"> </div>\n",
       "        <div style=\"margin-left: 48px;\">\n",
       "            <h3 style=\"margin-bottom: 0px;\">Scheduler</h3>\n",
       "            <p style=\"color: #9D9D9D; margin-bottom: 0px;\">Scheduler-abebe853-bd26-4985-8e3a-d9bc95fb9eea</p>\n",
       "            <table style=\"width: 100%; text-align: left;\">\n",
       "                <tr>\n",
       "                    <td style=\"text-align: left;\">\n",
       "                        <strong>Comm:</strong> tcp://127.0.0.1:37735\n",
       "                    </td>\n",
       "                    <td style=\"text-align: left;\">\n",
       "                        <strong>Workers:</strong> 12\n",
       "                    </td>\n",
       "                </tr>\n",
       "                <tr>\n",
       "                    <td style=\"text-align: left;\">\n",
       "                        <strong>Dashboard:</strong> <a href=\"http://127.0.0.1:8787/status\" target=\"_blank\">http://127.0.0.1:8787/status</a>\n",
       "                    </td>\n",
       "                    <td style=\"text-align: left;\">\n",
       "                        <strong>Total threads:</strong> 24\n",
       "                    </td>\n",
       "                </tr>\n",
       "                <tr>\n",
       "                    <td style=\"text-align: left;\">\n",
       "                        <strong>Started:</strong> Just now\n",
       "                    </td>\n",
       "                    <td style=\"text-align: left;\">\n",
       "                        <strong>Total memory:</strong> 223.52 GiB\n",
       "                    </td>\n",
       "                </tr>\n",
       "            </table>\n",
       "        </div>\n",
       "    </div>\n",
       "\n",
       "    <details style=\"margin-left: 48px;\">\n",
       "        <summary style=\"margin-bottom: 20px;\">\n",
       "            <h3 style=\"display: inline;\">Workers</h3>\n",
       "        </summary>\n",
       "\n",
       "        \n",
       "        <div style=\"margin-bottom: 20px;\">\n",
       "            <div style=\"width: 24px; height: 24px; background-color: #DBF5FF; border: 3px solid #4CC9FF; border-radius: 5px; position: absolute;\"> </div>\n",
       "            <div style=\"margin-left: 48px;\">\n",
       "            <details>\n",
       "                <summary>\n",
       "                    <h4 style=\"margin-bottom: 0px; display: inline;\">Worker: 0</h4>\n",
       "                </summary>\n",
       "                <table style=\"width: 100%; text-align: left;\">\n",
       "                    <tr>\n",
       "                        <td style=\"text-align: left;\">\n",
       "                            <strong>Comm: </strong> tcp://127.0.0.1:37539\n",
       "                        </td>\n",
       "                        <td style=\"text-align: left;\">\n",
       "                            <strong>Total threads: </strong> 2\n",
       "                        </td>\n",
       "                    </tr>\n",
       "                    <tr>\n",
       "                        <td style=\"text-align: left;\">\n",
       "                            <strong>Dashboard: </strong> <a href=\"http://127.0.0.1:42595/status\" target=\"_blank\">http://127.0.0.1:42595/status</a>\n",
       "                        </td>\n",
       "                        <td style=\"text-align: left;\">\n",
       "                            <strong>Memory: </strong> 18.63 GiB\n",
       "                        </td>\n",
       "                    </tr>\n",
       "                    <tr>\n",
       "                        <td style=\"text-align: left;\">\n",
       "                            <strong>Nanny: </strong> tcp://127.0.0.1:38973\n",
       "                        </td>\n",
       "                        <td style=\"text-align: left;\"></td>\n",
       "                    </tr>\n",
       "                    <tr>\n",
       "                        <td colspan=\"2\" style=\"text-align: left;\">\n",
       "                            <strong>Local directory: </strong> /tmp/dask-scratch-space/worker-xoz0awrx\n",
       "                        </td>\n",
       "                    </tr>\n",
       "\n",
       "                    \n",
       "\n",
       "                    \n",
       "\n",
       "                </table>\n",
       "            </details>\n",
       "            </div>\n",
       "        </div>\n",
       "        \n",
       "        <div style=\"margin-bottom: 20px;\">\n",
       "            <div style=\"width: 24px; height: 24px; background-color: #DBF5FF; border: 3px solid #4CC9FF; border-radius: 5px; position: absolute;\"> </div>\n",
       "            <div style=\"margin-left: 48px;\">\n",
       "            <details>\n",
       "                <summary>\n",
       "                    <h4 style=\"margin-bottom: 0px; display: inline;\">Worker: 1</h4>\n",
       "                </summary>\n",
       "                <table style=\"width: 100%; text-align: left;\">\n",
       "                    <tr>\n",
       "                        <td style=\"text-align: left;\">\n",
       "                            <strong>Comm: </strong> tcp://127.0.0.1:45847\n",
       "                        </td>\n",
       "                        <td style=\"text-align: left;\">\n",
       "                            <strong>Total threads: </strong> 2\n",
       "                        </td>\n",
       "                    </tr>\n",
       "                    <tr>\n",
       "                        <td style=\"text-align: left;\">\n",
       "                            <strong>Dashboard: </strong> <a href=\"http://127.0.0.1:42465/status\" target=\"_blank\">http://127.0.0.1:42465/status</a>\n",
       "                        </td>\n",
       "                        <td style=\"text-align: left;\">\n",
       "                            <strong>Memory: </strong> 18.63 GiB\n",
       "                        </td>\n",
       "                    </tr>\n",
       "                    <tr>\n",
       "                        <td style=\"text-align: left;\">\n",
       "                            <strong>Nanny: </strong> tcp://127.0.0.1:38733\n",
       "                        </td>\n",
       "                        <td style=\"text-align: left;\"></td>\n",
       "                    </tr>\n",
       "                    <tr>\n",
       "                        <td colspan=\"2\" style=\"text-align: left;\">\n",
       "                            <strong>Local directory: </strong> /tmp/dask-scratch-space/worker-_xx9413e\n",
       "                        </td>\n",
       "                    </tr>\n",
       "\n",
       "                    \n",
       "\n",
       "                    \n",
       "\n",
       "                </table>\n",
       "            </details>\n",
       "            </div>\n",
       "        </div>\n",
       "        \n",
       "        <div style=\"margin-bottom: 20px;\">\n",
       "            <div style=\"width: 24px; height: 24px; background-color: #DBF5FF; border: 3px solid #4CC9FF; border-radius: 5px; position: absolute;\"> </div>\n",
       "            <div style=\"margin-left: 48px;\">\n",
       "            <details>\n",
       "                <summary>\n",
       "                    <h4 style=\"margin-bottom: 0px; display: inline;\">Worker: 2</h4>\n",
       "                </summary>\n",
       "                <table style=\"width: 100%; text-align: left;\">\n",
       "                    <tr>\n",
       "                        <td style=\"text-align: left;\">\n",
       "                            <strong>Comm: </strong> tcp://127.0.0.1:45217\n",
       "                        </td>\n",
       "                        <td style=\"text-align: left;\">\n",
       "                            <strong>Total threads: </strong> 2\n",
       "                        </td>\n",
       "                    </tr>\n",
       "                    <tr>\n",
       "                        <td style=\"text-align: left;\">\n",
       "                            <strong>Dashboard: </strong> <a href=\"http://127.0.0.1:44571/status\" target=\"_blank\">http://127.0.0.1:44571/status</a>\n",
       "                        </td>\n",
       "                        <td style=\"text-align: left;\">\n",
       "                            <strong>Memory: </strong> 18.63 GiB\n",
       "                        </td>\n",
       "                    </tr>\n",
       "                    <tr>\n",
       "                        <td style=\"text-align: left;\">\n",
       "                            <strong>Nanny: </strong> tcp://127.0.0.1:41737\n",
       "                        </td>\n",
       "                        <td style=\"text-align: left;\"></td>\n",
       "                    </tr>\n",
       "                    <tr>\n",
       "                        <td colspan=\"2\" style=\"text-align: left;\">\n",
       "                            <strong>Local directory: </strong> /tmp/dask-scratch-space/worker-k15idglf\n",
       "                        </td>\n",
       "                    </tr>\n",
       "\n",
       "                    \n",
       "\n",
       "                    \n",
       "\n",
       "                </table>\n",
       "            </details>\n",
       "            </div>\n",
       "        </div>\n",
       "        \n",
       "        <div style=\"margin-bottom: 20px;\">\n",
       "            <div style=\"width: 24px; height: 24px; background-color: #DBF5FF; border: 3px solid #4CC9FF; border-radius: 5px; position: absolute;\"> </div>\n",
       "            <div style=\"margin-left: 48px;\">\n",
       "            <details>\n",
       "                <summary>\n",
       "                    <h4 style=\"margin-bottom: 0px; display: inline;\">Worker: 3</h4>\n",
       "                </summary>\n",
       "                <table style=\"width: 100%; text-align: left;\">\n",
       "                    <tr>\n",
       "                        <td style=\"text-align: left;\">\n",
       "                            <strong>Comm: </strong> tcp://127.0.0.1:40545\n",
       "                        </td>\n",
       "                        <td style=\"text-align: left;\">\n",
       "                            <strong>Total threads: </strong> 2\n",
       "                        </td>\n",
       "                    </tr>\n",
       "                    <tr>\n",
       "                        <td style=\"text-align: left;\">\n",
       "                            <strong>Dashboard: </strong> <a href=\"http://127.0.0.1:33619/status\" target=\"_blank\">http://127.0.0.1:33619/status</a>\n",
       "                        </td>\n",
       "                        <td style=\"text-align: left;\">\n",
       "                            <strong>Memory: </strong> 18.63 GiB\n",
       "                        </td>\n",
       "                    </tr>\n",
       "                    <tr>\n",
       "                        <td style=\"text-align: left;\">\n",
       "                            <strong>Nanny: </strong> tcp://127.0.0.1:45121\n",
       "                        </td>\n",
       "                        <td style=\"text-align: left;\"></td>\n",
       "                    </tr>\n",
       "                    <tr>\n",
       "                        <td colspan=\"2\" style=\"text-align: left;\">\n",
       "                            <strong>Local directory: </strong> /tmp/dask-scratch-space/worker-vd1ktyyc\n",
       "                        </td>\n",
       "                    </tr>\n",
       "\n",
       "                    \n",
       "\n",
       "                    \n",
       "\n",
       "                </table>\n",
       "            </details>\n",
       "            </div>\n",
       "        </div>\n",
       "        \n",
       "        <div style=\"margin-bottom: 20px;\">\n",
       "            <div style=\"width: 24px; height: 24px; background-color: #DBF5FF; border: 3px solid #4CC9FF; border-radius: 5px; position: absolute;\"> </div>\n",
       "            <div style=\"margin-left: 48px;\">\n",
       "            <details>\n",
       "                <summary>\n",
       "                    <h4 style=\"margin-bottom: 0px; display: inline;\">Worker: 4</h4>\n",
       "                </summary>\n",
       "                <table style=\"width: 100%; text-align: left;\">\n",
       "                    <tr>\n",
       "                        <td style=\"text-align: left;\">\n",
       "                            <strong>Comm: </strong> tcp://127.0.0.1:45075\n",
       "                        </td>\n",
       "                        <td style=\"text-align: left;\">\n",
       "                            <strong>Total threads: </strong> 2\n",
       "                        </td>\n",
       "                    </tr>\n",
       "                    <tr>\n",
       "                        <td style=\"text-align: left;\">\n",
       "                            <strong>Dashboard: </strong> <a href=\"http://127.0.0.1:34893/status\" target=\"_blank\">http://127.0.0.1:34893/status</a>\n",
       "                        </td>\n",
       "                        <td style=\"text-align: left;\">\n",
       "                            <strong>Memory: </strong> 18.63 GiB\n",
       "                        </td>\n",
       "                    </tr>\n",
       "                    <tr>\n",
       "                        <td style=\"text-align: left;\">\n",
       "                            <strong>Nanny: </strong> tcp://127.0.0.1:44537\n",
       "                        </td>\n",
       "                        <td style=\"text-align: left;\"></td>\n",
       "                    </tr>\n",
       "                    <tr>\n",
       "                        <td colspan=\"2\" style=\"text-align: left;\">\n",
       "                            <strong>Local directory: </strong> /tmp/dask-scratch-space/worker-ln7npmq3\n",
       "                        </td>\n",
       "                    </tr>\n",
       "\n",
       "                    \n",
       "\n",
       "                    \n",
       "\n",
       "                </table>\n",
       "            </details>\n",
       "            </div>\n",
       "        </div>\n",
       "        \n",
       "        <div style=\"margin-bottom: 20px;\">\n",
       "            <div style=\"width: 24px; height: 24px; background-color: #DBF5FF; border: 3px solid #4CC9FF; border-radius: 5px; position: absolute;\"> </div>\n",
       "            <div style=\"margin-left: 48px;\">\n",
       "            <details>\n",
       "                <summary>\n",
       "                    <h4 style=\"margin-bottom: 0px; display: inline;\">Worker: 5</h4>\n",
       "                </summary>\n",
       "                <table style=\"width: 100%; text-align: left;\">\n",
       "                    <tr>\n",
       "                        <td style=\"text-align: left;\">\n",
       "                            <strong>Comm: </strong> tcp://127.0.0.1:38829\n",
       "                        </td>\n",
       "                        <td style=\"text-align: left;\">\n",
       "                            <strong>Total threads: </strong> 2\n",
       "                        </td>\n",
       "                    </tr>\n",
       "                    <tr>\n",
       "                        <td style=\"text-align: left;\">\n",
       "                            <strong>Dashboard: </strong> <a href=\"http://127.0.0.1:37525/status\" target=\"_blank\">http://127.0.0.1:37525/status</a>\n",
       "                        </td>\n",
       "                        <td style=\"text-align: left;\">\n",
       "                            <strong>Memory: </strong> 18.63 GiB\n",
       "                        </td>\n",
       "                    </tr>\n",
       "                    <tr>\n",
       "                        <td style=\"text-align: left;\">\n",
       "                            <strong>Nanny: </strong> tcp://127.0.0.1:34973\n",
       "                        </td>\n",
       "                        <td style=\"text-align: left;\"></td>\n",
       "                    </tr>\n",
       "                    <tr>\n",
       "                        <td colspan=\"2\" style=\"text-align: left;\">\n",
       "                            <strong>Local directory: </strong> /tmp/dask-scratch-space/worker-295qkd3g\n",
       "                        </td>\n",
       "                    </tr>\n",
       "\n",
       "                    \n",
       "\n",
       "                    \n",
       "\n",
       "                </table>\n",
       "            </details>\n",
       "            </div>\n",
       "        </div>\n",
       "        \n",
       "        <div style=\"margin-bottom: 20px;\">\n",
       "            <div style=\"width: 24px; height: 24px; background-color: #DBF5FF; border: 3px solid #4CC9FF; border-radius: 5px; position: absolute;\"> </div>\n",
       "            <div style=\"margin-left: 48px;\">\n",
       "            <details>\n",
       "                <summary>\n",
       "                    <h4 style=\"margin-bottom: 0px; display: inline;\">Worker: 6</h4>\n",
       "                </summary>\n",
       "                <table style=\"width: 100%; text-align: left;\">\n",
       "                    <tr>\n",
       "                        <td style=\"text-align: left;\">\n",
       "                            <strong>Comm: </strong> tcp://127.0.0.1:46191\n",
       "                        </td>\n",
       "                        <td style=\"text-align: left;\">\n",
       "                            <strong>Total threads: </strong> 2\n",
       "                        </td>\n",
       "                    </tr>\n",
       "                    <tr>\n",
       "                        <td style=\"text-align: left;\">\n",
       "                            <strong>Dashboard: </strong> <a href=\"http://127.0.0.1:32885/status\" target=\"_blank\">http://127.0.0.1:32885/status</a>\n",
       "                        </td>\n",
       "                        <td style=\"text-align: left;\">\n",
       "                            <strong>Memory: </strong> 18.63 GiB\n",
       "                        </td>\n",
       "                    </tr>\n",
       "                    <tr>\n",
       "                        <td style=\"text-align: left;\">\n",
       "                            <strong>Nanny: </strong> tcp://127.0.0.1:33599\n",
       "                        </td>\n",
       "                        <td style=\"text-align: left;\"></td>\n",
       "                    </tr>\n",
       "                    <tr>\n",
       "                        <td colspan=\"2\" style=\"text-align: left;\">\n",
       "                            <strong>Local directory: </strong> /tmp/dask-scratch-space/worker-9klnzje4\n",
       "                        </td>\n",
       "                    </tr>\n",
       "\n",
       "                    \n",
       "\n",
       "                    \n",
       "\n",
       "                </table>\n",
       "            </details>\n",
       "            </div>\n",
       "        </div>\n",
       "        \n",
       "        <div style=\"margin-bottom: 20px;\">\n",
       "            <div style=\"width: 24px; height: 24px; background-color: #DBF5FF; border: 3px solid #4CC9FF; border-radius: 5px; position: absolute;\"> </div>\n",
       "            <div style=\"margin-left: 48px;\">\n",
       "            <details>\n",
       "                <summary>\n",
       "                    <h4 style=\"margin-bottom: 0px; display: inline;\">Worker: 7</h4>\n",
       "                </summary>\n",
       "                <table style=\"width: 100%; text-align: left;\">\n",
       "                    <tr>\n",
       "                        <td style=\"text-align: left;\">\n",
       "                            <strong>Comm: </strong> tcp://127.0.0.1:44819\n",
       "                        </td>\n",
       "                        <td style=\"text-align: left;\">\n",
       "                            <strong>Total threads: </strong> 2\n",
       "                        </td>\n",
       "                    </tr>\n",
       "                    <tr>\n",
       "                        <td style=\"text-align: left;\">\n",
       "                            <strong>Dashboard: </strong> <a href=\"http://127.0.0.1:45993/status\" target=\"_blank\">http://127.0.0.1:45993/status</a>\n",
       "                        </td>\n",
       "                        <td style=\"text-align: left;\">\n",
       "                            <strong>Memory: </strong> 18.63 GiB\n",
       "                        </td>\n",
       "                    </tr>\n",
       "                    <tr>\n",
       "                        <td style=\"text-align: left;\">\n",
       "                            <strong>Nanny: </strong> tcp://127.0.0.1:40601\n",
       "                        </td>\n",
       "                        <td style=\"text-align: left;\"></td>\n",
       "                    </tr>\n",
       "                    <tr>\n",
       "                        <td colspan=\"2\" style=\"text-align: left;\">\n",
       "                            <strong>Local directory: </strong> /tmp/dask-scratch-space/worker-vxpiif1x\n",
       "                        </td>\n",
       "                    </tr>\n",
       "\n",
       "                    \n",
       "\n",
       "                    \n",
       "\n",
       "                </table>\n",
       "            </details>\n",
       "            </div>\n",
       "        </div>\n",
       "        \n",
       "        <div style=\"margin-bottom: 20px;\">\n",
       "            <div style=\"width: 24px; height: 24px; background-color: #DBF5FF; border: 3px solid #4CC9FF; border-radius: 5px; position: absolute;\"> </div>\n",
       "            <div style=\"margin-left: 48px;\">\n",
       "            <details>\n",
       "                <summary>\n",
       "                    <h4 style=\"margin-bottom: 0px; display: inline;\">Worker: 8</h4>\n",
       "                </summary>\n",
       "                <table style=\"width: 100%; text-align: left;\">\n",
       "                    <tr>\n",
       "                        <td style=\"text-align: left;\">\n",
       "                            <strong>Comm: </strong> tcp://127.0.0.1:35249\n",
       "                        </td>\n",
       "                        <td style=\"text-align: left;\">\n",
       "                            <strong>Total threads: </strong> 2\n",
       "                        </td>\n",
       "                    </tr>\n",
       "                    <tr>\n",
       "                        <td style=\"text-align: left;\">\n",
       "                            <strong>Dashboard: </strong> <a href=\"http://127.0.0.1:35563/status\" target=\"_blank\">http://127.0.0.1:35563/status</a>\n",
       "                        </td>\n",
       "                        <td style=\"text-align: left;\">\n",
       "                            <strong>Memory: </strong> 18.63 GiB\n",
       "                        </td>\n",
       "                    </tr>\n",
       "                    <tr>\n",
       "                        <td style=\"text-align: left;\">\n",
       "                            <strong>Nanny: </strong> tcp://127.0.0.1:46347\n",
       "                        </td>\n",
       "                        <td style=\"text-align: left;\"></td>\n",
       "                    </tr>\n",
       "                    <tr>\n",
       "                        <td colspan=\"2\" style=\"text-align: left;\">\n",
       "                            <strong>Local directory: </strong> /tmp/dask-scratch-space/worker-sh946b5n\n",
       "                        </td>\n",
       "                    </tr>\n",
       "\n",
       "                    \n",
       "\n",
       "                    \n",
       "\n",
       "                </table>\n",
       "            </details>\n",
       "            </div>\n",
       "        </div>\n",
       "        \n",
       "        <div style=\"margin-bottom: 20px;\">\n",
       "            <div style=\"width: 24px; height: 24px; background-color: #DBF5FF; border: 3px solid #4CC9FF; border-radius: 5px; position: absolute;\"> </div>\n",
       "            <div style=\"margin-left: 48px;\">\n",
       "            <details>\n",
       "                <summary>\n",
       "                    <h4 style=\"margin-bottom: 0px; display: inline;\">Worker: 9</h4>\n",
       "                </summary>\n",
       "                <table style=\"width: 100%; text-align: left;\">\n",
       "                    <tr>\n",
       "                        <td style=\"text-align: left;\">\n",
       "                            <strong>Comm: </strong> tcp://127.0.0.1:40067\n",
       "                        </td>\n",
       "                        <td style=\"text-align: left;\">\n",
       "                            <strong>Total threads: </strong> 2\n",
       "                        </td>\n",
       "                    </tr>\n",
       "                    <tr>\n",
       "                        <td style=\"text-align: left;\">\n",
       "                            <strong>Dashboard: </strong> <a href=\"http://127.0.0.1:40443/status\" target=\"_blank\">http://127.0.0.1:40443/status</a>\n",
       "                        </td>\n",
       "                        <td style=\"text-align: left;\">\n",
       "                            <strong>Memory: </strong> 18.63 GiB\n",
       "                        </td>\n",
       "                    </tr>\n",
       "                    <tr>\n",
       "                        <td style=\"text-align: left;\">\n",
       "                            <strong>Nanny: </strong> tcp://127.0.0.1:46771\n",
       "                        </td>\n",
       "                        <td style=\"text-align: left;\"></td>\n",
       "                    </tr>\n",
       "                    <tr>\n",
       "                        <td colspan=\"2\" style=\"text-align: left;\">\n",
       "                            <strong>Local directory: </strong> /tmp/dask-scratch-space/worker-ht4nu_f4\n",
       "                        </td>\n",
       "                    </tr>\n",
       "\n",
       "                    \n",
       "\n",
       "                    \n",
       "\n",
       "                </table>\n",
       "            </details>\n",
       "            </div>\n",
       "        </div>\n",
       "        \n",
       "        <div style=\"margin-bottom: 20px;\">\n",
       "            <div style=\"width: 24px; height: 24px; background-color: #DBF5FF; border: 3px solid #4CC9FF; border-radius: 5px; position: absolute;\"> </div>\n",
       "            <div style=\"margin-left: 48px;\">\n",
       "            <details>\n",
       "                <summary>\n",
       "                    <h4 style=\"margin-bottom: 0px; display: inline;\">Worker: 10</h4>\n",
       "                </summary>\n",
       "                <table style=\"width: 100%; text-align: left;\">\n",
       "                    <tr>\n",
       "                        <td style=\"text-align: left;\">\n",
       "                            <strong>Comm: </strong> tcp://127.0.0.1:40299\n",
       "                        </td>\n",
       "                        <td style=\"text-align: left;\">\n",
       "                            <strong>Total threads: </strong> 2\n",
       "                        </td>\n",
       "                    </tr>\n",
       "                    <tr>\n",
       "                        <td style=\"text-align: left;\">\n",
       "                            <strong>Dashboard: </strong> <a href=\"http://127.0.0.1:38577/status\" target=\"_blank\">http://127.0.0.1:38577/status</a>\n",
       "                        </td>\n",
       "                        <td style=\"text-align: left;\">\n",
       "                            <strong>Memory: </strong> 18.63 GiB\n",
       "                        </td>\n",
       "                    </tr>\n",
       "                    <tr>\n",
       "                        <td style=\"text-align: left;\">\n",
       "                            <strong>Nanny: </strong> tcp://127.0.0.1:39877\n",
       "                        </td>\n",
       "                        <td style=\"text-align: left;\"></td>\n",
       "                    </tr>\n",
       "                    <tr>\n",
       "                        <td colspan=\"2\" style=\"text-align: left;\">\n",
       "                            <strong>Local directory: </strong> /tmp/dask-scratch-space/worker-13v6kjhb\n",
       "                        </td>\n",
       "                    </tr>\n",
       "\n",
       "                    \n",
       "\n",
       "                    \n",
       "\n",
       "                </table>\n",
       "            </details>\n",
       "            </div>\n",
       "        </div>\n",
       "        \n",
       "        <div style=\"margin-bottom: 20px;\">\n",
       "            <div style=\"width: 24px; height: 24px; background-color: #DBF5FF; border: 3px solid #4CC9FF; border-radius: 5px; position: absolute;\"> </div>\n",
       "            <div style=\"margin-left: 48px;\">\n",
       "            <details>\n",
       "                <summary>\n",
       "                    <h4 style=\"margin-bottom: 0px; display: inline;\">Worker: 11</h4>\n",
       "                </summary>\n",
       "                <table style=\"width: 100%; text-align: left;\">\n",
       "                    <tr>\n",
       "                        <td style=\"text-align: left;\">\n",
       "                            <strong>Comm: </strong> tcp://127.0.0.1:37903\n",
       "                        </td>\n",
       "                        <td style=\"text-align: left;\">\n",
       "                            <strong>Total threads: </strong> 2\n",
       "                        </td>\n",
       "                    </tr>\n",
       "                    <tr>\n",
       "                        <td style=\"text-align: left;\">\n",
       "                            <strong>Dashboard: </strong> <a href=\"http://127.0.0.1:44373/status\" target=\"_blank\">http://127.0.0.1:44373/status</a>\n",
       "                        </td>\n",
       "                        <td style=\"text-align: left;\">\n",
       "                            <strong>Memory: </strong> 18.63 GiB\n",
       "                        </td>\n",
       "                    </tr>\n",
       "                    <tr>\n",
       "                        <td style=\"text-align: left;\">\n",
       "                            <strong>Nanny: </strong> tcp://127.0.0.1:36089\n",
       "                        </td>\n",
       "                        <td style=\"text-align: left;\"></td>\n",
       "                    </tr>\n",
       "                    <tr>\n",
       "                        <td colspan=\"2\" style=\"text-align: left;\">\n",
       "                            <strong>Local directory: </strong> /tmp/dask-scratch-space/worker-pc1e4que\n",
       "                        </td>\n",
       "                    </tr>\n",
       "\n",
       "                    \n",
       "\n",
       "                    \n",
       "\n",
       "                </table>\n",
       "            </details>\n",
       "            </div>\n",
       "        </div>\n",
       "        \n",
       "\n",
       "    </details>\n",
       "</div>\n",
       "\n",
       "        </details>\n",
       "    </div>\n",
       "</div>\n",
       "            </details>\n",
       "        \n",
       "\n",
       "    </div>\n",
       "</div>"
      ],
      "text/plain": [
       "<Client: 'tcp://127.0.0.1:37735' processes=12 threads=24, memory=223.52 GiB>"
      ]
     },
     "execution_count": 1,
     "metadata": {},
     "output_type": "execute_result"
    }
   ],
   "source": [
    "from dask.distributed import Client\n",
    "import dask.dataframe as dd\n",
    "import logging\n",
    "import numpy as np\n",
    "\n",
    "client = Client(processes= True, n_workers=12, threads_per_worker=2, memory_limit='20GB', silence_logs=logging.ERROR)\n",
    "client"
   ]
  },
  {
   "cell_type": "markdown",
   "id": "c75069b6-52c2-4240-a305-947b47bdacdd",
   "metadata": {},
   "source": [
    "Let's start loading the raw data given by the Kaggle competition website."
   ]
  },
  {
   "cell_type": "code",
   "execution_count": 2,
   "id": "93bfbefb-d598-4846-a44a-2d212713ce23",
   "metadata": {
    "tags": []
   },
   "outputs": [],
   "source": [
    "blocksize = '128MB'\n",
    "#loading the data\n",
    "x_test = dd.read_csv(\"../data/originalSet/test_data.csv\", blocksize=blocksize)\n",
    "x_train = dd.read_csv(\"../data/originalSet/train_data.csv\", blocksize=blocksize)\n",
    "y_train = dd.read_csv(\"../data/originalSet/train_labels.csv\", blocksize=blocksize)"
   ]
  },
  {
   "cell_type": "code",
   "execution_count": 3,
   "id": "02ef4d63-5262-47a4-a4a4-f82db9989c93",
   "metadata": {},
   "outputs": [],
   "source": [
    "x_test = x_test.loc[:130000]"
   ]
  },
  {
   "cell_type": "markdown",
   "id": "893e4b5f-49aa-4c4d-822d-c12e7ab44e67",
   "metadata": {},
   "source": [
    "### B) Padding the Date"
   ]
  },
  {
   "cell_type": "code",
   "execution_count": 4,
   "id": "649603bc-d303-4364-92dd-6d276d5d1055",
   "metadata": {},
   "outputs": [],
   "source": [
    "x_test = x_test.persist()"
   ]
  },
  {
   "cell_type": "markdown",
   "id": "368d45a0-2cf1-4071-a988-7a01da8d237d",
   "metadata": {},
   "source": [
    "We have a window of one year +1 month of date, but some customers_id has less then 13 months. To standardize the date, we will add the missing months on all the customers. To accomplish the task, we will first locate the missing dates, but first we have to truncate the date by month and get unique vals. \n",
    "\n",
    "On the Data analysis stage, we observed that the test set has 18 months, this can be a problem, let's try to truncate the extra months by put the in a cycle, with the months pass the last date, then the month goes back to the first month."
   ]
  },
  {
   "cell_type": "code",
   "execution_count": 5,
   "id": "aa055c1a-281b-4e8a-9563-78b77a662efd",
   "metadata": {
    "tags": []
   },
   "outputs": [],
   "source": [
    "#initial procedure for further processes\n",
    "#reset index, truncate date time by month, get unique customers ids and unique dates\n",
    "def initial_procedure(df):\n",
    "    df = df.reset_index(drop=True)\n",
    "    #transform the date in the proper type.\n",
    "    df[\"S_2\"] = df[\"S_2\"].astype(\"datetime64[ns]\")\n",
    "    #truncate by month\n",
    "    df['S_2'] = df[\"S_2\"].dt.strftime('%Y-%m')\n",
    "    #get unique dates\n",
    "    x_date = df['S_2'].unique().compute()\n",
    "    x_customer = df['customer_ID'].value_counts().compute()\n",
    "    return x_date, x_customer, df\n"
   ]
  },
  {
   "cell_type": "code",
   "execution_count": 5,
   "id": "73c07421-2c46-42e6-a589-7fbe953f9ad0",
   "metadata": {},
   "outputs": [],
   "source": [
    "x_train_date, x_train_customer, x_train = initial_procedure(x_train)"
   ]
  },
  {
   "cell_type": "markdown",
   "id": "e4c44964-4149-401b-9ea7-0d582c5c0107",
   "metadata": {},
   "source": [
    "For the test dataset, we will truncate the extra months to 2018, in this manner we have a window of 13 months for both datasets."
   ]
  },
  {
   "cell_type": "code",
   "execution_count": 6,
   "id": "939170a2-292e-4bb8-ab66-419f53cbce23",
   "metadata": {
    "tags": []
   },
   "outputs": [],
   "source": [
    "x_test_date, x_test_customer, x_test = initial_procedure(x_test)"
   ]
  },
  {
   "cell_type": "code",
   "execution_count": 7,
   "id": "66ba8488-c6ca-412e-9f11-ec7483c74a00",
   "metadata": {},
   "outputs": [
    {
     "data": {
      "text/plain": [
       "0     2019-02\n",
       "1     2019-03\n",
       "2     2019-04\n",
       "3     2019-05\n",
       "4     2019-06\n",
       "5     2019-07\n",
       "6     2019-08\n",
       "7     2019-09\n",
       "8     2019-10\n",
       "9     2018-04\n",
       "10    2018-05\n",
       "11    2018-06\n",
       "12    2018-07\n",
       "13    2018-08\n",
       "14    2018-09\n",
       "15    2018-10\n",
       "16    2018-11\n",
       "17    2018-12\n",
       "18    2019-01\n",
       "Name: S_2, dtype: string"
      ]
     },
     "execution_count": 7,
     "metadata": {},
     "output_type": "execute_result"
    }
   ],
   "source": [
    "x_test_date"
   ]
  },
  {
   "cell_type": "code",
   "execution_count": 8,
   "id": "2a479a16-b14b-4cd8-9c66-705373aca7a5",
   "metadata": {},
   "outputs": [
    {
     "data": {
      "text/plain": [
       "3    2019-05\n",
       "4    2019-06\n",
       "5    2019-07\n",
       "6    2019-08\n",
       "7    2019-09\n",
       "8    2019-10\n",
       "Name: S_2, dtype: object"
      ]
     },
     "execution_count": 8,
     "metadata": {},
     "output_type": "execute_result"
    }
   ],
   "source": [
    "dates = x_test_date[3:9].astype('datetime64[ns]').dt.strftime('%Y-%m')\n",
    "dates"
   ]
  },
  {
   "cell_type": "code",
   "execution_count": 9,
   "id": "3ee9d003-bdca-4912-a3be-20b8271e2109",
   "metadata": {},
   "outputs": [],
   "source": [
    "x_test_date = x_test_date.drop(index= dates.index)"
   ]
  },
  {
   "cell_type": "markdown",
   "id": "6cc5948a-9910-4582-8305-314a8277bac2",
   "metadata": {},
   "source": [
    "Those dates will be changed to 2018 instead."
   ]
  },
  {
   "cell_type": "code",
   "execution_count": 10,
   "id": "38257d80-0ba0-4e5f-babd-6785ca34ae40",
   "metadata": {},
   "outputs": [],
   "source": [
    "replace_dict = {date: date.replace('2019', '2018') for date in list(dates)}"
   ]
  },
  {
   "cell_type": "code",
   "execution_count": 11,
   "id": "252ff0c9-ed27-47ec-ac16-4cf52f1748b9",
   "metadata": {},
   "outputs": [
    {
     "data": {
      "text/plain": [
       "{'2019-05': '2018-05',\n",
       " '2019-06': '2018-06',\n",
       " '2019-07': '2018-07',\n",
       " '2019-08': '2018-08',\n",
       " '2019-09': '2018-09',\n",
       " '2019-10': '2018-10'}"
      ]
     },
     "execution_count": 11,
     "metadata": {},
     "output_type": "execute_result"
    }
   ],
   "source": [
    "replace_dict"
   ]
  },
  {
   "cell_type": "code",
   "execution_count": 12,
   "id": "87b09cda-3fd8-4986-b637-9e09017125ee",
   "metadata": {},
   "outputs": [],
   "source": [
    "x_test = x_test.replace(to_replace = replace_dict)"
   ]
  },
  {
   "cell_type": "code",
   "execution_count": 14,
   "id": "28828d13-dc12-4e0a-8681-fff1bb5e407c",
   "metadata": {},
   "outputs": [
    {
     "data": {
      "text/plain": [
       "0     2019-02\n",
       "1     2019-03\n",
       "2     2019-04\n",
       "9     2018-04\n",
       "10    2018-05\n",
       "11    2018-06\n",
       "12    2018-07\n",
       "13    2018-08\n",
       "14    2018-09\n",
       "15    2018-10\n",
       "16    2018-11\n",
       "17    2018-12\n",
       "18    2019-01\n",
       "Name: S_2, dtype: string"
      ]
     },
     "execution_count": 14,
     "metadata": {},
     "output_type": "execute_result"
    }
   ],
   "source": [
    "x_test_date"
   ]
  },
  {
   "cell_type": "markdown",
   "id": "2386889d-60e8-4f66-9d9f-f866450bf460",
   "metadata": {},
   "source": [
    "We have to apply the initial procedure again to take the new dates."
   ]
  },
  {
   "cell_type": "code",
   "execution_count": 17,
   "id": "547a74d2-14f0-4254-bfef-dc3765ac850d",
   "metadata": {
    "tags": []
   },
   "outputs": [],
   "source": [
    "#get missing customers dates. parameters: dataframe, ocorrences of custumers id from initial procedure.\n",
    "#return customer and list of dates of the customers who has missing dates. Dataframe type.\n",
    "def get_missing_customer(df, x_customer, len_date):\n",
    "    #customers with missing data\n",
    "    cust_wmissing = x_customer[x_customer < len_date].index\n",
    "    #selecting customers with missing on the database, we only need the customer_ID and the S_2\n",
    "    x_missing = df[df['customer_ID'].isin(cust_wmissing)][['customer_ID', 'S_2']]\n",
    "    #aggregate the customers by id and adding the dates to a list. \n",
    "    x_grouped = x_missing.groupby(['customer_ID'])[['S_2']].aggregate([list]).compute()\n",
    "    return x_grouped "
   ]
  },
  {
   "cell_type": "markdown",
   "id": "c166ff77-1172-41b8-8983-971182d9694b",
   "metadata": {},
   "source": [
    "Getting missing customers with a list of present dates. The list them will compared with all dates that has to be present to check what date is not present."
   ]
  },
  {
   "cell_type": "code",
   "execution_count": 14,
   "id": "76359682-a0b2-4798-9ea4-a43f6ab32c1f",
   "metadata": {},
   "outputs": [],
   "source": [
    "x_train_grouped = get_missing_customer(x_train, x_train_customer, len(x_train_date))"
   ]
  },
  {
   "cell_type": "code",
   "execution_count": 15,
   "id": "98209eff-2e25-4dd2-aa2f-bb13ebec3fb5",
   "metadata": {},
   "outputs": [
    {
     "data": {
      "text/html": [
       "<div>\n",
       "<style scoped>\n",
       "    .dataframe tbody tr th:only-of-type {\n",
       "        vertical-align: middle;\n",
       "    }\n",
       "\n",
       "    .dataframe tbody tr th {\n",
       "        vertical-align: top;\n",
       "    }\n",
       "\n",
       "    .dataframe thead tr th {\n",
       "        text-align: left;\n",
       "    }\n",
       "\n",
       "    .dataframe thead tr:last-of-type th {\n",
       "        text-align: right;\n",
       "    }\n",
       "</style>\n",
       "<table border=\"1\" class=\"dataframe\">\n",
       "  <thead>\n",
       "    <tr>\n",
       "      <th></th>\n",
       "      <th>S_2</th>\n",
       "    </tr>\n",
       "    <tr>\n",
       "      <th></th>\n",
       "      <th>list</th>\n",
       "    </tr>\n",
       "    <tr>\n",
       "      <th>customer_ID</th>\n",
       "      <th></th>\n",
       "    </tr>\n",
       "  </thead>\n",
       "  <tbody>\n",
       "    <tr>\n",
       "      <th>0001337ded4e1c2539d1a78ff44a457bd4a95caa55ba17...</th>\n",
       "      <td>['2018-01', '2018-02', '2018-03']</td>\n",
       "    </tr>\n",
       "    <tr>\n",
       "      <th>000391f219520dbca6c3c1c46e0fab569da163f79ee266...</th>\n",
       "      <td>['2017-12', '2018-01', '2018-02', '2018-03']</td>\n",
       "    </tr>\n",
       "    <tr>\n",
       "      <th>0004860c260168fcaad0734a1dfedb7ceb1a83aaac54e2...</th>\n",
       "      <td>['2017-07', '2017-08', '2017-09', '2017-10', '...</td>\n",
       "    </tr>\n",
       "    <tr>\n",
       "      <th>00057c2d8d887fa3f777d97dc939700731575772e6c990...</th>\n",
       "      <td>['2017-12', '2018-01', '2018-02', '2018-03']</td>\n",
       "    </tr>\n",
       "    <tr>\n",
       "      <th>0005a6ae24fd274640a237ea56c43b1ef9e32077ad168a...</th>\n",
       "      <td>['2017-03', '2017-04', '2017-06', '2017-07', '...</td>\n",
       "    </tr>\n",
       "    <tr>\n",
       "      <th>...</th>\n",
       "      <td>...</td>\n",
       "    </tr>\n",
       "    <tr>\n",
       "      <th>fffe13e28dc3ceadf28249b596ba25df93e38ec53d38cf...</th>\n",
       "      <td>['2018-01', '2018-02', '2018-03']</td>\n",
       "    </tr>\n",
       "    <tr>\n",
       "      <th>fffe2bc02423407e33a607660caeed076d713d8a5ad323...</th>\n",
       "      <td>['2017-08', '2017-09', '2017-10', '2017-11', '...</td>\n",
       "    </tr>\n",
       "    <tr>\n",
       "      <th>fffe5008118592b867d89647fc840c45858860f596d98b...</th>\n",
       "      <td>['2018-02', '2018-03']</td>\n",
       "    </tr>\n",
       "    <tr>\n",
       "      <th>fffec7d7e1ca804c86f1ffdaac389c33f8039ed35bf412...</th>\n",
       "      <td>['2017-09', '2017-10', '2017-11', '2017-12', '...</td>\n",
       "    </tr>\n",
       "    <tr>\n",
       "      <th>fffee056e120fb326c9413fca5a7ab6618cc49be9bb6b1...</th>\n",
       "      <td>['2018-02', '2018-03']</td>\n",
       "    </tr>\n",
       "  </tbody>\n",
       "</table>\n",
       "<p>72879 rows × 1 columns</p>\n",
       "</div>"
      ],
      "text/plain": [
       "                                                                                                 S_2\n",
       "                                                                                                list\n",
       "customer_ID                                                                                         \n",
       "0001337ded4e1c2539d1a78ff44a457bd4a95caa55ba17...                  ['2018-01', '2018-02', '2018-03']\n",
       "000391f219520dbca6c3c1c46e0fab569da163f79ee266...       ['2017-12', '2018-01', '2018-02', '2018-03']\n",
       "0004860c260168fcaad0734a1dfedb7ceb1a83aaac54e2...  ['2017-07', '2017-08', '2017-09', '2017-10', '...\n",
       "00057c2d8d887fa3f777d97dc939700731575772e6c990...       ['2017-12', '2018-01', '2018-02', '2018-03']\n",
       "0005a6ae24fd274640a237ea56c43b1ef9e32077ad168a...  ['2017-03', '2017-04', '2017-06', '2017-07', '...\n",
       "...                                                                                              ...\n",
       "fffe13e28dc3ceadf28249b596ba25df93e38ec53d38cf...                  ['2018-01', '2018-02', '2018-03']\n",
       "fffe2bc02423407e33a607660caeed076d713d8a5ad323...  ['2017-08', '2017-09', '2017-10', '2017-11', '...\n",
       "fffe5008118592b867d89647fc840c45858860f596d98b...                             ['2018-02', '2018-03']\n",
       "fffec7d7e1ca804c86f1ffdaac389c33f8039ed35bf412...  ['2017-09', '2017-10', '2017-11', '2017-12', '...\n",
       "fffee056e120fb326c9413fca5a7ab6618cc49be9bb6b1...                             ['2018-02', '2018-03']\n",
       "\n",
       "[72879 rows x 1 columns]"
      ]
     },
     "execution_count": 15,
     "metadata": {},
     "output_type": "execute_result"
    }
   ],
   "source": [
    "x_train_grouped "
   ]
  },
  {
   "cell_type": "markdown",
   "id": "6c3d6e19-d538-4a65-8076-1bbf5a744b42",
   "metadata": {},
   "source": [
    "There is 72879 incomplete customers. "
   ]
  },
  {
   "cell_type": "code",
   "execution_count": 18,
   "id": "772630c4-641e-411f-b16b-6a88e57f6eaa",
   "metadata": {
    "tags": []
   },
   "outputs": [],
   "source": [
    "x_test_grouped = get_missing_customer(x_test, x_test_customer,len(x_test_date))"
   ]
  },
  {
   "cell_type": "markdown",
   "id": "5919621f-1247-4a76-8f73-583d5b74d50d",
   "metadata": {},
   "source": [
    "Same procedure to the test set."
   ]
  },
  {
   "cell_type": "code",
   "execution_count": 19,
   "id": "21dc943e-b9cc-4313-8c4c-84b0c2876649",
   "metadata": {
    "tags": []
   },
   "outputs": [
    {
     "data": {
      "text/html": [
       "<div>\n",
       "<style scoped>\n",
       "    .dataframe tbody tr th:only-of-type {\n",
       "        vertical-align: middle;\n",
       "    }\n",
       "\n",
       "    .dataframe tbody tr th {\n",
       "        vertical-align: top;\n",
       "    }\n",
       "\n",
       "    .dataframe thead tr th {\n",
       "        text-align: left;\n",
       "    }\n",
       "\n",
       "    .dataframe thead tr:last-of-type th {\n",
       "        text-align: right;\n",
       "    }\n",
       "</style>\n",
       "<table border=\"1\" class=\"dataframe\">\n",
       "  <thead>\n",
       "    <tr>\n",
       "      <th></th>\n",
       "      <th>S_2</th>\n",
       "    </tr>\n",
       "    <tr>\n",
       "      <th></th>\n",
       "      <th>list</th>\n",
       "    </tr>\n",
       "    <tr>\n",
       "      <th>customer_ID</th>\n",
       "      <th></th>\n",
       "    </tr>\n",
       "  </thead>\n",
       "  <tbody>\n",
       "    <tr>\n",
       "      <th>00000469ba478561f23a92a868bd366de6f6527a684c9a...</th>\n",
       "      <td>['2019-02', '2019-03', '2019-04', '2018-05', '...</td>\n",
       "    </tr>\n",
       "    <tr>\n",
       "      <th>00018b499469c9f10a1b428cbcf7419efa4b3336e6dd78...</th>\n",
       "      <td>['2018-11', '2018-12', '2019-01', '2019-02', '...</td>\n",
       "    </tr>\n",
       "    <tr>\n",
       "      <th>0002b4b7a4f5b165bc71794ba473cc5bfa2267c7bf8f6e...</th>\n",
       "      <td>['2019-04', '2018-05', '2018-06', '2018-07', '...</td>\n",
       "    </tr>\n",
       "    <tr>\n",
       "      <th>000311b99b226f7bf3a032671edb917f8a4edf98ab06ac...</th>\n",
       "      <td>['2018-11', '2018-12', '2019-01', '2019-02', '...</td>\n",
       "    </tr>\n",
       "    <tr>\n",
       "      <th>00034153f0d5a7e474b05799e9ca6d30fa7008065b1958...</th>\n",
       "      <td>['2018-07', '2018-08', '2018-09', '2018-10', '...</td>\n",
       "    </tr>\n",
       "    <tr>\n",
       "      <th>...</th>\n",
       "      <td>...</td>\n",
       "    </tr>\n",
       "    <tr>\n",
       "      <th>fffbcd8f05f77ac346c24aa8a9ab255a05553f0bfab1e3...</th>\n",
       "      <td>['2019-03', '2019-04']</td>\n",
       "    </tr>\n",
       "    <tr>\n",
       "      <th>fffce03d67327288677c023f5cf78fecec19a67db8eb0a...</th>\n",
       "      <td>['2019-01', '2019-02', '2019-03', '2019-04']</td>\n",
       "    </tr>\n",
       "    <tr>\n",
       "      <th>fffd67c5a640350480dc7069c8fc1d3157b735a740b0ee...</th>\n",
       "      <td>['2019-03', '2019-04', '2018-05', '2018-06', '...</td>\n",
       "    </tr>\n",
       "    <tr>\n",
       "      <th>ffff1cf18b40bacfe82d222c6d214eb8400c5a82b207ff...</th>\n",
       "      <td>['2019-02', '2019-03', '2019-04', '2018-05', '...</td>\n",
       "    </tr>\n",
       "    <tr>\n",
       "      <th>fffffa7cf7e453e1acc6a1426475d5cb9400859f82ff61...</th>\n",
       "      <td>['2018-09', '2018-10', '2018-11', '2018-12', '...</td>\n",
       "    </tr>\n",
       "  </tbody>\n",
       "</table>\n",
       "<p>113292 rows × 1 columns</p>\n",
       "</div>"
      ],
      "text/plain": [
       "                                                                                                 S_2\n",
       "                                                                                                list\n",
       "customer_ID                                                                                         \n",
       "00000469ba478561f23a92a868bd366de6f6527a684c9a...  ['2019-02', '2019-03', '2019-04', '2018-05', '...\n",
       "00018b499469c9f10a1b428cbcf7419efa4b3336e6dd78...  ['2018-11', '2018-12', '2019-01', '2019-02', '...\n",
       "0002b4b7a4f5b165bc71794ba473cc5bfa2267c7bf8f6e...  ['2019-04', '2018-05', '2018-06', '2018-07', '...\n",
       "000311b99b226f7bf3a032671edb917f8a4edf98ab06ac...  ['2018-11', '2018-12', '2019-01', '2019-02', '...\n",
       "00034153f0d5a7e474b05799e9ca6d30fa7008065b1958...  ['2018-07', '2018-08', '2018-09', '2018-10', '...\n",
       "...                                                                                              ...\n",
       "fffbcd8f05f77ac346c24aa8a9ab255a05553f0bfab1e3...                             ['2019-03', '2019-04']\n",
       "fffce03d67327288677c023f5cf78fecec19a67db8eb0a...       ['2019-01', '2019-02', '2019-03', '2019-04']\n",
       "fffd67c5a640350480dc7069c8fc1d3157b735a740b0ee...  ['2019-03', '2019-04', '2018-05', '2018-06', '...\n",
       "ffff1cf18b40bacfe82d222c6d214eb8400c5a82b207ff...  ['2019-02', '2019-03', '2019-04', '2018-05', '...\n",
       "fffffa7cf7e453e1acc6a1426475d5cb9400859f82ff61...  ['2018-09', '2018-10', '2018-11', '2018-12', '...\n",
       "\n",
       "[113292 rows x 1 columns]"
      ]
     },
     "execution_count": 19,
     "metadata": {},
     "output_type": "execute_result"
    }
   ],
   "source": [
    "x_test_grouped"
   ]
  },
  {
   "cell_type": "markdown",
   "id": "22cb3ad0-8b0c-4472-87f0-b80bd0dc3eea",
   "metadata": {},
   "source": [
    "On the test data set we have 113292 customers who needs new date rows."
   ]
  },
  {
   "cell_type": "markdown",
   "id": "506338ca-0483-41aa-ad77-895bb8b972a0",
   "metadata": {},
   "source": [
    "Now, we can procedd padding them. First, we will find the difference between all the dates and the current dates."
   ]
  },
  {
   "cell_type": "code",
   "execution_count": 20,
   "id": "8119a20e-4fbe-4a67-ab24-f8443b1e7074",
   "metadata": {
    "tags": []
   },
   "outputs": [],
   "source": [
    "from ast import literal_eval\n",
    "#Parameters:df_grouped and total dates for the dataset, given by the function inicial_procedure and \n",
    "#get_missing_customer.\n",
    "#for each customer, identify the missing date.\n",
    "def get_s2_diff(df_grouped, total_date):\n",
    "    #for each customer missing customer, identify the missing date.\n",
    "    new_columns = []\n",
    "    for df_g in df_grouped.iterrows():\n",
    "        #the difference between the list of all dates and the customer date is what we want.\n",
    "        new_columns.append(np.setdiff1d(total_date.to_numpy(), np.array(literal_eval(df_g[1]['S_2']['list']))))\n",
    "    return new_columns"
   ]
  },
  {
   "cell_type": "code",
   "execution_count": 19,
   "id": "f8720062-4d08-4cdb-82b5-7168447be899",
   "metadata": {},
   "outputs": [
    {
     "name": "stdout",
     "output_type": "stream",
     "text": [
      "dates present on the row:['2018-01', '2018-02', '2018-03'], dates missing:['2017-03' '2017-04' '2017-05' '2017-06' '2017-07' '2017-08' '2017-09'\n",
      " '2017-10' '2017-11' '2017-12']\n"
     ]
    }
   ],
   "source": [
    "x_train_grouped['s2-diff'] = get_s2_diff(x_train_grouped, x_train_date)\n",
    "#example\n",
    "print(f\"dates present on the row:{x_train_grouped['S_2']['list'][0]}, dates missing:{x_train_grouped['s2-diff'][0]}\")"
   ]
  },
  {
   "cell_type": "markdown",
   "id": "444e1b3f-f858-4f73-9783-6d1e16827156",
   "metadata": {},
   "source": [
    "Same for the test set."
   ]
  },
  {
   "cell_type": "code",
   "execution_count": 22,
   "id": "61e3547c-9465-47c5-9180-d2f1001a48aa",
   "metadata": {
    "tags": []
   },
   "outputs": [],
   "source": [
    "x_test_grouped['s2-diff'] = get_s2_diff(x_test_grouped, x_test_date)"
   ]
  },
  {
   "cell_type": "markdown",
   "id": "411d8393-c6fb-49ef-8811-f116f92a3da3",
   "metadata": {},
   "source": [
    "Now for each date in s2-diff, we create a new row. "
   ]
  },
  {
   "cell_type": "code",
   "execution_count": 23,
   "id": "051150cc-90b6-4034-87d3-1abe7f325178",
   "metadata": {
    "tags": []
   },
   "outputs": [],
   "source": [
    "import numpy as np\n",
    "import pandas as pd\n",
    "#pass the customer_ID, date_missing, and columns\n",
    "#return the new rows on a new dataframe to add on the old one\n",
    "def get_pad_date(customer, date_missing, columns):\n",
    "    new_row = {column:[] for column in columns}\n",
    "    #for each date missing, add on the dictionary\n",
    "    for date in date_missing:\n",
    "        new_row['customer_ID'].append(customer)\n",
    "        new_row['S_2'].append(date)\n",
    "        #fill the rest with nulls\n",
    "        for column in columns[2:]:\n",
    "            new_row[column].append(np.nan)\n",
    "    #transform dict on new dataframe\n",
    "    new_df = pd.DataFrame(new_row, columns=columns)\n",
    "    return new_df"
   ]
  },
  {
   "cell_type": "code",
   "execution_count": 24,
   "id": "fb0f6160-3e53-4a3d-8a77-d8d663ade502",
   "metadata": {
    "tags": []
   },
   "outputs": [],
   "source": [
    "\n",
    "#build missing to add to dataset\n",
    "def build_missing(df, x_grouped):\n",
    "    columns = df.columns[:]\n",
    "    new_rows_list = []\n",
    "    #for each customer, create the rows missing.\n",
    "    for customer, date in  x_grouped.iterrows():\n",
    "        new_rows_list.append(get_pad_date(customer, date['s2-diff'][0], columns))\n",
    "    \n",
    "    #New rows formatted on a dataFrame\n",
    "    new_rows_df = pd.concat(new_rows_list)\n",
    "    print(f'There will be added {len(new_rows_df)} new rows to the train dataset.')\n",
    "    df = dd.multi.concat([df, new_rows_df])\n",
    "    \n",
    "    #setting a new index to sort the customers together\n",
    "    df['new_index'] = df['customer_ID']\n",
    "    df['new_index'] += df['S_2']\n",
    "    \n",
    "    #new index is the customer id concatenated with date(dask do not accept multiindex)\n",
    "    df = df.set_index(['new_index'], sort=True)\n",
    "    return df\n",
    "    "
   ]
  },
  {
   "cell_type": "code",
   "execution_count": 19,
   "id": "46832081-a4e8-4e6e-82b0-19a21b9bc77c",
   "metadata": {},
   "outputs": [],
   "source": [
    "x_train = x_train.persist()\n",
    "x_test = x_test.persist()"
   ]
  },
  {
   "cell_type": "code",
   "execution_count": 23,
   "id": "63d7aa9a-70b1-40f3-9fce-6ab1b5711050",
   "metadata": {},
   "outputs": [
    {
     "data": {
      "text/plain": [
       "5531451"
      ]
     },
     "execution_count": 23,
     "metadata": {},
     "output_type": "execute_result"
    }
   ],
   "source": [
    "len(x_train)"
   ]
  },
  {
   "cell_type": "code",
   "execution_count": 24,
   "id": "95e4bdfc-1f72-4836-baa5-f69c857547b7",
   "metadata": {
    "tags": []
   },
   "outputs": [
    {
     "name": "stdout",
     "output_type": "stream",
     "text": [
      "There will be added 434418 new rows to the train dataset.\n"
     ]
    },
    {
     "name": "stderr",
     "output_type": "stream",
     "text": [
      "/home/codemaster/anaconda3/envs/america-exp/lib/python3.11/site-packages/distributed/client.py:3161: UserWarning: Sending large graph of size 11.16 MiB.\n",
      "This may cause some slowdown.\n",
      "Consider scattering data ahead of time and using futures.\n",
      "  warnings.warn(\n"
     ]
    }
   ],
   "source": [
    "x_train = build_missing(x_train, x_train_grouped)"
   ]
  },
  {
   "cell_type": "code",
   "execution_count": 25,
   "id": "ef7a64a8-2346-4e6e-bb21-103c418e44eb",
   "metadata": {
    "scrolled": true
   },
   "outputs": [
    {
     "name": "stderr",
     "output_type": "stream",
     "text": [
      "/home/codemaster/anaconda3/envs/america-exp/lib/python3.11/site-packages/distributed/client.py:3161: UserWarning: Sending large graph of size 10.99 MiB.\n",
      "This may cause some slowdown.\n",
      "Consider scattering data ahead of time and using futures.\n",
      "  warnings.warn(\n"
     ]
    },
    {
     "data": {
      "text/plain": [
       "5965869"
      ]
     },
     "execution_count": 25,
     "metadata": {},
     "output_type": "execute_result"
    }
   ],
   "source": [
    "len(x_train)"
   ]
  },
  {
   "cell_type": "code",
   "execution_count": 25,
   "id": "34c86647-9dcd-4bea-9641-26a5eb0fb170",
   "metadata": {},
   "outputs": [
    {
     "name": "stdout",
     "output_type": "stream",
     "text": [
      "There will be added 662303 new rows to the train dataset.\n"
     ]
    },
    {
     "name": "stderr",
     "output_type": "stream",
     "text": [
      "/home/codemaster/anaconda3/envs/america-exp/lib/python3.11/site-packages/distributed/client.py:3161: UserWarning: Sending large graph of size 17.22 MiB.\n",
      "This may cause some slowdown.\n",
      "Consider scattering data ahead of time and using futures.\n",
      "  warnings.warn(\n"
     ]
    }
   ],
   "source": [
    "x_test = build_missing(x_test, x_test_grouped)"
   ]
  },
  {
   "cell_type": "code",
   "execution_count": 26,
   "id": "d16cb485-2a41-461f-abe2-be8d86ecba8d",
   "metadata": {},
   "outputs": [
    {
     "name": "stderr",
     "output_type": "stream",
     "text": [
      "/home/codemaster/anaconda3/envs/america-exp/lib/python3.11/site-packages/distributed/client.py:3161: UserWarning: Sending large graph of size 16.87 MiB.\n",
      "This may cause some slowdown.\n",
      "Consider scattering data ahead of time and using futures.\n",
      "  warnings.warn(\n"
     ]
    }
   ],
   "source": [
    "cust_counts = x_test.customer_ID.value_counts().compute()"
   ]
  },
  {
   "cell_type": "code",
   "execution_count": 27,
   "id": "ffc46e6c-c723-4d72-8310-0c71d61e7e0e",
   "metadata": {},
   "outputs": [
    {
     "data": {
      "text/plain": [
       "customer_ID\n",
       "000c5539d1125ff38a83172a3a4e5cb14a9c338090df1c...    14\n",
       "0022bd62eb7f07460a6d550791ed8885226ce8e5d8322d...    14\n",
       "0028e742f606e415153fae93ad58f15484505ba3cb26df...    14\n",
       "0031546c158263c8ad2075d6b7cf0a4b9decc923e9f994...    14\n",
       "0048d7503cba77761253f89b8380bd08fe799cb0568207...    14\n",
       "                                                     ..\n",
       "ffff952c631f2c911b8a2a8ca56ea6e656309a83d2f64c...    13\n",
       "ffffcf5df59e5e0bba2a5ac4578a34e2b5aa64a1546cd3...    13\n",
       "ffffd61f098cc056dbd7d2a21380c4804bbfe60856f475...    13\n",
       "ffffddef1fc3643ea179c93245b68dca0f36941cd83977...    13\n",
       "fffffa7cf7e453e1acc6a1426475d5cb9400859f82ff61...    13\n",
       "Name: count, Length: 924621, dtype: int64[pyarrow]"
      ]
     },
     "execution_count": 27,
     "metadata": {},
     "output_type": "execute_result"
    }
   ],
   "source": [
    "cust_counts"
   ]
  },
  {
   "cell_type": "code",
   "execution_count": 28,
   "id": "0ef5fe11-e889-426d-9278-51d8f11e649b",
   "metadata": {},
   "outputs": [],
   "source": [
    "extra_cust = cust_counts[cust_counts==14]"
   ]
  },
  {
   "cell_type": "code",
   "execution_count": 29,
   "id": "8e75e8a3-6066-48c0-b284-1cc99bd33170",
   "metadata": {},
   "outputs": [
    {
     "data": {
      "text/plain": [
       "customer_ID\n",
       "000c5539d1125ff38a83172a3a4e5cb14a9c338090df1c...    14\n",
       "0022bd62eb7f07460a6d550791ed8885226ce8e5d8322d...    14\n",
       "0028e742f606e415153fae93ad58f15484505ba3cb26df...    14\n",
       "0031546c158263c8ad2075d6b7cf0a4b9decc923e9f994...    14\n",
       "0048d7503cba77761253f89b8380bd08fe799cb0568207...    14\n",
       "                                                     ..\n",
       "ffd5f8fc58a81639970fb2b0bfb367d17f15f2654ab7b3...    14\n",
       "ffdded2b8530fd912cb3c37c91012c5382a6d7e6c6b1de...    14\n",
       "ffdeb508e1907f26628c452ab13c204ef882613cbbb2e6...    14\n",
       "ffe15797052587a5ec3a5f6228edd0e2c212abb6118168...    14\n",
       "ffe45d42db82aa5a30d4b185030b09e3d3952203786493...    14\n",
       "Name: count, Length: 5992, dtype: int64[pyarrow]"
      ]
     },
     "execution_count": 29,
     "metadata": {},
     "output_type": "execute_result"
    }
   ],
   "source": [
    "extra_cust"
   ]
  },
  {
   "cell_type": "markdown",
   "id": "3cdf0580-a945-45f2-9dc8-9ca03bbcbc17",
   "metadata": {},
   "source": [
    "We gonna save this custumers on a pandas dataframe because dask dataframe doesn't handle duplicates so well and is just 5992 clients. After the handling, the custumers will be incorporated again on the dataset."
   ]
  },
  {
   "cell_type": "code",
   "execution_count": 33,
   "id": "cdcfe633-f1ba-40c7-aac3-b5fdc3779299",
   "metadata": {},
   "outputs": [
    {
     "name": "stderr",
     "output_type": "stream",
     "text": [
      "/home/codemaster/anaconda3/envs/america-exp/lib/python3.11/site-packages/distributed/client.py:3161: UserWarning: Sending large graph of size 17.26 MiB.\n",
      "This may cause some slowdown.\n",
      "Consider scattering data ahead of time and using futures.\n",
      "  warnings.warn(\n"
     ]
    }
   ],
   "source": [
    "dupli_customers = x_test[x_test['customer_ID'].isin(extra_cust.index)].compute()"
   ]
  },
  {
   "cell_type": "code",
   "execution_count": 35,
   "id": "6b44cc83-3914-41b5-8cb9-907b6f244301",
   "metadata": {},
   "outputs": [],
   "source": [
    "safet_car = dupli_customers.copy()"
   ]
  },
  {
   "cell_type": "code",
   "execution_count": 58,
   "id": "e00d9d80-916f-43e8-97c6-c38c0ada4b98",
   "metadata": {},
   "outputs": [],
   "source": [
    "dupli_customers = dupli_customers.reset_index()"
   ]
  },
  {
   "cell_type": "code",
   "execution_count": 62,
   "id": "c8541b06-9909-4548-bd18-d8d95a51a048",
   "metadata": {},
   "outputs": [],
   "source": [
    "dupli_customers = dupli_customers.drop_duplicates(subset='new_index', keep='first').set_index('new_index')"
   ]
  },
  {
   "cell_type": "code",
   "execution_count": 64,
   "id": "b033ed53-575e-4143-8391-895281324a42",
   "metadata": {},
   "outputs": [],
   "source": [
    "index_drop = safet_car.index"
   ]
  },
  {
   "cell_type": "code",
   "execution_count": 68,
   "id": "f4c94a57-a199-4cbf-abc4-3ad3e99dc568",
   "metadata": {},
   "outputs": [],
   "source": [
    "x_test = x_test[~x_test['customer_ID'].isin(extra_cust.index)]"
   ]
  },
  {
   "cell_type": "code",
   "execution_count": 71,
   "id": "601c0b75-0469-4962-ba44-452e29e6fd9e",
   "metadata": {},
   "outputs": [],
   "source": [
    "dupli_dask = dd.from_pandas(dupli_customers, npartitions=1)"
   ]
  },
  {
   "cell_type": "code",
   "execution_count": 72,
   "id": "72be5305-2b7a-4fb5-8402-87384d0a3f99",
   "metadata": {},
   "outputs": [],
   "source": [
    "x_test = dd.multi.concat([x_test, dupli_customers], axis='index')"
   ]
  },
  {
   "cell_type": "markdown",
   "id": "7fa5df06-d20b-491f-8e5c-052855e7c1ee",
   "metadata": {},
   "source": [
    "Checkpoint"
   ]
  },
  {
   "cell_type": "code",
   "execution_count": 73,
   "id": "25c77e48-bf7a-4d3a-9713-01b44ba7c6d6",
   "metadata": {},
   "outputs": [
    {
     "name": "stderr",
     "output_type": "stream",
     "text": [
      "/home/codemaster/anaconda3/envs/america-exp/lib/python3.11/site-packages/distributed/client.py:3161: UserWarning: Sending large graph of size 29.52 MiB.\n",
      "This may cause some slowdown.\n",
      "Consider scattering data ahead of time and using futures.\n",
      "  warnings.warn(\n"
     ]
    }
   ],
   "source": [
    "#x_train.to_parquet('../data/train/')\n",
    "x_test.to_parquet('../data/test/')"
   ]
  },
  {
   "cell_type": "code",
   "execution_count": 74,
   "id": "66a87113-1f59-4f5f-92b3-ca223cc4c0c2",
   "metadata": {},
   "outputs": [],
   "source": [
    "x_test = dd.read_parquet('../data/test/')"
   ]
  },
  {
   "cell_type": "code",
   "execution_count": 75,
   "id": "4535d0e6-dce0-45e9-9e51-e1782041e431",
   "metadata": {},
   "outputs": [],
   "source": [
    "cust_counts = x_test.customer_ID.value_counts().compute()"
   ]
  },
  {
   "cell_type": "code",
   "execution_count": 76,
   "id": "5b2e195c-42b2-4328-882b-d4a62ca5d721",
   "metadata": {},
   "outputs": [
    {
     "data": {
      "text/plain": [
       "customer_ID\n",
       "00000469ba478561f23a92a868bd366de6f6527a684c9a...    13\n",
       "00001bf2e77ff879fab36aa4fac689b9ba411dae63ae39...    13\n",
       "0000210045da4f81e5f122c6bde5c2a617d03eef67f82c...    13\n",
       "00003b41e58ede33b8daf61ab56d9952f17c9ad1c3976c...    13\n",
       "00004b22eaeeeb0ec976890c1d9bfc14fd9427e98c4ee9...    13\n",
       "                                                     ..\n",
       "ffff952c631f2c911b8a2a8ca56ea6e656309a83d2f64c...    13\n",
       "ffffcf5df59e5e0bba2a5ac4578a34e2b5aa64a1546cd3...    13\n",
       "ffffd61f098cc056dbd7d2a21380c4804bbfe60856f475...    13\n",
       "ffffddef1fc3643ea179c93245b68dca0f36941cd83977...    13\n",
       "fffffa7cf7e453e1acc6a1426475d5cb9400859f82ff61...    13\n",
       "Name: count, Length: 924621, dtype: int64[pyarrow]"
      ]
     },
     "execution_count": 76,
     "metadata": {},
     "output_type": "execute_result"
    }
   ],
   "source": [
    "cust_counts"
   ]
  },
  {
   "cell_type": "code",
   "execution_count": 22,
   "id": "40aa674b-873f-481d-af34-74ccb3ba9893",
   "metadata": {
    "tags": []
   },
   "outputs": [
    {
     "name": "stderr",
     "output_type": "stream",
     "text": [
      "/home/codemaster/anaconda3/envs/america-exp/lib/python3.11/site-packages/distributed/client.py:3161: UserWarning: Sending large graph of size 11.03 MiB.\n",
      "This may cause some slowdown.\n",
      "Consider scattering data ahead of time and using futures.\n",
      "  warnings.warn(\n"
     ]
    }
   ],
   "source": [
    "x_train.to_parquet(\"../data/train/\")"
   ]
  },
  {
   "cell_type": "code",
   "execution_count": 81,
   "id": "15606a54-e7e4-4576-a925-a785a3ce0bdb",
   "metadata": {
    "tags": []
   },
   "outputs": [],
   "source": [
    "x_train = dd.read_parquet('../data/train/')\n",
    "x_test = dd.read_parquet('../data/test/')"
   ]
  },
  {
   "cell_type": "code",
   "execution_count": 25,
   "id": "e46aeb5a-7090-40fe-8956-62d17be3ff61",
   "metadata": {},
   "outputs": [
    {
     "data": {
      "text/plain": [
       "5965869"
      ]
     },
     "execution_count": 25,
     "metadata": {},
     "output_type": "execute_result"
    }
   ],
   "source": [
    "len(x_train)"
   ]
  },
  {
   "cell_type": "code",
   "execution_count": 78,
   "id": "17573dfd-bca8-43b7-ab6d-b5571e067357",
   "metadata": {},
   "outputs": [
    {
     "data": {
      "text/plain": [
       "12020073"
      ]
     },
     "execution_count": 78,
     "metadata": {},
     "output_type": "execute_result"
    }
   ],
   "source": [
    "len(x_test)"
   ]
  },
  {
   "cell_type": "markdown",
   "id": "ebed66d8-725f-439d-ac71-1d17e4a8c32e",
   "metadata": {},
   "source": [
    "### B)Missing Values"
   ]
  },
  {
   "cell_type": "markdown",
   "id": "d0126cc4-2424-440b-a433-08ad60c579ca",
   "metadata": {},
   "source": [
    "For the missing values, we will use two methods. First we will apply the last valid, but last valid doesn't fill the spaces where there is no last valid. So next we will fill with the next valid. We will follow this order because maybe if the value is missing is because the last value is still valid. We are considering that the value doesn't have changed. \n",
    "\n",
    "Note: The method is filling spaces that is not on the same customer id, there's room for improvment apply the same procedure selecting the client before making changes. the values can mislead the model, filling the gaps with incosistent values. \n",
    "\n",
    "Moreover, we notice from data analysis that some columns has little samples. We think that this features maybe is important but if we apply the procedure described above, the colum will be full of misleading information. To solve the problem we will set a threshold. If the columns has elements to surpass the threshold, the procedure above will be applied, if not the column will be dropped for now. "
   ]
  },
  {
   "cell_type": "code",
   "execution_count": 79,
   "id": "f0d6c4d7-53d6-4d82-8c3d-3cfa2ec237f2",
   "metadata": {},
   "outputs": [],
   "source": [
    "pd.options.display.max_rows = 300\n",
    "pd.options.display.max_columns = 300 "
   ]
  },
  {
   "cell_type": "code",
   "execution_count": 82,
   "id": "fe4c53de-d601-40e4-b5f1-b55ada436db3",
   "metadata": {},
   "outputs": [
    {
     "data": {
      "text/plain": [
       "5965869"
      ]
     },
     "execution_count": 82,
     "metadata": {},
     "output_type": "execute_result"
    }
   ],
   "source": [
    "len(x_train)"
   ]
  },
  {
   "cell_type": "markdown",
   "id": "b73e6fb0-9af2-49bd-ad51-68cf6a403a13",
   "metadata": {},
   "source": [
    "Taking in to account that we added a round 500.000 empty rows on the previous step, and we have 5.965.869 of rows now, we gonna use a threshold of  2000000, which corresponds to 1500000 of the original empty spaces."
   ]
  },
  {
   "cell_type": "markdown",
   "id": "5b37cbb4-e2af-415e-af60-cd80ecac31bf",
   "metadata": {},
   "source": [
    "Before this procedure, some columns already has a value for NAN, -1, so we gonna use this information too and in those situations we gonna remove the columns and just fill with -1 on this columns. "
   ]
  },
  {
   "cell_type": "code",
   "execution_count": 83,
   "id": "1ab5b43f-efe6-4a10-bb41-15bdfde79206",
   "metadata": {
    "tags": []
   },
   "outputs": [
    {
     "name": "stdout",
     "output_type": "stream",
     "text": [
      "<class 'dask.dataframe.core.DataFrame'>\n",
      "Index: 5965869 entries, 0000099d6bd597052cdcda90ffabf56573fe9d7c79be5fbac11a8ed792feb62a2017-03 to fffff1d38b785cef84adeace64f8f83db3a0c31e8d92eaba8b115f71cab046812018-03\n",
      "Data columns (total 11 columns):\n",
      " #   Column  Non-Null Count  Dtype\n",
      "---  ------  --------------  -----\n",
      " 0   B_30    5529435 non-null      float64\n",
      " 1   B_38    5529435 non-null      float64\n",
      " 2   D_114   5354735 non-null      float64\n",
      " 3   D_116   5354735 non-null      float64\n",
      " 4   D_117   5354735 non-null      float64\n",
      " 5   D_120   5354735 non-null      float64\n",
      " 6   D_126   5414635 non-null      float64\n",
      " 7   D_63    5531451 non-null      string\n",
      " 8   D_64    5314009 non-null      string\n",
      " 9   D_66    623354 non-null      float64\n",
      "10   D_68    5314948 non-null      float64\n",
      "dtypes: float64(9), string(2)\n",
      "memory usage: 898.9 MB\n"
     ]
    }
   ],
   "source": [
    "categorical_feat =['B_30', 'B_38', 'D_114', 'D_116', \n",
    "                   'D_117', 'D_120', 'D_126', 'D_63',\n",
    "                   'D_64', 'D_66', 'D_68']\n",
    "x_train[categorical_feat].info(verbose=True)"
   ]
  },
  {
   "cell_type": "markdown",
   "id": "ac9dd813-af6b-4483-ac7b-8602966eb250",
   "metadata": {
    "tags": []
   },
   "source": [
    "The type of two columns is object, let's take a closer look on what's inside the categorical feature."
   ]
  },
  {
   "cell_type": "code",
   "execution_count": 8,
   "id": "72453494-9a6a-4cdd-8da4-553a19d8285f",
   "metadata": {
    "tags": []
   },
   "outputs": [
    {
     "name": "stdout",
     "output_type": "stream",
     "text": [
      "Feature B_30, unique values: 0    0.0\n",
      "1    2.0\n",
      "2    1.0\n",
      "3    NaN\n",
      "Name: B_30, dtype: float64\n",
      "Feature B_38, unique values: 0    2.0\n",
      "1    1.0\n",
      "2    3.0\n",
      "3    5.0\n",
      "4    6.0\n",
      "5    7.0\n",
      "6    NaN\n",
      "7    4.0\n",
      "Name: B_38, dtype: float64\n",
      "Feature D_114, unique values: 0    1.0\n",
      "1    0.0\n",
      "2    NaN\n",
      "Name: D_114, dtype: float64\n",
      "Feature D_116, unique values: 0    0.0\n",
      "1    NaN\n",
      "2    1.0\n",
      "Name: D_116, dtype: float64\n",
      "Feature D_117, unique values: 0    4.0\n",
      "1   -1.0\n",
      "2    6.0\n",
      "3    2.0\n",
      "4    1.0\n",
      "5    NaN\n",
      "6    3.0\n",
      "7    5.0\n",
      "Name: D_117, dtype: float64\n",
      "Feature D_120, unique values: 0    0.0\n",
      "1    1.0\n",
      "2    NaN\n",
      "Name: D_120, dtype: float64\n",
      "Feature D_126, unique values: 0    1.0\n",
      "1    NaN\n",
      "2    0.0\n",
      "3   -1.0\n",
      "Name: D_126, dtype: float64\n",
      "Feature D_63, unique values: 0      CR\n",
      "1      CO\n",
      "2    <NA>\n",
      "3      CL\n",
      "4      XZ\n",
      "5      XM\n",
      "6      XL\n",
      "Name: D_63, dtype: string\n",
      "Feature D_64, unique values: 0       O\n",
      "1       R\n",
      "2    <NA>\n",
      "3       U\n",
      "4      -1\n",
      "Name: D_64, dtype: string\n",
      "Feature D_66, unique values: 0    NaN\n",
      "1    1.0\n",
      "2    0.0\n",
      "Name: D_66, dtype: float64\n",
      "Feature D_68, unique values: 0    6.0\n",
      "1    2.0\n",
      "2    3.0\n",
      "3    NaN\n",
      "4    5.0\n",
      "5    4.0\n",
      "6    0.0\n",
      "7    1.0\n",
      "Name: D_68, dtype: float64\n"
     ]
    }
   ],
   "source": [
    "for cat_feat in categorical_feat:\n",
    "    print(f'Feature {cat_feat}, unique values: {x_train[cat_feat].unique().compute()}')\n"
   ]
  },
  {
   "cell_type": "markdown",
   "id": "37f25462-386e-4b58-9c3f-f6a04f81c432",
   "metadata": {},
   "source": [
    "Observing the features we notice five distict cases, and requires three distict handling, the cases are:\n",
    "\n",
    "1. The columns B_30, B_38, D_68 is a type of ordinal encoder, which means the columns has ordered integers coding the categories. Those columns doesn't have the value -1 for NAN, them we gonna replace missing values(NAN) on those columns with -1. \n",
    "2. The columns D_114, D_116, D_120, D_66 is a encoded on a binary format. For those columns we gonna use the plots of the stage 2.Data Analysis, we will put the missing elements on the class that has more impurity. We will drop those class on future procedures, then only the relevant variable will remain at the end of data preparation stage.*\n",
    "3. The columns D_117, D_126, already has the -1 for NAN. We gonna put the NAN on the -1 class.\n",
    "4. The column D_63 is filled with string, to apply the next steps we will need that all values to be of type string, so we gonna replace NAN to a string 'NAN'. When we encode this column we will drop the column who accounts for this value.\n",
    "5. The column D_64 has mixed types filling the rows. We need to put the NAN on the -1 categorie, however we also need to transform -1 to some string, we will choose the string 'NAN' as well.\n",
    "\n",
    "*On further analysis of the case 2, for D_114, D_116, D_120,  there is no class to put missing that will not interfer, them a new class of value -1 will be created, after the one-hot the class will be dropped from the columns. For D_66, we can put the missing to the class 0, and them drop 0 on next stage.\n",
    "\n",
    "Now we gonna proccedd with the preprocessing."
   ]
  },
  {
   "cell_type": "code",
   "execution_count": 84,
   "id": "e350375f-c53c-43dc-b7fb-32666b2bc6ed",
   "metadata": {},
   "outputs": [],
   "source": [
    "#apply the pipeline for process missing values. \n",
    "def set_missing_pipeline(df):\n",
    "    #fill NAN with -1.\n",
    "    df[['B_30', 'B_38', 'D_68', 'D_114',\n",
    "               'D_116', 'D_120', 'D_117', 'D_126']] = df[['B_30', 'B_38', 'D_68', \n",
    "                                                           'D_114', 'D_116', 'D_120', \n",
    "                                                           'D_117', 'D_126']].fillna(value=-1)\n",
    "\n",
    "    #replace with 0\n",
    "    df[['D_66']] = df[['D_66']].fillna(value=0)\n",
    "    \n",
    "    #fill NAN with '-1'\n",
    "    df[['D_63', 'D_64']] = df[['D_63', 'D_64']].fillna(value='-1')\n",
    "    #replace -1 with string\n",
    "    df[['D_63', 'D_64']] = df[['D_63', 'D_64']].replace(to_replace = '-1' , value='NAN')\n",
    "\n",
    "    return df\n"
   ]
  },
  {
   "cell_type": "code",
   "execution_count": 85,
   "id": "f617414b-433a-4fa0-b565-73810e49dbb2",
   "metadata": {},
   "outputs": [],
   "source": [
    "x_train = set_missing_pipeline(x_train)"
   ]
  },
  {
   "cell_type": "code",
   "execution_count": 86,
   "id": "dbb04178-a204-47bf-8870-326c596a221c",
   "metadata": {},
   "outputs": [],
   "source": [
    "x_test = set_missing_pipeline(x_test)"
   ]
  },
  {
   "cell_type": "markdown",
   "id": "859f099b-dabc-4892-b205-011ddebaf95e",
   "metadata": {},
   "source": [
    "The status quo of missing is as follow:"
   ]
  },
  {
   "cell_type": "code",
   "execution_count": 87,
   "id": "d49949aa-319c-4683-a684-fba098503a0b",
   "metadata": {},
   "outputs": [
    {
     "name": "stdout",
     "output_type": "stream",
     "text": [
      "<class 'dask.dataframe.core.DataFrame'>\n",
      "Index: 5965869 entries, 0000099d6bd597052cdcda90ffabf56573fe9d7c79be5fbac11a8ed792feb62a2017-03 to fffff1d38b785cef84adeace64f8f83db3a0c31e8d92eaba8b115f71cab046812018-03\n",
      "Data columns (total 11 columns):\n",
      " #   Column  Non-Null Count  Dtype\n",
      "---  ------  --------------  -----\n",
      " 0   B_30    5965869 non-null      float64\n",
      " 1   B_38    5965869 non-null      float64\n",
      " 2   D_114   5965869 non-null      float64\n",
      " 3   D_116   5965869 non-null      float64\n",
      " 4   D_117   5965869 non-null      float64\n",
      " 5   D_120   5965869 non-null      float64\n",
      " 6   D_126   5965869 non-null      float64\n",
      " 7   D_63    5965869 non-null      string\n",
      " 8   D_64    5965869 non-null      string\n",
      " 9   D_66    5965869 non-null      float64\n",
      "10   D_68    5965869 non-null      float64\n",
      "dtypes: float64(9), string(2)\n",
      "memory usage: 900.7 MB\n"
     ]
    }
   ],
   "source": [
    "x_train[categorical_feat].info(verbose=True)"
   ]
  },
  {
   "cell_type": "code",
   "execution_count": 88,
   "id": "6c968890-fc10-4cd6-aa9f-9d8d6fe2138b",
   "metadata": {
    "tags": []
   },
   "outputs": [
    {
     "name": "stdout",
     "output_type": "stream",
     "text": [
      " \n",
      "Count total NaN at each column x_train: \n",
      "\n",
      " customer_ID          0\n",
      "D_116                0\n",
      "D_64                 0\n",
      "D_117                0\n",
      "D_120                0\n",
      "D_66                 0\n",
      "D_68                 0\n",
      "D_126                0\n",
      "B_38                 0\n",
      "D_63                 0\n",
      "B_30                 0\n",
      "D_114                0\n",
      "S_2                  0\n",
      "B_32            434418\n",
      "P_4             434418\n",
      "B_23            434418\n",
      "S_15            434418\n",
      "D_71            434418\n",
      "S_13            434418\n",
      "R_6             434418\n",
      "S_12            434418\n",
      "D_92            434418\n",
      "D_93            434418\n",
      "D_94            434418\n",
      "B_18            434418\n",
      "R_24            434418\n",
      "D_65            434418\n",
      "R_25            434418\n",
      "D_96            434418\n",
      "D_75            434418\n",
      "R_23            434418\n",
      "B_24            434418\n",
      "B_36            434418\n",
      "R_19            434418\n",
      "S_19            434418\n",
      "B_31            434418\n",
      "R_18            434418\n",
      "R_17            434418\n",
      "D_86            434418\n",
      "S_18            434418\n",
      "R_21            434418\n",
      "R_16            434418\n",
      "R_15            434418\n",
      "R_13            434418\n",
      "B_28            434418\n",
      "R_22            434418\n",
      "R_11            434418\n",
      "R_10            434418\n",
      "S_16            434418\n",
      "R_8             434418\n",
      "S_20            434418\n",
      "S_17            434418\n",
      "B_21            434418\n",
      "B_11            434418\n",
      "D_47            434418\n",
      "R_28            434418\n",
      "D_51            434418\n",
      "R_2             434418\n",
      "S_11            434418\n",
      "B_9             434418\n",
      "R_3             434418\n",
      "B_5             434418\n",
      "B_4             434418\n",
      "B_10            434418\n",
      "S_5             434418\n",
      "S_6             434418\n",
      "R_4             434418\n",
      "R_1             434418\n",
      "B_1             434418\n",
      "B_7             434418\n",
      "R_5             434418\n",
      "D_58            434418\n",
      "D_39            434418\n",
      "D_60            434418\n",
      "D_127           434418\n",
      "B_12            434418\n",
      "B_14            434418\n",
      "S_8             434418\n",
      "R_7             434419\n",
      "R_14            434419\n",
      "B_40            434471\n",
      "R_12            434474\n",
      "B_37            434474\n",
      "R_20            434493\n",
      "B_6             434651\n",
      "S_23            434863\n",
      "S_26            435052\n",
      "B_41            435108\n",
      "D_109           436015\n",
      "B_19            436434\n",
      "B_16            436434\n",
      "B_2             436434\n",
      "B_22            436434\n",
      "B_26            436434\n",
      "B_33            436434\n",
      "B_3             436434\n",
      "D_41            436434\n",
      "D_54            436434\n",
      "B_20            436434\n",
      "B_27            436434\n",
      "D_45            436435\n",
      "D_112           437068\n",
      "B_15            441341\n",
      "B_25            441341\n",
      "S_25            447265\n",
      "S_24            453011\n",
      "S_22            453442\n",
      "D_74            456191\n",
      "D_80            456191\n",
      "B_8             456686\n",
      "D_72            458126\n",
      "D_81            460105\n",
      "D_52            463981\n",
      "D_84            463981\n",
      "D_89            463981\n",
      "D_140           475050\n",
      "D_102           475073\n",
      "D_144           475145\n",
      "D_133           477134\n",
      "P_2             480403\n",
      "B_13            483937\n",
      "D_79            510357\n",
      "D_70            529335\n",
      "D_141           535966\n",
      "D_139           535966\n",
      "D_143           535966\n",
      "D_107           535966\n",
      "D_128           535966\n",
      "D_130           535966\n",
      "D_131           535966\n",
      "D_103           535966\n",
      "D_129           535966\n",
      "D_104           535966\n",
      "D_145           535966\n",
      "D_59            541143\n",
      "R_27            563121\n",
      "D_91            591634\n",
      "D_124           611134\n",
      "D_115           611134\n",
      "D_113           611134\n",
      "D_125           611134\n",
      "D_123           611134\n",
      "D_118           611134\n",
      "D_121           611134\n",
      "D_119           611134\n",
      "D_122           611134\n",
      "D_55            619221\n",
      "D_69            628891\n",
      "D_83            628891\n",
      "D_78            708737\n",
      "D_44            708737\n",
      "P_3             735910\n",
      "D_61           1032470\n",
      "D_48           1153143\n",
      "D_62           1192579\n",
      "S_3            1454962\n",
      "S_7            1454962\n",
      "D_46           1646117\n",
      "S_27           1835353\n",
      "D_43           2092814\n",
      "D_77           2948330\n",
      "S_9            3368061\n",
      "D_56           3425361\n",
      "D_105          3455849\n",
      "B_17           3572016\n",
      "D_50           3576820\n",
      "D_82           4493032\n",
      "D_53           4519003\n",
      "D_142          5021461\n",
      "D_42           5174555\n",
      "D_76           5343372\n",
      "R_26           5356564\n",
      "D_49           5420335\n",
      "D_132          5423292\n",
      "D_106          5424520\n",
      "B_29           5584453\n",
      "R_9            5653336\n",
      "D_135          5771170\n",
      "D_136          5771170\n",
      "D_137          5771170\n",
      "D_138          5771170\n",
      "D_134          5771170\n",
      "B_42           5894391\n",
      "D_73           5910013\n",
      "B_39           5932237\n",
      "D_111          5934535\n",
      "D_110          5934535\n",
      "D_108          5936931\n",
      "D_88           5959865\n",
      "D_87           5962004\n",
      "dtype: int64\n"
     ]
    }
   ],
   "source": [
    "# Count total NaN at each column in a DataFrame\n",
    "nan_counts = x_train.isnull().sum().compute()\n",
    "print(\" \\nCount total NaN at each column x_train: \\n\\n\", nan_counts.sort_values())"
   ]
  },
  {
   "cell_type": "code",
   "execution_count": 89,
   "id": "0229747d-b6ee-44f3-aaa0-b4a013eef828",
   "metadata": {},
   "outputs": [
    {
     "data": {
      "text/plain": [
       "152"
      ]
     },
     "execution_count": 89,
     "metadata": {},
     "output_type": "execute_result"
    }
   ],
   "source": [
    "len(nan_counts[nan_counts < 1000000])"
   ]
  },
  {
   "cell_type": "markdown",
   "id": "8f638e9d-28e9-458a-b43d-b8e90e8e0900",
   "metadata": {},
   "source": [
    "columns to drop:"
   ]
  },
  {
   "cell_type": "code",
   "execution_count": 90,
   "id": "a3b87f0a-796f-4bcb-afc1-ac9fec04a612",
   "metadata": {},
   "outputs": [
    {
     "data": {
      "text/plain": [
       "['S_3',\n",
       " 'D_42',\n",
       " 'D_43',\n",
       " 'D_46',\n",
       " 'D_48',\n",
       " 'D_49',\n",
       " 'D_50',\n",
       " 'D_53',\n",
       " 'S_7',\n",
       " 'D_56',\n",
       " 'S_9',\n",
       " 'D_61',\n",
       " 'D_62',\n",
       " 'B_17',\n",
       " 'D_73',\n",
       " 'D_76',\n",
       " 'D_77',\n",
       " 'R_9',\n",
       " 'D_82',\n",
       " 'B_29',\n",
       " 'D_87',\n",
       " 'D_88',\n",
       " 'D_105',\n",
       " 'D_106',\n",
       " 'R_26',\n",
       " 'D_108',\n",
       " 'D_110',\n",
       " 'D_111',\n",
       " 'B_39',\n",
       " 'S_27',\n",
       " 'B_42',\n",
       " 'D_132',\n",
       " 'D_134',\n",
       " 'D_135',\n",
       " 'D_136',\n",
       " 'D_137',\n",
       " 'D_138',\n",
       " 'D_142']"
      ]
     },
     "execution_count": 90,
     "metadata": {},
     "output_type": "execute_result"
    }
   ],
   "source": [
    "columns_drop = list(nan_counts[nan_counts > 1000000].index)\n",
    "columns_drop"
   ]
  },
  {
   "cell_type": "code",
   "execution_count": 91,
   "id": "b77ad04d-0e0f-4d9d-9deb-8f208903e7dc",
   "metadata": {},
   "outputs": [],
   "source": [
    "x_train = x_train.drop(labels = columns_drop, axis = 1)\n",
    "x_test = x_test.drop(labels = columns_drop, axis = 1)"
   ]
  },
  {
   "cell_type": "code",
   "execution_count": 92,
   "id": "8690e9cb-01d3-4cc0-ac4e-349916d669f6",
   "metadata": {},
   "outputs": [],
   "source": [
    "features = x_train.columns[2:]"
   ]
  },
  {
   "cell_type": "code",
   "execution_count": 93,
   "id": "01f537e2-237f-4abb-ae14-9b9c666a9db2",
   "metadata": {
    "tags": []
   },
   "outputs": [],
   "source": [
    "#set missing features, applying first the last valid them next value.\n",
    "def set_missing_feat(df, features):\n",
    "    #for each feature, fill nan\n",
    "    for feat in features:\n",
    "        #last valid\n",
    "        df[feat] = df[feat].fillna(method='ffill')\n",
    "        #next valid\n",
    "        df[feat] = df[feat].fillna(method='backfill')\n",
    "    return df"
   ]
  },
  {
   "cell_type": "code",
   "execution_count": 94,
   "id": "26f4acbe-e837-4582-a67c-f397870ba90b",
   "metadata": {
    "tags": []
   },
   "outputs": [
    {
     "name": "stderr",
     "output_type": "stream",
     "text": [
      "/home/codemaster/anaconda3/envs/america-exp/lib/python3.11/site-packages/dask/dataframe/core.py:1689: PerformanceWarning: Falling back on a non-pyarrow code path which may decrease performance.\n",
      "  meta = self._meta_nonempty.fillna(\n",
      "/home/codemaster/anaconda3/envs/america-exp/lib/python3.11/site-packages/dask/dataframe/core.py:1721: PerformanceWarning: Falling back on a non-pyarrow code path which may decrease performance.\n",
      "  meta = self._meta_nonempty.ffill(limit=limit, axis=axis)\n",
      "/home/codemaster/anaconda3/envs/america-exp/lib/python3.11/site-packages/dask/dataframe/core.py:1689: PerformanceWarning: Falling back on a non-pyarrow code path which may decrease performance.\n",
      "  meta = self._meta_nonempty.fillna(\n",
      "/home/codemaster/anaconda3/envs/america-exp/lib/python3.11/site-packages/dask/dataframe/core.py:1735: PerformanceWarning: Falling back on a non-pyarrow code path which may decrease performance.\n",
      "  meta = self._meta_nonempty.bfill(limit=limit, axis=axis)\n",
      "/home/codemaster/anaconda3/envs/america-exp/lib/python3.11/site-packages/dask/dataframe/core.py:1689: PerformanceWarning: Falling back on a non-pyarrow code path which may decrease performance.\n",
      "  meta = self._meta_nonempty.fillna(\n",
      "/home/codemaster/anaconda3/envs/america-exp/lib/python3.11/site-packages/dask/dataframe/core.py:1721: PerformanceWarning: Falling back on a non-pyarrow code path which may decrease performance.\n",
      "  meta = self._meta_nonempty.ffill(limit=limit, axis=axis)\n",
      "/home/codemaster/anaconda3/envs/america-exp/lib/python3.11/site-packages/dask/dataframe/core.py:1689: PerformanceWarning: Falling back on a non-pyarrow code path which may decrease performance.\n",
      "  meta = self._meta_nonempty.fillna(\n",
      "/home/codemaster/anaconda3/envs/america-exp/lib/python3.11/site-packages/dask/dataframe/core.py:1735: PerformanceWarning: Falling back on a non-pyarrow code path which may decrease performance.\n",
      "  meta = self._meta_nonempty.bfill(limit=limit, axis=axis)\n",
      "/home/codemaster/anaconda3/envs/america-exp/lib/python3.11/site-packages/dask/dataframe/core.py:1689: PerformanceWarning: Falling back on a non-pyarrow code path which may decrease performance.\n",
      "  meta = self._meta_nonempty.fillna(\n",
      "/home/codemaster/anaconda3/envs/america-exp/lib/python3.11/site-packages/dask/dataframe/core.py:1721: PerformanceWarning: Falling back on a non-pyarrow code path which may decrease performance.\n",
      "  meta = self._meta_nonempty.ffill(limit=limit, axis=axis)\n",
      "/home/codemaster/anaconda3/envs/america-exp/lib/python3.11/site-packages/dask/dataframe/core.py:1689: PerformanceWarning: Falling back on a non-pyarrow code path which may decrease performance.\n",
      "  meta = self._meta_nonempty.fillna(\n",
      "/home/codemaster/anaconda3/envs/america-exp/lib/python3.11/site-packages/dask/dataframe/core.py:1735: PerformanceWarning: Falling back on a non-pyarrow code path which may decrease performance.\n",
      "  meta = self._meta_nonempty.bfill(limit=limit, axis=axis)\n",
      "/home/codemaster/anaconda3/envs/america-exp/lib/python3.11/site-packages/dask/dataframe/core.py:1689: PerformanceWarning: Falling back on a non-pyarrow code path which may decrease performance.\n",
      "  meta = self._meta_nonempty.fillna(\n",
      "/home/codemaster/anaconda3/envs/america-exp/lib/python3.11/site-packages/dask/dataframe/core.py:1721: PerformanceWarning: Falling back on a non-pyarrow code path which may decrease performance.\n",
      "  meta = self._meta_nonempty.ffill(limit=limit, axis=axis)\n",
      "/home/codemaster/anaconda3/envs/america-exp/lib/python3.11/site-packages/dask/dataframe/core.py:1689: PerformanceWarning: Falling back on a non-pyarrow code path which may decrease performance.\n",
      "  meta = self._meta_nonempty.fillna(\n",
      "/home/codemaster/anaconda3/envs/america-exp/lib/python3.11/site-packages/dask/dataframe/core.py:1735: PerformanceWarning: Falling back on a non-pyarrow code path which may decrease performance.\n",
      "  meta = self._meta_nonempty.bfill(limit=limit, axis=axis)\n"
     ]
    }
   ],
   "source": [
    "x_train = set_missing_feat(x_train, features)\n",
    "x_test = set_missing_feat(x_test, features)"
   ]
  },
  {
   "cell_type": "code",
   "execution_count": 95,
   "id": "8773b03d-f852-437e-8bae-1a049498182c",
   "metadata": {
    "tags": []
   },
   "outputs": [],
   "source": [
    "x_train.to_parquet('../data/train-checkpoint/')\n",
    "x_test.to_parquet('../data/test-checkpoint/')"
   ]
  },
  {
   "cell_type": "markdown",
   "id": "1916b793-0fcb-458c-8f8d-2921b9fd10af",
   "metadata": {},
   "source": [
    "All fields were full filled. We can go to the next step."
   ]
  },
  {
   "cell_type": "code",
   "execution_count": 96,
   "id": "80c1f03f-2ee9-4c16-b007-ecfa733dd8e3",
   "metadata": {},
   "outputs": [],
   "source": [
    "x_train = dd.read_parquet('../data/train-checkpoint/')\n",
    "x_test = dd.read_parquet('../data/test-checkpoint/')"
   ]
  },
  {
   "cell_type": "code",
   "execution_count": 80,
   "id": "d7ab2d31-c3cd-4454-ba4f-2ee1e5c97ab3",
   "metadata": {},
   "outputs": [
    {
     "data": {
      "text/html": [
       "<div>\n",
       "<style scoped>\n",
       "    .dataframe tbody tr th:only-of-type {\n",
       "        vertical-align: middle;\n",
       "    }\n",
       "\n",
       "    .dataframe tbody tr th {\n",
       "        vertical-align: top;\n",
       "    }\n",
       "\n",
       "    .dataframe thead th {\n",
       "        text-align: right;\n",
       "    }\n",
       "</style>\n",
       "<table border=\"1\" class=\"dataframe\">\n",
       "  <thead>\n",
       "    <tr style=\"text-align: right;\">\n",
       "      <th></th>\n",
       "      <th>customer_ID</th>\n",
       "      <th>S_2</th>\n",
       "      <th>P_2</th>\n",
       "      <th>D_39</th>\n",
       "      <th>B_1</th>\n",
       "      <th>B_2</th>\n",
       "      <th>R_1</th>\n",
       "      <th>D_41</th>\n",
       "      <th>B_3</th>\n",
       "      <th>D_44</th>\n",
       "      <th>...</th>\n",
       "      <th>D_130</th>\n",
       "      <th>D_131</th>\n",
       "      <th>D_133</th>\n",
       "      <th>R_28</th>\n",
       "      <th>D_139</th>\n",
       "      <th>D_140</th>\n",
       "      <th>D_141</th>\n",
       "      <th>D_143</th>\n",
       "      <th>D_144</th>\n",
       "      <th>D_145</th>\n",
       "    </tr>\n",
       "    <tr>\n",
       "      <th>new_index</th>\n",
       "      <th></th>\n",
       "      <th></th>\n",
       "      <th></th>\n",
       "      <th></th>\n",
       "      <th></th>\n",
       "      <th></th>\n",
       "      <th></th>\n",
       "      <th></th>\n",
       "      <th></th>\n",
       "      <th></th>\n",
       "      <th></th>\n",
       "      <th></th>\n",
       "      <th></th>\n",
       "      <th></th>\n",
       "      <th></th>\n",
       "      <th></th>\n",
       "      <th></th>\n",
       "      <th></th>\n",
       "      <th></th>\n",
       "      <th></th>\n",
       "      <th></th>\n",
       "    </tr>\n",
       "  </thead>\n",
       "  <tbody>\n",
       "    <tr>\n",
       "      <th>0000099d6bd597052cdcda90ffabf56573fe9d7c79be5f...</th>\n",
       "      <td>0000099d6bd597052cdcda90ffabf56573fe9d7c79be5f...</td>\n",
       "      <td>2017-03</td>\n",
       "      <td>0.938469</td>\n",
       "      <td>0.001733</td>\n",
       "      <td>0.008724</td>\n",
       "      <td>1.006838</td>\n",
       "      <td>0.009228</td>\n",
       "      <td>0.008771</td>\n",
       "      <td>0.004709</td>\n",
       "      <td>0.000630</td>\n",
       "      <td>...</td>\n",
       "      <td>0.002052</td>\n",
       "      <td>0.005972</td>\n",
       "      <td>0.004345</td>\n",
       "      <td>0.001535</td>\n",
       "      <td>0.002427</td>\n",
       "      <td>0.003706</td>\n",
       "      <td>0.003818</td>\n",
       "      <td>0.000569</td>\n",
       "      <td>0.000610</td>\n",
       "      <td>0.002674</td>\n",
       "    </tr>\n",
       "    <tr>\n",
       "      <th>0000099d6bd597052cdcda90ffabf56573fe9d7c79be5f...</th>\n",
       "      <td>0000099d6bd597052cdcda90ffabf56573fe9d7c79be5f...</td>\n",
       "      <td>2017-04</td>\n",
       "      <td>0.936665</td>\n",
       "      <td>0.005775</td>\n",
       "      <td>0.004923</td>\n",
       "      <td>1.000653</td>\n",
       "      <td>0.006151</td>\n",
       "      <td>0.000798</td>\n",
       "      <td>0.002714</td>\n",
       "      <td>0.002526</td>\n",
       "      <td>...</td>\n",
       "      <td>0.001034</td>\n",
       "      <td>0.004838</td>\n",
       "      <td>0.007495</td>\n",
       "      <td>0.004931</td>\n",
       "      <td>0.003954</td>\n",
       "      <td>0.003167</td>\n",
       "      <td>0.005032</td>\n",
       "      <td>0.009576</td>\n",
       "      <td>0.005492</td>\n",
       "      <td>0.009217</td>\n",
       "    </tr>\n",
       "    <tr>\n",
       "      <th>0000099d6bd597052cdcda90ffabf56573fe9d7c79be5f...</th>\n",
       "      <td>0000099d6bd597052cdcda90ffabf56573fe9d7c79be5f...</td>\n",
       "      <td>2017-05</td>\n",
       "      <td>0.954180</td>\n",
       "      <td>0.091505</td>\n",
       "      <td>0.021655</td>\n",
       "      <td>1.009672</td>\n",
       "      <td>0.006815</td>\n",
       "      <td>0.007598</td>\n",
       "      <td>0.009423</td>\n",
       "      <td>0.007605</td>\n",
       "      <td>...</td>\n",
       "      <td>0.005681</td>\n",
       "      <td>0.005497</td>\n",
       "      <td>0.009227</td>\n",
       "      <td>0.009123</td>\n",
       "      <td>0.003269</td>\n",
       "      <td>0.007329</td>\n",
       "      <td>0.000427</td>\n",
       "      <td>0.003429</td>\n",
       "      <td>0.006986</td>\n",
       "      <td>0.002603</td>\n",
       "    </tr>\n",
       "    <tr>\n",
       "      <th>0000099d6bd597052cdcda90ffabf56573fe9d7c79be5f...</th>\n",
       "      <td>0000099d6bd597052cdcda90ffabf56573fe9d7c79be5f...</td>\n",
       "      <td>2017-06</td>\n",
       "      <td>0.960384</td>\n",
       "      <td>0.002455</td>\n",
       "      <td>0.013683</td>\n",
       "      <td>1.002700</td>\n",
       "      <td>0.001373</td>\n",
       "      <td>0.000685</td>\n",
       "      <td>0.005531</td>\n",
       "      <td>0.006406</td>\n",
       "      <td>...</td>\n",
       "      <td>0.007108</td>\n",
       "      <td>0.008261</td>\n",
       "      <td>0.007206</td>\n",
       "      <td>0.002409</td>\n",
       "      <td>0.006117</td>\n",
       "      <td>0.004516</td>\n",
       "      <td>0.003200</td>\n",
       "      <td>0.008419</td>\n",
       "      <td>0.006527</td>\n",
       "      <td>0.009600</td>\n",
       "    </tr>\n",
       "    <tr>\n",
       "      <th>0000099d6bd597052cdcda90ffabf56573fe9d7c79be5f...</th>\n",
       "      <td>0000099d6bd597052cdcda90ffabf56573fe9d7c79be5f...</td>\n",
       "      <td>2017-07</td>\n",
       "      <td>0.947248</td>\n",
       "      <td>0.002483</td>\n",
       "      <td>0.015193</td>\n",
       "      <td>1.000727</td>\n",
       "      <td>0.007605</td>\n",
       "      <td>0.004653</td>\n",
       "      <td>0.009312</td>\n",
       "      <td>0.007731</td>\n",
       "      <td>...</td>\n",
       "      <td>0.009680</td>\n",
       "      <td>0.004848</td>\n",
       "      <td>0.006312</td>\n",
       "      <td>0.004462</td>\n",
       "      <td>0.003671</td>\n",
       "      <td>0.004946</td>\n",
       "      <td>0.008889</td>\n",
       "      <td>0.001670</td>\n",
       "      <td>0.008126</td>\n",
       "      <td>0.009827</td>\n",
       "    </tr>\n",
       "  </tbody>\n",
       "</table>\n",
       "<p>5 rows × 152 columns</p>\n",
       "</div>"
      ],
      "text/plain": [
       "                                                                                         customer_ID  \\\n",
       "new_index                                                                                              \n",
       "0000099d6bd597052cdcda90ffabf56573fe9d7c79be5f...  0000099d6bd597052cdcda90ffabf56573fe9d7c79be5f...   \n",
       "0000099d6bd597052cdcda90ffabf56573fe9d7c79be5f...  0000099d6bd597052cdcda90ffabf56573fe9d7c79be5f...   \n",
       "0000099d6bd597052cdcda90ffabf56573fe9d7c79be5f...  0000099d6bd597052cdcda90ffabf56573fe9d7c79be5f...   \n",
       "0000099d6bd597052cdcda90ffabf56573fe9d7c79be5f...  0000099d6bd597052cdcda90ffabf56573fe9d7c79be5f...   \n",
       "0000099d6bd597052cdcda90ffabf56573fe9d7c79be5f...  0000099d6bd597052cdcda90ffabf56573fe9d7c79be5f...   \n",
       "\n",
       "                                                       S_2       P_2  \\\n",
       "new_index                                                              \n",
       "0000099d6bd597052cdcda90ffabf56573fe9d7c79be5f...  2017-03  0.938469   \n",
       "0000099d6bd597052cdcda90ffabf56573fe9d7c79be5f...  2017-04  0.936665   \n",
       "0000099d6bd597052cdcda90ffabf56573fe9d7c79be5f...  2017-05  0.954180   \n",
       "0000099d6bd597052cdcda90ffabf56573fe9d7c79be5f...  2017-06  0.960384   \n",
       "0000099d6bd597052cdcda90ffabf56573fe9d7c79be5f...  2017-07  0.947248   \n",
       "\n",
       "                                                       D_39       B_1  \\\n",
       "new_index                                                               \n",
       "0000099d6bd597052cdcda90ffabf56573fe9d7c79be5f...  0.001733  0.008724   \n",
       "0000099d6bd597052cdcda90ffabf56573fe9d7c79be5f...  0.005775  0.004923   \n",
       "0000099d6bd597052cdcda90ffabf56573fe9d7c79be5f...  0.091505  0.021655   \n",
       "0000099d6bd597052cdcda90ffabf56573fe9d7c79be5f...  0.002455  0.013683   \n",
       "0000099d6bd597052cdcda90ffabf56573fe9d7c79be5f...  0.002483  0.015193   \n",
       "\n",
       "                                                        B_2       R_1  \\\n",
       "new_index                                                               \n",
       "0000099d6bd597052cdcda90ffabf56573fe9d7c79be5f...  1.006838  0.009228   \n",
       "0000099d6bd597052cdcda90ffabf56573fe9d7c79be5f...  1.000653  0.006151   \n",
       "0000099d6bd597052cdcda90ffabf56573fe9d7c79be5f...  1.009672  0.006815   \n",
       "0000099d6bd597052cdcda90ffabf56573fe9d7c79be5f...  1.002700  0.001373   \n",
       "0000099d6bd597052cdcda90ffabf56573fe9d7c79be5f...  1.000727  0.007605   \n",
       "\n",
       "                                                       D_41       B_3  \\\n",
       "new_index                                                               \n",
       "0000099d6bd597052cdcda90ffabf56573fe9d7c79be5f...  0.008771  0.004709   \n",
       "0000099d6bd597052cdcda90ffabf56573fe9d7c79be5f...  0.000798  0.002714   \n",
       "0000099d6bd597052cdcda90ffabf56573fe9d7c79be5f...  0.007598  0.009423   \n",
       "0000099d6bd597052cdcda90ffabf56573fe9d7c79be5f...  0.000685  0.005531   \n",
       "0000099d6bd597052cdcda90ffabf56573fe9d7c79be5f...  0.004653  0.009312   \n",
       "\n",
       "                                                       D_44  ...     D_130  \\\n",
       "new_index                                                    ...             \n",
       "0000099d6bd597052cdcda90ffabf56573fe9d7c79be5f...  0.000630  ...  0.002052   \n",
       "0000099d6bd597052cdcda90ffabf56573fe9d7c79be5f...  0.002526  ...  0.001034   \n",
       "0000099d6bd597052cdcda90ffabf56573fe9d7c79be5f...  0.007605  ...  0.005681   \n",
       "0000099d6bd597052cdcda90ffabf56573fe9d7c79be5f...  0.006406  ...  0.007108   \n",
       "0000099d6bd597052cdcda90ffabf56573fe9d7c79be5f...  0.007731  ...  0.009680   \n",
       "\n",
       "                                                      D_131     D_133  \\\n",
       "new_index                                                               \n",
       "0000099d6bd597052cdcda90ffabf56573fe9d7c79be5f...  0.005972  0.004345   \n",
       "0000099d6bd597052cdcda90ffabf56573fe9d7c79be5f...  0.004838  0.007495   \n",
       "0000099d6bd597052cdcda90ffabf56573fe9d7c79be5f...  0.005497  0.009227   \n",
       "0000099d6bd597052cdcda90ffabf56573fe9d7c79be5f...  0.008261  0.007206   \n",
       "0000099d6bd597052cdcda90ffabf56573fe9d7c79be5f...  0.004848  0.006312   \n",
       "\n",
       "                                                       R_28     D_139  \\\n",
       "new_index                                                               \n",
       "0000099d6bd597052cdcda90ffabf56573fe9d7c79be5f...  0.001535  0.002427   \n",
       "0000099d6bd597052cdcda90ffabf56573fe9d7c79be5f...  0.004931  0.003954   \n",
       "0000099d6bd597052cdcda90ffabf56573fe9d7c79be5f...  0.009123  0.003269   \n",
       "0000099d6bd597052cdcda90ffabf56573fe9d7c79be5f...  0.002409  0.006117   \n",
       "0000099d6bd597052cdcda90ffabf56573fe9d7c79be5f...  0.004462  0.003671   \n",
       "\n",
       "                                                      D_140     D_141  \\\n",
       "new_index                                                               \n",
       "0000099d6bd597052cdcda90ffabf56573fe9d7c79be5f...  0.003706  0.003818   \n",
       "0000099d6bd597052cdcda90ffabf56573fe9d7c79be5f...  0.003167  0.005032   \n",
       "0000099d6bd597052cdcda90ffabf56573fe9d7c79be5f...  0.007329  0.000427   \n",
       "0000099d6bd597052cdcda90ffabf56573fe9d7c79be5f...  0.004516  0.003200   \n",
       "0000099d6bd597052cdcda90ffabf56573fe9d7c79be5f...  0.004946  0.008889   \n",
       "\n",
       "                                                      D_143     D_144  \\\n",
       "new_index                                                               \n",
       "0000099d6bd597052cdcda90ffabf56573fe9d7c79be5f...  0.000569  0.000610   \n",
       "0000099d6bd597052cdcda90ffabf56573fe9d7c79be5f...  0.009576  0.005492   \n",
       "0000099d6bd597052cdcda90ffabf56573fe9d7c79be5f...  0.003429  0.006986   \n",
       "0000099d6bd597052cdcda90ffabf56573fe9d7c79be5f...  0.008419  0.006527   \n",
       "0000099d6bd597052cdcda90ffabf56573fe9d7c79be5f...  0.001670  0.008126   \n",
       "\n",
       "                                                      D_145  \n",
       "new_index                                                    \n",
       "0000099d6bd597052cdcda90ffabf56573fe9d7c79be5f...  0.002674  \n",
       "0000099d6bd597052cdcda90ffabf56573fe9d7c79be5f...  0.009217  \n",
       "0000099d6bd597052cdcda90ffabf56573fe9d7c79be5f...  0.002603  \n",
       "0000099d6bd597052cdcda90ffabf56573fe9d7c79be5f...  0.009600  \n",
       "0000099d6bd597052cdcda90ffabf56573fe9d7c79be5f...  0.009827  \n",
       "\n",
       "[5 rows x 152 columns]"
      ]
     },
     "execution_count": 80,
     "metadata": {},
     "output_type": "execute_result"
    }
   ],
   "source": [
    "x_train.head()"
   ]
  },
  {
   "cell_type": "markdown",
   "id": "c90af439-831c-4d73-9ade-dd1634e9b0bf",
   "metadata": {},
   "source": [
    "### C)Transform data"
   ]
  },
  {
   "cell_type": "markdown",
   "id": "b1a57a7e-ea5e-4def-b6a8-c51344c1920d",
   "metadata": {},
   "source": [
    "The next step is transform the data. Data analysis pointed out scaling and categorical value needs handling. Begining with categorical features, some of them has strings on it and need encoding. To solve the problem we will keep the things simple and just use one-hot encoding. The one-hot encoding will create one extra column for each categorie, the new column will be of a binary type, 1 representing the categorie and 0 representing not on the categorie. The drawback of one-hot encoding is that they increase the dimensionality of the data. In this case we already had 152 features, although we have many samples, dimensionality is still a problem because each feature increases the dimension and with that we have few sample cases for a given set of features, making learning difficult. Maybe transformation on the feature space will be necessary, for the first version we will ignore this issue. "
   ]
  },
  {
   "cell_type": "markdown",
   "id": "c776cb9c-92a2-478e-9194-92ea16c471c6",
   "metadata": {},
   "source": [
    "Procceding with the one-hot encoding, first we will take a look on the categorical features."
   ]
  },
  {
   "cell_type": "markdown",
   "id": "aaa1b1e8-501c-4fbb-80f7-2afa8d6a53b2",
   "metadata": {},
   "source": [
    "Some categorical features, has ordened values. Maybe there is a good motivation for that because some categorical features may have a implicity order that may help in the task of predicting the default, i.e. schorlarity level. Under those circumstances, we will exclude those features from the one hot encoder. Moreover, there's some features that has just 0 or 1 as categories, those features doesn't need preprocessing, they are already encoded. Also, this will help reduce the dimensionality because some of the excluded features has seven categories, which means that if we applied one-hot procedure on this categorie, it will lead to seven more columns. On total, avoiding one hot encoding on those categorical features we have save 35 new columns, the only columns how needs encoding is D_63, D_64 and some features we had filled with -1, D_114, D_116, D_120."
   ]
  },
  {
   "cell_type": "markdown",
   "id": "fe47b046-30b4-4d8a-bb3f-0079bd03683e",
   "metadata": {
    "tags": []
   },
   "source": [
    "Now applying the one-hot encoding."
   ]
  },
  {
   "cell_type": "code",
   "execution_count": 97,
   "id": "87c4ceba-ab91-419f-ba3c-6cd38e03f5f4",
   "metadata": {
    "tags": []
   },
   "outputs": [],
   "source": [
    "from dask_ml.preprocessing import OneHotEncoder\n",
    "onehot_features = ['D_63', 'D_64', 'D_114', 'D_116', 'D_120']\n",
    "x = x_train[onehot_features].astype('category')\n",
    "#dropping the first categorie, for dimensionality reduction.\n",
    "one = OneHotEncoder(sparse_output=False)\n",
    "one = one.fit(x.categorize())"
   ]
  },
  {
   "cell_type": "code",
   "execution_count": 98,
   "id": "4a46fab0-59c4-4a19-93e0-41dee064a949",
   "metadata": {},
   "outputs": [
    {
     "data": {
      "text/html": [
       "<div>\n",
       "<style scoped>\n",
       "    .dataframe tbody tr th:only-of-type {\n",
       "        vertical-align: middle;\n",
       "    }\n",
       "\n",
       "    .dataframe tbody tr th {\n",
       "        vertical-align: top;\n",
       "    }\n",
       "\n",
       "    .dataframe thead th {\n",
       "        text-align: right;\n",
       "    }\n",
       "</style>\n",
       "<table border=\"1\" class=\"dataframe\">\n",
       "  <thead>\n",
       "    <tr style=\"text-align: right;\">\n",
       "      <th></th>\n",
       "      <th>D_63</th>\n",
       "      <th>D_64</th>\n",
       "      <th>D_114</th>\n",
       "      <th>D_116</th>\n",
       "      <th>D_120</th>\n",
       "    </tr>\n",
       "    <tr>\n",
       "      <th>new_index</th>\n",
       "      <th></th>\n",
       "      <th></th>\n",
       "      <th></th>\n",
       "      <th></th>\n",
       "      <th></th>\n",
       "    </tr>\n",
       "  </thead>\n",
       "  <tbody>\n",
       "    <tr>\n",
       "      <th>0000099d6bd597052cdcda90ffabf56573fe9d7c79be5f...</th>\n",
       "      <td>CR</td>\n",
       "      <td>O</td>\n",
       "      <td>1.0</td>\n",
       "      <td>0.0</td>\n",
       "      <td>0.0</td>\n",
       "    </tr>\n",
       "    <tr>\n",
       "      <th>0000099d6bd597052cdcda90ffabf56573fe9d7c79be5f...</th>\n",
       "      <td>CR</td>\n",
       "      <td>O</td>\n",
       "      <td>1.0</td>\n",
       "      <td>0.0</td>\n",
       "      <td>0.0</td>\n",
       "    </tr>\n",
       "    <tr>\n",
       "      <th>0000099d6bd597052cdcda90ffabf56573fe9d7c79be5f...</th>\n",
       "      <td>CR</td>\n",
       "      <td>O</td>\n",
       "      <td>1.0</td>\n",
       "      <td>0.0</td>\n",
       "      <td>0.0</td>\n",
       "    </tr>\n",
       "    <tr>\n",
       "      <th>0000099d6bd597052cdcda90ffabf56573fe9d7c79be5f...</th>\n",
       "      <td>CR</td>\n",
       "      <td>O</td>\n",
       "      <td>1.0</td>\n",
       "      <td>0.0</td>\n",
       "      <td>0.0</td>\n",
       "    </tr>\n",
       "    <tr>\n",
       "      <th>0000099d6bd597052cdcda90ffabf56573fe9d7c79be5f...</th>\n",
       "      <td>CR</td>\n",
       "      <td>O</td>\n",
       "      <td>1.0</td>\n",
       "      <td>0.0</td>\n",
       "      <td>0.0</td>\n",
       "    </tr>\n",
       "  </tbody>\n",
       "</table>\n",
       "</div>"
      ],
      "text/plain": [
       "                                                  D_63 D_64  D_114  D_116  \\\n",
       "new_index                                                                   \n",
       "0000099d6bd597052cdcda90ffabf56573fe9d7c79be5f...   CR    O    1.0    0.0   \n",
       "0000099d6bd597052cdcda90ffabf56573fe9d7c79be5f...   CR    O    1.0    0.0   \n",
       "0000099d6bd597052cdcda90ffabf56573fe9d7c79be5f...   CR    O    1.0    0.0   \n",
       "0000099d6bd597052cdcda90ffabf56573fe9d7c79be5f...   CR    O    1.0    0.0   \n",
       "0000099d6bd597052cdcda90ffabf56573fe9d7c79be5f...   CR    O    1.0    0.0   \n",
       "\n",
       "                                                   D_120  \n",
       "new_index                                                 \n",
       "0000099d6bd597052cdcda90ffabf56573fe9d7c79be5f...    0.0  \n",
       "0000099d6bd597052cdcda90ffabf56573fe9d7c79be5f...    0.0  \n",
       "0000099d6bd597052cdcda90ffabf56573fe9d7c79be5f...    0.0  \n",
       "0000099d6bd597052cdcda90ffabf56573fe9d7c79be5f...    0.0  \n",
       "0000099d6bd597052cdcda90ffabf56573fe9d7c79be5f...    0.0  "
      ]
     },
     "execution_count": 98,
     "metadata": {},
     "output_type": "execute_result"
    }
   ],
   "source": [
    "x_train[onehot_features].head()"
   ]
  },
  {
   "cell_type": "code",
   "execution_count": 99,
   "id": "08ef734a-7fd6-4c44-aae5-1bdf8711da58",
   "metadata": {},
   "outputs": [
    {
     "name": "stderr",
     "output_type": "stream",
     "text": [
      "/home/codemaster/anaconda3/envs/america-exp/lib/python3.11/site-packages/dask/dataframe/multi.py:1297: UserWarning: Concatenating dataframes with unknown divisions.\n",
      "We're assuming that the indices of each dataframes are \n",
      " aligned. This assumption is not generally safe.\n",
      "  warnings.warn(\n"
     ]
    }
   ],
   "source": [
    "x_train = dd.multi.concat([x_train, one.transform(x_train[onehot_features])],axis=1)"
   ]
  },
  {
   "cell_type": "code",
   "execution_count": 100,
   "id": "e419bcda-5212-427b-9476-7cfe88ad80b0",
   "metadata": {},
   "outputs": [
    {
     "name": "stderr",
     "output_type": "stream",
     "text": [
      "/home/codemaster/anaconda3/envs/america-exp/lib/python3.11/site-packages/dask/dataframe/multi.py:1297: UserWarning: Concatenating dataframes with unknown divisions.\n",
      "We're assuming that the indices of each dataframes are \n",
      " aligned. This assumption is not generally safe.\n",
      "  warnings.warn(\n"
     ]
    }
   ],
   "source": [
    "x_test = dd.multi.concat([x_test, one.transform(x_test[onehot_features])],axis=1)"
   ]
  },
  {
   "cell_type": "markdown",
   "id": "b4ab7eb6-295c-4bc2-baf4-97409405db18",
   "metadata": {},
   "source": [
    "Now we can drop the original features encoded and the missing ones."
   ]
  },
  {
   "cell_type": "code",
   "execution_count": 101,
   "id": "978e2eb2-615f-44b9-9df6-99c7ab025749",
   "metadata": {},
   "outputs": [],
   "source": [
    "columns_drop = ['D_64', 'D_63', 'D_120','D_116','D_114','D_64_NAN', 'D_63_NAN', 'D_120_-1.0','D_116_-1.0','D_114_-1.0']\n",
    "x_train = x_train.drop(labels = columns_drop, axis = 1)\n",
    "x_test = x_test.drop(labels = columns_drop, axis = 1)"
   ]
  },
  {
   "cell_type": "markdown",
   "id": "15647d92-eef2-45c8-98b7-589e865cce66",
   "metadata": {},
   "source": [
    "Some features has a max of 8 or of 3 and others a max of 1. This variance of range can change the objective function of the final model. Then, we will stardardize using robust scaler. The selected method was arbitrary and can be modified for future versions, is just a common choice."
   ]
  },
  {
   "cell_type": "code",
   "execution_count": 102,
   "id": "01beb124-1b33-4995-9ae5-1d83612c9421",
   "metadata": {},
   "outputs": [],
   "source": [
    "features = x_train.columns[2:]"
   ]
  },
  {
   "cell_type": "code",
   "execution_count": 103,
   "id": "adb88576-4d5a-4d66-93d2-98de560f6c07",
   "metadata": {},
   "outputs": [],
   "source": [
    "for feat in features:\n",
    "    x_train[feat] = x_train[feat].astype('float64')  "
   ]
  },
  {
   "cell_type": "code",
   "execution_count": 104,
   "id": "c8d3fce5-43e4-445d-a540-608b40f08d62",
   "metadata": {
    "tags": []
   },
   "outputs": [],
   "source": [
    "from dask_ml.preprocessing import RobustScaler\n",
    "rb = RobustScaler(unit_variance= True)\n",
    "rb = rb.fit(x_train[features])"
   ]
  },
  {
   "cell_type": "code",
   "execution_count": 105,
   "id": "765268f5-6926-4e30-9c96-b259c4c30d16",
   "metadata": {
    "tags": []
   },
   "outputs": [
    {
     "name": "stderr",
     "output_type": "stream",
     "text": [
      "/home/codemaster/anaconda3/envs/america-exp/lib/python3.11/site-packages/dask/dataframe/multi.py:1297: UserWarning: Concatenating dataframes with unknown divisions.\n",
      "We're assuming that the indices of each dataframes are \n",
      " aligned. This assumption is not generally safe.\n",
      "  warnings.warn(\n",
      "/home/codemaster/anaconda3/envs/america-exp/lib/python3.11/site-packages/dask/dataframe/multi.py:1297: UserWarning: Concatenating dataframes with unknown divisions.\n",
      "We're assuming that the indices of each dataframes are \n",
      " aligned. This assumption is not generally safe.\n",
      "  warnings.warn(\n"
     ]
    }
   ],
   "source": [
    "x_train = dd.multi.concat([x_train[x_train.columns[:2]], rb.transform(x_train[features])],axis=1)\n",
    "x_test = dd.multi.concat([x_test[x_test.columns[:2]], rb.transform(x_test[features])],axis=1)"
   ]
  },
  {
   "cell_type": "markdown",
   "id": "4f629cf9-af20-40ab-be7b-3fbd50bc1fbd",
   "metadata": {},
   "source": [
    "Before ending this section, we will save the scaler, normalizer, the encoder and the new dataset."
   ]
  },
  {
   "cell_type": "code",
   "execution_count": 106,
   "id": "c15d5cdc-2136-495c-b55a-b3de8160de86",
   "metadata": {
    "tags": []
   },
   "outputs": [],
   "source": [
    "x_train.to_parquet('../data/V1Set/train/')\n",
    "x_test.to_parquet('../data/V1Set/test/')"
   ]
  },
  {
   "cell_type": "code",
   "execution_count": 102,
   "id": "8aeb2fd2-f8ae-4dca-97d1-2e1c7a5f0f5a",
   "metadata": {},
   "outputs": [
    {
     "data": {
      "text/html": [
       "<div>\n",
       "<style scoped>\n",
       "    .dataframe tbody tr th:only-of-type {\n",
       "        vertical-align: middle;\n",
       "    }\n",
       "\n",
       "    .dataframe tbody tr th {\n",
       "        vertical-align: top;\n",
       "    }\n",
       "\n",
       "    .dataframe thead th {\n",
       "        text-align: right;\n",
       "    }\n",
       "</style>\n",
       "<table border=\"1\" class=\"dataframe\">\n",
       "  <thead>\n",
       "    <tr style=\"text-align: right;\">\n",
       "      <th></th>\n",
       "      <th>P_2</th>\n",
       "      <th>D_39</th>\n",
       "      <th>B_1</th>\n",
       "      <th>B_2</th>\n",
       "      <th>R_1</th>\n",
       "      <th>D_41</th>\n",
       "      <th>B_3</th>\n",
       "      <th>D_44</th>\n",
       "      <th>B_4</th>\n",
       "      <th>D_45</th>\n",
       "      <th>...</th>\n",
       "      <th>D_63_XZ</th>\n",
       "      <th>D_64_O</th>\n",
       "      <th>D_64_R</th>\n",
       "      <th>D_64_U</th>\n",
       "      <th>D_114_0.0</th>\n",
       "      <th>D_114_1.0</th>\n",
       "      <th>D_116_0.0</th>\n",
       "      <th>D_116_1.0</th>\n",
       "      <th>D_120_0.0</th>\n",
       "      <th>D_120_1.0</th>\n",
       "    </tr>\n",
       "  </thead>\n",
       "  <tbody>\n",
       "    <tr>\n",
       "      <th>count</th>\n",
       "      <td>5.965869e+06</td>\n",
       "      <td>5.965869e+06</td>\n",
       "      <td>5.965869e+06</td>\n",
       "      <td>5.965869e+06</td>\n",
       "      <td>5.965869e+06</td>\n",
       "      <td>5.965869e+06</td>\n",
       "      <td>5.965869e+06</td>\n",
       "      <td>5.965869e+06</td>\n",
       "      <td>5.965869e+06</td>\n",
       "      <td>5.965869e+06</td>\n",
       "      <td>...</td>\n",
       "      <td>5.965869e+06</td>\n",
       "      <td>5.965869e+06</td>\n",
       "      <td>5.965869e+06</td>\n",
       "      <td>5.965869e+06</td>\n",
       "      <td>5.965869e+06</td>\n",
       "      <td>5.965869e+06</td>\n",
       "      <td>5.965869e+06</td>\n",
       "      <td>5.965869e+06</td>\n",
       "      <td>5.965869e+06</td>\n",
       "      <td>5.965869e+06</td>\n",
       "    </tr>\n",
       "    <tr>\n",
       "      <th>mean</th>\n",
       "      <td>-1.919554e-01</td>\n",
       "      <td>5.501743e-01</td>\n",
       "      <td>5.341971e-01</td>\n",
       "      <td>-2.271399e-01</td>\n",
       "      <td>1.282582e+01</td>\n",
       "      <td>9.217330e+00</td>\n",
       "      <td>4.916127e-01</td>\n",
       "      <td>4.537652e-01</td>\n",
       "      <td>3.215359e-01</td>\n",
       "      <td>9.546490e-02</td>\n",
       "      <td>...</td>\n",
       "      <td>4.322254e-03</td>\n",
       "      <td>-5.116815e-01</td>\n",
       "      <td>1.408197e-01</td>\n",
       "      <td>2.553606e-01</td>\n",
       "      <td>3.416530e-01</td>\n",
       "      <td>-4.440914e-01</td>\n",
       "      <td>-1.035490e-01</td>\n",
       "      <td>1.110651e-03</td>\n",
       "      <td>-2.072030e-01</td>\n",
       "      <td>1.047646e-01</td>\n",
       "    </tr>\n",
       "    <tr>\n",
       "      <th>std</th>\n",
       "      <td>6.649246e-01</td>\n",
       "      <td>1.057988e+00</td>\n",
       "      <td>1.335595e+00</td>\n",
       "      <td>4.673694e-01</td>\n",
       "      <td>3.953382e+01</td>\n",
       "      <td>3.469073e+01</td>\n",
       "      <td>1.004390e+00</td>\n",
       "      <td>9.081377e-01</td>\n",
       "      <td>9.388477e-01</td>\n",
       "      <td>7.063161e-01</td>\n",
       "      <td>...</td>\n",
       "      <td>6.560162e-02</td>\n",
       "      <td>4.998636e-01</td>\n",
       "      <td>3.478355e-01</td>\n",
       "      <td>4.360638e-01</td>\n",
       "      <td>4.742639e-01</td>\n",
       "      <td>4.968644e-01</td>\n",
       "      <td>3.046747e-01</td>\n",
       "      <td>3.330793e-02</td>\n",
       "      <td>4.053023e-01</td>\n",
       "      <td>3.062499e-01</td>\n",
       "    </tr>\n",
       "    <tr>\n",
       "      <th>min</th>\n",
       "      <td>-3.194734e+00</td>\n",
       "      <td>-3.571759e-02</td>\n",
       "      <td>-4.772506e+01</td>\n",
       "      <td>-9.473637e-01</td>\n",
       "      <td>-1.019519e+00</td>\n",
       "      <td>-1.013872e+00</td>\n",
       "      <td>-7.727196e-02</td>\n",
       "      <td>-3.392805e-02</td>\n",
       "      <td>-4.068380e-01</td>\n",
       "      <td>-6.366076e-01</td>\n",
       "      <td>...</td>\n",
       "      <td>0.000000e+00</td>\n",
       "      <td>-1.000000e+00</td>\n",
       "      <td>0.000000e+00</td>\n",
       "      <td>0.000000e+00</td>\n",
       "      <td>0.000000e+00</td>\n",
       "      <td>-1.000000e+00</td>\n",
       "      <td>-1.000000e+00</td>\n",
       "      <td>0.000000e+00</td>\n",
       "      <td>-1.000000e+00</td>\n",
       "      <td>0.000000e+00</td>\n",
       "    </tr>\n",
       "    <tr>\n",
       "      <th>25%</th>\n",
       "      <td>-5.884385e-01</td>\n",
       "      <td>-1.695727e-02</td>\n",
       "      <td>-1.872797e-01</td>\n",
       "      <td>-7.815938e-01</td>\n",
       "      <td>-4.941428e-01</td>\n",
       "      <td>-5.096604e-01</td>\n",
       "      <td>-5.051682e-02</td>\n",
       "      <td>-1.650117e-02</td>\n",
       "      <td>-2.671301e-01</td>\n",
       "      <td>-4.442957e-01</td>\n",
       "      <td>...</td>\n",
       "      <td>0.000000e+00</td>\n",
       "      <td>-1.000000e+00</td>\n",
       "      <td>0.000000e+00</td>\n",
       "      <td>0.000000e+00</td>\n",
       "      <td>0.000000e+00</td>\n",
       "      <td>-1.000000e+00</td>\n",
       "      <td>0.000000e+00</td>\n",
       "      <td>0.000000e+00</td>\n",
       "      <td>0.000000e+00</td>\n",
       "      <td>0.000000e+00</td>\n",
       "    </tr>\n",
       "    <tr>\n",
       "      <th>50%</th>\n",
       "      <td>0.000000e+00</td>\n",
       "      <td>0.000000e+00</td>\n",
       "      <td>0.000000e+00</td>\n",
       "      <td>0.000000e+00</td>\n",
       "      <td>0.000000e+00</td>\n",
       "      <td>0.000000e+00</td>\n",
       "      <td>0.000000e+00</td>\n",
       "      <td>0.000000e+00</td>\n",
       "      <td>0.000000e+00</td>\n",
       "      <td>0.000000e+00</td>\n",
       "      <td>...</td>\n",
       "      <td>0.000000e+00</td>\n",
       "      <td>0.000000e+00</td>\n",
       "      <td>0.000000e+00</td>\n",
       "      <td>0.000000e+00</td>\n",
       "      <td>0.000000e+00</td>\n",
       "      <td>0.000000e+00</td>\n",
       "      <td>0.000000e+00</td>\n",
       "      <td>0.000000e+00</td>\n",
       "      <td>0.000000e+00</td>\n",
       "      <td>0.000000e+00</td>\n",
       "    </tr>\n",
       "    <tr>\n",
       "      <th>75%</th>\n",
       "      <td>4.115615e-01</td>\n",
       "      <td>9.830427e-01</td>\n",
       "      <td>8.127203e-01</td>\n",
       "      <td>2.184062e-01</td>\n",
       "      <td>5.058572e-01</td>\n",
       "      <td>4.903396e-01</td>\n",
       "      <td>9.494832e-01</td>\n",
       "      <td>9.834988e-01</td>\n",
       "      <td>7.328699e-01</td>\n",
       "      <td>5.557043e-01</td>\n",
       "      <td>...</td>\n",
       "      <td>0.000000e+00</td>\n",
       "      <td>0.000000e+00</td>\n",
       "      <td>0.000000e+00</td>\n",
       "      <td>1.000000e+00</td>\n",
       "      <td>1.000000e+00</td>\n",
       "      <td>0.000000e+00</td>\n",
       "      <td>0.000000e+00</td>\n",
       "      <td>0.000000e+00</td>\n",
       "      <td>0.000000e+00</td>\n",
       "      <td>0.000000e+00</td>\n",
       "    </tr>\n",
       "    <tr>\n",
       "      <th>max</th>\n",
       "      <td>7.664392e-01</td>\n",
       "      <td>2.016755e+01</td>\n",
       "      <td>8.036171e+00</td>\n",
       "      <td>2.265368e-01</td>\n",
       "      <td>5.576164e+02</td>\n",
       "      <td>1.466562e+03</td>\n",
       "      <td>6.828378e+00</td>\n",
       "      <td>2.283863e+01</td>\n",
       "      <td>8.267809e+01</td>\n",
       "      <td>4.052452e+00</td>\n",
       "      <td>...</td>\n",
       "      <td>1.000000e+00</td>\n",
       "      <td>0.000000e+00</td>\n",
       "      <td>1.000000e+00</td>\n",
       "      <td>1.000000e+00</td>\n",
       "      <td>1.000000e+00</td>\n",
       "      <td>0.000000e+00</td>\n",
       "      <td>0.000000e+00</td>\n",
       "      <td>1.000000e+00</td>\n",
       "      <td>0.000000e+00</td>\n",
       "      <td>1.000000e+00</td>\n",
       "    </tr>\n",
       "  </tbody>\n",
       "</table>\n",
       "<p>8 rows × 160 columns</p>\n",
       "</div>"
      ],
      "text/plain": [
       "                P_2          D_39           B_1           B_2           R_1  \\\n",
       "count  5.965869e+06  5.965869e+06  5.965869e+06  5.965869e+06  5.965869e+06   \n",
       "mean  -1.919554e-01  5.501743e-01  5.341971e-01 -2.271399e-01  1.282582e+01   \n",
       "std    6.649246e-01  1.057988e+00  1.335595e+00  4.673694e-01  3.953382e+01   \n",
       "min   -3.194734e+00 -3.571759e-02 -4.772506e+01 -9.473637e-01 -1.019519e+00   \n",
       "25%   -5.884385e-01 -1.695727e-02 -1.872797e-01 -7.815938e-01 -4.941428e-01   \n",
       "50%    0.000000e+00  0.000000e+00  0.000000e+00  0.000000e+00  0.000000e+00   \n",
       "75%    4.115615e-01  9.830427e-01  8.127203e-01  2.184062e-01  5.058572e-01   \n",
       "max    7.664392e-01  2.016755e+01  8.036171e+00  2.265368e-01  5.576164e+02   \n",
       "\n",
       "               D_41           B_3          D_44           B_4          D_45  \\\n",
       "count  5.965869e+06  5.965869e+06  5.965869e+06  5.965869e+06  5.965869e+06   \n",
       "mean   9.217330e+00  4.916127e-01  4.537652e-01  3.215359e-01  9.546490e-02   \n",
       "std    3.469073e+01  1.004390e+00  9.081377e-01  9.388477e-01  7.063161e-01   \n",
       "min   -1.013872e+00 -7.727196e-02 -3.392805e-02 -4.068380e-01 -6.366076e-01   \n",
       "25%   -5.096604e-01 -5.051682e-02 -1.650117e-02 -2.671301e-01 -4.442957e-01   \n",
       "50%    0.000000e+00  0.000000e+00  0.000000e+00  0.000000e+00  0.000000e+00   \n",
       "75%    4.903396e-01  9.494832e-01  9.834988e-01  7.328699e-01  5.557043e-01   \n",
       "max    1.466562e+03  6.828378e+00  2.283863e+01  8.267809e+01  4.052452e+00   \n",
       "\n",
       "       ...       D_63_XZ        D_64_O        D_64_R        D_64_U  \\\n",
       "count  ...  5.965869e+06  5.965869e+06  5.965869e+06  5.965869e+06   \n",
       "mean   ...  4.322254e-03 -5.116815e-01  1.408197e-01  2.553606e-01   \n",
       "std    ...  6.560162e-02  4.998636e-01  3.478355e-01  4.360638e-01   \n",
       "min    ...  0.000000e+00 -1.000000e+00  0.000000e+00  0.000000e+00   \n",
       "25%    ...  0.000000e+00 -1.000000e+00  0.000000e+00  0.000000e+00   \n",
       "50%    ...  0.000000e+00  0.000000e+00  0.000000e+00  0.000000e+00   \n",
       "75%    ...  0.000000e+00  0.000000e+00  0.000000e+00  1.000000e+00   \n",
       "max    ...  1.000000e+00  0.000000e+00  1.000000e+00  1.000000e+00   \n",
       "\n",
       "          D_114_0.0     D_114_1.0     D_116_0.0     D_116_1.0     D_120_0.0  \\\n",
       "count  5.965869e+06  5.965869e+06  5.965869e+06  5.965869e+06  5.965869e+06   \n",
       "mean   3.416530e-01 -4.440914e-01 -1.035490e-01  1.110651e-03 -2.072030e-01   \n",
       "std    4.742639e-01  4.968644e-01  3.046747e-01  3.330793e-02  4.053023e-01   \n",
       "min    0.000000e+00 -1.000000e+00 -1.000000e+00  0.000000e+00 -1.000000e+00   \n",
       "25%    0.000000e+00 -1.000000e+00  0.000000e+00  0.000000e+00  0.000000e+00   \n",
       "50%    0.000000e+00  0.000000e+00  0.000000e+00  0.000000e+00  0.000000e+00   \n",
       "75%    1.000000e+00  0.000000e+00  0.000000e+00  0.000000e+00  0.000000e+00   \n",
       "max    1.000000e+00  0.000000e+00  0.000000e+00  1.000000e+00  0.000000e+00   \n",
       "\n",
       "          D_120_1.0  \n",
       "count  5.965869e+06  \n",
       "mean   1.047646e-01  \n",
       "std    3.062499e-01  \n",
       "min    0.000000e+00  \n",
       "25%    0.000000e+00  \n",
       "50%    0.000000e+00  \n",
       "75%    0.000000e+00  \n",
       "max    1.000000e+00  \n",
       "\n",
       "[8 rows x 160 columns]"
      ]
     },
     "execution_count": 102,
     "metadata": {},
     "output_type": "execute_result"
    }
   ],
   "source": [
    "x_train.describe().compute()"
   ]
  },
  {
   "cell_type": "code",
   "execution_count": 107,
   "id": "b663eb71-f5e1-4e08-8c0a-d8a4ed470eb3",
   "metadata": {
    "tags": []
   },
   "outputs": [],
   "source": [
    "import pickle\n",
    "\n",
    "with open(\"../var/hotencoder\", \"wb\") as f:\n",
    "    pickle.dump(one, f)\n",
    "with open(\"../var/scaler\", \"wb\") as f:\n",
    "    pickle.dump(rb,f)"
   ]
  },
  {
   "cell_type": "code",
   "execution_count": null,
   "id": "306e2141-2096-488c-b19c-dae460ffbfb4",
   "metadata": {},
   "outputs": [],
   "source": []
  }
 ],
 "metadata": {
  "kernelspec": {
   "display_name": "Python 3 (ipykernel)",
   "language": "python",
   "name": "python3"
  },
  "language_info": {
   "codemirror_mode": {
    "name": "ipython",
    "version": 3
   },
   "file_extension": ".py",
   "mimetype": "text/x-python",
   "name": "python",
   "nbconvert_exporter": "python",
   "pygments_lexer": "ipython3",
   "version": "3.11.4"
  }
 },
 "nbformat": 4,
 "nbformat_minor": 5
}
