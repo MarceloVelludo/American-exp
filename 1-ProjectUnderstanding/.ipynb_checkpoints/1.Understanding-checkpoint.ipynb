{
 "cells": [
  {
   "cell_type": "markdown",
   "id": "d6ae4759-02d4-4305-8e44-8102fc097b14",
   "metadata": {},
   "source": [
    "## 1- Understanding the Project"
   ]
  },
  {
   "cell_type": "markdown",
   "id": "d792213a-d6e2-4eda-8359-1bbef3da2d06",
   "metadata": {},
   "source": [
    "The first phase of the project is the understanding. This stage, consist of describe the objectives and requisites of the project."
   ]
  },
  {
   "cell_type": "markdown",
   "id": "eba23796-788d-44d0-85f8-79407cb57acc",
   "metadata": {},
   "source": [
    "### A) Introduction"
   ]
  },
  {
   "cell_type": "markdown",
   "id": "9234dd11-ed19-4962-b943-44e3db6e64fa",
   "metadata": {},
   "source": [
    "This project is part of an idea of building a pratical portfolio with Kaggle platform. The project consist of a first project named by titanic-kaggle, and this is the second one. The name of this project is american-exp. Now let's begin introducing the competition where did this project come from.\n",
    "\n",
    "The competition consist of making predictions about credit default. The problem of credit default has a industrial scale data-set and has to be used on a machine learning solution. The data-set include time-series behavioral data and anonymized customer profile information. More information can be found on the copetition website https://www.kaggle.com/competitions/amex-default-prediction/overview."
   ]
  },
  {
   "cell_type": "markdown",
   "id": "3ffae7a9-94fc-458c-b55c-208d0b10feb2",
   "metadata": {},
   "source": [
    "### B) Objective"
   ]
  },
  {
   "cell_type": "markdown",
   "id": "7be9d26c-2aff-490a-98b3-ab71a0e3a254",
   "metadata": {},
   "source": [
    "The objective is to predict the credit default. Credit default save costs for the company."
   ]
  },
  {
   "cell_type": "markdown",
   "id": "eb0a6755-36e2-463d-8a9b-09250b83ed69",
   "metadata": {},
   "source": [
    "### C) Requirements"
   ]
  },
  {
   "cell_type": "markdown",
   "id": "a1e370f0-3c57-478f-a190-06a2f97d7e1a",
   "metadata": {},
   "source": [
    "To acomplish the objective, we will make the things as simple as possible but respecting a minimal structure. We do not plan to implement a CI/CD from the beggining but for future versions of this project a CI/CD pipeline will be implemented to automate the tests on the model.\n",
    "The project will be implemented using python and the basic librarys to manipulate the data and implement the machine learning algorithm. Some of the librarys is the following:\n",
    "\n",
    "    - Numpy\n",
    "    - Scikit-learn\n",
    "    - Pandas\n",
    "    - TensorFlow\n",
    "\n",
    "An extensive list of the librarys will be exported at the end of the version and placed in the main folder."
   ]
  },
  {
   "cell_type": "markdown",
   "id": "fa24ef61-7605-444c-941e-9d2ade203447",
   "metadata": {},
   "source": [
    "### D) Information About the Data"
   ]
  },
  {
   "cell_type": "markdown",
   "id": "14988272-f9c6-45c6-b180-b89c1105e168",
   "metadata": {},
   "source": [
    " As has been said, the project is a Kaggle competition so the informations about the data could be acessed on the following link: https://www.kaggle.com/competitions/amex-default-prediction/overview . Moreover, the data is already splited into two groups: Training set, test set. The file extension is \".csv\". A data directory will be created on the main folder, and the data will be dowloaded into the directory. Moreover, the data will be available only locale due the size. The data contains 924.621 entrys for the test and 458.913 for training. Maybe can have miss values on the columns and possible the data needs some processing. A further analysis will be conducted on the next stage before implementation of the model."
   ]
  },
  {
   "cell_type": "markdown",
   "id": "321fa6f6-da85-4067-ac8d-26466946a93e",
   "metadata": {},
   "source": [
    "### E)Modeling"
   ]
  },
  {
   "cell_type": "markdown",
   "id": "cda9f902-b2dc-4557-bdc9-4971b07e8ac6",
   "metadata": {},
   "source": [
    "The project on the beggining will be as simple as possible. As we stated above, the objective is a classification problem; Given the features we would like to classify whether credit card client will default or not. Keeping the simplicity, we will try to stabilish a baseline with SVM, maybe some features will be eliminated on this stage and we will try to evolve to neural networks."
   ]
  },
  {
   "cell_type": "markdown",
   "id": "9a821736-1ad6-419d-b5b1-1b1da699abca",
   "metadata": {},
   "source": [
    "### F)Evaluation"
   ]
  },
  {
   "cell_type": "markdown",
   "id": "f3d46cf0-ee01-4fc4-9d91-2f5bb8ba5c81",
   "metadata": {},
   "source": [
    "The problem is a Binary classification, but the competition provided the following evaluation procedure:\n",
    "\n",
    "The evaluation metric <strong>M</strong>, is the mean of two measures of rank ordering: Normalized Gini Coefficient, <strong>G</strong>, default rate captured at $4%$.\n",
    "\\begin{equation}\n",
    "    M = 0.5.(G+D)\n",
    "\\end{equation}\n",
    "    \n",
    "The default rate captured at $4%$ is the percentage of the positive labels (defaults) captured within the highest-ranked $4%$ of the predictions, and represents a Sensitivity/Recall statistic.\n",
    "\n",
    "For both of sub-metrics <strong>G</strong> and <strong>D</strong>, the negative labels are given a weight of 20 to adjust for downsampling.\n",
    "    \n",
    "This metric has a maximum value of 1.0.\n",
    "\n",
    "The metric can be calculated importing the method 'amex_metric' from the file' utils/metric.py'. The method receives two pandas DataFrame, y_true and y_pred, which is the true label and the predicted label respectively."
   ]
  },
  {
   "cell_type": "code",
   "execution_count": null,
   "id": "5ae94bc2-a9ec-4677-9f3e-67a2cad30bcd",
   "metadata": {},
   "outputs": [],
   "source": []
  }
 ],
 "metadata": {
  "kernelspec": {
   "display_name": "Python 3 (ipykernel)",
   "language": "python",
   "name": "python3"
  },
  "language_info": {
   "codemirror_mode": {
    "name": "ipython",
    "version": 3
   },
   "file_extension": ".py",
   "mimetype": "text/x-python",
   "name": "python",
   "nbconvert_exporter": "python",
   "pygments_lexer": "ipython3",
   "version": "3.11.4"
  }
 },
 "nbformat": 4,
 "nbformat_minor": 5
}
