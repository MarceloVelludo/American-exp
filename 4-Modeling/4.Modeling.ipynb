{
 "cells": [
  {
   "cell_type": "markdown",
   "id": "70a1cf5d-22dd-4af9-8217-6a5854c85b8a",
   "metadata": {},
   "source": [
    "## 4.Modeling"
   ]
  },
  {
   "cell_type": "markdown",
   "id": "79a13274-6ce0-4a70-af2a-128c9e13ed15",
   "metadata": {},
   "source": [
    "This stage we apply the model on the dataset prepared on the last stage. First, we will make a simple baseline. The test data set doesn't have a target to check."
   ]
  },
  {
   "cell_type": "markdown",
   "id": "90bd0993-d145-415b-8b0b-ef258e3b6fb6",
   "metadata": {},
   "source": [
    "A)Baseline"
   ]
  },
  {
   "cell_type": "markdown",
   "id": "4e5bab9e-6735-488d-9e50-5cdf1ffd5af7",
   "metadata": {},
   "source": [
    "For the baseline we will use the LSTM with dense layers at the end. We also will submit the results on the kaggle with the test set."
   ]
  },
  {
   "cell_type": "code",
   "execution_count": 1,
   "id": "a937deed-ef4b-4881-aa79-fbaaf3e06100",
   "metadata": {
    "tags": []
   },
   "outputs": [
    {
     "name": "stderr",
     "output_type": "stream",
     "text": [
      "2023-08-24 06:07:25.517831: I tensorflow/core/platform/cpu_feature_guard.cc:182] This TensorFlow binary is optimized to use available CPU instructions in performance-critical operations.\n",
      "To enable the following instructions: AVX2 AVX512F FMA, in other operations, rebuild TensorFlow with the appropriate compiler flags.\n",
      "2023-08-24 06:07:26.222002: W tensorflow/compiler/tf2tensorrt/utils/py_utils.cc:38] TF-TRT Warning: Could not find TensorRT\n"
     ]
    }
   ],
   "source": [
    "from dask.distributed import Client\n",
    "import dask.dataframe as dd\n",
    "import logging\n",
    "import numpy as np\n",
    "import pandas as pd\n",
    "import tensorflow as tf"
   ]
  },
  {
   "cell_type": "code",
   "execution_count": null,
   "id": "dc03ba9a-5ddd-4df6-ba42-e3f4cc3edd7e",
   "metadata": {},
   "outputs": [
    {
     "name": "stderr",
     "output_type": "stream",
     "text": [
      "2023-08-24 06:07:53.876764: I tensorflow/core/common_runtime/gpu/gpu_device.cc:1639] Created device /job:localhost/replica:0/task:0/device:GPU:0 with 3114 MB memory:  -> device: 0, name: NVIDIA GeForce GTX 980, pci bus id: 0000:65:00.0, compute capability: 5.2\n"
     ]
    },
    {
     "ename": "TypeError",
     "evalue": "Cannot convert str to pyarrow.lib.MemoryPool",
     "output_type": "error",
     "traceback": [
      "\u001b[0;31m---------------------------------------------------------------------------\u001b[0m",
      "\u001b[0;31mTypeError\u001b[0m                                 Traceback (most recent call last)",
      "\u001b[0;31mTypeError\u001b[0m: Cannot convert str to pyarrow.lib.MemoryPool"
     ]
    },
    {
     "name": "stderr",
     "output_type": "stream",
     "text": [
      "Exception ignored in: 'pyarrow.lib._convert_pandas_options'\n",
      "Traceback (most recent call last):\n",
      "  File \"/home/codemaster/anaconda3/envs/america-exp/lib/python3.11/site-packages/pyarrow/pandas_compat.py\", line 1168, in _table_to_blocks\n",
      "    result = pa.lib.table_to_blocks(options, block_table, categories,\n",
      "             ^^^^^^^^^^^^^^^^^^^^^^^^^^^^^^^^^^^^^^^^^^^^^^^^^^^^^^^^\n",
      "TypeError: Cannot convert str to pyarrow.lib.MemoryPool\n",
      "2023-08-24 06:08:05.423740: I tensorflow/compiler/xla/stream_executor/cuda/cuda_dnn.cc:432] Loaded cuDNN version 8904\n",
      "2023-08-24 06:08:05.544519: I tensorflow/compiler/xla/service/service.cc:168] XLA service 0x7f5378173810 initialized for platform CUDA (this does not guarantee that XLA will be used). Devices:\n",
      "2023-08-24 06:08:05.544549: I tensorflow/compiler/xla/service/service.cc:176]   StreamExecutor device (0): NVIDIA GeForce GTX 980, Compute Capability 5.2\n",
      "2023-08-24 06:08:05.548526: I tensorflow/compiler/mlir/tensorflow/utils/dump_mlir_util.cc:255] disabling MLIR crash reproducer, set env var `MLIR_CRASH_REPRODUCER_DIRECTORY` to enable.\n",
      "2023-08-24 06:08:05.664077: I ./tensorflow/compiler/jit/device_compiler.h:186] Compiled cluster using XLA!  This line is logged at most once for the lifetime of the process.\n"
     ]
    },
    {
     "name": "stdout",
     "output_type": "stream",
     "text": [
      "1563/1563 [==============================] - 19s 8ms/step - loss: 0.3824 - acc: 0.8105 - recall: 0.6153 - precision: 0.6366\n"
     ]
    },
    {
     "ename": "TypeError",
     "evalue": "Cannot convert str to pyarrow.lib.MemoryPool",
     "output_type": "error",
     "traceback": [
      "\u001b[0;31m---------------------------------------------------------------------------\u001b[0m",
      "\u001b[0;31mTypeError\u001b[0m                                 Traceback (most recent call last)",
      "\u001b[0;31mTypeError\u001b[0m: Cannot convert str to pyarrow.lib.MemoryPool"
     ]
    },
    {
     "name": "stderr",
     "output_type": "stream",
     "text": [
      "Exception ignored in: 'pyarrow.lib._convert_pandas_options'\n",
      "Traceback (most recent call last):\n",
      "  File \"/home/codemaster/anaconda3/envs/america-exp/lib/python3.11/site-packages/pyarrow/pandas_compat.py\", line 1168, in _table_to_blocks\n",
      "    result = pa.lib.table_to_blocks(options, block_table, categories,\n",
      "             ^^^^^^^^^^^^^^^^^^^^^^^^^^^^^^^^^^^^^^^^^^^^^^^^^^^^^^^^\n",
      "TypeError: Cannot convert str to pyarrow.lib.MemoryPool\n"
     ]
    },
    {
     "name": "stdout",
     "output_type": "stream",
     "text": [
      "1563/1563 [==============================] - 12s 8ms/step - loss: 0.3385 - acc: 0.8382 - recall: 0.6893 - precision: 0.6884\n"
     ]
    },
    {
     "ename": "TypeError",
     "evalue": "Cannot convert str to pyarrow.lib.MemoryPool",
     "output_type": "error",
     "traceback": [
      "\u001b[0;31m---------------------------------------------------------------------------\u001b[0m",
      "\u001b[0;31mTypeError\u001b[0m                                 Traceback (most recent call last)",
      "\u001b[0;31mTypeError\u001b[0m: Cannot convert str to pyarrow.lib.MemoryPool"
     ]
    },
    {
     "name": "stderr",
     "output_type": "stream",
     "text": [
      "Exception ignored in: 'pyarrow.lib._convert_pandas_options'\n",
      "Traceback (most recent call last):\n",
      "  File \"/home/codemaster/anaconda3/envs/america-exp/lib/python3.11/site-packages/pyarrow/pandas_compat.py\", line 1168, in _table_to_blocks\n",
      "    result = pa.lib.table_to_blocks(options, block_table, categories,\n",
      "             ^^^^^^^^^^^^^^^^^^^^^^^^^^^^^^^^^^^^^^^^^^^^^^^^^^^^^^^^\n",
      "TypeError: Cannot convert str to pyarrow.lib.MemoryPool\n"
     ]
    },
    {
     "name": "stdout",
     "output_type": "stream",
     "text": [
      "1563/1563 [==============================] - 12s 8ms/step - loss: 0.3303 - acc: 0.8433 - recall: 0.6912 - precision: 0.6976\n"
     ]
    },
    {
     "ename": "TypeError",
     "evalue": "Cannot convert str to pyarrow.lib.MemoryPool",
     "output_type": "error",
     "traceback": [
      "\u001b[0;31m---------------------------------------------------------------------------\u001b[0m",
      "\u001b[0;31mTypeError\u001b[0m                                 Traceback (most recent call last)",
      "\u001b[0;31mTypeError\u001b[0m: Cannot convert str to pyarrow.lib.MemoryPool"
     ]
    },
    {
     "name": "stderr",
     "output_type": "stream",
     "text": [
      "Exception ignored in: 'pyarrow.lib._convert_pandas_options'\n",
      "Traceback (most recent call last):\n",
      "  File \"/home/codemaster/anaconda3/envs/america-exp/lib/python3.11/site-packages/pyarrow/pandas_compat.py\", line 1168, in _table_to_blocks\n",
      "    result = pa.lib.table_to_blocks(options, block_table, categories,\n",
      "             ^^^^^^^^^^^^^^^^^^^^^^^^^^^^^^^^^^^^^^^^^^^^^^^^^^^^^^^^\n",
      "TypeError: Cannot convert str to pyarrow.lib.MemoryPool\n"
     ]
    },
    {
     "name": "stdout",
     "output_type": "stream",
     "text": [
      "1563/1563 [==============================] - 12s 8ms/step - loss: 0.3247 - acc: 0.8485 - recall: 0.7068 - precision: 0.7065\n"
     ]
    },
    {
     "ename": "TypeError",
     "evalue": "Cannot convert str to pyarrow.lib.MemoryPool",
     "output_type": "error",
     "traceback": [
      "\u001b[0;31m---------------------------------------------------------------------------\u001b[0m",
      "\u001b[0;31mTypeError\u001b[0m                                 Traceback (most recent call last)",
      "\u001b[0;31mTypeError\u001b[0m: Cannot convert str to pyarrow.lib.MemoryPool"
     ]
    },
    {
     "name": "stderr",
     "output_type": "stream",
     "text": [
      "Exception ignored in: 'pyarrow.lib._convert_pandas_options'\n",
      "Traceback (most recent call last):\n",
      "  File \"/home/codemaster/anaconda3/envs/america-exp/lib/python3.11/site-packages/pyarrow/pandas_compat.py\", line 1168, in _table_to_blocks\n",
      "    result = pa.lib.table_to_blocks(options, block_table, categories,\n",
      "             ^^^^^^^^^^^^^^^^^^^^^^^^^^^^^^^^^^^^^^^^^^^^^^^^^^^^^^^^\n",
      "TypeError: Cannot convert str to pyarrow.lib.MemoryPool\n"
     ]
    },
    {
     "name": "stdout",
     "output_type": "stream",
     "text": [
      "1563/1563 [==============================] - 12s 8ms/step - loss: 0.3266 - acc: 0.8448 - recall: 0.7043 - precision: 0.7015\n"
     ]
    },
    {
     "ename": "TypeError",
     "evalue": "Cannot convert str to pyarrow.lib.MemoryPool",
     "output_type": "error",
     "traceback": [
      "\u001b[0;31m---------------------------------------------------------------------------\u001b[0m",
      "\u001b[0;31mTypeError\u001b[0m                                 Traceback (most recent call last)",
      "\u001b[0;31mTypeError\u001b[0m: Cannot convert str to pyarrow.lib.MemoryPool"
     ]
    },
    {
     "name": "stderr",
     "output_type": "stream",
     "text": [
      "Exception ignored in: 'pyarrow.lib._convert_pandas_options'\n",
      "Traceback (most recent call last):\n",
      "  File \"/home/codemaster/anaconda3/envs/america-exp/lib/python3.11/site-packages/pyarrow/pandas_compat.py\", line 1168, in _table_to_blocks\n",
      "    result = pa.lib.table_to_blocks(options, block_table, categories,\n",
      "             ^^^^^^^^^^^^^^^^^^^^^^^^^^^^^^^^^^^^^^^^^^^^^^^^^^^^^^^^\n",
      "TypeError: Cannot convert str to pyarrow.lib.MemoryPool\n"
     ]
    },
    {
     "name": "stdout",
     "output_type": "stream",
     "text": [
      "1563/1563 [==============================] - 12s 8ms/step - loss: 0.3184 - acc: 0.8510 - recall: 0.7084 - precision: 0.7126\n"
     ]
    },
    {
     "ename": "TypeError",
     "evalue": "Cannot convert str to pyarrow.lib.MemoryPool",
     "output_type": "error",
     "traceback": [
      "\u001b[0;31m---------------------------------------------------------------------------\u001b[0m",
      "\u001b[0;31mTypeError\u001b[0m                                 Traceback (most recent call last)",
      "\u001b[0;31mTypeError\u001b[0m: Cannot convert str to pyarrow.lib.MemoryPool"
     ]
    },
    {
     "name": "stderr",
     "output_type": "stream",
     "text": [
      "Exception ignored in: 'pyarrow.lib._convert_pandas_options'\n",
      "Traceback (most recent call last):\n",
      "  File \"/home/codemaster/anaconda3/envs/america-exp/lib/python3.11/site-packages/pyarrow/pandas_compat.py\", line 1168, in _table_to_blocks\n",
      "    result = pa.lib.table_to_blocks(options, block_table, categories,\n",
      "             ^^^^^^^^^^^^^^^^^^^^^^^^^^^^^^^^^^^^^^^^^^^^^^^^^^^^^^^^\n",
      "TypeError: Cannot convert str to pyarrow.lib.MemoryPool\n"
     ]
    },
    {
     "name": "stdout",
     "output_type": "stream",
     "text": [
      "1563/1563 [==============================] - 12s 8ms/step - loss: 0.3171 - acc: 0.8490 - recall: 0.7024 - precision: 0.7145\n"
     ]
    },
    {
     "ename": "TypeError",
     "evalue": "Cannot convert str to pyarrow.lib.MemoryPool",
     "output_type": "error",
     "traceback": [
      "\u001b[0;31m---------------------------------------------------------------------------\u001b[0m",
      "\u001b[0;31mTypeError\u001b[0m                                 Traceback (most recent call last)",
      "\u001b[0;31mTypeError\u001b[0m: Cannot convert str to pyarrow.lib.MemoryPool"
     ]
    },
    {
     "name": "stderr",
     "output_type": "stream",
     "text": [
      "Exception ignored in: 'pyarrow.lib._convert_pandas_options'\n",
      "Traceback (most recent call last):\n",
      "  File \"/home/codemaster/anaconda3/envs/america-exp/lib/python3.11/site-packages/pyarrow/pandas_compat.py\", line 1168, in _table_to_blocks\n",
      "    result = pa.lib.table_to_blocks(options, block_table, categories,\n",
      "             ^^^^^^^^^^^^^^^^^^^^^^^^^^^^^^^^^^^^^^^^^^^^^^^^^^^^^^^^\n",
      "TypeError: Cannot convert str to pyarrow.lib.MemoryPool\n"
     ]
    },
    {
     "name": "stdout",
     "output_type": "stream",
     "text": [
      "1563/1563 [==============================] - 12s 8ms/step - loss: 0.3199 - acc: 0.8491 - recall: 0.7029 - precision: 0.7132\n"
     ]
    },
    {
     "ename": "TypeError",
     "evalue": "Cannot convert str to pyarrow.lib.MemoryPool",
     "output_type": "error",
     "traceback": [
      "\u001b[0;31m---------------------------------------------------------------------------\u001b[0m",
      "\u001b[0;31mTypeError\u001b[0m                                 Traceback (most recent call last)",
      "\u001b[0;31mTypeError\u001b[0m: Cannot convert str to pyarrow.lib.MemoryPool"
     ]
    },
    {
     "name": "stderr",
     "output_type": "stream",
     "text": [
      "Exception ignored in: 'pyarrow.lib._convert_pandas_options'\n",
      "Traceback (most recent call last):\n",
      "  File \"/home/codemaster/anaconda3/envs/america-exp/lib/python3.11/site-packages/pyarrow/pandas_compat.py\", line 1168, in _table_to_blocks\n",
      "    result = pa.lib.table_to_blocks(options, block_table, categories,\n",
      "             ^^^^^^^^^^^^^^^^^^^^^^^^^^^^^^^^^^^^^^^^^^^^^^^^^^^^^^^^\n",
      "TypeError: Cannot convert str to pyarrow.lib.MemoryPool\n"
     ]
    },
    {
     "name": "stdout",
     "output_type": "stream",
     "text": [
      "1563/1563 [==============================] - 12s 8ms/step - loss: 0.3132 - acc: 0.8526 - recall: 0.7017 - precision: 0.7190\n"
     ]
    },
    {
     "ename": "TypeError",
     "evalue": "Cannot convert str to pyarrow.lib.MemoryPool",
     "output_type": "error",
     "traceback": [
      "\u001b[0;31m---------------------------------------------------------------------------\u001b[0m",
      "\u001b[0;31mTypeError\u001b[0m                                 Traceback (most recent call last)",
      "\u001b[0;31mTypeError\u001b[0m: Cannot convert str to pyarrow.lib.MemoryPool"
     ]
    },
    {
     "name": "stderr",
     "output_type": "stream",
     "text": [
      "Exception ignored in: 'pyarrow.lib._convert_pandas_options'\n",
      "Traceback (most recent call last):\n",
      "  File \"/home/codemaster/anaconda3/envs/america-exp/lib/python3.11/site-packages/pyarrow/pandas_compat.py\", line 1168, in _table_to_blocks\n",
      "    result = pa.lib.table_to_blocks(options, block_table, categories,\n",
      "             ^^^^^^^^^^^^^^^^^^^^^^^^^^^^^^^^^^^^^^^^^^^^^^^^^^^^^^^^\n",
      "TypeError: Cannot convert str to pyarrow.lib.MemoryPool\n"
     ]
    },
    {
     "name": "stdout",
     "output_type": "stream",
     "text": [
      "279/279 [==============================] - 2s 8ms/step - loss: 0.3091 - acc: 0.8534 - recall: 0.7169 - precision: 0.7135\n"
     ]
    },
    {
     "ename": "TypeError",
     "evalue": "Cannot convert str to pyarrow.lib.MemoryPool",
     "output_type": "error",
     "traceback": [
      "\u001b[0;31m---------------------------------------------------------------------------\u001b[0m",
      "\u001b[0;31mTypeError\u001b[0m                                 Traceback (most recent call last)",
      "\u001b[0;31mTypeError\u001b[0m: Cannot convert str to pyarrow.lib.MemoryPool"
     ]
    },
    {
     "name": "stderr",
     "output_type": "stream",
     "text": [
      "Exception ignored in: 'pyarrow.lib._convert_pandas_options'\n",
      "Traceback (most recent call last):\n",
      "  File \"/home/codemaster/anaconda3/envs/america-exp/lib/python3.11/site-packages/pyarrow/pandas_compat.py\", line 1168, in _table_to_blocks\n",
      "    result = pa.lib.table_to_blocks(options, block_table, categories,\n",
      "             ^^^^^^^^^^^^^^^^^^^^^^^^^^^^^^^^^^^^^^^^^^^^^^^^^^^^^^^^\n",
      "TypeError: Cannot convert str to pyarrow.lib.MemoryPool\n"
     ]
    },
    {
     "name": "stdout",
     "output_type": "stream",
     "text": [
      "1563/1563 [==============================] - 12s 8ms/step - loss: 0.3113 - acc: 0.8536 - recall: 0.7181 - precision: 0.7147\n"
     ]
    },
    {
     "ename": "TypeError",
     "evalue": "Cannot convert str to pyarrow.lib.MemoryPool",
     "output_type": "error",
     "traceback": [
      "\u001b[0;31m---------------------------------------------------------------------------\u001b[0m",
      "\u001b[0;31mTypeError\u001b[0m                                 Traceback (most recent call last)",
      "\u001b[0;31mTypeError\u001b[0m: Cannot convert str to pyarrow.lib.MemoryPool"
     ]
    },
    {
     "name": "stderr",
     "output_type": "stream",
     "text": [
      "Exception ignored in: 'pyarrow.lib._convert_pandas_options'\n",
      "Traceback (most recent call last):\n",
      "  File \"/home/codemaster/anaconda3/envs/america-exp/lib/python3.11/site-packages/pyarrow/pandas_compat.py\", line 1168, in _table_to_blocks\n",
      "    result = pa.lib.table_to_blocks(options, block_table, categories,\n",
      "             ^^^^^^^^^^^^^^^^^^^^^^^^^^^^^^^^^^^^^^^^^^^^^^^^^^^^^^^^\n",
      "TypeError: Cannot convert str to pyarrow.lib.MemoryPool\n"
     ]
    },
    {
     "name": "stdout",
     "output_type": "stream",
     "text": [
      "1563/1563 [==============================] - 12s 8ms/step - loss: 0.3107 - acc: 0.8548 - recall: 0.7147 - precision: 0.7232\n"
     ]
    },
    {
     "ename": "TypeError",
     "evalue": "Cannot convert str to pyarrow.lib.MemoryPool",
     "output_type": "error",
     "traceback": [
      "\u001b[0;31m---------------------------------------------------------------------------\u001b[0m",
      "\u001b[0;31mTypeError\u001b[0m                                 Traceback (most recent call last)",
      "\u001b[0;31mTypeError\u001b[0m: Cannot convert str to pyarrow.lib.MemoryPool"
     ]
    },
    {
     "name": "stderr",
     "output_type": "stream",
     "text": [
      "Exception ignored in: 'pyarrow.lib._convert_pandas_options'\n",
      "Traceback (most recent call last):\n",
      "  File \"/home/codemaster/anaconda3/envs/america-exp/lib/python3.11/site-packages/pyarrow/pandas_compat.py\", line 1168, in _table_to_blocks\n",
      "    result = pa.lib.table_to_blocks(options, block_table, categories,\n",
      "             ^^^^^^^^^^^^^^^^^^^^^^^^^^^^^^^^^^^^^^^^^^^^^^^^^^^^^^^^\n",
      "TypeError: Cannot convert str to pyarrow.lib.MemoryPool\n"
     ]
    },
    {
     "name": "stdout",
     "output_type": "stream",
     "text": [
      "1563/1563 [==============================] - 12s 8ms/step - loss: 0.3120 - acc: 0.8518 - recall: 0.7197 - precision: 0.7092\n"
     ]
    },
    {
     "ename": "TypeError",
     "evalue": "Cannot convert str to pyarrow.lib.MemoryPool",
     "output_type": "error",
     "traceback": [
      "\u001b[0;31m---------------------------------------------------------------------------\u001b[0m",
      "\u001b[0;31mTypeError\u001b[0m                                 Traceback (most recent call last)",
      "\u001b[0;31mTypeError\u001b[0m: Cannot convert str to pyarrow.lib.MemoryPool"
     ]
    },
    {
     "name": "stderr",
     "output_type": "stream",
     "text": [
      "Exception ignored in: 'pyarrow.lib._convert_pandas_options'\n",
      "Traceback (most recent call last):\n",
      "  File \"/home/codemaster/anaconda3/envs/america-exp/lib/python3.11/site-packages/pyarrow/pandas_compat.py\", line 1168, in _table_to_blocks\n",
      "    result = pa.lib.table_to_blocks(options, block_table, categories,\n",
      "             ^^^^^^^^^^^^^^^^^^^^^^^^^^^^^^^^^^^^^^^^^^^^^^^^^^^^^^^^\n",
      "TypeError: Cannot convert str to pyarrow.lib.MemoryPool\n"
     ]
    },
    {
     "name": "stdout",
     "output_type": "stream",
     "text": [
      "1563/1563 [==============================] - 12s 8ms/step - loss: 0.3109 - acc: 0.8559 - recall: 0.7082 - precision: 0.7267\n"
     ]
    },
    {
     "ename": "TypeError",
     "evalue": "Cannot convert str to pyarrow.lib.MemoryPool",
     "output_type": "error",
     "traceback": [
      "\u001b[0;31m---------------------------------------------------------------------------\u001b[0m",
      "\u001b[0;31mTypeError\u001b[0m                                 Traceback (most recent call last)",
      "\u001b[0;31mTypeError\u001b[0m: Cannot convert str to pyarrow.lib.MemoryPool"
     ]
    },
    {
     "name": "stderr",
     "output_type": "stream",
     "text": [
      "Exception ignored in: 'pyarrow.lib._convert_pandas_options'\n",
      "Traceback (most recent call last):\n",
      "  File \"/home/codemaster/anaconda3/envs/america-exp/lib/python3.11/site-packages/pyarrow/pandas_compat.py\", line 1168, in _table_to_blocks\n",
      "    result = pa.lib.table_to_blocks(options, block_table, categories,\n",
      "             ^^^^^^^^^^^^^^^^^^^^^^^^^^^^^^^^^^^^^^^^^^^^^^^^^^^^^^^^\n",
      "TypeError: Cannot convert str to pyarrow.lib.MemoryPool\n"
     ]
    },
    {
     "name": "stdout",
     "output_type": "stream",
     "text": [
      "1563/1563 [==============================] - 12s 8ms/step - loss: 0.3142 - acc: 0.8543 - recall: 0.7175 - precision: 0.7218\n"
     ]
    },
    {
     "ename": "TypeError",
     "evalue": "Cannot convert str to pyarrow.lib.MemoryPool",
     "output_type": "error",
     "traceback": [
      "\u001b[0;31m---------------------------------------------------------------------------\u001b[0m",
      "\u001b[0;31mTypeError\u001b[0m                                 Traceback (most recent call last)",
      "\u001b[0;31mTypeError\u001b[0m: Cannot convert str to pyarrow.lib.MemoryPool"
     ]
    },
    {
     "name": "stderr",
     "output_type": "stream",
     "text": [
      "Exception ignored in: 'pyarrow.lib._convert_pandas_options'\n",
      "Traceback (most recent call last):\n",
      "  File \"/home/codemaster/anaconda3/envs/america-exp/lib/python3.11/site-packages/pyarrow/pandas_compat.py\", line 1168, in _table_to_blocks\n",
      "    result = pa.lib.table_to_blocks(options, block_table, categories,\n",
      "             ^^^^^^^^^^^^^^^^^^^^^^^^^^^^^^^^^^^^^^^^^^^^^^^^^^^^^^^^\n",
      "TypeError: Cannot convert str to pyarrow.lib.MemoryPool\n"
     ]
    },
    {
     "name": "stdout",
     "output_type": "stream",
     "text": [
      "1563/1563 [==============================] - 12s 8ms/step - loss: 0.3112 - acc: 0.8548 - recall: 0.7257 - precision: 0.7158\n"
     ]
    },
    {
     "ename": "TypeError",
     "evalue": "Cannot convert str to pyarrow.lib.MemoryPool",
     "output_type": "error",
     "traceback": [
      "\u001b[0;31m---------------------------------------------------------------------------\u001b[0m",
      "\u001b[0;31mTypeError\u001b[0m                                 Traceback (most recent call last)",
      "\u001b[0;31mTypeError\u001b[0m: Cannot convert str to pyarrow.lib.MemoryPool"
     ]
    },
    {
     "name": "stderr",
     "output_type": "stream",
     "text": [
      "Exception ignored in: 'pyarrow.lib._convert_pandas_options'\n",
      "Traceback (most recent call last):\n",
      "  File \"/home/codemaster/anaconda3/envs/america-exp/lib/python3.11/site-packages/pyarrow/pandas_compat.py\", line 1168, in _table_to_blocks\n",
      "    result = pa.lib.table_to_blocks(options, block_table, categories,\n",
      "             ^^^^^^^^^^^^^^^^^^^^^^^^^^^^^^^^^^^^^^^^^^^^^^^^^^^^^^^^\n",
      "TypeError: Cannot convert str to pyarrow.lib.MemoryPool\n"
     ]
    }
   ],
   "source": [
    "import pyarrow.parquet as pq\n",
    "MAX_EPOCHS=10\n",
    "patience=2\n",
    "lstm_model = tf.keras.models.Sequential([\n",
    "    # Shape [batch, time, features] => [batch, time, lstm_units]\n",
    "    tf.keras.layers.LSTM(32, return_sequences=True, dropout=0.8),\n",
    "    tf.keras.layers.LSTM(32, return_sequences=True, dropout=0.7),\n",
    "    tf.keras.layers.LSTM(32, return_sequences=True, dropout=0.6),\n",
    "    tf.keras.layers.LSTM(32, return_sequences=False, dropout=0.5),\n",
    "    #tf.keras.layers.Flatten(),\n",
    "    # Shape => [batch, time, features]\n",
    "    tf.keras.layers.Dense(units=128, activation= tf.keras.activations.relu),\n",
    "    tf.keras.layers.Dense(units=64, activation= tf.keras.activations.relu),\n",
    "    tf.keras.layers.Dense(units=1, activation= tf.keras.activations.sigmoid)\n",
    "])\n",
    "early_stopping = tf.keras.callbacks.EarlyStopping(monitor='recall', patience=patience, mode='min')\n",
    "lstm_model.compile(loss=tf.keras.losses.BinaryCrossentropy(),\n",
    "              optimizer=tf.keras.optimizers.AdamW(use_ema=True),\n",
    "              metrics=['acc',tf.keras.metrics.Recall(), tf.keras.metrics.Precision()])\n",
    "parquet_file = pq.ParquetFile('./merged_train/merged_train.parquet')\n",
    "history = []\n",
    "for me in range(MAX_EPOCHS):\n",
    "    for batch in parquet_file.iter_batches(batch_size=650000):\n",
    "        df = batch.to_pandas('./merged_train/merged_train.parquet')\n",
    "        #data = np.array(data, dtype=np.float32)\n",
    "        ds_train = tf.keras.utils.timeseries_dataset_from_array(data=df.iloc[:, 2:-1].to_numpy(),\n",
    "                                                              targets=df.iloc[:, -1].to_numpy(),\n",
    "                                                              sequence_length=13,\n",
    "                                                              sequence_stride=13,\n",
    "                                                              shuffle=False,\n",
    "                                                              batch_size=32,)\n",
    "        history.append( lstm_model.fit(ds_train, epochs=1,shuffle=False,verbose=1,\n",
    "                            callbacks=[early_stopping]))"
   ]
  },
  {
   "cell_type": "code",
   "execution_count": null,
   "id": "53750fea-8d28-4340-947e-13d48d99ec0e",
   "metadata": {},
   "outputs": [],
   "source": [
    "lstm_model.save_weights('lstm_model')"
   ]
  },
  {
   "cell_type": "code",
   "execution_count": null,
   "id": "e79f1e00-7971-4a9c-bb95-1a9fca86edbb",
   "metadata": {},
   "outputs": [],
   "source": [
    "parquet_file = pq.ParquetFile('./unified_test/test.parquet')\n",
    "count = 0\n",
    "for batch in parquet_file.iter_batches(batch_size=130000):\n",
    "    df = batch.to_pandas()\n",
    "    customers = df['customer_ID'].copy()\n",
    "    test = pd.DataFrame(customers.unique().to_numpy().reshape((-1,1)),columns=['customer_ID'])\n",
    "    \n",
    "    #data = np.array(data, dtype=np.float32)\n",
    "    ds_test = tf.keras.utils.timeseries_dataset_from_array(data=df.iloc[:, 2:].to_numpy(),\n",
    "                                                          targets=None,\n",
    "                                                          sequence_length=13,\n",
    "                                                          sequence_stride=13,\n",
    "                                                          shuffle=False,\n",
    "                                                          batch_size=1)\n",
    "    predictions = lstm_model.predict(ds_test)\n",
    "    test['predictions'] = np.array(predictions).reshape((-1,1))\n",
    "    test['predictions'] = test['predictions'].apply(lambda x: 1 if x >=0.5 else 0)\n",
    "    test.to_parquet(f'../data/submit_data/answer{count}.parquet')\n",
    "    count += 1"
   ]
  },
  {
   "cell_type": "code",
   "execution_count": null,
   "id": "4d4ec33c-94e7-4c95-ad55-85af9b36b94d",
   "metadata": {},
   "outputs": [],
   "source": [
    "sub = pd.read_parquet(\"../data/submit_data/\")"
   ]
  },
  {
   "cell_type": "code",
   "execution_count": null,
   "id": "b49484ce-9df4-4c14-a3f6-ad581a93ec68",
   "metadata": {},
   "outputs": [],
   "source": [
    "sub = sub.rename({'predictions': 'prediction'}, axis=1)"
   ]
  },
  {
   "cell_type": "code",
   "execution_count": null,
   "id": "a572e18a-0c2e-4b54-9bb2-3729a9c8ec0d",
   "metadata": {},
   "outputs": [],
   "source": [
    "sub.to_csv(\"sub_final.csv\", index=False)"
   ]
  },
  {
   "cell_type": "code",
   "execution_count": null,
   "id": "ed86bb5d-1402-4527-8a1b-572ab8f7b041",
   "metadata": {},
   "outputs": [],
   "source": [
    "!kaggle competitions submit -c amex-default-prediction -f 'sub_final.csv' -m \"LSTM+DENSE\""
   ]
  },
  {
   "cell_type": "markdown",
   "id": "c1962ba5-e833-49db-900a-3e4d025e3a67",
   "metadata": {},
   "source": [
    "#### Final score:\n",
    "#### score:0.44\n"
   ]
  },
  {
   "cell_type": "code",
   "execution_count": null,
   "id": "5a4aba68-49d9-4667-8c0b-dc009b61de61",
   "metadata": {},
   "outputs": [],
   "source": []
  }
 ],
 "metadata": {
  "kernelspec": {
   "display_name": "Python 3 (ipykernel)",
   "language": "python",
   "name": "python3"
  },
  "language_info": {
   "codemirror_mode": {
    "name": "ipython",
    "version": 3
   },
   "file_extension": ".py",
   "mimetype": "text/x-python",
   "name": "python",
   "nbconvert_exporter": "python",
   "pygments_lexer": "ipython3",
   "version": "3.11.4"
  }
 },
 "nbformat": 4,
 "nbformat_minor": 5
}
