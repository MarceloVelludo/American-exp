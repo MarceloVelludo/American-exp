{
 "cells": [
  {
   "cell_type": "markdown",
   "id": "70a1cf5d-22dd-4af9-8217-6a5854c85b8a",
   "metadata": {},
   "source": [
    "## 4.Modeling"
   ]
  },
  {
   "cell_type": "markdown",
   "id": "79a13274-6ce0-4a70-af2a-128c9e13ed15",
   "metadata": {},
   "source": [
    "This stage we apply the model on the dataset prepared on the last stage. First, we will make a simple baseline. The test data set doesn't have a target to check."
   ]
  },
  {
   "cell_type": "markdown",
   "id": "90bd0993-d145-415b-8b0b-ef258e3b6fb6",
   "metadata": {},
   "source": [
    "A)Baseline"
   ]
  },
  {
   "cell_type": "markdown",
   "id": "4e5bab9e-6735-488d-9e50-5cdf1ffd5af7",
   "metadata": {},
   "source": [
    "For the baseline we will use the LSTM with dense layers at the end. We also will submit the results on the kaggle with the test set."
   ]
  },
  {
   "cell_type": "code",
   "execution_count": 1,
   "id": "a937deed-ef4b-4881-aa79-fbaaf3e06100",
   "metadata": {
    "tags": []
   },
   "outputs": [
    {
     "name": "stderr",
     "output_type": "stream",
     "text": [
      "2023-08-24 09:04:38.897948: I tensorflow/core/platform/cpu_feature_guard.cc:182] This TensorFlow binary is optimized to use available CPU instructions in performance-critical operations.\n",
      "To enable the following instructions: AVX2 AVX512F FMA, in other operations, rebuild TensorFlow with the appropriate compiler flags.\n",
      "2023-08-24 09:04:39.563954: W tensorflow/compiler/tf2tensorrt/utils/py_utils.cc:38] TF-TRT Warning: Could not find TensorRT\n"
     ]
    }
   ],
   "source": [
    "from dask.distributed import Client\n",
    "import dask.dataframe as dd\n",
    "import logging\n",
    "import numpy as np\n",
    "import pandas as pd\n",
    "import tensorflow as tf"
   ]
  },
  {
   "cell_type": "code",
   "execution_count": 5,
   "id": "07030508-cc08-4e4a-b8a5-9be6a55322ae",
   "metadata": {},
   "outputs": [],
   "source": [
    "lstm_model = tf.keras.models.Sequential([\n",
    "    tf.keras.Input(shape=(13,160)),\n",
    "    # Shape [batch, time, features] => [batch, time, lstm_units]\n",
    "    tf.keras.layers.Normalization(),\n",
    "    tf.keras.layers.Conv1D(512, (2)),\n",
    "   # tf.keras.layers.Conv1D(128,(2)),\n",
    "\n",
    "#    tf.keras.layers.LSTM(32, return_sequences=True, dropout=0.7),\n",
    " #   tf.keras.layers.LSTM(32, return_sequences=True, dropout=0.6),\n",
    "  #  tf.keras.layers.LSTM(32, return_sequences=False, dropout=0.5),\n",
    "    tf.keras.layers.Flatten(),\n",
    "    # Shape => [batch, time, features]\n",
    "    tf.keras.layers.Dense(units=128, activation= tf.keras.activations.relu),\n",
    "    tf.keras.layers.Dense(units=64, activation= tf.keras.activations.relu),\n",
    "    tf.keras.layers.Dense(units=1, activation= tf.keras.activations.sigmoid)\n",
    "])\n"
   ]
  },
  {
   "cell_type": "code",
   "execution_count": 6,
   "id": "7473f571-d575-4eaa-8ead-36c9dd5844bd",
   "metadata": {},
   "outputs": [
    {
     "name": "stdout",
     "output_type": "stream",
     "text": [
      "Model: \"sequential_1\"\n",
      "_________________________________________________________________\n",
      " Layer (type)                Output Shape              Param #   \n",
      "=================================================================\n",
      " normalization_1 (Normaliza  (None, 13, 160)           321       \n",
      " tion)                                                           \n",
      "                                                                 \n",
      " conv1d_5 (Conv1D)           (None, 12, 512)           164352    \n",
      "                                                                 \n",
      " flatten_1 (Flatten)         (None, 6144)              0         \n",
      "                                                                 \n",
      " dense_3 (Dense)             (None, 128)               786560    \n",
      "                                                                 \n",
      " dense_4 (Dense)             (None, 64)                8256      \n",
      "                                                                 \n",
      " dense_5 (Dense)             (None, 1)                 65        \n",
      "                                                                 \n",
      "=================================================================\n",
      "Total params: 959554 (3.66 MB)\n",
      "Trainable params: 959233 (3.66 MB)\n",
      "Non-trainable params: 321 (1.26 KB)\n",
      "_________________________________________________________________\n"
     ]
    }
   ],
   "source": [
    "lstm_model.summary()"
   ]
  },
  {
   "cell_type": "code",
   "execution_count": 7,
   "id": "dc03ba9a-5ddd-4df6-ba42-e3f4cc3edd7e",
   "metadata": {},
   "outputs": [
    {
     "ename": "TypeError",
     "evalue": "Cannot convert str to pyarrow.lib.MemoryPool",
     "output_type": "error",
     "traceback": [
      "\u001b[0;31m---------------------------------------------------------------------------\u001b[0m",
      "\u001b[0;31mTypeError\u001b[0m                                 Traceback (most recent call last)",
      "\u001b[0;31mTypeError\u001b[0m: Cannot convert str to pyarrow.lib.MemoryPool"
     ]
    },
    {
     "name": "stderr",
     "output_type": "stream",
     "text": [
      "Exception ignored in: 'pyarrow.lib._convert_pandas_options'\n",
      "Traceback (most recent call last):\n",
      "  File \"/home/codemaster/anaconda3/envs/america-exp/lib/python3.11/site-packages/pyarrow/pandas_compat.py\", line 1168, in _table_to_blocks\n",
      "    result = pa.lib.table_to_blocks(options, block_table, categories,\n",
      "             ^^^^^^^^^^^^^^^^^^^^^^^^^^^^^^^^^^^^^^^^^^^^^^^^^^^^^^^^\n",
      "TypeError: Cannot convert str to pyarrow.lib.MemoryPool\n"
     ]
    },
    {
     "name": "stdout",
     "output_type": "stream",
     "text": [
      "391/391 [==============================] - 3s 5ms/step - loss: 4.5422 - acc: 0.7965 - recall_1: 0.6406 - precision_1: 0.5980\n"
     ]
    },
    {
     "ename": "TypeError",
     "evalue": "Cannot convert str to pyarrow.lib.MemoryPool",
     "output_type": "error",
     "traceback": [
      "\u001b[0;31m---------------------------------------------------------------------------\u001b[0m",
      "\u001b[0;31mTypeError\u001b[0m                                 Traceback (most recent call last)",
      "\u001b[0;31mTypeError\u001b[0m: Cannot convert str to pyarrow.lib.MemoryPool"
     ]
    },
    {
     "name": "stderr",
     "output_type": "stream",
     "text": [
      "Exception ignored in: 'pyarrow.lib._convert_pandas_options'\n",
      "Traceback (most recent call last):\n",
      "  File \"/home/codemaster/anaconda3/envs/america-exp/lib/python3.11/site-packages/pyarrow/pandas_compat.py\", line 1168, in _table_to_blocks\n",
      "    result = pa.lib.table_to_blocks(options, block_table, categories,\n",
      "             ^^^^^^^^^^^^^^^^^^^^^^^^^^^^^^^^^^^^^^^^^^^^^^^^^^^^^^^^\n",
      "TypeError: Cannot convert str to pyarrow.lib.MemoryPool\n"
     ]
    },
    {
     "name": "stdout",
     "output_type": "stream",
     "text": [
      "391/391 [==============================] - 2s 5ms/step - loss: 1.6370 - acc: 0.8199 - recall_1: 0.6686 - precision_1: 0.6491\n"
     ]
    },
    {
     "ename": "TypeError",
     "evalue": "Cannot convert str to pyarrow.lib.MemoryPool",
     "output_type": "error",
     "traceback": [
      "\u001b[0;31m---------------------------------------------------------------------------\u001b[0m",
      "\u001b[0;31mTypeError\u001b[0m                                 Traceback (most recent call last)",
      "\u001b[0;31mTypeError\u001b[0m: Cannot convert str to pyarrow.lib.MemoryPool"
     ]
    },
    {
     "name": "stderr",
     "output_type": "stream",
     "text": [
      "Exception ignored in: 'pyarrow.lib._convert_pandas_options'\n",
      "Traceback (most recent call last):\n",
      "  File \"/home/codemaster/anaconda3/envs/america-exp/lib/python3.11/site-packages/pyarrow/pandas_compat.py\", line 1168, in _table_to_blocks\n",
      "    result = pa.lib.table_to_blocks(options, block_table, categories,\n",
      "             ^^^^^^^^^^^^^^^^^^^^^^^^^^^^^^^^^^^^^^^^^^^^^^^^^^^^^^^^\n",
      "TypeError: Cannot convert str to pyarrow.lib.MemoryPool\n"
     ]
    },
    {
     "name": "stdout",
     "output_type": "stream",
     "text": [
      "391/391 [==============================] - 2s 5ms/step - loss: 0.7480 - acc: 0.8364 - recall_1: 0.6592 - precision_1: 0.6911\n"
     ]
    },
    {
     "ename": "TypeError",
     "evalue": "Cannot convert str to pyarrow.lib.MemoryPool",
     "output_type": "error",
     "traceback": [
      "\u001b[0;31m---------------------------------------------------------------------------\u001b[0m",
      "\u001b[0;31mTypeError\u001b[0m                                 Traceback (most recent call last)",
      "\u001b[0;31mTypeError\u001b[0m: Cannot convert str to pyarrow.lib.MemoryPool"
     ]
    },
    {
     "name": "stderr",
     "output_type": "stream",
     "text": [
      "Exception ignored in: 'pyarrow.lib._convert_pandas_options'\n",
      "Traceback (most recent call last):\n",
      "  File \"/home/codemaster/anaconda3/envs/america-exp/lib/python3.11/site-packages/pyarrow/pandas_compat.py\", line 1168, in _table_to_blocks\n",
      "    result = pa.lib.table_to_blocks(options, block_table, categories,\n",
      "             ^^^^^^^^^^^^^^^^^^^^^^^^^^^^^^^^^^^^^^^^^^^^^^^^^^^^^^^^\n",
      "TypeError: Cannot convert str to pyarrow.lib.MemoryPool\n"
     ]
    },
    {
     "name": "stdout",
     "output_type": "stream",
     "text": [
      "391/391 [==============================] - 2s 5ms/step - loss: 0.6206 - acc: 0.8247 - recall_1: 0.6061 - precision_1: 0.6801\n"
     ]
    },
    {
     "ename": "TypeError",
     "evalue": "Cannot convert str to pyarrow.lib.MemoryPool",
     "output_type": "error",
     "traceback": [
      "\u001b[0;31m---------------------------------------------------------------------------\u001b[0m",
      "\u001b[0;31mTypeError\u001b[0m                                 Traceback (most recent call last)",
      "\u001b[0;31mTypeError\u001b[0m: Cannot convert str to pyarrow.lib.MemoryPool"
     ]
    },
    {
     "name": "stderr",
     "output_type": "stream",
     "text": [
      "Exception ignored in: 'pyarrow.lib._convert_pandas_options'\n",
      "Traceback (most recent call last):\n",
      "  File \"/home/codemaster/anaconda3/envs/america-exp/lib/python3.11/site-packages/pyarrow/pandas_compat.py\", line 1168, in _table_to_blocks\n",
      "    result = pa.lib.table_to_blocks(options, block_table, categories,\n",
      "             ^^^^^^^^^^^^^^^^^^^^^^^^^^^^^^^^^^^^^^^^^^^^^^^^^^^^^^^^\n",
      "TypeError: Cannot convert str to pyarrow.lib.MemoryPool\n"
     ]
    },
    {
     "name": "stdout",
     "output_type": "stream",
     "text": [
      "391/391 [==============================] - 2s 5ms/step - loss: 0.6990 - acc: 0.7565 - recall_1: 0.1415 - precision_1: 0.6518\n"
     ]
    },
    {
     "ename": "TypeError",
     "evalue": "Cannot convert str to pyarrow.lib.MemoryPool",
     "output_type": "error",
     "traceback": [
      "\u001b[0;31m---------------------------------------------------------------------------\u001b[0m",
      "\u001b[0;31mTypeError\u001b[0m                                 Traceback (most recent call last)",
      "\u001b[0;31mTypeError\u001b[0m: Cannot convert str to pyarrow.lib.MemoryPool"
     ]
    },
    {
     "name": "stderr",
     "output_type": "stream",
     "text": [
      "Exception ignored in: 'pyarrow.lib._convert_pandas_options'\n",
      "Traceback (most recent call last):\n",
      "  File \"/home/codemaster/anaconda3/envs/america-exp/lib/python3.11/site-packages/pyarrow/pandas_compat.py\", line 1168, in _table_to_blocks\n",
      "    result = pa.lib.table_to_blocks(options, block_table, categories,\n",
      "             ^^^^^^^^^^^^^^^^^^^^^^^^^^^^^^^^^^^^^^^^^^^^^^^^^^^^^^^^\n",
      "TypeError: Cannot convert str to pyarrow.lib.MemoryPool\n"
     ]
    },
    {
     "name": "stdout",
     "output_type": "stream",
     "text": [
      "391/391 [==============================] - 2s 5ms/step - loss: 0.4815 - acc: 0.7486 - recall_1: 0.0377 - precision_1: 0.7621\n"
     ]
    },
    {
     "ename": "TypeError",
     "evalue": "Cannot convert str to pyarrow.lib.MemoryPool",
     "output_type": "error",
     "traceback": [
      "\u001b[0;31m---------------------------------------------------------------------------\u001b[0m",
      "\u001b[0;31mTypeError\u001b[0m                                 Traceback (most recent call last)",
      "\u001b[0;31mTypeError\u001b[0m: Cannot convert str to pyarrow.lib.MemoryPool"
     ]
    },
    {
     "name": "stderr",
     "output_type": "stream",
     "text": [
      "Exception ignored in: 'pyarrow.lib._convert_pandas_options'\n",
      "Traceback (most recent call last):\n",
      "  File \"/home/codemaster/anaconda3/envs/america-exp/lib/python3.11/site-packages/pyarrow/pandas_compat.py\", line 1168, in _table_to_blocks\n",
      "    result = pa.lib.table_to_blocks(options, block_table, categories,\n",
      "             ^^^^^^^^^^^^^^^^^^^^^^^^^^^^^^^^^^^^^^^^^^^^^^^^^^^^^^^^\n",
      "TypeError: Cannot convert str to pyarrow.lib.MemoryPool\n"
     ]
    },
    {
     "name": "stdout",
     "output_type": "stream",
     "text": [
      "391/391 [==============================] - 2s 5ms/step - loss: 0.7131 - acc: 0.8007 - recall_1: 0.6286 - precision_1: 0.6160\n"
     ]
    },
    {
     "ename": "TypeError",
     "evalue": "Cannot convert str to pyarrow.lib.MemoryPool",
     "output_type": "error",
     "traceback": [
      "\u001b[0;31m---------------------------------------------------------------------------\u001b[0m",
      "\u001b[0;31mTypeError\u001b[0m                                 Traceback (most recent call last)",
      "\u001b[0;31mTypeError\u001b[0m: Cannot convert str to pyarrow.lib.MemoryPool"
     ]
    },
    {
     "name": "stderr",
     "output_type": "stream",
     "text": [
      "Exception ignored in: 'pyarrow.lib._convert_pandas_options'\n",
      "Traceback (most recent call last):\n",
      "  File \"/home/codemaster/anaconda3/envs/america-exp/lib/python3.11/site-packages/pyarrow/pandas_compat.py\", line 1168, in _table_to_blocks\n",
      "    result = pa.lib.table_to_blocks(options, block_table, categories,\n",
      "             ^^^^^^^^^^^^^^^^^^^^^^^^^^^^^^^^^^^^^^^^^^^^^^^^^^^^^^^^\n",
      "TypeError: Cannot convert str to pyarrow.lib.MemoryPool\n"
     ]
    },
    {
     "name": "stdout",
     "output_type": "stream",
     "text": [
      "391/391 [==============================] - 2s 5ms/step - loss: 0.3975 - acc: 0.8258 - recall_1: 0.8304 - precision_1: 0.6245\n"
     ]
    },
    {
     "ename": "TypeError",
     "evalue": "Cannot convert str to pyarrow.lib.MemoryPool",
     "output_type": "error",
     "traceback": [
      "\u001b[0;31m---------------------------------------------------------------------------\u001b[0m",
      "\u001b[0;31mTypeError\u001b[0m                                 Traceback (most recent call last)",
      "\u001b[0;31mTypeError\u001b[0m: Cannot convert str to pyarrow.lib.MemoryPool"
     ]
    },
    {
     "name": "stderr",
     "output_type": "stream",
     "text": [
      "Exception ignored in: 'pyarrow.lib._convert_pandas_options'\n",
      "Traceback (most recent call last):\n",
      "  File \"/home/codemaster/anaconda3/envs/america-exp/lib/python3.11/site-packages/pyarrow/pandas_compat.py\", line 1168, in _table_to_blocks\n",
      "    result = pa.lib.table_to_blocks(options, block_table, categories,\n",
      "             ^^^^^^^^^^^^^^^^^^^^^^^^^^^^^^^^^^^^^^^^^^^^^^^^^^^^^^^^\n",
      "TypeError: Cannot convert str to pyarrow.lib.MemoryPool\n"
     ]
    },
    {
     "name": "stdout",
     "output_type": "stream",
     "text": [
      "391/391 [==============================] - 2s 5ms/step - loss: 0.3703 - acc: 0.8301 - recall_1: 0.8014 - precision_1: 0.6346\n"
     ]
    },
    {
     "ename": "TypeError",
     "evalue": "Cannot convert str to pyarrow.lib.MemoryPool",
     "output_type": "error",
     "traceback": [
      "\u001b[0;31m---------------------------------------------------------------------------\u001b[0m",
      "\u001b[0;31mTypeError\u001b[0m                                 Traceback (most recent call last)",
      "\u001b[0;31mTypeError\u001b[0m: Cannot convert str to pyarrow.lib.MemoryPool"
     ]
    },
    {
     "name": "stderr",
     "output_type": "stream",
     "text": [
      "Exception ignored in: 'pyarrow.lib._convert_pandas_options'\n",
      "Traceback (most recent call last):\n",
      "  File \"/home/codemaster/anaconda3/envs/america-exp/lib/python3.11/site-packages/pyarrow/pandas_compat.py\", line 1168, in _table_to_blocks\n",
      "    result = pa.lib.table_to_blocks(options, block_table, categories,\n",
      "             ^^^^^^^^^^^^^^^^^^^^^^^^^^^^^^^^^^^^^^^^^^^^^^^^^^^^^^^^\n",
      "TypeError: Cannot convert str to pyarrow.lib.MemoryPool\n"
     ]
    },
    {
     "name": "stdout",
     "output_type": "stream",
     "text": [
      "70/70 [==============================] - 0s 5ms/step - loss: 0.6518 - acc: 0.8244 - recall_1: 0.8506 - precision_1: 0.6142\n"
     ]
    },
    {
     "ename": "TypeError",
     "evalue": "Cannot convert str to pyarrow.lib.MemoryPool",
     "output_type": "error",
     "traceback": [
      "\u001b[0;31m---------------------------------------------------------------------------\u001b[0m",
      "\u001b[0;31mTypeError\u001b[0m                                 Traceback (most recent call last)",
      "\u001b[0;31mTypeError\u001b[0m: Cannot convert str to pyarrow.lib.MemoryPool"
     ]
    },
    {
     "name": "stderr",
     "output_type": "stream",
     "text": [
      "Exception ignored in: 'pyarrow.lib._convert_pandas_options'\n",
      "Traceback (most recent call last):\n",
      "  File \"/home/codemaster/anaconda3/envs/america-exp/lib/python3.11/site-packages/pyarrow/pandas_compat.py\", line 1168, in _table_to_blocks\n",
      "    result = pa.lib.table_to_blocks(options, block_table, categories,\n",
      "             ^^^^^^^^^^^^^^^^^^^^^^^^^^^^^^^^^^^^^^^^^^^^^^^^^^^^^^^^\n",
      "TypeError: Cannot convert str to pyarrow.lib.MemoryPool\n"
     ]
    },
    {
     "name": "stdout",
     "output_type": "stream",
     "text": [
      "391/391 [==============================] - 2s 5ms/step - loss: 0.3864 - acc: 0.8297 - recall_1: 0.8692 - precision_1: 0.6210\n"
     ]
    },
    {
     "ename": "TypeError",
     "evalue": "Cannot convert str to pyarrow.lib.MemoryPool",
     "output_type": "error",
     "traceback": [
      "\u001b[0;31m---------------------------------------------------------------------------\u001b[0m",
      "\u001b[0;31mTypeError\u001b[0m                                 Traceback (most recent call last)",
      "\u001b[0;31mTypeError\u001b[0m: Cannot convert str to pyarrow.lib.MemoryPool"
     ]
    },
    {
     "name": "stderr",
     "output_type": "stream",
     "text": [
      "Exception ignored in: 'pyarrow.lib._convert_pandas_options'\n",
      "Traceback (most recent call last):\n",
      "  File \"/home/codemaster/anaconda3/envs/america-exp/lib/python3.11/site-packages/pyarrow/pandas_compat.py\", line 1168, in _table_to_blocks\n",
      "    result = pa.lib.table_to_blocks(options, block_table, categories,\n",
      "             ^^^^^^^^^^^^^^^^^^^^^^^^^^^^^^^^^^^^^^^^^^^^^^^^^^^^^^^^\n",
      "TypeError: Cannot convert str to pyarrow.lib.MemoryPool\n"
     ]
    },
    {
     "name": "stdout",
     "output_type": "stream",
     "text": [
      "391/391 [==============================] - 2s 5ms/step - loss: 0.3749 - acc: 0.8417 - recall_1: 0.8553 - precision_1: 0.6481\n"
     ]
    },
    {
     "ename": "TypeError",
     "evalue": "Cannot convert str to pyarrow.lib.MemoryPool",
     "output_type": "error",
     "traceback": [
      "\u001b[0;31m---------------------------------------------------------------------------\u001b[0m",
      "\u001b[0;31mTypeError\u001b[0m                                 Traceback (most recent call last)",
      "\u001b[0;31mTypeError\u001b[0m: Cannot convert str to pyarrow.lib.MemoryPool"
     ]
    },
    {
     "name": "stderr",
     "output_type": "stream",
     "text": [
      "Exception ignored in: 'pyarrow.lib._convert_pandas_options'\n",
      "Traceback (most recent call last):\n",
      "  File \"/home/codemaster/anaconda3/envs/america-exp/lib/python3.11/site-packages/pyarrow/pandas_compat.py\", line 1168, in _table_to_blocks\n",
      "    result = pa.lib.table_to_blocks(options, block_table, categories,\n",
      "             ^^^^^^^^^^^^^^^^^^^^^^^^^^^^^^^^^^^^^^^^^^^^^^^^^^^^^^^^\n",
      "TypeError: Cannot convert str to pyarrow.lib.MemoryPool\n"
     ]
    },
    {
     "name": "stdout",
     "output_type": "stream",
     "text": [
      "391/391 [==============================] - 2s 5ms/step - loss: 0.3483 - acc: 0.8397 - recall_1: 0.8104 - precision_1: 0.6518\n"
     ]
    },
    {
     "ename": "TypeError",
     "evalue": "Cannot convert str to pyarrow.lib.MemoryPool",
     "output_type": "error",
     "traceback": [
      "\u001b[0;31m---------------------------------------------------------------------------\u001b[0m",
      "\u001b[0;31mTypeError\u001b[0m                                 Traceback (most recent call last)",
      "\u001b[0;31mTypeError\u001b[0m: Cannot convert str to pyarrow.lib.MemoryPool"
     ]
    },
    {
     "name": "stderr",
     "output_type": "stream",
     "text": [
      "Exception ignored in: 'pyarrow.lib._convert_pandas_options'\n",
      "Traceback (most recent call last):\n",
      "  File \"/home/codemaster/anaconda3/envs/america-exp/lib/python3.11/site-packages/pyarrow/pandas_compat.py\", line 1168, in _table_to_blocks\n",
      "    result = pa.lib.table_to_blocks(options, block_table, categories,\n",
      "             ^^^^^^^^^^^^^^^^^^^^^^^^^^^^^^^^^^^^^^^^^^^^^^^^^^^^^^^^\n",
      "TypeError: Cannot convert str to pyarrow.lib.MemoryPool\n"
     ]
    },
    {
     "name": "stdout",
     "output_type": "stream",
     "text": [
      "391/391 [==============================] - 2s 5ms/step - loss: 0.3466 - acc: 0.8300 - recall_1: 0.8494 - precision_1: 0.6258\n"
     ]
    },
    {
     "ename": "TypeError",
     "evalue": "Cannot convert str to pyarrow.lib.MemoryPool",
     "output_type": "error",
     "traceback": [
      "\u001b[0;31m---------------------------------------------------------------------------\u001b[0m",
      "\u001b[0;31mTypeError\u001b[0m                                 Traceback (most recent call last)",
      "\u001b[0;31mTypeError\u001b[0m: Cannot convert str to pyarrow.lib.MemoryPool"
     ]
    },
    {
     "name": "stderr",
     "output_type": "stream",
     "text": [
      "Exception ignored in: 'pyarrow.lib._convert_pandas_options'\n",
      "Traceback (most recent call last):\n",
      "  File \"/home/codemaster/anaconda3/envs/america-exp/lib/python3.11/site-packages/pyarrow/pandas_compat.py\", line 1168, in _table_to_blocks\n",
      "    result = pa.lib.table_to_blocks(options, block_table, categories,\n",
      "             ^^^^^^^^^^^^^^^^^^^^^^^^^^^^^^^^^^^^^^^^^^^^^^^^^^^^^^^^\n",
      "TypeError: Cannot convert str to pyarrow.lib.MemoryPool\n"
     ]
    },
    {
     "name": "stdout",
     "output_type": "stream",
     "text": [
      "391/391 [==============================] - 2s 5ms/step - loss: 0.3720 - acc: 0.8296 - recall_1: 0.8465 - precision_1: 0.6286\n"
     ]
    },
    {
     "ename": "TypeError",
     "evalue": "Cannot convert str to pyarrow.lib.MemoryPool",
     "output_type": "error",
     "traceback": [
      "\u001b[0;31m---------------------------------------------------------------------------\u001b[0m",
      "\u001b[0;31mTypeError\u001b[0m                                 Traceback (most recent call last)",
      "\u001b[0;31mTypeError\u001b[0m: Cannot convert str to pyarrow.lib.MemoryPool"
     ]
    },
    {
     "name": "stderr",
     "output_type": "stream",
     "text": [
      "Exception ignored in: 'pyarrow.lib._convert_pandas_options'\n",
      "Traceback (most recent call last):\n",
      "  File \"/home/codemaster/anaconda3/envs/america-exp/lib/python3.11/site-packages/pyarrow/pandas_compat.py\", line 1168, in _table_to_blocks\n",
      "    result = pa.lib.table_to_blocks(options, block_table, categories,\n",
      "             ^^^^^^^^^^^^^^^^^^^^^^^^^^^^^^^^^^^^^^^^^^^^^^^^^^^^^^^^\n",
      "TypeError: Cannot convert str to pyarrow.lib.MemoryPool\n"
     ]
    },
    {
     "name": "stdout",
     "output_type": "stream",
     "text": [
      "391/391 [==============================] - 2s 5ms/step - loss: 0.3729 - acc: 0.8378 - recall_1: 0.8350 - precision_1: 0.6430\n"
     ]
    },
    {
     "ename": "TypeError",
     "evalue": "Cannot convert str to pyarrow.lib.MemoryPool",
     "output_type": "error",
     "traceback": [
      "\u001b[0;31m---------------------------------------------------------------------------\u001b[0m",
      "\u001b[0;31mTypeError\u001b[0m                                 Traceback (most recent call last)",
      "\u001b[0;31mTypeError\u001b[0m: Cannot convert str to pyarrow.lib.MemoryPool"
     ]
    },
    {
     "name": "stderr",
     "output_type": "stream",
     "text": [
      "Exception ignored in: 'pyarrow.lib._convert_pandas_options'\n",
      "Traceback (most recent call last):\n",
      "  File \"/home/codemaster/anaconda3/envs/america-exp/lib/python3.11/site-packages/pyarrow/pandas_compat.py\", line 1168, in _table_to_blocks\n",
      "    result = pa.lib.table_to_blocks(options, block_table, categories,\n",
      "             ^^^^^^^^^^^^^^^^^^^^^^^^^^^^^^^^^^^^^^^^^^^^^^^^^^^^^^^^\n",
      "TypeError: Cannot convert str to pyarrow.lib.MemoryPool\n"
     ]
    },
    {
     "name": "stdout",
     "output_type": "stream",
     "text": [
      "391/391 [==============================] - 2s 5ms/step - loss: 1.5068 - acc: 0.8470 - recall_1: 0.8658 - precision_1: 0.6572\n"
     ]
    },
    {
     "ename": "TypeError",
     "evalue": "Cannot convert str to pyarrow.lib.MemoryPool",
     "output_type": "error",
     "traceback": [
      "\u001b[0;31m---------------------------------------------------------------------------\u001b[0m",
      "\u001b[0;31mTypeError\u001b[0m                                 Traceback (most recent call last)",
      "\u001b[0;31mTypeError\u001b[0m: Cannot convert str to pyarrow.lib.MemoryPool"
     ]
    },
    {
     "name": "stderr",
     "output_type": "stream",
     "text": [
      "Exception ignored in: 'pyarrow.lib._convert_pandas_options'\n",
      "Traceback (most recent call last):\n",
      "  File \"/home/codemaster/anaconda3/envs/america-exp/lib/python3.11/site-packages/pyarrow/pandas_compat.py\", line 1168, in _table_to_blocks\n",
      "    result = pa.lib.table_to_blocks(options, block_table, categories,\n",
      "             ^^^^^^^^^^^^^^^^^^^^^^^^^^^^^^^^^^^^^^^^^^^^^^^^^^^^^^^^\n",
      "TypeError: Cannot convert str to pyarrow.lib.MemoryPool\n"
     ]
    },
    {
     "name": "stdout",
     "output_type": "stream",
     "text": [
      "391/391 [==============================] - 2s 5ms/step - loss: 0.5241 - acc: 0.8372 - recall_1: 0.8430 - precision_1: 0.6428\n"
     ]
    },
    {
     "ename": "TypeError",
     "evalue": "Cannot convert str to pyarrow.lib.MemoryPool",
     "output_type": "error",
     "traceback": [
      "\u001b[0;31m---------------------------------------------------------------------------\u001b[0m",
      "\u001b[0;31mTypeError\u001b[0m                                 Traceback (most recent call last)",
      "\u001b[0;31mTypeError\u001b[0m: Cannot convert str to pyarrow.lib.MemoryPool"
     ]
    },
    {
     "name": "stderr",
     "output_type": "stream",
     "text": [
      "Exception ignored in: 'pyarrow.lib._convert_pandas_options'\n",
      "Traceback (most recent call last):\n",
      "  File \"/home/codemaster/anaconda3/envs/america-exp/lib/python3.11/site-packages/pyarrow/pandas_compat.py\", line 1168, in _table_to_blocks\n",
      "    result = pa.lib.table_to_blocks(options, block_table, categories,\n",
      "             ^^^^^^^^^^^^^^^^^^^^^^^^^^^^^^^^^^^^^^^^^^^^^^^^^^^^^^^^\n",
      "TypeError: Cannot convert str to pyarrow.lib.MemoryPool\n"
     ]
    },
    {
     "name": "stdout",
     "output_type": "stream",
     "text": [
      "391/391 [==============================] - 2s 5ms/step - loss: 0.3447 - acc: 0.8396 - recall_1: 0.8633 - precision_1: 0.6396\n"
     ]
    },
    {
     "ename": "TypeError",
     "evalue": "Cannot convert str to pyarrow.lib.MemoryPool",
     "output_type": "error",
     "traceback": [
      "\u001b[0;31m---------------------------------------------------------------------------\u001b[0m",
      "\u001b[0;31mTypeError\u001b[0m                                 Traceback (most recent call last)",
      "\u001b[0;31mTypeError\u001b[0m: Cannot convert str to pyarrow.lib.MemoryPool"
     ]
    },
    {
     "name": "stderr",
     "output_type": "stream",
     "text": [
      "Exception ignored in: 'pyarrow.lib._convert_pandas_options'\n",
      "Traceback (most recent call last):\n",
      "  File \"/home/codemaster/anaconda3/envs/america-exp/lib/python3.11/site-packages/pyarrow/pandas_compat.py\", line 1168, in _table_to_blocks\n",
      "    result = pa.lib.table_to_blocks(options, block_table, categories,\n",
      "             ^^^^^^^^^^^^^^^^^^^^^^^^^^^^^^^^^^^^^^^^^^^^^^^^^^^^^^^^\n",
      "TypeError: Cannot convert str to pyarrow.lib.MemoryPool\n"
     ]
    },
    {
     "name": "stdout",
     "output_type": "stream",
     "text": [
      "70/70 [==============================] - 0s 5ms/step - loss: 0.3222 - acc: 0.8534 - recall_1: 0.8733 - precision_1: 0.6628\n"
     ]
    },
    {
     "ename": "TypeError",
     "evalue": "Cannot convert str to pyarrow.lib.MemoryPool",
     "output_type": "error",
     "traceback": [
      "\u001b[0;31m---------------------------------------------------------------------------\u001b[0m",
      "\u001b[0;31mTypeError\u001b[0m                                 Traceback (most recent call last)",
      "\u001b[0;31mTypeError\u001b[0m: Cannot convert str to pyarrow.lib.MemoryPool"
     ]
    },
    {
     "name": "stderr",
     "output_type": "stream",
     "text": [
      "Exception ignored in: 'pyarrow.lib._convert_pandas_options'\n",
      "Traceback (most recent call last):\n",
      "  File \"/home/codemaster/anaconda3/envs/america-exp/lib/python3.11/site-packages/pyarrow/pandas_compat.py\", line 1168, in _table_to_blocks\n",
      "    result = pa.lib.table_to_blocks(options, block_table, categories,\n",
      "             ^^^^^^^^^^^^^^^^^^^^^^^^^^^^^^^^^^^^^^^^^^^^^^^^^^^^^^^^\n",
      "TypeError: Cannot convert str to pyarrow.lib.MemoryPool\n"
     ]
    },
    {
     "name": "stdout",
     "output_type": "stream",
     "text": [
      "391/391 [==============================] - 2s 5ms/step - loss: 0.3727 - acc: 0.8437 - recall_1: 0.8560 - precision_1: 0.6491\n"
     ]
    },
    {
     "ename": "TypeError",
     "evalue": "Cannot convert str to pyarrow.lib.MemoryPool",
     "output_type": "error",
     "traceback": [
      "\u001b[0;31m---------------------------------------------------------------------------\u001b[0m",
      "\u001b[0;31mTypeError\u001b[0m                                 Traceback (most recent call last)",
      "\u001b[0;31mTypeError\u001b[0m: Cannot convert str to pyarrow.lib.MemoryPool"
     ]
    },
    {
     "name": "stderr",
     "output_type": "stream",
     "text": [
      "Exception ignored in: 'pyarrow.lib._convert_pandas_options'\n",
      "Traceback (most recent call last):\n",
      "  File \"/home/codemaster/anaconda3/envs/america-exp/lib/python3.11/site-packages/pyarrow/pandas_compat.py\", line 1168, in _table_to_blocks\n",
      "    result = pa.lib.table_to_blocks(options, block_table, categories,\n",
      "             ^^^^^^^^^^^^^^^^^^^^^^^^^^^^^^^^^^^^^^^^^^^^^^^^^^^^^^^^\n",
      "TypeError: Cannot convert str to pyarrow.lib.MemoryPool\n"
     ]
    },
    {
     "name": "stdout",
     "output_type": "stream",
     "text": [
      "391/391 [==============================] - 2s 5ms/step - loss: 0.4419 - acc: 0.8405 - recall_1: 0.8380 - precision_1: 0.6498\n"
     ]
    },
    {
     "ename": "TypeError",
     "evalue": "Cannot convert str to pyarrow.lib.MemoryPool",
     "output_type": "error",
     "traceback": [
      "\u001b[0;31m---------------------------------------------------------------------------\u001b[0m",
      "\u001b[0;31mTypeError\u001b[0m                                 Traceback (most recent call last)",
      "\u001b[0;31mTypeError\u001b[0m: Cannot convert str to pyarrow.lib.MemoryPool"
     ]
    },
    {
     "name": "stderr",
     "output_type": "stream",
     "text": [
      "Exception ignored in: 'pyarrow.lib._convert_pandas_options'\n",
      "Traceback (most recent call last):\n",
      "  File \"/home/codemaster/anaconda3/envs/america-exp/lib/python3.11/site-packages/pyarrow/pandas_compat.py\", line 1168, in _table_to_blocks\n",
      "    result = pa.lib.table_to_blocks(options, block_table, categories,\n",
      "             ^^^^^^^^^^^^^^^^^^^^^^^^^^^^^^^^^^^^^^^^^^^^^^^^^^^^^^^^\n",
      "TypeError: Cannot convert str to pyarrow.lib.MemoryPool\n"
     ]
    },
    {
     "name": "stdout",
     "output_type": "stream",
     "text": [
      "391/391 [==============================] - 2s 5ms/step - loss: 0.3401 - acc: 0.8524 - recall_1: 0.8044 - precision_1: 0.6806\n"
     ]
    },
    {
     "ename": "TypeError",
     "evalue": "Cannot convert str to pyarrow.lib.MemoryPool",
     "output_type": "error",
     "traceback": [
      "\u001b[0;31m---------------------------------------------------------------------------\u001b[0m",
      "\u001b[0;31mTypeError\u001b[0m                                 Traceback (most recent call last)",
      "\u001b[0;31mTypeError\u001b[0m: Cannot convert str to pyarrow.lib.MemoryPool"
     ]
    },
    {
     "name": "stderr",
     "output_type": "stream",
     "text": [
      "Exception ignored in: 'pyarrow.lib._convert_pandas_options'\n",
      "Traceback (most recent call last):\n",
      "  File \"/home/codemaster/anaconda3/envs/america-exp/lib/python3.11/site-packages/pyarrow/pandas_compat.py\", line 1168, in _table_to_blocks\n",
      "    result = pa.lib.table_to_blocks(options, block_table, categories,\n",
      "             ^^^^^^^^^^^^^^^^^^^^^^^^^^^^^^^^^^^^^^^^^^^^^^^^^^^^^^^^\n",
      "TypeError: Cannot convert str to pyarrow.lib.MemoryPool\n"
     ]
    },
    {
     "name": "stdout",
     "output_type": "stream",
     "text": [
      "391/391 [==============================] - 2s 5ms/step - loss: 0.3482 - acc: 0.8464 - recall_1: 0.8423 - precision_1: 0.6583\n"
     ]
    },
    {
     "ename": "TypeError",
     "evalue": "Cannot convert str to pyarrow.lib.MemoryPool",
     "output_type": "error",
     "traceback": [
      "\u001b[0;31m---------------------------------------------------------------------------\u001b[0m",
      "\u001b[0;31mTypeError\u001b[0m                                 Traceback (most recent call last)",
      "\u001b[0;31mTypeError\u001b[0m: Cannot convert str to pyarrow.lib.MemoryPool"
     ]
    },
    {
     "name": "stderr",
     "output_type": "stream",
     "text": [
      "Exception ignored in: 'pyarrow.lib._convert_pandas_options'\n",
      "Traceback (most recent call last):\n",
      "  File \"/home/codemaster/anaconda3/envs/america-exp/lib/python3.11/site-packages/pyarrow/pandas_compat.py\", line 1168, in _table_to_blocks\n",
      "    result = pa.lib.table_to_blocks(options, block_table, categories,\n",
      "             ^^^^^^^^^^^^^^^^^^^^^^^^^^^^^^^^^^^^^^^^^^^^^^^^^^^^^^^^\n",
      "TypeError: Cannot convert str to pyarrow.lib.MemoryPool\n"
     ]
    },
    {
     "name": "stdout",
     "output_type": "stream",
     "text": [
      "391/391 [==============================] - 2s 5ms/step - loss: 0.3734 - acc: 0.8389 - recall_1: 0.8859 - precision_1: 0.6374\n"
     ]
    },
    {
     "ename": "TypeError",
     "evalue": "Cannot convert str to pyarrow.lib.MemoryPool",
     "output_type": "error",
     "traceback": [
      "\u001b[0;31m---------------------------------------------------------------------------\u001b[0m",
      "\u001b[0;31mTypeError\u001b[0m                                 Traceback (most recent call last)",
      "\u001b[0;31mTypeError\u001b[0m: Cannot convert str to pyarrow.lib.MemoryPool"
     ]
    },
    {
     "name": "stderr",
     "output_type": "stream",
     "text": [
      "Exception ignored in: 'pyarrow.lib._convert_pandas_options'\n",
      "Traceback (most recent call last):\n",
      "  File \"/home/codemaster/anaconda3/envs/america-exp/lib/python3.11/site-packages/pyarrow/pandas_compat.py\", line 1168, in _table_to_blocks\n",
      "    result = pa.lib.table_to_blocks(options, block_table, categories,\n",
      "             ^^^^^^^^^^^^^^^^^^^^^^^^^^^^^^^^^^^^^^^^^^^^^^^^^^^^^^^^\n",
      "TypeError: Cannot convert str to pyarrow.lib.MemoryPool\n"
     ]
    },
    {
     "name": "stdout",
     "output_type": "stream",
     "text": [
      "391/391 [==============================] - 2s 5ms/step - loss: 0.4449 - acc: 0.8194 - recall_1: 0.8948 - precision_1: 0.6008\n"
     ]
    },
    {
     "ename": "TypeError",
     "evalue": "Cannot convert str to pyarrow.lib.MemoryPool",
     "output_type": "error",
     "traceback": [
      "\u001b[0;31m---------------------------------------------------------------------------\u001b[0m",
      "\u001b[0;31mTypeError\u001b[0m                                 Traceback (most recent call last)",
      "\u001b[0;31mTypeError\u001b[0m: Cannot convert str to pyarrow.lib.MemoryPool"
     ]
    },
    {
     "name": "stderr",
     "output_type": "stream",
     "text": [
      "Exception ignored in: 'pyarrow.lib._convert_pandas_options'\n",
      "Traceback (most recent call last):\n",
      "  File \"/home/codemaster/anaconda3/envs/america-exp/lib/python3.11/site-packages/pyarrow/pandas_compat.py\", line 1168, in _table_to_blocks\n",
      "    result = pa.lib.table_to_blocks(options, block_table, categories,\n",
      "             ^^^^^^^^^^^^^^^^^^^^^^^^^^^^^^^^^^^^^^^^^^^^^^^^^^^^^^^^\n",
      "TypeError: Cannot convert str to pyarrow.lib.MemoryPool\n"
     ]
    },
    {
     "name": "stdout",
     "output_type": "stream",
     "text": [
      "391/391 [==============================] - 2s 5ms/step - loss: 0.4301 - acc: 0.8426 - recall_1: 0.8807 - precision_1: 0.6456\n"
     ]
    },
    {
     "ename": "TypeError",
     "evalue": "Cannot convert str to pyarrow.lib.MemoryPool",
     "output_type": "error",
     "traceback": [
      "\u001b[0;31m---------------------------------------------------------------------------\u001b[0m",
      "\u001b[0;31mTypeError\u001b[0m                                 Traceback (most recent call last)",
      "\u001b[0;31mTypeError\u001b[0m: Cannot convert str to pyarrow.lib.MemoryPool"
     ]
    },
    {
     "name": "stderr",
     "output_type": "stream",
     "text": [
      "Exception ignored in: 'pyarrow.lib._convert_pandas_options'\n",
      "Traceback (most recent call last):\n",
      "  File \"/home/codemaster/anaconda3/envs/america-exp/lib/python3.11/site-packages/pyarrow/pandas_compat.py\", line 1168, in _table_to_blocks\n",
      "    result = pa.lib.table_to_blocks(options, block_table, categories,\n",
      "             ^^^^^^^^^^^^^^^^^^^^^^^^^^^^^^^^^^^^^^^^^^^^^^^^^^^^^^^^\n",
      "TypeError: Cannot convert str to pyarrow.lib.MemoryPool\n"
     ]
    },
    {
     "name": "stdout",
     "output_type": "stream",
     "text": [
      "391/391 [==============================] - 2s 5ms/step - loss: 0.3511 - acc: 0.8410 - recall_1: 0.8668 - precision_1: 0.6447\n"
     ]
    },
    {
     "ename": "TypeError",
     "evalue": "Cannot convert str to pyarrow.lib.MemoryPool",
     "output_type": "error",
     "traceback": [
      "\u001b[0;31m---------------------------------------------------------------------------\u001b[0m",
      "\u001b[0;31mTypeError\u001b[0m                                 Traceback (most recent call last)",
      "\u001b[0;31mTypeError\u001b[0m: Cannot convert str to pyarrow.lib.MemoryPool"
     ]
    },
    {
     "name": "stderr",
     "output_type": "stream",
     "text": [
      "Exception ignored in: 'pyarrow.lib._convert_pandas_options'\n",
      "Traceback (most recent call last):\n",
      "  File \"/home/codemaster/anaconda3/envs/america-exp/lib/python3.11/site-packages/pyarrow/pandas_compat.py\", line 1168, in _table_to_blocks\n",
      "    result = pa.lib.table_to_blocks(options, block_table, categories,\n",
      "             ^^^^^^^^^^^^^^^^^^^^^^^^^^^^^^^^^^^^^^^^^^^^^^^^^^^^^^^^\n",
      "TypeError: Cannot convert str to pyarrow.lib.MemoryPool\n"
     ]
    },
    {
     "name": "stdout",
     "output_type": "stream",
     "text": [
      "391/391 [==============================] - 2s 5ms/step - loss: 0.3435 - acc: 0.8382 - recall_1: 0.8755 - precision_1: 0.6345\n"
     ]
    },
    {
     "ename": "TypeError",
     "evalue": "Cannot convert str to pyarrow.lib.MemoryPool",
     "output_type": "error",
     "traceback": [
      "\u001b[0;31m---------------------------------------------------------------------------\u001b[0m",
      "\u001b[0;31mTypeError\u001b[0m                                 Traceback (most recent call last)",
      "\u001b[0;31mTypeError\u001b[0m: Cannot convert str to pyarrow.lib.MemoryPool"
     ]
    },
    {
     "name": "stderr",
     "output_type": "stream",
     "text": [
      "Exception ignored in: 'pyarrow.lib._convert_pandas_options'\n",
      "Traceback (most recent call last):\n",
      "  File \"/home/codemaster/anaconda3/envs/america-exp/lib/python3.11/site-packages/pyarrow/pandas_compat.py\", line 1168, in _table_to_blocks\n",
      "    result = pa.lib.table_to_blocks(options, block_table, categories,\n",
      "             ^^^^^^^^^^^^^^^^^^^^^^^^^^^^^^^^^^^^^^^^^^^^^^^^^^^^^^^^\n",
      "TypeError: Cannot convert str to pyarrow.lib.MemoryPool\n"
     ]
    },
    {
     "name": "stdout",
     "output_type": "stream",
     "text": [
      "70/70 [==============================] - 0s 5ms/step - loss: 0.3566 - acc: 0.8640 - recall_1: 0.8340 - precision_1: 0.6965\n"
     ]
    },
    {
     "ename": "TypeError",
     "evalue": "Cannot convert str to pyarrow.lib.MemoryPool",
     "output_type": "error",
     "traceback": [
      "\u001b[0;31m---------------------------------------------------------------------------\u001b[0m",
      "\u001b[0;31mTypeError\u001b[0m                                 Traceback (most recent call last)",
      "\u001b[0;31mTypeError\u001b[0m: Cannot convert str to pyarrow.lib.MemoryPool"
     ]
    },
    {
     "name": "stderr",
     "output_type": "stream",
     "text": [
      "Exception ignored in: 'pyarrow.lib._convert_pandas_options'\n",
      "Traceback (most recent call last):\n",
      "  File \"/home/codemaster/anaconda3/envs/america-exp/lib/python3.11/site-packages/pyarrow/pandas_compat.py\", line 1168, in _table_to_blocks\n",
      "    result = pa.lib.table_to_blocks(options, block_table, categories,\n",
      "             ^^^^^^^^^^^^^^^^^^^^^^^^^^^^^^^^^^^^^^^^^^^^^^^^^^^^^^^^\n",
      "TypeError: Cannot convert str to pyarrow.lib.MemoryPool\n"
     ]
    },
    {
     "name": "stdout",
     "output_type": "stream",
     "text": [
      "391/391 [==============================] - 2s 5ms/step - loss: 0.3689 - acc: 0.8368 - recall_1: 0.8785 - precision_1: 0.6317\n"
     ]
    },
    {
     "ename": "TypeError",
     "evalue": "Cannot convert str to pyarrow.lib.MemoryPool",
     "output_type": "error",
     "traceback": [
      "\u001b[0;31m---------------------------------------------------------------------------\u001b[0m",
      "\u001b[0;31mTypeError\u001b[0m                                 Traceback (most recent call last)",
      "\u001b[0;31mTypeError\u001b[0m: Cannot convert str to pyarrow.lib.MemoryPool"
     ]
    },
    {
     "name": "stderr",
     "output_type": "stream",
     "text": [
      "Exception ignored in: 'pyarrow.lib._convert_pandas_options'\n",
      "Traceback (most recent call last):\n",
      "  File \"/home/codemaster/anaconda3/envs/america-exp/lib/python3.11/site-packages/pyarrow/pandas_compat.py\", line 1168, in _table_to_blocks\n",
      "    result = pa.lib.table_to_blocks(options, block_table, categories,\n",
      "             ^^^^^^^^^^^^^^^^^^^^^^^^^^^^^^^^^^^^^^^^^^^^^^^^^^^^^^^^\n",
      "TypeError: Cannot convert str to pyarrow.lib.MemoryPool\n"
     ]
    },
    {
     "name": "stdout",
     "output_type": "stream",
     "text": [
      "391/391 [==============================] - 2s 5ms/step - loss: 0.3613 - acc: 0.8323 - recall_1: 0.8851 - precision_1: 0.6252\n"
     ]
    },
    {
     "ename": "TypeError",
     "evalue": "Cannot convert str to pyarrow.lib.MemoryPool",
     "output_type": "error",
     "traceback": [
      "\u001b[0;31m---------------------------------------------------------------------------\u001b[0m",
      "\u001b[0;31mTypeError\u001b[0m                                 Traceback (most recent call last)",
      "\u001b[0;31mTypeError\u001b[0m: Cannot convert str to pyarrow.lib.MemoryPool"
     ]
    },
    {
     "name": "stderr",
     "output_type": "stream",
     "text": [
      "Exception ignored in: 'pyarrow.lib._convert_pandas_options'\n",
      "Traceback (most recent call last):\n",
      "  File \"/home/codemaster/anaconda3/envs/america-exp/lib/python3.11/site-packages/pyarrow/pandas_compat.py\", line 1168, in _table_to_blocks\n",
      "    result = pa.lib.table_to_blocks(options, block_table, categories,\n",
      "             ^^^^^^^^^^^^^^^^^^^^^^^^^^^^^^^^^^^^^^^^^^^^^^^^^^^^^^^^\n",
      "TypeError: Cannot convert str to pyarrow.lib.MemoryPool\n"
     ]
    },
    {
     "name": "stdout",
     "output_type": "stream",
     "text": [
      "391/391 [==============================] - 2s 5ms/step - loss: 0.3408 - acc: 0.8467 - recall_1: 0.8655 - precision_1: 0.6527\n"
     ]
    },
    {
     "ename": "TypeError",
     "evalue": "Cannot convert str to pyarrow.lib.MemoryPool",
     "output_type": "error",
     "traceback": [
      "\u001b[0;31m---------------------------------------------------------------------------\u001b[0m",
      "\u001b[0;31mTypeError\u001b[0m                                 Traceback (most recent call last)",
      "\u001b[0;31mTypeError\u001b[0m: Cannot convert str to pyarrow.lib.MemoryPool"
     ]
    },
    {
     "name": "stderr",
     "output_type": "stream",
     "text": [
      "Exception ignored in: 'pyarrow.lib._convert_pandas_options'\n",
      "Traceback (most recent call last):\n",
      "  File \"/home/codemaster/anaconda3/envs/america-exp/lib/python3.11/site-packages/pyarrow/pandas_compat.py\", line 1168, in _table_to_blocks\n",
      "    result = pa.lib.table_to_blocks(options, block_table, categories,\n",
      "             ^^^^^^^^^^^^^^^^^^^^^^^^^^^^^^^^^^^^^^^^^^^^^^^^^^^^^^^^\n",
      "TypeError: Cannot convert str to pyarrow.lib.MemoryPool\n"
     ]
    },
    {
     "name": "stdout",
     "output_type": "stream",
     "text": [
      "391/391 [==============================] - 2s 5ms/step - loss: 0.3607 - acc: 0.8459 - recall_1: 0.8585 - precision_1: 0.6533\n"
     ]
    },
    {
     "ename": "TypeError",
     "evalue": "Cannot convert str to pyarrow.lib.MemoryPool",
     "output_type": "error",
     "traceback": [
      "\u001b[0;31m---------------------------------------------------------------------------\u001b[0m",
      "\u001b[0;31mTypeError\u001b[0m                                 Traceback (most recent call last)",
      "\u001b[0;31mTypeError\u001b[0m: Cannot convert str to pyarrow.lib.MemoryPool"
     ]
    },
    {
     "name": "stderr",
     "output_type": "stream",
     "text": [
      "Exception ignored in: 'pyarrow.lib._convert_pandas_options'\n",
      "Traceback (most recent call last):\n",
      "  File \"/home/codemaster/anaconda3/envs/america-exp/lib/python3.11/site-packages/pyarrow/pandas_compat.py\", line 1168, in _table_to_blocks\n",
      "    result = pa.lib.table_to_blocks(options, block_table, categories,\n",
      "             ^^^^^^^^^^^^^^^^^^^^^^^^^^^^^^^^^^^^^^^^^^^^^^^^^^^^^^^^\n",
      "TypeError: Cannot convert str to pyarrow.lib.MemoryPool\n"
     ]
    },
    {
     "name": "stdout",
     "output_type": "stream",
     "text": [
      "391/391 [==============================] - 2s 5ms/step - loss: 0.3417 - acc: 0.8460 - recall_1: 0.8446 - precision_1: 0.6600\n"
     ]
    },
    {
     "ename": "TypeError",
     "evalue": "Cannot convert str to pyarrow.lib.MemoryPool",
     "output_type": "error",
     "traceback": [
      "\u001b[0;31m---------------------------------------------------------------------------\u001b[0m",
      "\u001b[0;31mTypeError\u001b[0m                                 Traceback (most recent call last)",
      "\u001b[0;31mTypeError\u001b[0m: Cannot convert str to pyarrow.lib.MemoryPool"
     ]
    },
    {
     "name": "stderr",
     "output_type": "stream",
     "text": [
      "Exception ignored in: 'pyarrow.lib._convert_pandas_options'\n",
      "Traceback (most recent call last):\n",
      "  File \"/home/codemaster/anaconda3/envs/america-exp/lib/python3.11/site-packages/pyarrow/pandas_compat.py\", line 1168, in _table_to_blocks\n",
      "    result = pa.lib.table_to_blocks(options, block_table, categories,\n",
      "             ^^^^^^^^^^^^^^^^^^^^^^^^^^^^^^^^^^^^^^^^^^^^^^^^^^^^^^^^\n",
      "TypeError: Cannot convert str to pyarrow.lib.MemoryPool\n"
     ]
    },
    {
     "name": "stdout",
     "output_type": "stream",
     "text": [
      "391/391 [==============================] - 2s 5ms/step - loss: 0.3411 - acc: 0.8383 - recall_1: 0.8908 - precision_1: 0.6326\n"
     ]
    },
    {
     "ename": "TypeError",
     "evalue": "Cannot convert str to pyarrow.lib.MemoryPool",
     "output_type": "error",
     "traceback": [
      "\u001b[0;31m---------------------------------------------------------------------------\u001b[0m",
      "\u001b[0;31mTypeError\u001b[0m                                 Traceback (most recent call last)",
      "\u001b[0;31mTypeError\u001b[0m: Cannot convert str to pyarrow.lib.MemoryPool"
     ]
    },
    {
     "name": "stderr",
     "output_type": "stream",
     "text": [
      "Exception ignored in: 'pyarrow.lib._convert_pandas_options'\n",
      "Traceback (most recent call last):\n",
      "  File \"/home/codemaster/anaconda3/envs/america-exp/lib/python3.11/site-packages/pyarrow/pandas_compat.py\", line 1168, in _table_to_blocks\n",
      "    result = pa.lib.table_to_blocks(options, block_table, categories,\n",
      "             ^^^^^^^^^^^^^^^^^^^^^^^^^^^^^^^^^^^^^^^^^^^^^^^^^^^^^^^^\n",
      "TypeError: Cannot convert str to pyarrow.lib.MemoryPool\n"
     ]
    },
    {
     "name": "stdout",
     "output_type": "stream",
     "text": [
      "391/391 [==============================] - 2s 5ms/step - loss: 0.3459 - acc: 0.8463 - recall_1: 0.8702 - precision_1: 0.6548\n"
     ]
    },
    {
     "ename": "TypeError",
     "evalue": "Cannot convert str to pyarrow.lib.MemoryPool",
     "output_type": "error",
     "traceback": [
      "\u001b[0;31m---------------------------------------------------------------------------\u001b[0m",
      "\u001b[0;31mTypeError\u001b[0m                                 Traceback (most recent call last)",
      "\u001b[0;31mTypeError\u001b[0m: Cannot convert str to pyarrow.lib.MemoryPool"
     ]
    },
    {
     "name": "stderr",
     "output_type": "stream",
     "text": [
      "Exception ignored in: 'pyarrow.lib._convert_pandas_options'\n",
      "Traceback (most recent call last):\n",
      "  File \"/home/codemaster/anaconda3/envs/america-exp/lib/python3.11/site-packages/pyarrow/pandas_compat.py\", line 1168, in _table_to_blocks\n",
      "    result = pa.lib.table_to_blocks(options, block_table, categories,\n",
      "             ^^^^^^^^^^^^^^^^^^^^^^^^^^^^^^^^^^^^^^^^^^^^^^^^^^^^^^^^\n",
      "TypeError: Cannot convert str to pyarrow.lib.MemoryPool\n"
     ]
    },
    {
     "name": "stdout",
     "output_type": "stream",
     "text": [
      "391/391 [==============================] - 2s 5ms/step - loss: 0.3327 - acc: 0.8532 - recall_1: 0.8577 - precision_1: 0.6705\n"
     ]
    },
    {
     "ename": "TypeError",
     "evalue": "Cannot convert str to pyarrow.lib.MemoryPool",
     "output_type": "error",
     "traceback": [
      "\u001b[0;31m---------------------------------------------------------------------------\u001b[0m",
      "\u001b[0;31mTypeError\u001b[0m                                 Traceback (most recent call last)",
      "\u001b[0;31mTypeError\u001b[0m: Cannot convert str to pyarrow.lib.MemoryPool"
     ]
    },
    {
     "name": "stderr",
     "output_type": "stream",
     "text": [
      "Exception ignored in: 'pyarrow.lib._convert_pandas_options'\n",
      "Traceback (most recent call last):\n",
      "  File \"/home/codemaster/anaconda3/envs/america-exp/lib/python3.11/site-packages/pyarrow/pandas_compat.py\", line 1168, in _table_to_blocks\n",
      "    result = pa.lib.table_to_blocks(options, block_table, categories,\n",
      "             ^^^^^^^^^^^^^^^^^^^^^^^^^^^^^^^^^^^^^^^^^^^^^^^^^^^^^^^^\n",
      "TypeError: Cannot convert str to pyarrow.lib.MemoryPool\n"
     ]
    },
    {
     "name": "stdout",
     "output_type": "stream",
     "text": [
      "391/391 [==============================] - 2s 5ms/step - loss: 0.3335 - acc: 0.8501 - recall_1: 0.8770 - precision_1: 0.6563\n"
     ]
    },
    {
     "ename": "TypeError",
     "evalue": "Cannot convert str to pyarrow.lib.MemoryPool",
     "output_type": "error",
     "traceback": [
      "\u001b[0;31m---------------------------------------------------------------------------\u001b[0m",
      "\u001b[0;31mTypeError\u001b[0m                                 Traceback (most recent call last)",
      "\u001b[0;31mTypeError\u001b[0m: Cannot convert str to pyarrow.lib.MemoryPool"
     ]
    },
    {
     "name": "stderr",
     "output_type": "stream",
     "text": [
      "Exception ignored in: 'pyarrow.lib._convert_pandas_options'\n",
      "Traceback (most recent call last):\n",
      "  File \"/home/codemaster/anaconda3/envs/america-exp/lib/python3.11/site-packages/pyarrow/pandas_compat.py\", line 1168, in _table_to_blocks\n",
      "    result = pa.lib.table_to_blocks(options, block_table, categories,\n",
      "             ^^^^^^^^^^^^^^^^^^^^^^^^^^^^^^^^^^^^^^^^^^^^^^^^^^^^^^^^\n",
      "TypeError: Cannot convert str to pyarrow.lib.MemoryPool\n"
     ]
    },
    {
     "name": "stdout",
     "output_type": "stream",
     "text": [
      "70/70 [==============================] - 0s 5ms/step - loss: 0.3197 - acc: 0.8529 - recall_1: 0.8930 - precision_1: 0.6572\n"
     ]
    },
    {
     "ename": "TypeError",
     "evalue": "Cannot convert str to pyarrow.lib.MemoryPool",
     "output_type": "error",
     "traceback": [
      "\u001b[0;31m---------------------------------------------------------------------------\u001b[0m",
      "\u001b[0;31mTypeError\u001b[0m                                 Traceback (most recent call last)",
      "\u001b[0;31mTypeError\u001b[0m: Cannot convert str to pyarrow.lib.MemoryPool"
     ]
    },
    {
     "name": "stderr",
     "output_type": "stream",
     "text": [
      "Exception ignored in: 'pyarrow.lib._convert_pandas_options'\n",
      "Traceback (most recent call last):\n",
      "  File \"/home/codemaster/anaconda3/envs/america-exp/lib/python3.11/site-packages/pyarrow/pandas_compat.py\", line 1168, in _table_to_blocks\n",
      "    result = pa.lib.table_to_blocks(options, block_table, categories,\n",
      "             ^^^^^^^^^^^^^^^^^^^^^^^^^^^^^^^^^^^^^^^^^^^^^^^^^^^^^^^^\n",
      "TypeError: Cannot convert str to pyarrow.lib.MemoryPool\n"
     ]
    },
    {
     "name": "stdout",
     "output_type": "stream",
     "text": [
      "391/391 [==============================] - 2s 5ms/step - loss: 0.3654 - acc: 0.8384 - recall_1: 0.8496 - precision_1: 0.6403\n"
     ]
    },
    {
     "ename": "TypeError",
     "evalue": "Cannot convert str to pyarrow.lib.MemoryPool",
     "output_type": "error",
     "traceback": [
      "\u001b[0;31m---------------------------------------------------------------------------\u001b[0m",
      "\u001b[0;31mTypeError\u001b[0m                                 Traceback (most recent call last)",
      "\u001b[0;31mTypeError\u001b[0m: Cannot convert str to pyarrow.lib.MemoryPool"
     ]
    },
    {
     "name": "stderr",
     "output_type": "stream",
     "text": [
      "Exception ignored in: 'pyarrow.lib._convert_pandas_options'\n",
      "Traceback (most recent call last):\n",
      "  File \"/home/codemaster/anaconda3/envs/america-exp/lib/python3.11/site-packages/pyarrow/pandas_compat.py\", line 1168, in _table_to_blocks\n",
      "    result = pa.lib.table_to_blocks(options, block_table, categories,\n",
      "             ^^^^^^^^^^^^^^^^^^^^^^^^^^^^^^^^^^^^^^^^^^^^^^^^^^^^^^^^\n",
      "TypeError: Cannot convert str to pyarrow.lib.MemoryPool\n"
     ]
    },
    {
     "name": "stdout",
     "output_type": "stream",
     "text": [
      "391/391 [==============================] - 2s 5ms/step - loss: 0.3224 - acc: 0.8611 - recall_1: 0.8436 - precision_1: 0.6906\n"
     ]
    },
    {
     "ename": "TypeError",
     "evalue": "Cannot convert str to pyarrow.lib.MemoryPool",
     "output_type": "error",
     "traceback": [
      "\u001b[0;31m---------------------------------------------------------------------------\u001b[0m",
      "\u001b[0;31mTypeError\u001b[0m                                 Traceback (most recent call last)",
      "\u001b[0;31mTypeError\u001b[0m: Cannot convert str to pyarrow.lib.MemoryPool"
     ]
    },
    {
     "name": "stderr",
     "output_type": "stream",
     "text": [
      "Exception ignored in: 'pyarrow.lib._convert_pandas_options'\n",
      "Traceback (most recent call last):\n",
      "  File \"/home/codemaster/anaconda3/envs/america-exp/lib/python3.11/site-packages/pyarrow/pandas_compat.py\", line 1168, in _table_to_blocks\n",
      "    result = pa.lib.table_to_blocks(options, block_table, categories,\n",
      "             ^^^^^^^^^^^^^^^^^^^^^^^^^^^^^^^^^^^^^^^^^^^^^^^^^^^^^^^^\n",
      "TypeError: Cannot convert str to pyarrow.lib.MemoryPool\n"
     ]
    },
    {
     "name": "stdout",
     "output_type": "stream",
     "text": [
      "391/391 [==============================] - 2s 5ms/step - loss: 0.3654 - acc: 0.8353 - recall_1: 0.8600 - precision_1: 0.6325\n"
     ]
    },
    {
     "ename": "TypeError",
     "evalue": "Cannot convert str to pyarrow.lib.MemoryPool",
     "output_type": "error",
     "traceback": [
      "\u001b[0;31m---------------------------------------------------------------------------\u001b[0m",
      "\u001b[0;31mTypeError\u001b[0m                                 Traceback (most recent call last)",
      "\u001b[0;31mTypeError\u001b[0m: Cannot convert str to pyarrow.lib.MemoryPool"
     ]
    },
    {
     "name": "stderr",
     "output_type": "stream",
     "text": [
      "Exception ignored in: 'pyarrow.lib._convert_pandas_options'\n",
      "Traceback (most recent call last):\n",
      "  File \"/home/codemaster/anaconda3/envs/america-exp/lib/python3.11/site-packages/pyarrow/pandas_compat.py\", line 1168, in _table_to_blocks\n",
      "    result = pa.lib.table_to_blocks(options, block_table, categories,\n",
      "             ^^^^^^^^^^^^^^^^^^^^^^^^^^^^^^^^^^^^^^^^^^^^^^^^^^^^^^^^\n",
      "TypeError: Cannot convert str to pyarrow.lib.MemoryPool\n"
     ]
    },
    {
     "name": "stdout",
     "output_type": "stream",
     "text": [
      "391/391 [==============================] - 2s 5ms/step - loss: 0.3621 - acc: 0.8433 - recall_1: 0.8697 - precision_1: 0.6460\n"
     ]
    },
    {
     "ename": "TypeError",
     "evalue": "Cannot convert str to pyarrow.lib.MemoryPool",
     "output_type": "error",
     "traceback": [
      "\u001b[0;31m---------------------------------------------------------------------------\u001b[0m",
      "\u001b[0;31mTypeError\u001b[0m                                 Traceback (most recent call last)",
      "\u001b[0;31mTypeError\u001b[0m: Cannot convert str to pyarrow.lib.MemoryPool"
     ]
    },
    {
     "name": "stderr",
     "output_type": "stream",
     "text": [
      "Exception ignored in: 'pyarrow.lib._convert_pandas_options'\n",
      "Traceback (most recent call last):\n",
      "  File \"/home/codemaster/anaconda3/envs/america-exp/lib/python3.11/site-packages/pyarrow/pandas_compat.py\", line 1168, in _table_to_blocks\n",
      "    result = pa.lib.table_to_blocks(options, block_table, categories,\n",
      "             ^^^^^^^^^^^^^^^^^^^^^^^^^^^^^^^^^^^^^^^^^^^^^^^^^^^^^^^^\n",
      "TypeError: Cannot convert str to pyarrow.lib.MemoryPool\n"
     ]
    },
    {
     "name": "stdout",
     "output_type": "stream",
     "text": [
      "391/391 [==============================] - 2s 5ms/step - loss: 0.3382 - acc: 0.8481 - recall_1: 0.8374 - precision_1: 0.6659\n"
     ]
    },
    {
     "ename": "TypeError",
     "evalue": "Cannot convert str to pyarrow.lib.MemoryPool",
     "output_type": "error",
     "traceback": [
      "\u001b[0;31m---------------------------------------------------------------------------\u001b[0m",
      "\u001b[0;31mTypeError\u001b[0m                                 Traceback (most recent call last)",
      "\u001b[0;31mTypeError\u001b[0m: Cannot convert str to pyarrow.lib.MemoryPool"
     ]
    },
    {
     "name": "stderr",
     "output_type": "stream",
     "text": [
      "Exception ignored in: 'pyarrow.lib._convert_pandas_options'\n",
      "Traceback (most recent call last):\n",
      "  File \"/home/codemaster/anaconda3/envs/america-exp/lib/python3.11/site-packages/pyarrow/pandas_compat.py\", line 1168, in _table_to_blocks\n",
      "    result = pa.lib.table_to_blocks(options, block_table, categories,\n",
      "             ^^^^^^^^^^^^^^^^^^^^^^^^^^^^^^^^^^^^^^^^^^^^^^^^^^^^^^^^\n",
      "TypeError: Cannot convert str to pyarrow.lib.MemoryPool\n"
     ]
    },
    {
     "name": "stdout",
     "output_type": "stream",
     "text": [
      "391/391 [==============================] - 2s 5ms/step - loss: 0.3343 - acc: 0.8514 - recall_1: 0.8860 - precision_1: 0.6573\n"
     ]
    },
    {
     "ename": "TypeError",
     "evalue": "Cannot convert str to pyarrow.lib.MemoryPool",
     "output_type": "error",
     "traceback": [
      "\u001b[0;31m---------------------------------------------------------------------------\u001b[0m",
      "\u001b[0;31mTypeError\u001b[0m                                 Traceback (most recent call last)",
      "\u001b[0;31mTypeError\u001b[0m: Cannot convert str to pyarrow.lib.MemoryPool"
     ]
    },
    {
     "name": "stderr",
     "output_type": "stream",
     "text": [
      "Exception ignored in: 'pyarrow.lib._convert_pandas_options'\n",
      "Traceback (most recent call last):\n",
      "  File \"/home/codemaster/anaconda3/envs/america-exp/lib/python3.11/site-packages/pyarrow/pandas_compat.py\", line 1168, in _table_to_blocks\n",
      "    result = pa.lib.table_to_blocks(options, block_table, categories,\n",
      "             ^^^^^^^^^^^^^^^^^^^^^^^^^^^^^^^^^^^^^^^^^^^^^^^^^^^^^^^^\n",
      "TypeError: Cannot convert str to pyarrow.lib.MemoryPool\n"
     ]
    },
    {
     "name": "stdout",
     "output_type": "stream",
     "text": [
      "391/391 [==============================] - 2s 5ms/step - loss: 0.3404 - acc: 0.8504 - recall_1: 0.8831 - precision_1: 0.6594\n"
     ]
    },
    {
     "ename": "TypeError",
     "evalue": "Cannot convert str to pyarrow.lib.MemoryPool",
     "output_type": "error",
     "traceback": [
      "\u001b[0;31m---------------------------------------------------------------------------\u001b[0m",
      "\u001b[0;31mTypeError\u001b[0m                                 Traceback (most recent call last)",
      "\u001b[0;31mTypeError\u001b[0m: Cannot convert str to pyarrow.lib.MemoryPool"
     ]
    },
    {
     "name": "stderr",
     "output_type": "stream",
     "text": [
      "Exception ignored in: 'pyarrow.lib._convert_pandas_options'\n",
      "Traceback (most recent call last):\n",
      "  File \"/home/codemaster/anaconda3/envs/america-exp/lib/python3.11/site-packages/pyarrow/pandas_compat.py\", line 1168, in _table_to_blocks\n",
      "    result = pa.lib.table_to_blocks(options, block_table, categories,\n",
      "             ^^^^^^^^^^^^^^^^^^^^^^^^^^^^^^^^^^^^^^^^^^^^^^^^^^^^^^^^\n",
      "TypeError: Cannot convert str to pyarrow.lib.MemoryPool\n"
     ]
    },
    {
     "name": "stdout",
     "output_type": "stream",
     "text": [
      "391/391 [==============================] - 2s 5ms/step - loss: 0.3463 - acc: 0.8378 - recall_1: 0.8869 - precision_1: 0.6350\n"
     ]
    },
    {
     "ename": "TypeError",
     "evalue": "Cannot convert str to pyarrow.lib.MemoryPool",
     "output_type": "error",
     "traceback": [
      "\u001b[0;31m---------------------------------------------------------------------------\u001b[0m",
      "\u001b[0;31mTypeError\u001b[0m                                 Traceback (most recent call last)",
      "\u001b[0;31mTypeError\u001b[0m: Cannot convert str to pyarrow.lib.MemoryPool"
     ]
    },
    {
     "name": "stderr",
     "output_type": "stream",
     "text": [
      "Exception ignored in: 'pyarrow.lib._convert_pandas_options'\n",
      "Traceback (most recent call last):\n",
      "  File \"/home/codemaster/anaconda3/envs/america-exp/lib/python3.11/site-packages/pyarrow/pandas_compat.py\", line 1168, in _table_to_blocks\n",
      "    result = pa.lib.table_to_blocks(options, block_table, categories,\n",
      "             ^^^^^^^^^^^^^^^^^^^^^^^^^^^^^^^^^^^^^^^^^^^^^^^^^^^^^^^^\n",
      "TypeError: Cannot convert str to pyarrow.lib.MemoryPool\n"
     ]
    },
    {
     "name": "stdout",
     "output_type": "stream",
     "text": [
      "391/391 [==============================] - 2s 5ms/step - loss: 0.3229 - acc: 0.8585 - recall_1: 0.8540 - precision_1: 0.6790\n"
     ]
    },
    {
     "ename": "TypeError",
     "evalue": "Cannot convert str to pyarrow.lib.MemoryPool",
     "output_type": "error",
     "traceback": [
      "\u001b[0;31m---------------------------------------------------------------------------\u001b[0m",
      "\u001b[0;31mTypeError\u001b[0m                                 Traceback (most recent call last)",
      "\u001b[0;31mTypeError\u001b[0m: Cannot convert str to pyarrow.lib.MemoryPool"
     ]
    },
    {
     "name": "stderr",
     "output_type": "stream",
     "text": [
      "Exception ignored in: 'pyarrow.lib._convert_pandas_options'\n",
      "Traceback (most recent call last):\n",
      "  File \"/home/codemaster/anaconda3/envs/america-exp/lib/python3.11/site-packages/pyarrow/pandas_compat.py\", line 1168, in _table_to_blocks\n",
      "    result = pa.lib.table_to_blocks(options, block_table, categories,\n",
      "             ^^^^^^^^^^^^^^^^^^^^^^^^^^^^^^^^^^^^^^^^^^^^^^^^^^^^^^^^\n",
      "TypeError: Cannot convert str to pyarrow.lib.MemoryPool\n"
     ]
    },
    {
     "name": "stdout",
     "output_type": "stream",
     "text": [
      "70/70 [==============================] - 0s 5ms/step - loss: 0.3196 - acc: 0.8555 - recall_1: 0.8458 - precision_1: 0.6743\n"
     ]
    },
    {
     "ename": "TypeError",
     "evalue": "Cannot convert str to pyarrow.lib.MemoryPool",
     "output_type": "error",
     "traceback": [
      "\u001b[0;31m---------------------------------------------------------------------------\u001b[0m",
      "\u001b[0;31mTypeError\u001b[0m                                 Traceback (most recent call last)",
      "\u001b[0;31mTypeError\u001b[0m: Cannot convert str to pyarrow.lib.MemoryPool"
     ]
    },
    {
     "name": "stderr",
     "output_type": "stream",
     "text": [
      "Exception ignored in: 'pyarrow.lib._convert_pandas_options'\n",
      "Traceback (most recent call last):\n",
      "  File \"/home/codemaster/anaconda3/envs/america-exp/lib/python3.11/site-packages/pyarrow/pandas_compat.py\", line 1168, in _table_to_blocks\n",
      "    result = pa.lib.table_to_blocks(options, block_table, categories,\n",
      "             ^^^^^^^^^^^^^^^^^^^^^^^^^^^^^^^^^^^^^^^^^^^^^^^^^^^^^^^^\n",
      "TypeError: Cannot convert str to pyarrow.lib.MemoryPool\n"
     ]
    },
    {
     "name": "stdout",
     "output_type": "stream",
     "text": [
      "391/391 [==============================] - 2s 5ms/step - loss: 0.4070 - acc: 0.8639 - recall_1: 0.8341 - precision_1: 0.6971\n"
     ]
    },
    {
     "ename": "TypeError",
     "evalue": "Cannot convert str to pyarrow.lib.MemoryPool",
     "output_type": "error",
     "traceback": [
      "\u001b[0;31m---------------------------------------------------------------------------\u001b[0m",
      "\u001b[0;31mTypeError\u001b[0m                                 Traceback (most recent call last)",
      "\u001b[0;31mTypeError\u001b[0m: Cannot convert str to pyarrow.lib.MemoryPool"
     ]
    },
    {
     "name": "stderr",
     "output_type": "stream",
     "text": [
      "Exception ignored in: 'pyarrow.lib._convert_pandas_options'\n",
      "Traceback (most recent call last):\n",
      "  File \"/home/codemaster/anaconda3/envs/america-exp/lib/python3.11/site-packages/pyarrow/pandas_compat.py\", line 1168, in _table_to_blocks\n",
      "    result = pa.lib.table_to_blocks(options, block_table, categories,\n",
      "             ^^^^^^^^^^^^^^^^^^^^^^^^^^^^^^^^^^^^^^^^^^^^^^^^^^^^^^^^\n",
      "TypeError: Cannot convert str to pyarrow.lib.MemoryPool\n"
     ]
    },
    {
     "name": "stdout",
     "output_type": "stream",
     "text": [
      "391/391 [==============================] - 2s 5ms/step - loss: 0.3284 - acc: 0.8635 - recall_1: 0.8447 - precision_1: 0.6954\n"
     ]
    },
    {
     "ename": "TypeError",
     "evalue": "Cannot convert str to pyarrow.lib.MemoryPool",
     "output_type": "error",
     "traceback": [
      "\u001b[0;31m---------------------------------------------------------------------------\u001b[0m",
      "\u001b[0;31mTypeError\u001b[0m                                 Traceback (most recent call last)",
      "\u001b[0;31mTypeError\u001b[0m: Cannot convert str to pyarrow.lib.MemoryPool"
     ]
    },
    {
     "name": "stderr",
     "output_type": "stream",
     "text": [
      "Exception ignored in: 'pyarrow.lib._convert_pandas_options'\n",
      "Traceback (most recent call last):\n",
      "  File \"/home/codemaster/anaconda3/envs/america-exp/lib/python3.11/site-packages/pyarrow/pandas_compat.py\", line 1168, in _table_to_blocks\n",
      "    result = pa.lib.table_to_blocks(options, block_table, categories,\n",
      "             ^^^^^^^^^^^^^^^^^^^^^^^^^^^^^^^^^^^^^^^^^^^^^^^^^^^^^^^^\n",
      "TypeError: Cannot convert str to pyarrow.lib.MemoryPool\n"
     ]
    },
    {
     "name": "stdout",
     "output_type": "stream",
     "text": [
      "391/391 [==============================] - 2s 5ms/step - loss: 0.3349 - acc: 0.8549 - recall_1: 0.8350 - precision_1: 0.6770\n"
     ]
    },
    {
     "ename": "TypeError",
     "evalue": "Cannot convert str to pyarrow.lib.MemoryPool",
     "output_type": "error",
     "traceback": [
      "\u001b[0;31m---------------------------------------------------------------------------\u001b[0m",
      "\u001b[0;31mTypeError\u001b[0m                                 Traceback (most recent call last)",
      "\u001b[0;31mTypeError\u001b[0m: Cannot convert str to pyarrow.lib.MemoryPool"
     ]
    },
    {
     "name": "stderr",
     "output_type": "stream",
     "text": [
      "Exception ignored in: 'pyarrow.lib._convert_pandas_options'\n",
      "Traceback (most recent call last):\n",
      "  File \"/home/codemaster/anaconda3/envs/america-exp/lib/python3.11/site-packages/pyarrow/pandas_compat.py\", line 1168, in _table_to_blocks\n",
      "    result = pa.lib.table_to_blocks(options, block_table, categories,\n",
      "             ^^^^^^^^^^^^^^^^^^^^^^^^^^^^^^^^^^^^^^^^^^^^^^^^^^^^^^^^\n",
      "TypeError: Cannot convert str to pyarrow.lib.MemoryPool\n"
     ]
    },
    {
     "name": "stdout",
     "output_type": "stream",
     "text": [
      "391/391 [==============================] - 2s 5ms/step - loss: 0.3272 - acc: 0.8630 - recall_1: 0.8196 - precision_1: 0.7007\n"
     ]
    },
    {
     "ename": "TypeError",
     "evalue": "Cannot convert str to pyarrow.lib.MemoryPool",
     "output_type": "error",
     "traceback": [
      "\u001b[0;31m---------------------------------------------------------------------------\u001b[0m",
      "\u001b[0;31mTypeError\u001b[0m                                 Traceback (most recent call last)",
      "\u001b[0;31mTypeError\u001b[0m: Cannot convert str to pyarrow.lib.MemoryPool"
     ]
    },
    {
     "name": "stderr",
     "output_type": "stream",
     "text": [
      "Exception ignored in: 'pyarrow.lib._convert_pandas_options'\n",
      "Traceback (most recent call last):\n",
      "  File \"/home/codemaster/anaconda3/envs/america-exp/lib/python3.11/site-packages/pyarrow/pandas_compat.py\", line 1168, in _table_to_blocks\n",
      "    result = pa.lib.table_to_blocks(options, block_table, categories,\n",
      "             ^^^^^^^^^^^^^^^^^^^^^^^^^^^^^^^^^^^^^^^^^^^^^^^^^^^^^^^^\n",
      "TypeError: Cannot convert str to pyarrow.lib.MemoryPool\n"
     ]
    },
    {
     "name": "stdout",
     "output_type": "stream",
     "text": [
      "391/391 [==============================] - 2s 5ms/step - loss: 0.3458 - acc: 0.8494 - recall_1: 0.8625 - precision_1: 0.6621\n"
     ]
    },
    {
     "ename": "TypeError",
     "evalue": "Cannot convert str to pyarrow.lib.MemoryPool",
     "output_type": "error",
     "traceback": [
      "\u001b[0;31m---------------------------------------------------------------------------\u001b[0m",
      "\u001b[0;31mTypeError\u001b[0m                                 Traceback (most recent call last)",
      "\u001b[0;31mTypeError\u001b[0m: Cannot convert str to pyarrow.lib.MemoryPool"
     ]
    },
    {
     "name": "stderr",
     "output_type": "stream",
     "text": [
      "Exception ignored in: 'pyarrow.lib._convert_pandas_options'\n",
      "Traceback (most recent call last):\n",
      "  File \"/home/codemaster/anaconda3/envs/america-exp/lib/python3.11/site-packages/pyarrow/pandas_compat.py\", line 1168, in _table_to_blocks\n",
      "    result = pa.lib.table_to_blocks(options, block_table, categories,\n",
      "             ^^^^^^^^^^^^^^^^^^^^^^^^^^^^^^^^^^^^^^^^^^^^^^^^^^^^^^^^\n",
      "TypeError: Cannot convert str to pyarrow.lib.MemoryPool\n"
     ]
    },
    {
     "name": "stdout",
     "output_type": "stream",
     "text": [
      "391/391 [==============================] - 2s 5ms/step - loss: 0.3302 - acc: 0.8574 - recall_1: 0.8242 - precision_1: 0.6863\n"
     ]
    },
    {
     "ename": "TypeError",
     "evalue": "Cannot convert str to pyarrow.lib.MemoryPool",
     "output_type": "error",
     "traceback": [
      "\u001b[0;31m---------------------------------------------------------------------------\u001b[0m",
      "\u001b[0;31mTypeError\u001b[0m                                 Traceback (most recent call last)",
      "\u001b[0;31mTypeError\u001b[0m: Cannot convert str to pyarrow.lib.MemoryPool"
     ]
    },
    {
     "name": "stderr",
     "output_type": "stream",
     "text": [
      "Exception ignored in: 'pyarrow.lib._convert_pandas_options'\n",
      "Traceback (most recent call last):\n",
      "  File \"/home/codemaster/anaconda3/envs/america-exp/lib/python3.11/site-packages/pyarrow/pandas_compat.py\", line 1168, in _table_to_blocks\n",
      "    result = pa.lib.table_to_blocks(options, block_table, categories,\n",
      "             ^^^^^^^^^^^^^^^^^^^^^^^^^^^^^^^^^^^^^^^^^^^^^^^^^^^^^^^^\n",
      "TypeError: Cannot convert str to pyarrow.lib.MemoryPool\n"
     ]
    },
    {
     "name": "stdout",
     "output_type": "stream",
     "text": [
      "391/391 [==============================] - 2s 5ms/step - loss: 0.5503 - acc: 0.8599 - recall_1: 0.8000 - precision_1: 0.7038\n"
     ]
    },
    {
     "ename": "TypeError",
     "evalue": "Cannot convert str to pyarrow.lib.MemoryPool",
     "output_type": "error",
     "traceback": [
      "\u001b[0;31m---------------------------------------------------------------------------\u001b[0m",
      "\u001b[0;31mTypeError\u001b[0m                                 Traceback (most recent call last)",
      "\u001b[0;31mTypeError\u001b[0m: Cannot convert str to pyarrow.lib.MemoryPool"
     ]
    },
    {
     "name": "stderr",
     "output_type": "stream",
     "text": [
      "Exception ignored in: 'pyarrow.lib._convert_pandas_options'\n",
      "Traceback (most recent call last):\n",
      "  File \"/home/codemaster/anaconda3/envs/america-exp/lib/python3.11/site-packages/pyarrow/pandas_compat.py\", line 1168, in _table_to_blocks\n",
      "    result = pa.lib.table_to_blocks(options, block_table, categories,\n",
      "             ^^^^^^^^^^^^^^^^^^^^^^^^^^^^^^^^^^^^^^^^^^^^^^^^^^^^^^^^\n",
      "TypeError: Cannot convert str to pyarrow.lib.MemoryPool\n"
     ]
    },
    {
     "name": "stdout",
     "output_type": "stream",
     "text": [
      "391/391 [==============================] - 2s 5ms/step - loss: 0.3336 - acc: 0.8545 - recall_1: 0.8064 - precision_1: 0.6883\n"
     ]
    },
    {
     "ename": "TypeError",
     "evalue": "Cannot convert str to pyarrow.lib.MemoryPool",
     "output_type": "error",
     "traceback": [
      "\u001b[0;31m---------------------------------------------------------------------------\u001b[0m",
      "\u001b[0;31mTypeError\u001b[0m                                 Traceback (most recent call last)",
      "\u001b[0;31mTypeError\u001b[0m: Cannot convert str to pyarrow.lib.MemoryPool"
     ]
    },
    {
     "name": "stderr",
     "output_type": "stream",
     "text": [
      "Exception ignored in: 'pyarrow.lib._convert_pandas_options'\n",
      "Traceback (most recent call last):\n",
      "  File \"/home/codemaster/anaconda3/envs/america-exp/lib/python3.11/site-packages/pyarrow/pandas_compat.py\", line 1168, in _table_to_blocks\n",
      "    result = pa.lib.table_to_blocks(options, block_table, categories,\n",
      "             ^^^^^^^^^^^^^^^^^^^^^^^^^^^^^^^^^^^^^^^^^^^^^^^^^^^^^^^^\n",
      "TypeError: Cannot convert str to pyarrow.lib.MemoryPool\n"
     ]
    },
    {
     "name": "stdout",
     "output_type": "stream",
     "text": [
      "391/391 [==============================] - 2s 5ms/step - loss: 0.3187 - acc: 0.8601 - recall_1: 0.7776 - precision_1: 0.7078\n"
     ]
    },
    {
     "ename": "TypeError",
     "evalue": "Cannot convert str to pyarrow.lib.MemoryPool",
     "output_type": "error",
     "traceback": [
      "\u001b[0;31m---------------------------------------------------------------------------\u001b[0m",
      "\u001b[0;31mTypeError\u001b[0m                                 Traceback (most recent call last)",
      "\u001b[0;31mTypeError\u001b[0m: Cannot convert str to pyarrow.lib.MemoryPool"
     ]
    },
    {
     "name": "stderr",
     "output_type": "stream",
     "text": [
      "Exception ignored in: 'pyarrow.lib._convert_pandas_options'\n",
      "Traceback (most recent call last):\n",
      "  File \"/home/codemaster/anaconda3/envs/america-exp/lib/python3.11/site-packages/pyarrow/pandas_compat.py\", line 1168, in _table_to_blocks\n",
      "    result = pa.lib.table_to_blocks(options, block_table, categories,\n",
      "             ^^^^^^^^^^^^^^^^^^^^^^^^^^^^^^^^^^^^^^^^^^^^^^^^^^^^^^^^\n",
      "TypeError: Cannot convert str to pyarrow.lib.MemoryPool\n"
     ]
    },
    {
     "name": "stdout",
     "output_type": "stream",
     "text": [
      "70/70 [==============================] - 0s 5ms/step - loss: 0.3046 - acc: 0.8681 - recall_1: 0.8239 - precision_1: 0.7093\n"
     ]
    },
    {
     "ename": "TypeError",
     "evalue": "Cannot convert str to pyarrow.lib.MemoryPool",
     "output_type": "error",
     "traceback": [
      "\u001b[0;31m---------------------------------------------------------------------------\u001b[0m",
      "\u001b[0;31mTypeError\u001b[0m                                 Traceback (most recent call last)",
      "\u001b[0;31mTypeError\u001b[0m: Cannot convert str to pyarrow.lib.MemoryPool"
     ]
    },
    {
     "name": "stderr",
     "output_type": "stream",
     "text": [
      "Exception ignored in: 'pyarrow.lib._convert_pandas_options'\n",
      "Traceback (most recent call last):\n",
      "  File \"/home/codemaster/anaconda3/envs/america-exp/lib/python3.11/site-packages/pyarrow/pandas_compat.py\", line 1168, in _table_to_blocks\n",
      "    result = pa.lib.table_to_blocks(options, block_table, categories,\n",
      "             ^^^^^^^^^^^^^^^^^^^^^^^^^^^^^^^^^^^^^^^^^^^^^^^^^^^^^^^^\n",
      "TypeError: Cannot convert str to pyarrow.lib.MemoryPool\n"
     ]
    },
    {
     "name": "stdout",
     "output_type": "stream",
     "text": [
      "391/391 [==============================] - 2s 5ms/step - loss: 0.3055 - acc: 0.8654 - recall_1: 0.7978 - precision_1: 0.7135\n"
     ]
    },
    {
     "ename": "TypeError",
     "evalue": "Cannot convert str to pyarrow.lib.MemoryPool",
     "output_type": "error",
     "traceback": [
      "\u001b[0;31m---------------------------------------------------------------------------\u001b[0m",
      "\u001b[0;31mTypeError\u001b[0m                                 Traceback (most recent call last)",
      "\u001b[0;31mTypeError\u001b[0m: Cannot convert str to pyarrow.lib.MemoryPool"
     ]
    },
    {
     "name": "stderr",
     "output_type": "stream",
     "text": [
      "Exception ignored in: 'pyarrow.lib._convert_pandas_options'\n",
      "Traceback (most recent call last):\n",
      "  File \"/home/codemaster/anaconda3/envs/america-exp/lib/python3.11/site-packages/pyarrow/pandas_compat.py\", line 1168, in _table_to_blocks\n",
      "    result = pa.lib.table_to_blocks(options, block_table, categories,\n",
      "             ^^^^^^^^^^^^^^^^^^^^^^^^^^^^^^^^^^^^^^^^^^^^^^^^^^^^^^^^\n",
      "TypeError: Cannot convert str to pyarrow.lib.MemoryPool\n"
     ]
    },
    {
     "name": "stdout",
     "output_type": "stream",
     "text": [
      "391/391 [==============================] - 2s 5ms/step - loss: 0.3104 - acc: 0.8683 - recall_1: 0.8075 - precision_1: 0.7199\n"
     ]
    },
    {
     "ename": "TypeError",
     "evalue": "Cannot convert str to pyarrow.lib.MemoryPool",
     "output_type": "error",
     "traceback": [
      "\u001b[0;31m---------------------------------------------------------------------------\u001b[0m",
      "\u001b[0;31mTypeError\u001b[0m                                 Traceback (most recent call last)",
      "\u001b[0;31mTypeError\u001b[0m: Cannot convert str to pyarrow.lib.MemoryPool"
     ]
    },
    {
     "name": "stderr",
     "output_type": "stream",
     "text": [
      "Exception ignored in: 'pyarrow.lib._convert_pandas_options'\n",
      "Traceback (most recent call last):\n",
      "  File \"/home/codemaster/anaconda3/envs/america-exp/lib/python3.11/site-packages/pyarrow/pandas_compat.py\", line 1168, in _table_to_blocks\n",
      "    result = pa.lib.table_to_blocks(options, block_table, categories,\n",
      "             ^^^^^^^^^^^^^^^^^^^^^^^^^^^^^^^^^^^^^^^^^^^^^^^^^^^^^^^^\n",
      "TypeError: Cannot convert str to pyarrow.lib.MemoryPool\n"
     ]
    },
    {
     "name": "stdout",
     "output_type": "stream",
     "text": [
      "391/391 [==============================] - 2s 5ms/step - loss: 0.3147 - acc: 0.8659 - recall_1: 0.8024 - precision_1: 0.7128\n"
     ]
    },
    {
     "ename": "TypeError",
     "evalue": "Cannot convert str to pyarrow.lib.MemoryPool",
     "output_type": "error",
     "traceback": [
      "\u001b[0;31m---------------------------------------------------------------------------\u001b[0m",
      "\u001b[0;31mTypeError\u001b[0m                                 Traceback (most recent call last)",
      "\u001b[0;31mTypeError\u001b[0m: Cannot convert str to pyarrow.lib.MemoryPool"
     ]
    },
    {
     "name": "stderr",
     "output_type": "stream",
     "text": [
      "Exception ignored in: 'pyarrow.lib._convert_pandas_options'\n",
      "Traceback (most recent call last):\n",
      "  File \"/home/codemaster/anaconda3/envs/america-exp/lib/python3.11/site-packages/pyarrow/pandas_compat.py\", line 1168, in _table_to_blocks\n",
      "    result = pa.lib.table_to_blocks(options, block_table, categories,\n",
      "             ^^^^^^^^^^^^^^^^^^^^^^^^^^^^^^^^^^^^^^^^^^^^^^^^^^^^^^^^\n",
      "TypeError: Cannot convert str to pyarrow.lib.MemoryPool\n"
     ]
    },
    {
     "name": "stdout",
     "output_type": "stream",
     "text": [
      "391/391 [==============================] - 2s 5ms/step - loss: 0.3138 - acc: 0.8682 - recall_1: 0.8063 - precision_1: 0.7179\n"
     ]
    },
    {
     "ename": "TypeError",
     "evalue": "Cannot convert str to pyarrow.lib.MemoryPool",
     "output_type": "error",
     "traceback": [
      "\u001b[0;31m---------------------------------------------------------------------------\u001b[0m",
      "\u001b[0;31mTypeError\u001b[0m                                 Traceback (most recent call last)",
      "\u001b[0;31mTypeError\u001b[0m: Cannot convert str to pyarrow.lib.MemoryPool"
     ]
    },
    {
     "name": "stderr",
     "output_type": "stream",
     "text": [
      "Exception ignored in: 'pyarrow.lib._convert_pandas_options'\n",
      "Traceback (most recent call last):\n",
      "  File \"/home/codemaster/anaconda3/envs/america-exp/lib/python3.11/site-packages/pyarrow/pandas_compat.py\", line 1168, in _table_to_blocks\n",
      "    result = pa.lib.table_to_blocks(options, block_table, categories,\n",
      "             ^^^^^^^^^^^^^^^^^^^^^^^^^^^^^^^^^^^^^^^^^^^^^^^^^^^^^^^^\n",
      "TypeError: Cannot convert str to pyarrow.lib.MemoryPool\n"
     ]
    },
    {
     "name": "stdout",
     "output_type": "stream",
     "text": [
      "391/391 [==============================] - 2s 5ms/step - loss: 0.3282 - acc: 0.8578 - recall_1: 0.7783 - precision_1: 0.7063\n"
     ]
    },
    {
     "ename": "TypeError",
     "evalue": "Cannot convert str to pyarrow.lib.MemoryPool",
     "output_type": "error",
     "traceback": [
      "\u001b[0;31m---------------------------------------------------------------------------\u001b[0m",
      "\u001b[0;31mTypeError\u001b[0m                                 Traceback (most recent call last)",
      "\u001b[0;31mTypeError\u001b[0m: Cannot convert str to pyarrow.lib.MemoryPool"
     ]
    },
    {
     "name": "stderr",
     "output_type": "stream",
     "text": [
      "Exception ignored in: 'pyarrow.lib._convert_pandas_options'\n",
      "Traceback (most recent call last):\n",
      "  File \"/home/codemaster/anaconda3/envs/america-exp/lib/python3.11/site-packages/pyarrow/pandas_compat.py\", line 1168, in _table_to_blocks\n",
      "    result = pa.lib.table_to_blocks(options, block_table, categories,\n",
      "             ^^^^^^^^^^^^^^^^^^^^^^^^^^^^^^^^^^^^^^^^^^^^^^^^^^^^^^^^\n",
      "TypeError: Cannot convert str to pyarrow.lib.MemoryPool\n"
     ]
    },
    {
     "name": "stdout",
     "output_type": "stream",
     "text": [
      "391/391 [==============================] - 2s 5ms/step - loss: 0.3245 - acc: 0.8568 - recall_1: 0.7898 - precision_1: 0.6962\n"
     ]
    },
    {
     "ename": "TypeError",
     "evalue": "Cannot convert str to pyarrow.lib.MemoryPool",
     "output_type": "error",
     "traceback": [
      "\u001b[0;31m---------------------------------------------------------------------------\u001b[0m",
      "\u001b[0;31mTypeError\u001b[0m                                 Traceback (most recent call last)",
      "\u001b[0;31mTypeError\u001b[0m: Cannot convert str to pyarrow.lib.MemoryPool"
     ]
    },
    {
     "name": "stderr",
     "output_type": "stream",
     "text": [
      "Exception ignored in: 'pyarrow.lib._convert_pandas_options'\n",
      "Traceback (most recent call last):\n",
      "  File \"/home/codemaster/anaconda3/envs/america-exp/lib/python3.11/site-packages/pyarrow/pandas_compat.py\", line 1168, in _table_to_blocks\n",
      "    result = pa.lib.table_to_blocks(options, block_table, categories,\n",
      "             ^^^^^^^^^^^^^^^^^^^^^^^^^^^^^^^^^^^^^^^^^^^^^^^^^^^^^^^^\n",
      "TypeError: Cannot convert str to pyarrow.lib.MemoryPool\n"
     ]
    },
    {
     "name": "stdout",
     "output_type": "stream",
     "text": [
      "391/391 [==============================] - 2s 5ms/step - loss: 0.4337 - acc: 0.8678 - recall_1: 0.8155 - precision_1: 0.7170\n"
     ]
    },
    {
     "ename": "TypeError",
     "evalue": "Cannot convert str to pyarrow.lib.MemoryPool",
     "output_type": "error",
     "traceback": [
      "\u001b[0;31m---------------------------------------------------------------------------\u001b[0m",
      "\u001b[0;31mTypeError\u001b[0m                                 Traceback (most recent call last)",
      "\u001b[0;31mTypeError\u001b[0m: Cannot convert str to pyarrow.lib.MemoryPool"
     ]
    },
    {
     "name": "stderr",
     "output_type": "stream",
     "text": [
      "Exception ignored in: 'pyarrow.lib._convert_pandas_options'\n",
      "Traceback (most recent call last):\n",
      "  File \"/home/codemaster/anaconda3/envs/america-exp/lib/python3.11/site-packages/pyarrow/pandas_compat.py\", line 1168, in _table_to_blocks\n",
      "    result = pa.lib.table_to_blocks(options, block_table, categories,\n",
      "             ^^^^^^^^^^^^^^^^^^^^^^^^^^^^^^^^^^^^^^^^^^^^^^^^^^^^^^^^\n",
      "TypeError: Cannot convert str to pyarrow.lib.MemoryPool\n"
     ]
    },
    {
     "name": "stdout",
     "output_type": "stream",
     "text": [
      "391/391 [==============================] - 2s 5ms/step - loss: 0.3469 - acc: 0.8586 - recall_1: 0.8006 - precision_1: 0.6996\n"
     ]
    },
    {
     "ename": "TypeError",
     "evalue": "Cannot convert str to pyarrow.lib.MemoryPool",
     "output_type": "error",
     "traceback": [
      "\u001b[0;31m---------------------------------------------------------------------------\u001b[0m",
      "\u001b[0;31mTypeError\u001b[0m                                 Traceback (most recent call last)",
      "\u001b[0;31mTypeError\u001b[0m: Cannot convert str to pyarrow.lib.MemoryPool"
     ]
    },
    {
     "name": "stderr",
     "output_type": "stream",
     "text": [
      "Exception ignored in: 'pyarrow.lib._convert_pandas_options'\n",
      "Traceback (most recent call last):\n",
      "  File \"/home/codemaster/anaconda3/envs/america-exp/lib/python3.11/site-packages/pyarrow/pandas_compat.py\", line 1168, in _table_to_blocks\n",
      "    result = pa.lib.table_to_blocks(options, block_table, categories,\n",
      "             ^^^^^^^^^^^^^^^^^^^^^^^^^^^^^^^^^^^^^^^^^^^^^^^^^^^^^^^^\n",
      "TypeError: Cannot convert str to pyarrow.lib.MemoryPool\n"
     ]
    },
    {
     "name": "stdout",
     "output_type": "stream",
     "text": [
      "391/391 [==============================] - 2s 5ms/step - loss: 0.3085 - acc: 0.8685 - recall_1: 0.8169 - precision_1: 0.7137\n"
     ]
    },
    {
     "ename": "TypeError",
     "evalue": "Cannot convert str to pyarrow.lib.MemoryPool",
     "output_type": "error",
     "traceback": [
      "\u001b[0;31m---------------------------------------------------------------------------\u001b[0m",
      "\u001b[0;31mTypeError\u001b[0m                                 Traceback (most recent call last)",
      "\u001b[0;31mTypeError\u001b[0m: Cannot convert str to pyarrow.lib.MemoryPool"
     ]
    },
    {
     "name": "stderr",
     "output_type": "stream",
     "text": [
      "Exception ignored in: 'pyarrow.lib._convert_pandas_options'\n",
      "Traceback (most recent call last):\n",
      "  File \"/home/codemaster/anaconda3/envs/america-exp/lib/python3.11/site-packages/pyarrow/pandas_compat.py\", line 1168, in _table_to_blocks\n",
      "    result = pa.lib.table_to_blocks(options, block_table, categories,\n",
      "             ^^^^^^^^^^^^^^^^^^^^^^^^^^^^^^^^^^^^^^^^^^^^^^^^^^^^^^^^\n",
      "TypeError: Cannot convert str to pyarrow.lib.MemoryPool\n"
     ]
    },
    {
     "name": "stdout",
     "output_type": "stream",
     "text": [
      "70/70 [==============================] - 0s 5ms/step - loss: 0.3008 - acc: 0.8720 - recall_1: 0.8183 - precision_1: 0.7209\n"
     ]
    },
    {
     "ename": "TypeError",
     "evalue": "Cannot convert str to pyarrow.lib.MemoryPool",
     "output_type": "error",
     "traceback": [
      "\u001b[0;31m---------------------------------------------------------------------------\u001b[0m",
      "\u001b[0;31mTypeError\u001b[0m                                 Traceback (most recent call last)",
      "\u001b[0;31mTypeError\u001b[0m: Cannot convert str to pyarrow.lib.MemoryPool"
     ]
    },
    {
     "name": "stderr",
     "output_type": "stream",
     "text": [
      "Exception ignored in: 'pyarrow.lib._convert_pandas_options'\n",
      "Traceback (most recent call last):\n",
      "  File \"/home/codemaster/anaconda3/envs/america-exp/lib/python3.11/site-packages/pyarrow/pandas_compat.py\", line 1168, in _table_to_blocks\n",
      "    result = pa.lib.table_to_blocks(options, block_table, categories,\n",
      "             ^^^^^^^^^^^^^^^^^^^^^^^^^^^^^^^^^^^^^^^^^^^^^^^^^^^^^^^^\n",
      "TypeError: Cannot convert str to pyarrow.lib.MemoryPool\n"
     ]
    },
    {
     "name": "stdout",
     "output_type": "stream",
     "text": [
      "391/391 [==============================] - 2s 5ms/step - loss: 0.3087 - acc: 0.8701 - recall_1: 0.8082 - precision_1: 0.7212\n"
     ]
    },
    {
     "ename": "TypeError",
     "evalue": "Cannot convert str to pyarrow.lib.MemoryPool",
     "output_type": "error",
     "traceback": [
      "\u001b[0;31m---------------------------------------------------------------------------\u001b[0m",
      "\u001b[0;31mTypeError\u001b[0m                                 Traceback (most recent call last)",
      "\u001b[0;31mTypeError\u001b[0m: Cannot convert str to pyarrow.lib.MemoryPool"
     ]
    },
    {
     "name": "stderr",
     "output_type": "stream",
     "text": [
      "Exception ignored in: 'pyarrow.lib._convert_pandas_options'\n",
      "Traceback (most recent call last):\n",
      "  File \"/home/codemaster/anaconda3/envs/america-exp/lib/python3.11/site-packages/pyarrow/pandas_compat.py\", line 1168, in _table_to_blocks\n",
      "    result = pa.lib.table_to_blocks(options, block_table, categories,\n",
      "             ^^^^^^^^^^^^^^^^^^^^^^^^^^^^^^^^^^^^^^^^^^^^^^^^^^^^^^^^\n",
      "TypeError: Cannot convert str to pyarrow.lib.MemoryPool\n"
     ]
    },
    {
     "name": "stdout",
     "output_type": "stream",
     "text": [
      "391/391 [==============================] - 2s 5ms/step - loss: 0.3229 - acc: 0.8658 - recall_1: 0.8242 - precision_1: 0.7077\n"
     ]
    },
    {
     "ename": "TypeError",
     "evalue": "Cannot convert str to pyarrow.lib.MemoryPool",
     "output_type": "error",
     "traceback": [
      "\u001b[0;31m---------------------------------------------------------------------------\u001b[0m",
      "\u001b[0;31mTypeError\u001b[0m                                 Traceback (most recent call last)",
      "\u001b[0;31mTypeError\u001b[0m: Cannot convert str to pyarrow.lib.MemoryPool"
     ]
    },
    {
     "name": "stderr",
     "output_type": "stream",
     "text": [
      "Exception ignored in: 'pyarrow.lib._convert_pandas_options'\n",
      "Traceback (most recent call last):\n",
      "  File \"/home/codemaster/anaconda3/envs/america-exp/lib/python3.11/site-packages/pyarrow/pandas_compat.py\", line 1168, in _table_to_blocks\n",
      "    result = pa.lib.table_to_blocks(options, block_table, categories,\n",
      "             ^^^^^^^^^^^^^^^^^^^^^^^^^^^^^^^^^^^^^^^^^^^^^^^^^^^^^^^^\n",
      "TypeError: Cannot convert str to pyarrow.lib.MemoryPool\n"
     ]
    },
    {
     "name": "stdout",
     "output_type": "stream",
     "text": [
      "391/391 [==============================] - 2s 5ms/step - loss: 0.3215 - acc: 0.8676 - recall_1: 0.8000 - precision_1: 0.7180\n"
     ]
    },
    {
     "ename": "TypeError",
     "evalue": "Cannot convert str to pyarrow.lib.MemoryPool",
     "output_type": "error",
     "traceback": [
      "\u001b[0;31m---------------------------------------------------------------------------\u001b[0m",
      "\u001b[0;31mTypeError\u001b[0m                                 Traceback (most recent call last)",
      "\u001b[0;31mTypeError\u001b[0m: Cannot convert str to pyarrow.lib.MemoryPool"
     ]
    },
    {
     "name": "stderr",
     "output_type": "stream",
     "text": [
      "Exception ignored in: 'pyarrow.lib._convert_pandas_options'\n",
      "Traceback (most recent call last):\n",
      "  File \"/home/codemaster/anaconda3/envs/america-exp/lib/python3.11/site-packages/pyarrow/pandas_compat.py\", line 1168, in _table_to_blocks\n",
      "    result = pa.lib.table_to_blocks(options, block_table, categories,\n",
      "             ^^^^^^^^^^^^^^^^^^^^^^^^^^^^^^^^^^^^^^^^^^^^^^^^^^^^^^^^\n",
      "TypeError: Cannot convert str to pyarrow.lib.MemoryPool\n"
     ]
    },
    {
     "name": "stdout",
     "output_type": "stream",
     "text": [
      "391/391 [==============================] - 2s 5ms/step - loss: 0.4480 - acc: 0.8697 - recall_1: 0.8053 - precision_1: 0.7221\n"
     ]
    },
    {
     "ename": "TypeError",
     "evalue": "Cannot convert str to pyarrow.lib.MemoryPool",
     "output_type": "error",
     "traceback": [
      "\u001b[0;31m---------------------------------------------------------------------------\u001b[0m",
      "\u001b[0;31mTypeError\u001b[0m                                 Traceback (most recent call last)",
      "\u001b[0;31mTypeError\u001b[0m: Cannot convert str to pyarrow.lib.MemoryPool"
     ]
    },
    {
     "name": "stderr",
     "output_type": "stream",
     "text": [
      "Exception ignored in: 'pyarrow.lib._convert_pandas_options'\n",
      "Traceback (most recent call last):\n",
      "  File \"/home/codemaster/anaconda3/envs/america-exp/lib/python3.11/site-packages/pyarrow/pandas_compat.py\", line 1168, in _table_to_blocks\n",
      "    result = pa.lib.table_to_blocks(options, block_table, categories,\n",
      "             ^^^^^^^^^^^^^^^^^^^^^^^^^^^^^^^^^^^^^^^^^^^^^^^^^^^^^^^^\n",
      "TypeError: Cannot convert str to pyarrow.lib.MemoryPool\n"
     ]
    },
    {
     "name": "stdout",
     "output_type": "stream",
     "text": [
      "391/391 [==============================] - 2s 5ms/step - loss: 0.3614 - acc: 0.8584 - recall_1: 0.8186 - precision_1: 0.6935\n"
     ]
    },
    {
     "ename": "TypeError",
     "evalue": "Cannot convert str to pyarrow.lib.MemoryPool",
     "output_type": "error",
     "traceback": [
      "\u001b[0;31m---------------------------------------------------------------------------\u001b[0m",
      "\u001b[0;31mTypeError\u001b[0m                                 Traceback (most recent call last)",
      "\u001b[0;31mTypeError\u001b[0m: Cannot convert str to pyarrow.lib.MemoryPool"
     ]
    },
    {
     "name": "stderr",
     "output_type": "stream",
     "text": [
      "Exception ignored in: 'pyarrow.lib._convert_pandas_options'\n",
      "Traceback (most recent call last):\n",
      "  File \"/home/codemaster/anaconda3/envs/america-exp/lib/python3.11/site-packages/pyarrow/pandas_compat.py\", line 1168, in _table_to_blocks\n",
      "    result = pa.lib.table_to_blocks(options, block_table, categories,\n",
      "             ^^^^^^^^^^^^^^^^^^^^^^^^^^^^^^^^^^^^^^^^^^^^^^^^^^^^^^^^\n",
      "TypeError: Cannot convert str to pyarrow.lib.MemoryPool\n"
     ]
    },
    {
     "name": "stdout",
     "output_type": "stream",
     "text": [
      "391/391 [==============================] - 2s 5ms/step - loss: 0.3143 - acc: 0.8643 - recall_1: 0.7557 - precision_1: 0.7287\n"
     ]
    },
    {
     "ename": "TypeError",
     "evalue": "Cannot convert str to pyarrow.lib.MemoryPool",
     "output_type": "error",
     "traceback": [
      "\u001b[0;31m---------------------------------------------------------------------------\u001b[0m",
      "\u001b[0;31mTypeError\u001b[0m                                 Traceback (most recent call last)",
      "\u001b[0;31mTypeError\u001b[0m: Cannot convert str to pyarrow.lib.MemoryPool"
     ]
    },
    {
     "name": "stderr",
     "output_type": "stream",
     "text": [
      "Exception ignored in: 'pyarrow.lib._convert_pandas_options'\n",
      "Traceback (most recent call last):\n",
      "  File \"/home/codemaster/anaconda3/envs/america-exp/lib/python3.11/site-packages/pyarrow/pandas_compat.py\", line 1168, in _table_to_blocks\n",
      "    result = pa.lib.table_to_blocks(options, block_table, categories,\n",
      "             ^^^^^^^^^^^^^^^^^^^^^^^^^^^^^^^^^^^^^^^^^^^^^^^^^^^^^^^^\n",
      "TypeError: Cannot convert str to pyarrow.lib.MemoryPool\n"
     ]
    },
    {
     "name": "stdout",
     "output_type": "stream",
     "text": [
      "391/391 [==============================] - 2s 5ms/step - loss: 0.3358 - acc: 0.8680 - recall_1: 0.8325 - precision_1: 0.7113\n"
     ]
    },
    {
     "ename": "TypeError",
     "evalue": "Cannot convert str to pyarrow.lib.MemoryPool",
     "output_type": "error",
     "traceback": [
      "\u001b[0;31m---------------------------------------------------------------------------\u001b[0m",
      "\u001b[0;31mTypeError\u001b[0m                                 Traceback (most recent call last)",
      "\u001b[0;31mTypeError\u001b[0m: Cannot convert str to pyarrow.lib.MemoryPool"
     ]
    },
    {
     "name": "stderr",
     "output_type": "stream",
     "text": [
      "Exception ignored in: 'pyarrow.lib._convert_pandas_options'\n",
      "Traceback (most recent call last):\n",
      "  File \"/home/codemaster/anaconda3/envs/america-exp/lib/python3.11/site-packages/pyarrow/pandas_compat.py\", line 1168, in _table_to_blocks\n",
      "    result = pa.lib.table_to_blocks(options, block_table, categories,\n",
      "             ^^^^^^^^^^^^^^^^^^^^^^^^^^^^^^^^^^^^^^^^^^^^^^^^^^^^^^^^\n",
      "TypeError: Cannot convert str to pyarrow.lib.MemoryPool\n"
     ]
    },
    {
     "name": "stdout",
     "output_type": "stream",
     "text": [
      "391/391 [==============================] - 2s 5ms/step - loss: 0.3115 - acc: 0.8675 - recall_1: 0.7911 - precision_1: 0.7249\n"
     ]
    },
    {
     "ename": "TypeError",
     "evalue": "Cannot convert str to pyarrow.lib.MemoryPool",
     "output_type": "error",
     "traceback": [
      "\u001b[0;31m---------------------------------------------------------------------------\u001b[0m",
      "\u001b[0;31mTypeError\u001b[0m                                 Traceback (most recent call last)",
      "\u001b[0;31mTypeError\u001b[0m: Cannot convert str to pyarrow.lib.MemoryPool"
     ]
    },
    {
     "name": "stderr",
     "output_type": "stream",
     "text": [
      "Exception ignored in: 'pyarrow.lib._convert_pandas_options'\n",
      "Traceback (most recent call last):\n",
      "  File \"/home/codemaster/anaconda3/envs/america-exp/lib/python3.11/site-packages/pyarrow/pandas_compat.py\", line 1168, in _table_to_blocks\n",
      "    result = pa.lib.table_to_blocks(options, block_table, categories,\n",
      "             ^^^^^^^^^^^^^^^^^^^^^^^^^^^^^^^^^^^^^^^^^^^^^^^^^^^^^^^^\n",
      "TypeError: Cannot convert str to pyarrow.lib.MemoryPool\n"
     ]
    },
    {
     "name": "stdout",
     "output_type": "stream",
     "text": [
      "391/391 [==============================] - 2s 5ms/step - loss: 0.3047 - acc: 0.8632 - recall_1: 0.7610 - precision_1: 0.7224\n"
     ]
    },
    {
     "ename": "TypeError",
     "evalue": "Cannot convert str to pyarrow.lib.MemoryPool",
     "output_type": "error",
     "traceback": [
      "\u001b[0;31m---------------------------------------------------------------------------\u001b[0m",
      "\u001b[0;31mTypeError\u001b[0m                                 Traceback (most recent call last)",
      "\u001b[0;31mTypeError\u001b[0m: Cannot convert str to pyarrow.lib.MemoryPool"
     ]
    },
    {
     "name": "stderr",
     "output_type": "stream",
     "text": [
      "Exception ignored in: 'pyarrow.lib._convert_pandas_options'\n",
      "Traceback (most recent call last):\n",
      "  File \"/home/codemaster/anaconda3/envs/america-exp/lib/python3.11/site-packages/pyarrow/pandas_compat.py\", line 1168, in _table_to_blocks\n",
      "    result = pa.lib.table_to_blocks(options, block_table, categories,\n",
      "             ^^^^^^^^^^^^^^^^^^^^^^^^^^^^^^^^^^^^^^^^^^^^^^^^^^^^^^^^\n",
      "TypeError: Cannot convert str to pyarrow.lib.MemoryPool\n"
     ]
    },
    {
     "name": "stdout",
     "output_type": "stream",
     "text": [
      "70/70 [==============================] - 0s 5ms/step - loss: 0.2958 - acc: 0.8679 - recall_1: 0.7165 - precision_1: 0.7565\n"
     ]
    },
    {
     "ename": "TypeError",
     "evalue": "Cannot convert str to pyarrow.lib.MemoryPool",
     "output_type": "error",
     "traceback": [
      "\u001b[0;31m---------------------------------------------------------------------------\u001b[0m",
      "\u001b[0;31mTypeError\u001b[0m                                 Traceback (most recent call last)",
      "\u001b[0;31mTypeError\u001b[0m: Cannot convert str to pyarrow.lib.MemoryPool"
     ]
    },
    {
     "name": "stderr",
     "output_type": "stream",
     "text": [
      "Exception ignored in: 'pyarrow.lib._convert_pandas_options'\n",
      "Traceback (most recent call last):\n",
      "  File \"/home/codemaster/anaconda3/envs/america-exp/lib/python3.11/site-packages/pyarrow/pandas_compat.py\", line 1168, in _table_to_blocks\n",
      "    result = pa.lib.table_to_blocks(options, block_table, categories,\n",
      "             ^^^^^^^^^^^^^^^^^^^^^^^^^^^^^^^^^^^^^^^^^^^^^^^^^^^^^^^^\n",
      "TypeError: Cannot convert str to pyarrow.lib.MemoryPool\n"
     ]
    },
    {
     "name": "stdout",
     "output_type": "stream",
     "text": [
      "391/391 [==============================] - 2s 5ms/step - loss: 0.3406 - acc: 0.8629 - recall_1: 0.7546 - precision_1: 0.7246\n"
     ]
    },
    {
     "ename": "TypeError",
     "evalue": "Cannot convert str to pyarrow.lib.MemoryPool",
     "output_type": "error",
     "traceback": [
      "\u001b[0;31m---------------------------------------------------------------------------\u001b[0m",
      "\u001b[0;31mTypeError\u001b[0m                                 Traceback (most recent call last)",
      "\u001b[0;31mTypeError\u001b[0m: Cannot convert str to pyarrow.lib.MemoryPool"
     ]
    },
    {
     "name": "stderr",
     "output_type": "stream",
     "text": [
      "Exception ignored in: 'pyarrow.lib._convert_pandas_options'\n",
      "Traceback (most recent call last):\n",
      "  File \"/home/codemaster/anaconda3/envs/america-exp/lib/python3.11/site-packages/pyarrow/pandas_compat.py\", line 1168, in _table_to_blocks\n",
      "    result = pa.lib.table_to_blocks(options, block_table, categories,\n",
      "             ^^^^^^^^^^^^^^^^^^^^^^^^^^^^^^^^^^^^^^^^^^^^^^^^^^^^^^^^\n",
      "TypeError: Cannot convert str to pyarrow.lib.MemoryPool\n"
     ]
    },
    {
     "name": "stdout",
     "output_type": "stream",
     "text": [
      "391/391 [==============================] - 2s 5ms/step - loss: 0.7573 - acc: 0.8581 - recall_1: 0.7398 - precision_1: 0.7212\n"
     ]
    },
    {
     "ename": "TypeError",
     "evalue": "Cannot convert str to pyarrow.lib.MemoryPool",
     "output_type": "error",
     "traceback": [
      "\u001b[0;31m---------------------------------------------------------------------------\u001b[0m",
      "\u001b[0;31mTypeError\u001b[0m                                 Traceback (most recent call last)",
      "\u001b[0;31mTypeError\u001b[0m: Cannot convert str to pyarrow.lib.MemoryPool"
     ]
    },
    {
     "name": "stderr",
     "output_type": "stream",
     "text": [
      "Exception ignored in: 'pyarrow.lib._convert_pandas_options'\n",
      "Traceback (most recent call last):\n",
      "  File \"/home/codemaster/anaconda3/envs/america-exp/lib/python3.11/site-packages/pyarrow/pandas_compat.py\", line 1168, in _table_to_blocks\n",
      "    result = pa.lib.table_to_blocks(options, block_table, categories,\n",
      "             ^^^^^^^^^^^^^^^^^^^^^^^^^^^^^^^^^^^^^^^^^^^^^^^^^^^^^^^^\n",
      "TypeError: Cannot convert str to pyarrow.lib.MemoryPool\n"
     ]
    },
    {
     "name": "stdout",
     "output_type": "stream",
     "text": [
      "391/391 [==============================] - 2s 5ms/step - loss: 0.3065 - acc: 0.8668 - recall_1: 0.7471 - precision_1: 0.7386\n"
     ]
    },
    {
     "ename": "TypeError",
     "evalue": "Cannot convert str to pyarrow.lib.MemoryPool",
     "output_type": "error",
     "traceback": [
      "\u001b[0;31m---------------------------------------------------------------------------\u001b[0m",
      "\u001b[0;31mTypeError\u001b[0m                                 Traceback (most recent call last)",
      "\u001b[0;31mTypeError\u001b[0m: Cannot convert str to pyarrow.lib.MemoryPool"
     ]
    },
    {
     "name": "stderr",
     "output_type": "stream",
     "text": [
      "Exception ignored in: 'pyarrow.lib._convert_pandas_options'\n",
      "Traceback (most recent call last):\n",
      "  File \"/home/codemaster/anaconda3/envs/america-exp/lib/python3.11/site-packages/pyarrow/pandas_compat.py\", line 1168, in _table_to_blocks\n",
      "    result = pa.lib.table_to_blocks(options, block_table, categories,\n",
      "             ^^^^^^^^^^^^^^^^^^^^^^^^^^^^^^^^^^^^^^^^^^^^^^^^^^^^^^^^\n",
      "TypeError: Cannot convert str to pyarrow.lib.MemoryPool\n"
     ]
    },
    {
     "name": "stdout",
     "output_type": "stream",
     "text": [
      "391/391 [==============================] - 2s 5ms/step - loss: 0.3327 - acc: 0.8659 - recall_1: 0.7653 - precision_1: 0.7289\n"
     ]
    },
    {
     "ename": "TypeError",
     "evalue": "Cannot convert str to pyarrow.lib.MemoryPool",
     "output_type": "error",
     "traceback": [
      "\u001b[0;31m---------------------------------------------------------------------------\u001b[0m",
      "\u001b[0;31mTypeError\u001b[0m                                 Traceback (most recent call last)",
      "\u001b[0;31mTypeError\u001b[0m: Cannot convert str to pyarrow.lib.MemoryPool"
     ]
    },
    {
     "name": "stderr",
     "output_type": "stream",
     "text": [
      "Exception ignored in: 'pyarrow.lib._convert_pandas_options'\n",
      "Traceback (most recent call last):\n",
      "  File \"/home/codemaster/anaconda3/envs/america-exp/lib/python3.11/site-packages/pyarrow/pandas_compat.py\", line 1168, in _table_to_blocks\n",
      "    result = pa.lib.table_to_blocks(options, block_table, categories,\n",
      "             ^^^^^^^^^^^^^^^^^^^^^^^^^^^^^^^^^^^^^^^^^^^^^^^^^^^^^^^^\n",
      "TypeError: Cannot convert str to pyarrow.lib.MemoryPool\n"
     ]
    },
    {
     "name": "stdout",
     "output_type": "stream",
     "text": [
      "391/391 [==============================] - 2s 5ms/step - loss: 0.3078 - acc: 0.8694 - recall_1: 0.7809 - precision_1: 0.7347\n"
     ]
    },
    {
     "ename": "TypeError",
     "evalue": "Cannot convert str to pyarrow.lib.MemoryPool",
     "output_type": "error",
     "traceback": [
      "\u001b[0;31m---------------------------------------------------------------------------\u001b[0m",
      "\u001b[0;31mTypeError\u001b[0m                                 Traceback (most recent call last)",
      "\u001b[0;31mTypeError\u001b[0m: Cannot convert str to pyarrow.lib.MemoryPool"
     ]
    },
    {
     "name": "stderr",
     "output_type": "stream",
     "text": [
      "Exception ignored in: 'pyarrow.lib._convert_pandas_options'\n",
      "Traceback (most recent call last):\n",
      "  File \"/home/codemaster/anaconda3/envs/america-exp/lib/python3.11/site-packages/pyarrow/pandas_compat.py\", line 1168, in _table_to_blocks\n",
      "    result = pa.lib.table_to_blocks(options, block_table, categories,\n",
      "             ^^^^^^^^^^^^^^^^^^^^^^^^^^^^^^^^^^^^^^^^^^^^^^^^^^^^^^^^\n",
      "TypeError: Cannot convert str to pyarrow.lib.MemoryPool\n"
     ]
    },
    {
     "name": "stdout",
     "output_type": "stream",
     "text": [
      "391/391 [==============================] - 2s 5ms/step - loss: 0.3269 - acc: 0.8640 - recall_1: 0.8011 - precision_1: 0.7094\n"
     ]
    },
    {
     "ename": "TypeError",
     "evalue": "Cannot convert str to pyarrow.lib.MemoryPool",
     "output_type": "error",
     "traceback": [
      "\u001b[0;31m---------------------------------------------------------------------------\u001b[0m",
      "\u001b[0;31mTypeError\u001b[0m                                 Traceback (most recent call last)",
      "\u001b[0;31mTypeError\u001b[0m: Cannot convert str to pyarrow.lib.MemoryPool"
     ]
    },
    {
     "name": "stderr",
     "output_type": "stream",
     "text": [
      "Exception ignored in: 'pyarrow.lib._convert_pandas_options'\n",
      "Traceback (most recent call last):\n",
      "  File \"/home/codemaster/anaconda3/envs/america-exp/lib/python3.11/site-packages/pyarrow/pandas_compat.py\", line 1168, in _table_to_blocks\n",
      "    result = pa.lib.table_to_blocks(options, block_table, categories,\n",
      "             ^^^^^^^^^^^^^^^^^^^^^^^^^^^^^^^^^^^^^^^^^^^^^^^^^^^^^^^^\n",
      "TypeError: Cannot convert str to pyarrow.lib.MemoryPool\n"
     ]
    },
    {
     "name": "stdout",
     "output_type": "stream",
     "text": [
      "391/391 [==============================] - 2s 5ms/step - loss: 0.3079 - acc: 0.8745 - recall_1: 0.7704 - precision_1: 0.7542\n"
     ]
    },
    {
     "ename": "TypeError",
     "evalue": "Cannot convert str to pyarrow.lib.MemoryPool",
     "output_type": "error",
     "traceback": [
      "\u001b[0;31m---------------------------------------------------------------------------\u001b[0m",
      "\u001b[0;31mTypeError\u001b[0m                                 Traceback (most recent call last)",
      "\u001b[0;31mTypeError\u001b[0m: Cannot convert str to pyarrow.lib.MemoryPool"
     ]
    },
    {
     "name": "stderr",
     "output_type": "stream",
     "text": [
      "Exception ignored in: 'pyarrow.lib._convert_pandas_options'\n",
      "Traceback (most recent call last):\n",
      "  File \"/home/codemaster/anaconda3/envs/america-exp/lib/python3.11/site-packages/pyarrow/pandas_compat.py\", line 1168, in _table_to_blocks\n",
      "    result = pa.lib.table_to_blocks(options, block_table, categories,\n",
      "             ^^^^^^^^^^^^^^^^^^^^^^^^^^^^^^^^^^^^^^^^^^^^^^^^^^^^^^^^\n",
      "TypeError: Cannot convert str to pyarrow.lib.MemoryPool\n"
     ]
    },
    {
     "name": "stdout",
     "output_type": "stream",
     "text": [
      "391/391 [==============================] - 2s 5ms/step - loss: 0.3400 - acc: 0.8546 - recall_1: 0.8016 - precision_1: 0.6901\n"
     ]
    },
    {
     "ename": "TypeError",
     "evalue": "Cannot convert str to pyarrow.lib.MemoryPool",
     "output_type": "error",
     "traceback": [
      "\u001b[0;31m---------------------------------------------------------------------------\u001b[0m",
      "\u001b[0;31mTypeError\u001b[0m                                 Traceback (most recent call last)",
      "\u001b[0;31mTypeError\u001b[0m: Cannot convert str to pyarrow.lib.MemoryPool"
     ]
    },
    {
     "name": "stderr",
     "output_type": "stream",
     "text": [
      "Exception ignored in: 'pyarrow.lib._convert_pandas_options'\n",
      "Traceback (most recent call last):\n",
      "  File \"/home/codemaster/anaconda3/envs/america-exp/lib/python3.11/site-packages/pyarrow/pandas_compat.py\", line 1168, in _table_to_blocks\n",
      "    result = pa.lib.table_to_blocks(options, block_table, categories,\n",
      "             ^^^^^^^^^^^^^^^^^^^^^^^^^^^^^^^^^^^^^^^^^^^^^^^^^^^^^^^^\n",
      "TypeError: Cannot convert str to pyarrow.lib.MemoryPool\n"
     ]
    },
    {
     "name": "stdout",
     "output_type": "stream",
     "text": [
      "391/391 [==============================] - 2s 5ms/step - loss: 0.3181 - acc: 0.8624 - recall_1: 0.7497 - precision_1: 0.7251\n"
     ]
    },
    {
     "ename": "TypeError",
     "evalue": "Cannot convert str to pyarrow.lib.MemoryPool",
     "output_type": "error",
     "traceback": [
      "\u001b[0;31m---------------------------------------------------------------------------\u001b[0m",
      "\u001b[0;31mTypeError\u001b[0m                                 Traceback (most recent call last)",
      "\u001b[0;31mTypeError\u001b[0m: Cannot convert str to pyarrow.lib.MemoryPool"
     ]
    },
    {
     "name": "stderr",
     "output_type": "stream",
     "text": [
      "Exception ignored in: 'pyarrow.lib._convert_pandas_options'\n",
      "Traceback (most recent call last):\n",
      "  File \"/home/codemaster/anaconda3/envs/america-exp/lib/python3.11/site-packages/pyarrow/pandas_compat.py\", line 1168, in _table_to_blocks\n",
      "    result = pa.lib.table_to_blocks(options, block_table, categories,\n",
      "             ^^^^^^^^^^^^^^^^^^^^^^^^^^^^^^^^^^^^^^^^^^^^^^^^^^^^^^^^\n",
      "TypeError: Cannot convert str to pyarrow.lib.MemoryPool\n"
     ]
    },
    {
     "name": "stdout",
     "output_type": "stream",
     "text": [
      "70/70 [==============================] - 0s 5ms/step - loss: 0.2896 - acc: 0.8798 - recall_1: 0.7842 - precision_1: 0.7567\n"
     ]
    },
    {
     "ename": "TypeError",
     "evalue": "Cannot convert str to pyarrow.lib.MemoryPool",
     "output_type": "error",
     "traceback": [
      "\u001b[0;31m---------------------------------------------------------------------------\u001b[0m",
      "\u001b[0;31mTypeError\u001b[0m                                 Traceback (most recent call last)",
      "\u001b[0;31mTypeError\u001b[0m: Cannot convert str to pyarrow.lib.MemoryPool"
     ]
    },
    {
     "name": "stderr",
     "output_type": "stream",
     "text": [
      "Exception ignored in: 'pyarrow.lib._convert_pandas_options'\n",
      "Traceback (most recent call last):\n",
      "  File \"/home/codemaster/anaconda3/envs/america-exp/lib/python3.11/site-packages/pyarrow/pandas_compat.py\", line 1168, in _table_to_blocks\n",
      "    result = pa.lib.table_to_blocks(options, block_table, categories,\n",
      "             ^^^^^^^^^^^^^^^^^^^^^^^^^^^^^^^^^^^^^^^^^^^^^^^^^^^^^^^^\n",
      "TypeError: Cannot convert str to pyarrow.lib.MemoryPool\n"
     ]
    },
    {
     "name": "stdout",
     "output_type": "stream",
     "text": [
      "391/391 [==============================] - 2s 5ms/step - loss: 0.3480 - acc: 0.8701 - recall_1: 0.7827 - precision_1: 0.7315\n"
     ]
    },
    {
     "ename": "TypeError",
     "evalue": "Cannot convert str to pyarrow.lib.MemoryPool",
     "output_type": "error",
     "traceback": [
      "\u001b[0;31m---------------------------------------------------------------------------\u001b[0m",
      "\u001b[0;31mTypeError\u001b[0m                                 Traceback (most recent call last)",
      "\u001b[0;31mTypeError\u001b[0m: Cannot convert str to pyarrow.lib.MemoryPool"
     ]
    },
    {
     "name": "stderr",
     "output_type": "stream",
     "text": [
      "Exception ignored in: 'pyarrow.lib._convert_pandas_options'\n",
      "Traceback (most recent call last):\n",
      "  File \"/home/codemaster/anaconda3/envs/america-exp/lib/python3.11/site-packages/pyarrow/pandas_compat.py\", line 1168, in _table_to_blocks\n",
      "    result = pa.lib.table_to_blocks(options, block_table, categories,\n",
      "             ^^^^^^^^^^^^^^^^^^^^^^^^^^^^^^^^^^^^^^^^^^^^^^^^^^^^^^^^\n",
      "TypeError: Cannot convert str to pyarrow.lib.MemoryPool\n"
     ]
    },
    {
     "name": "stdout",
     "output_type": "stream",
     "text": [
      "391/391 [==============================] - 2s 5ms/step - loss: 0.3063 - acc: 0.8700 - recall_1: 0.7871 - precision_1: 0.7327\n"
     ]
    },
    {
     "ename": "TypeError",
     "evalue": "Cannot convert str to pyarrow.lib.MemoryPool",
     "output_type": "error",
     "traceback": [
      "\u001b[0;31m---------------------------------------------------------------------------\u001b[0m",
      "\u001b[0;31mTypeError\u001b[0m                                 Traceback (most recent call last)",
      "\u001b[0;31mTypeError\u001b[0m: Cannot convert str to pyarrow.lib.MemoryPool"
     ]
    },
    {
     "name": "stderr",
     "output_type": "stream",
     "text": [
      "Exception ignored in: 'pyarrow.lib._convert_pandas_options'\n",
      "Traceback (most recent call last):\n",
      "  File \"/home/codemaster/anaconda3/envs/america-exp/lib/python3.11/site-packages/pyarrow/pandas_compat.py\", line 1168, in _table_to_blocks\n",
      "    result = pa.lib.table_to_blocks(options, block_table, categories,\n",
      "             ^^^^^^^^^^^^^^^^^^^^^^^^^^^^^^^^^^^^^^^^^^^^^^^^^^^^^^^^\n",
      "TypeError: Cannot convert str to pyarrow.lib.MemoryPool\n"
     ]
    },
    {
     "name": "stdout",
     "output_type": "stream",
     "text": [
      "391/391 [==============================] - 2s 5ms/step - loss: 0.3154 - acc: 0.8636 - recall_1: 0.7634 - precision_1: 0.7226\n"
     ]
    },
    {
     "ename": "TypeError",
     "evalue": "Cannot convert str to pyarrow.lib.MemoryPool",
     "output_type": "error",
     "traceback": [
      "\u001b[0;31m---------------------------------------------------------------------------\u001b[0m",
      "\u001b[0;31mTypeError\u001b[0m                                 Traceback (most recent call last)",
      "\u001b[0;31mTypeError\u001b[0m: Cannot convert str to pyarrow.lib.MemoryPool"
     ]
    },
    {
     "name": "stderr",
     "output_type": "stream",
     "text": [
      "Exception ignored in: 'pyarrow.lib._convert_pandas_options'\n",
      "Traceback (most recent call last):\n",
      "  File \"/home/codemaster/anaconda3/envs/america-exp/lib/python3.11/site-packages/pyarrow/pandas_compat.py\", line 1168, in _table_to_blocks\n",
      "    result = pa.lib.table_to_blocks(options, block_table, categories,\n",
      "             ^^^^^^^^^^^^^^^^^^^^^^^^^^^^^^^^^^^^^^^^^^^^^^^^^^^^^^^^\n",
      "TypeError: Cannot convert str to pyarrow.lib.MemoryPool\n"
     ]
    },
    {
     "name": "stdout",
     "output_type": "stream",
     "text": [
      "391/391 [==============================] - 2s 5ms/step - loss: 0.3204 - acc: 0.8679 - recall_1: 0.7746 - precision_1: 0.7302\n"
     ]
    },
    {
     "ename": "TypeError",
     "evalue": "Cannot convert str to pyarrow.lib.MemoryPool",
     "output_type": "error",
     "traceback": [
      "\u001b[0;31m---------------------------------------------------------------------------\u001b[0m",
      "\u001b[0;31mTypeError\u001b[0m                                 Traceback (most recent call last)",
      "\u001b[0;31mTypeError\u001b[0m: Cannot convert str to pyarrow.lib.MemoryPool"
     ]
    },
    {
     "name": "stderr",
     "output_type": "stream",
     "text": [
      "Exception ignored in: 'pyarrow.lib._convert_pandas_options'\n",
      "Traceback (most recent call last):\n",
      "  File \"/home/codemaster/anaconda3/envs/america-exp/lib/python3.11/site-packages/pyarrow/pandas_compat.py\", line 1168, in _table_to_blocks\n",
      "    result = pa.lib.table_to_blocks(options, block_table, categories,\n",
      "             ^^^^^^^^^^^^^^^^^^^^^^^^^^^^^^^^^^^^^^^^^^^^^^^^^^^^^^^^\n",
      "TypeError: Cannot convert str to pyarrow.lib.MemoryPool\n"
     ]
    },
    {
     "name": "stdout",
     "output_type": "stream",
     "text": [
      "391/391 [==============================] - 2s 5ms/step - loss: 0.3236 - acc: 0.8632 - recall_1: 0.8177 - precision_1: 0.7048\n"
     ]
    },
    {
     "ename": "TypeError",
     "evalue": "Cannot convert str to pyarrow.lib.MemoryPool",
     "output_type": "error",
     "traceback": [
      "\u001b[0;31m---------------------------------------------------------------------------\u001b[0m",
      "\u001b[0;31mTypeError\u001b[0m                                 Traceback (most recent call last)",
      "\u001b[0;31mTypeError\u001b[0m: Cannot convert str to pyarrow.lib.MemoryPool"
     ]
    },
    {
     "name": "stderr",
     "output_type": "stream",
     "text": [
      "Exception ignored in: 'pyarrow.lib._convert_pandas_options'\n",
      "Traceback (most recent call last):\n",
      "  File \"/home/codemaster/anaconda3/envs/america-exp/lib/python3.11/site-packages/pyarrow/pandas_compat.py\", line 1168, in _table_to_blocks\n",
      "    result = pa.lib.table_to_blocks(options, block_table, categories,\n",
      "             ^^^^^^^^^^^^^^^^^^^^^^^^^^^^^^^^^^^^^^^^^^^^^^^^^^^^^^^^\n",
      "TypeError: Cannot convert str to pyarrow.lib.MemoryPool\n"
     ]
    },
    {
     "name": "stdout",
     "output_type": "stream",
     "text": [
      "391/391 [==============================] - 2s 5ms/step - loss: 0.3066 - acc: 0.8703 - recall_1: 0.7747 - precision_1: 0.7363\n"
     ]
    },
    {
     "ename": "TypeError",
     "evalue": "Cannot convert str to pyarrow.lib.MemoryPool",
     "output_type": "error",
     "traceback": [
      "\u001b[0;31m---------------------------------------------------------------------------\u001b[0m",
      "\u001b[0;31mTypeError\u001b[0m                                 Traceback (most recent call last)",
      "\u001b[0;31mTypeError\u001b[0m: Cannot convert str to pyarrow.lib.MemoryPool"
     ]
    },
    {
     "name": "stderr",
     "output_type": "stream",
     "text": [
      "Exception ignored in: 'pyarrow.lib._convert_pandas_options'\n",
      "Traceback (most recent call last):\n",
      "  File \"/home/codemaster/anaconda3/envs/america-exp/lib/python3.11/site-packages/pyarrow/pandas_compat.py\", line 1168, in _table_to_blocks\n",
      "    result = pa.lib.table_to_blocks(options, block_table, categories,\n",
      "             ^^^^^^^^^^^^^^^^^^^^^^^^^^^^^^^^^^^^^^^^^^^^^^^^^^^^^^^^\n",
      "TypeError: Cannot convert str to pyarrow.lib.MemoryPool\n"
     ]
    },
    {
     "name": "stdout",
     "output_type": "stream",
     "text": [
      "391/391 [==============================] - 2s 5ms/step - loss: 0.2957 - acc: 0.8725 - recall_1: 0.7628 - precision_1: 0.7524\n"
     ]
    },
    {
     "ename": "TypeError",
     "evalue": "Cannot convert str to pyarrow.lib.MemoryPool",
     "output_type": "error",
     "traceback": [
      "\u001b[0;31m---------------------------------------------------------------------------\u001b[0m",
      "\u001b[0;31mTypeError\u001b[0m                                 Traceback (most recent call last)",
      "\u001b[0;31mTypeError\u001b[0m: Cannot convert str to pyarrow.lib.MemoryPool"
     ]
    },
    {
     "name": "stderr",
     "output_type": "stream",
     "text": [
      "Exception ignored in: 'pyarrow.lib._convert_pandas_options'\n",
      "Traceback (most recent call last):\n",
      "  File \"/home/codemaster/anaconda3/envs/america-exp/lib/python3.11/site-packages/pyarrow/pandas_compat.py\", line 1168, in _table_to_blocks\n",
      "    result = pa.lib.table_to_blocks(options, block_table, categories,\n",
      "             ^^^^^^^^^^^^^^^^^^^^^^^^^^^^^^^^^^^^^^^^^^^^^^^^^^^^^^^^\n",
      "TypeError: Cannot convert str to pyarrow.lib.MemoryPool\n"
     ]
    },
    {
     "name": "stdout",
     "output_type": "stream",
     "text": [
      "391/391 [==============================] - 2s 5ms/step - loss: 0.3040 - acc: 0.8666 - recall_1: 0.7733 - precision_1: 0.7303\n"
     ]
    },
    {
     "ename": "TypeError",
     "evalue": "Cannot convert str to pyarrow.lib.MemoryPool",
     "output_type": "error",
     "traceback": [
      "\u001b[0;31m---------------------------------------------------------------------------\u001b[0m",
      "\u001b[0;31mTypeError\u001b[0m                                 Traceback (most recent call last)",
      "\u001b[0;31mTypeError\u001b[0m: Cannot convert str to pyarrow.lib.MemoryPool"
     ]
    },
    {
     "name": "stderr",
     "output_type": "stream",
     "text": [
      "Exception ignored in: 'pyarrow.lib._convert_pandas_options'\n",
      "Traceback (most recent call last):\n",
      "  File \"/home/codemaster/anaconda3/envs/america-exp/lib/python3.11/site-packages/pyarrow/pandas_compat.py\", line 1168, in _table_to_blocks\n",
      "    result = pa.lib.table_to_blocks(options, block_table, categories,\n",
      "             ^^^^^^^^^^^^^^^^^^^^^^^^^^^^^^^^^^^^^^^^^^^^^^^^^^^^^^^^\n",
      "TypeError: Cannot convert str to pyarrow.lib.MemoryPool\n"
     ]
    },
    {
     "name": "stdout",
     "output_type": "stream",
     "text": [
      "391/391 [==============================] - 2s 5ms/step - loss: 0.3162 - acc: 0.8634 - recall_1: 0.7692 - precision_1: 0.7195\n"
     ]
    },
    {
     "ename": "TypeError",
     "evalue": "Cannot convert str to pyarrow.lib.MemoryPool",
     "output_type": "error",
     "traceback": [
      "\u001b[0;31m---------------------------------------------------------------------------\u001b[0m",
      "\u001b[0;31mTypeError\u001b[0m                                 Traceback (most recent call last)",
      "\u001b[0;31mTypeError\u001b[0m: Cannot convert str to pyarrow.lib.MemoryPool"
     ]
    },
    {
     "name": "stderr",
     "output_type": "stream",
     "text": [
      "Exception ignored in: 'pyarrow.lib._convert_pandas_options'\n",
      "Traceback (most recent call last):\n",
      "  File \"/home/codemaster/anaconda3/envs/america-exp/lib/python3.11/site-packages/pyarrow/pandas_compat.py\", line 1168, in _table_to_blocks\n",
      "    result = pa.lib.table_to_blocks(options, block_table, categories,\n",
      "             ^^^^^^^^^^^^^^^^^^^^^^^^^^^^^^^^^^^^^^^^^^^^^^^^^^^^^^^^\n",
      "TypeError: Cannot convert str to pyarrow.lib.MemoryPool\n"
     ]
    },
    {
     "name": "stdout",
     "output_type": "stream",
     "text": [
      "70/70 [==============================] - 0s 5ms/step - loss: 0.2988 - acc: 0.8760 - recall_1: 0.7872 - precision_1: 0.7446\n"
     ]
    }
   ],
   "source": [
    "import pyarrow.parquet as pq\n",
    "MAX_EPOCHS=10\n",
    "patience=2\n",
    "'''\n",
    "lstm_model = tf.keras.models.Sequential([\n",
    "    # Shape [batch, time, features] => [batch, time, lstm_units]\n",
    "    tf.keras.layers.Conv1D(32,(2)),\n",
    "    tf.keras.layers.LSTM(32, return_sequences=True, dropout=0.7),\n",
    "    tf.keras.layers.LSTM(32, return_sequences=True, dropout=0.6),\n",
    "    tf.keras.layers.LSTM(32, return_sequences=False, dropout=0.5),\n",
    "    #tf.keras.layers.Flatten(),\n",
    "    # Shape => [batch, time, features]\n",
    "    tf.keras.layers.Dense(units=128, activation= tf.keras.activations.relu),\n",
    "    tf.keras.layers.Dense(units=64, activation= tf.keras.activations.relu),\n",
    "    tf.keras.layers.Dense(units=1, activation= tf.keras.activations.sigmoid)\n",
    "])'''\n",
    "early_stopping = tf.keras.callbacks.EarlyStopping(monitor='acc', patience=patience, mode='min')\n",
    "lstm_model.compile(loss=tf.keras.losses.BinaryCrossentropy(),\n",
    "              optimizer=tf.keras.optimizers.AdamW(use_ema=True),\n",
    "              metrics=['acc',tf.keras.metrics.Recall(), tf.keras.metrics.Precision()])\n",
    "parquet_file = pq.ParquetFile('./merged_train/merged_train.parquet')\n",
    "history = []\n",
    "for me in range(MAX_EPOCHS):\n",
    "    for batch in parquet_file.iter_batches(batch_size=650000):\n",
    "        df = batch.to_pandas('./merged_train/merged_train.parquet')\n",
    "        #data = np.array(data, dtype=np.float32)\n",
    "        ds_train = tf.keras.utils.timeseries_dataset_from_array(data=df.iloc[:, 2:-1].to_numpy(),\n",
    "                                                              targets=df.iloc[:, -1].to_numpy(),\n",
    "                                                              sequence_length=13,\n",
    "                                                              sequence_stride=13,\n",
    "                                                              shuffle=False,\n",
    "                                                              batch_size=128,)\n",
    "        history.append( lstm_model.fit(ds_train, epochs=1,shuffle=False,verbose=1,\n",
    "                            callbacks=[early_stopping]))"
   ]
  },
  {
   "cell_type": "code",
   "execution_count": 8,
   "id": "53750fea-8d28-4340-947e-13d48d99ec0e",
   "metadata": {},
   "outputs": [],
   "source": [
    "lstm_model.save_weights('lstm_model')"
   ]
  },
  {
   "cell_type": "code",
   "execution_count": 19,
   "id": "e79f1e00-7971-4a9c-bb95-1a9fca86edbb",
   "metadata": {},
   "outputs": [
    {
     "name": "stdout",
     "output_type": "stream",
     "text": [
      "10000/10000 [==============================] - 9s 882us/step\n",
      "10000/10000 [==============================] - 9s 879us/step\n",
      "10000/10000 [==============================] - 9s 877us/step\n",
      "10000/10000 [==============================] - 9s 881us/step\n",
      "10000/10000 [==============================] - 9s 882us/step\n",
      "10000/10000 [==============================] - 9s 884us/step\n",
      "10000/10000 [==============================] - 9s 879us/step\n",
      "10000/10000 [==============================] - 9s 878us/step\n",
      "10000/10000 [==============================] - 9s 882us/step\n",
      "10000/10000 [==============================] - 9s 881us/step\n",
      "10000/10000 [==============================] - 9s 881us/step\n",
      "10000/10000 [==============================] - 9s 883us/step\n",
      "10000/10000 [==============================] - 9s 881us/step\n",
      "10000/10000 [==============================] - 9s 884us/step\n",
      "10000/10000 [==============================] - 9s 881us/step\n",
      "10000/10000 [==============================] - 9s 887us/step\n",
      "10000/10000 [==============================] - 9s 876us/step\n",
      "10000/10000 [==============================] - 9s 885us/step\n",
      "10000/10000 [==============================] - 9s 879us/step\n",
      "10000/10000 [==============================] - 9s 880us/step\n",
      "10000/10000 [==============================] - 9s 885us/step\n",
      "10000/10000 [==============================] - 9s 878us/step\n",
      "10000/10000 [==============================] - 9s 878us/step\n",
      "10000/10000 [==============================] - 9s 887us/step\n",
      "10000/10000 [==============================] - 9s 879us/step\n",
      "10000/10000 [==============================] - 9s 883us/step\n",
      "10000/10000 [==============================] - 9s 878us/step\n",
      "10000/10000 [==============================] - 9s 886us/step\n",
      "10000/10000 [==============================] - 9s 877us/step\n",
      "10000/10000 [==============================] - 9s 881us/step\n",
      "10000/10000 [==============================] - 9s 882us/step\n",
      "10000/10000 [==============================] - 9s 894us/step\n",
      "10000/10000 [==============================] - 9s 886us/step\n",
      "10000/10000 [==============================] - 9s 899us/step\n",
      "10000/10000 [==============================] - 9s 929us/step\n",
      "10000/10000 [==============================] - 9s 904us/step\n",
      "10000/10000 [==============================] - 9s 892us/step\n",
      "10000/10000 [==============================] - 9s 880us/step\n",
      "10000/10000 [==============================] - 9s 894us/step\n",
      "10000/10000 [==============================] - 9s 883us/step\n",
      "10000/10000 [==============================] - 9s 898us/step\n",
      "10000/10000 [==============================] - 9s 915us/step\n",
      "10000/10000 [==============================] - 9s 884us/step\n",
      "10000/10000 [==============================] - 9s 903us/step\n",
      "10000/10000 [==============================] - 9s 894us/step\n",
      "10000/10000 [==============================] - 9s 893us/step\n",
      "10000/10000 [==============================] - 9s 913us/step\n",
      "10000/10000 [==============================] - 9s 910us/step\n",
      "10000/10000 [==============================] - 9s 896us/step\n",
      "10000/10000 [==============================] - 9s 895us/step\n",
      "10000/10000 [==============================] - 9s 910us/step\n",
      "10000/10000 [==============================] - 9s 877us/step\n",
      "10000/10000 [==============================] - 9s 895us/step\n",
      "10000/10000 [==============================] - 9s 878us/step\n",
      "10000/10000 [==============================] - 9s 880us/step\n",
      "10000/10000 [==============================] - 9s 883us/step\n",
      "10000/10000 [==============================] - 9s 876us/step\n",
      "10000/10000 [==============================] - 9s 885us/step\n",
      "10000/10000 [==============================] - 9s 908us/step\n",
      "10000/10000 [==============================] - 10s 956us/step\n",
      "10000/10000 [==============================] - 9s 889us/step\n",
      "10000/10000 [==============================] - 9s 882us/step\n",
      "10000/10000 [==============================] - 9s 884us/step\n",
      "10000/10000 [==============================] - 9s 898us/step\n",
      "10000/10000 [==============================] - 9s 895us/step\n",
      "10000/10000 [==============================] - 9s 894us/step\n",
      "10000/10000 [==============================] - 9s 888us/step\n",
      "10000/10000 [==============================] - 9s 885us/step\n",
      "10000/10000 [==============================] - 9s 884us/step\n",
      "10000/10000 [==============================] - 9s 885us/step\n",
      "10000/10000 [==============================] - 9s 883us/step\n",
      "10000/10000 [==============================] - 9s 880us/step\n",
      "10000/10000 [==============================] - 9s 886us/step\n",
      "10000/10000 [==============================] - 9s 914us/step\n",
      "10000/10000 [==============================] - 9s 877us/step\n",
      "10000/10000 [==============================] - 9s 884us/step\n",
      "10000/10000 [==============================] - 9s 884us/step\n",
      "10000/10000 [==============================] - 9s 877us/step\n",
      "10000/10000 [==============================] - 9s 883us/step\n",
      "10000/10000 [==============================] - 9s 879us/step\n",
      "10000/10000 [==============================] - 9s 912us/step\n",
      "10000/10000 [==============================] - 9s 891us/step\n",
      "10000/10000 [==============================] - 9s 881us/step\n",
      "10000/10000 [==============================] - 9s 881us/step\n",
      "10000/10000 [==============================] - 9s 889us/step\n",
      "10000/10000 [==============================] - 9s 882us/step\n",
      "10000/10000 [==============================] - 9s 880us/step\n",
      "10000/10000 [==============================] - 9s 899us/step\n",
      "10000/10000 [==============================] - 9s 883us/step\n",
      "10000/10000 [==============================] - 9s 882us/step\n",
      "10000/10000 [==============================] - 9s 879us/step\n",
      "10000/10000 [==============================] - 9s 880us/step\n",
      "4621/4621 [==============================] - 4s 887us/step\n"
     ]
    }
   ],
   "source": [
    "parquet_file = pq.ParquetFile('./unified_test/test.parquet')\n",
    "count = 0\n",
    "for batch in parquet_file.iter_batches(batch_size=130000):\n",
    "    df = batch.to_pandas()\n",
    "    customers = df['customer_ID'].copy()\n",
    "    test = pd.DataFrame(customers.unique().to_numpy().reshape((-1,1)),columns=['customer_ID'])\n",
    "    \n",
    "    #data = np.array(data, dtype=np.float32)\n",
    "    ds_test = tf.keras.utils.timeseries_dataset_from_array(data=df.iloc[:, 2:].to_numpy(),\n",
    "                                                          targets=None,\n",
    "                                                          sequence_length=13,\n",
    "                                                          sequence_stride=13,\n",
    "                                                          shuffle=False,\n",
    "                                                          batch_size=1)\n",
    "    predictions = lstm_model.predict(ds_test)\n",
    "    test['predictions'] = np.array(predictions).reshape((-1,1))\n",
    "    test['predictions'] = test['predictions'].apply(lambda x: 1 if x >=0.3 else 0)\n",
    "    test.to_parquet(f'../data/submit_data/answer{count}.parquet')\n",
    "    count += 1"
   ]
  },
  {
   "cell_type": "code",
   "execution_count": 24,
   "id": "4d4ec33c-94e7-4c95-ad55-85af9b36b94d",
   "metadata": {},
   "outputs": [],
   "source": [
    "sub = pd.read_parquet(\"../data/submit_data/\")"
   ]
  },
  {
   "cell_type": "code",
   "execution_count": 21,
   "id": "b49484ce-9df4-4c14-a3f6-ad581a93ec68",
   "metadata": {},
   "outputs": [],
   "source": [
    "sub = sub.rename({'predictions': 'prediction'}, axis=1)"
   ]
  },
  {
   "cell_type": "code",
   "execution_count": 22,
   "id": "a572e18a-0c2e-4b54-9bb2-3729a9c8ec0d",
   "metadata": {},
   "outputs": [],
   "source": [
    "sub.to_csv(\"sub_final.csv\", index=False)"
   ]
  },
  {
   "cell_type": "code",
   "execution_count": 23,
   "id": "ed86bb5d-1402-4527-8a1b-572ab8f7b041",
   "metadata": {},
   "outputs": [
    {
     "name": "stdout",
     "output_type": "stream",
     "text": [
      "Warning: Your Kaggle API key is readable by other users on this system! To fix this, you can run 'chmod 600 /home/codemaster/.kaggle/kaggle.json'\n",
      "100%|██████████████████████████████████████| 59.1M/59.1M [00:05<00:00, 12.1MB/s]\n",
      "Successfully submitted to American Express - Default Prediction"
     ]
    }
   ],
   "source": [
    "!kaggle competitions submit -c amex-default-prediction -f 'sub_final.csv' -m \"LSTM+DENSE\""
   ]
  },
  {
   "cell_type": "markdown",
   "id": "c1962ba5-e833-49db-900a-3e4d025e3a67",
   "metadata": {},
   "source": [
    "#### Final score:\n",
    "#### score:0.44\n"
   ]
  },
  {
   "cell_type": "code",
   "execution_count": 11,
   "id": "5a4aba68-49d9-4667-8c0b-dc009b61de61",
   "metadata": {},
   "outputs": [
    {
     "name": "stdout",
     "output_type": "stream",
     "text": [
      "\n"
     ]
    }
   ],
   "source": [
    "print()"
   ]
  },
  {
   "cell_type": "code",
   "execution_count": null,
   "id": "06420235-8a0f-47c7-b9b2-4f0e6288bbf9",
   "metadata": {},
   "outputs": [],
   "source": []
  }
 ],
 "metadata": {
  "kernelspec": {
   "display_name": "Python 3 (ipykernel)",
   "language": "python",
   "name": "python3"
  },
  "language_info": {
   "codemirror_mode": {
    "name": "ipython",
    "version": 3
   },
   "file_extension": ".py",
   "mimetype": "text/x-python",
   "name": "python",
   "nbconvert_exporter": "python",
   "pygments_lexer": "ipython3",
   "version": "3.11.4"
  }
 },
 "nbformat": 4,
 "nbformat_minor": 5
}
