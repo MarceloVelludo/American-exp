{
 "cells": [
  {
   "cell_type": "code",
   "execution_count": 1,
   "id": "cba3d9fa-9b18-43a5-b184-7d2a2d06b4fb",
   "metadata": {},
   "outputs": [],
   "source": [
    "import pandas as pd\n",
    "import numpy as np"
   ]
  },
  {
   "cell_type": "code",
   "execution_count": 2,
   "id": "edf46a7b-59ce-4024-96c8-3a79758a362b",
   "metadata": {},
   "outputs": [
    {
     "name": "stderr",
     "output_type": "stream",
     "text": [
      "2023-04-04 05:36:57.955505: I tensorflow/core/platform/cpu_feature_guard.cc:182] This TensorFlow binary is optimized to use available CPU instructions in performance-critical operations.\n",
      "To enable the following instructions: AVX2 AVX512F FMA, in other operations, rebuild TensorFlow with the appropriate compiler flags.\n"
     ]
    }
   ],
   "source": [
    "import os\n",
    "import datetime\n",
    "\n",
    "import IPython\n",
    "import IPython.displayz\n",
    "import matplotlib as mpl\n",
    "import matplotlib.pyplot as plt\n",
    "import numpy as np\n",
    "import pandas as pd\n",
    "import seaborn as sns\n",
    "import tensorflow as tf"
   ]
  },
  {
   "cell_type": "code",
   "execution_count": 3,
   "id": "dd6db279-0e25-48c2-ac2d-de6045a619ce",
   "metadata": {},
   "outputs": [],
   "source": [
    "mar = pd.read_parquet(\"./data\")"
   ]
  },
  {
   "cell_type": "code",
   "execution_count": 4,
   "id": "bfc11040-beaa-4a42-abbe-0fa9563433a4",
   "metadata": {},
   "outputs": [
    {
     "data": {
      "text/html": [
       "<div>\n",
       "<style scoped>\n",
       "    .dataframe tbody tr th:only-of-type {\n",
       "        vertical-align: middle;\n",
       "    }\n",
       "\n",
       "    .dataframe tbody tr th {\n",
       "        vertical-align: top;\n",
       "    }\n",
       "\n",
       "    .dataframe thead th {\n",
       "        text-align: right;\n",
       "    }\n",
       "</style>\n",
       "<table border=\"1\" class=\"dataframe\">\n",
       "  <thead>\n",
       "    <tr style=\"text-align: right;\">\n",
       "      <th></th>\n",
       "      <th>j_1</th>\n",
       "      <th>j_2</th>\n",
       "      <th>bz_1</th>\n",
       "      <th>bz_2</th>\n",
       "      <th>j_12_Target</th>\n",
       "      <th>ox1T0.1</th>\n",
       "      <th>ox2T0.1</th>\n",
       "      <th>oy1T0.1</th>\n",
       "      <th>oy2T0.1</th>\n",
       "      <th>oz1T0.1</th>\n",
       "      <th>...</th>\n",
       "      <th>oy1T450</th>\n",
       "      <th>oy2T450</th>\n",
       "      <th>oz1T450</th>\n",
       "      <th>oz2T450</th>\n",
       "      <th>ox1T500</th>\n",
       "      <th>ox2T500</th>\n",
       "      <th>oy1T500</th>\n",
       "      <th>oy2T500</th>\n",
       "      <th>oz1T500</th>\n",
       "      <th>oz2T500</th>\n",
       "    </tr>\n",
       "  </thead>\n",
       "  <tbody>\n",
       "    <tr>\n",
       "      <th>0</th>\n",
       "      <td>-1.0</td>\n",
       "      <td>-1.0</td>\n",
       "      <td>-1.0</td>\n",
       "      <td>-1.000000</td>\n",
       "      <td>-0.619758</td>\n",
       "      <td>0.994527</td>\n",
       "      <td>0.994527</td>\n",
       "      <td>-0.099671</td>\n",
       "      <td>-0.099671</td>\n",
       "      <td>0.004992</td>\n",
       "      <td>...</td>\n",
       "      <td>-0.314878</td>\n",
       "      <td>-0.314878</td>\n",
       "      <td>0.824949</td>\n",
       "      <td>0.824949</td>\n",
       "      <td>0.184704</td>\n",
       "      <td>0.184704</td>\n",
       "      <td>-0.594639</td>\n",
       "      <td>-0.594639</td>\n",
       "      <td>0.715608</td>\n",
       "      <td>0.715608</td>\n",
       "    </tr>\n",
       "    <tr>\n",
       "      <th>1</th>\n",
       "      <td>-1.0</td>\n",
       "      <td>-1.0</td>\n",
       "      <td>-1.0</td>\n",
       "      <td>-0.777778</td>\n",
       "      <td>-0.271506</td>\n",
       "      <td>0.994915</td>\n",
       "      <td>0.994913</td>\n",
       "      <td>-0.099675</td>\n",
       "      <td>-0.099746</td>\n",
       "      <td>0.004992</td>\n",
       "      <td>...</td>\n",
       "      <td>-0.370859</td>\n",
       "      <td>0.686554</td>\n",
       "      <td>0.721849</td>\n",
       "      <td>0.003485</td>\n",
       "      <td>0.634041</td>\n",
       "      <td>-0.441520</td>\n",
       "      <td>-0.523151</td>\n",
       "      <td>0.081804</td>\n",
       "      <td>0.540944</td>\n",
       "      <td>0.875605</td>\n",
       "    </tr>\n",
       "    <tr>\n",
       "      <th>2</th>\n",
       "      <td>-1.0</td>\n",
       "      <td>-1.0</td>\n",
       "      <td>-1.0</td>\n",
       "      <td>-0.555556</td>\n",
       "      <td>0.103436</td>\n",
       "      <td>0.994996</td>\n",
       "      <td>0.994993</td>\n",
       "      <td>-0.099661</td>\n",
       "      <td>-0.099772</td>\n",
       "      <td>0.004992</td>\n",
       "      <td>...</td>\n",
       "      <td>-0.046256</td>\n",
       "      <td>0.380031</td>\n",
       "      <td>0.174486</td>\n",
       "      <td>0.674294</td>\n",
       "      <td>0.935497</td>\n",
       "      <td>-0.457532</td>\n",
       "      <td>-0.302336</td>\n",
       "      <td>-0.025401</td>\n",
       "      <td>0.003199</td>\n",
       "      <td>0.869823</td>\n",
       "    </tr>\n",
       "    <tr>\n",
       "      <th>3</th>\n",
       "      <td>-1.0</td>\n",
       "      <td>-1.0</td>\n",
       "      <td>-1.0</td>\n",
       "      <td>-0.333333</td>\n",
       "      <td>0.265824</td>\n",
       "      <td>0.994921</td>\n",
       "      <td>0.994919</td>\n",
       "      <td>-0.099651</td>\n",
       "      <td>-0.099784</td>\n",
       "      <td>0.004991</td>\n",
       "      <td>...</td>\n",
       "      <td>-0.241858</td>\n",
       "      <td>-0.436169</td>\n",
       "      <td>0.196513</td>\n",
       "      <td>0.088101</td>\n",
       "      <td>0.644188</td>\n",
       "      <td>0.424165</td>\n",
       "      <td>0.596820</td>\n",
       "      <td>0.835101</td>\n",
       "      <td>0.385271</td>\n",
       "      <td>0.205659</td>\n",
       "    </tr>\n",
       "    <tr>\n",
       "      <th>4</th>\n",
       "      <td>-1.0</td>\n",
       "      <td>-1.0</td>\n",
       "      <td>-1.0</td>\n",
       "      <td>-0.111111</td>\n",
       "      <td>0.367345</td>\n",
       "      <td>0.994841</td>\n",
       "      <td>0.994840</td>\n",
       "      <td>-0.099647</td>\n",
       "      <td>-0.099784</td>\n",
       "      <td>0.004991</td>\n",
       "      <td>...</td>\n",
       "      <td>0.177218</td>\n",
       "      <td>0.572215</td>\n",
       "      <td>0.570096</td>\n",
       "      <td>0.070948</td>\n",
       "      <td>0.574927</td>\n",
       "      <td>0.420632</td>\n",
       "      <td>-0.003760</td>\n",
       "      <td>0.570323</td>\n",
       "      <td>0.419947</td>\n",
       "      <td>0.068645</td>\n",
       "    </tr>\n",
       "    <tr>\n",
       "      <th>...</th>\n",
       "      <td>...</td>\n",
       "      <td>...</td>\n",
       "      <td>...</td>\n",
       "      <td>...</td>\n",
       "      <td>...</td>\n",
       "      <td>...</td>\n",
       "      <td>...</td>\n",
       "      <td>...</td>\n",
       "      <td>...</td>\n",
       "      <td>...</td>\n",
       "      <td>...</td>\n",
       "      <td>...</td>\n",
       "      <td>...</td>\n",
       "      <td>...</td>\n",
       "      <td>...</td>\n",
       "      <td>...</td>\n",
       "      <td>...</td>\n",
       "      <td>...</td>\n",
       "      <td>...</td>\n",
       "      <td>...</td>\n",
       "      <td>...</td>\n",
       "    </tr>\n",
       "    <tr>\n",
       "      <th>9995</th>\n",
       "      <td>1.0</td>\n",
       "      <td>1.0</td>\n",
       "      <td>1.0</td>\n",
       "      <td>0.111111</td>\n",
       "      <td>-0.884211</td>\n",
       "      <td>0.994038</td>\n",
       "      <td>0.994040</td>\n",
       "      <td>0.099561</td>\n",
       "      <td>0.099661</td>\n",
       "      <td>0.004989</td>\n",
       "      <td>...</td>\n",
       "      <td>0.087388</td>\n",
       "      <td>0.421479</td>\n",
       "      <td>0.467271</td>\n",
       "      <td>0.227106</td>\n",
       "      <td>0.163088</td>\n",
       "      <td>0.801570</td>\n",
       "      <td>0.222655</td>\n",
       "      <td>-0.030106</td>\n",
       "      <td>0.754260</td>\n",
       "      <td>0.040746</td>\n",
       "    </tr>\n",
       "    <tr>\n",
       "      <th>9996</th>\n",
       "      <td>1.0</td>\n",
       "      <td>1.0</td>\n",
       "      <td>1.0</td>\n",
       "      <td>0.333333</td>\n",
       "      <td>0.559286</td>\n",
       "      <td>0.994618</td>\n",
       "      <td>0.994612</td>\n",
       "      <td>0.099643</td>\n",
       "      <td>0.099822</td>\n",
       "      <td>0.004991</td>\n",
       "      <td>...</td>\n",
       "      <td>-0.360335</td>\n",
       "      <td>-0.675117</td>\n",
       "      <td>0.437842</td>\n",
       "      <td>0.228584</td>\n",
       "      <td>0.250946</td>\n",
       "      <td>-0.333379</td>\n",
       "      <td>-0.182382</td>\n",
       "      <td>-0.464334</td>\n",
       "      <td>0.610999</td>\n",
       "      <td>0.377900</td>\n",
       "    </tr>\n",
       "    <tr>\n",
       "      <th>9997</th>\n",
       "      <td>1.0</td>\n",
       "      <td>1.0</td>\n",
       "      <td>1.0</td>\n",
       "      <td>0.555556</td>\n",
       "      <td>-0.578882</td>\n",
       "      <td>0.994595</td>\n",
       "      <td>0.994594</td>\n",
       "      <td>0.099599</td>\n",
       "      <td>0.099692</td>\n",
       "      <td>0.004990</td>\n",
       "      <td>...</td>\n",
       "      <td>0.473326</td>\n",
       "      <td>0.272847</td>\n",
       "      <td>0.426495</td>\n",
       "      <td>0.141145</td>\n",
       "      <td>0.658913</td>\n",
       "      <td>0.333132</td>\n",
       "      <td>0.693248</td>\n",
       "      <td>-0.613739</td>\n",
       "      <td>0.094899</td>\n",
       "      <td>0.660388</td>\n",
       "    </tr>\n",
       "    <tr>\n",
       "      <th>9998</th>\n",
       "      <td>1.0</td>\n",
       "      <td>1.0</td>\n",
       "      <td>1.0</td>\n",
       "      <td>0.777778</td>\n",
       "      <td>-0.852578</td>\n",
       "      <td>0.994112</td>\n",
       "      <td>0.994112</td>\n",
       "      <td>0.099522</td>\n",
       "      <td>0.099572</td>\n",
       "      <td>0.004988</td>\n",
       "      <td>...</td>\n",
       "      <td>-0.406658</td>\n",
       "      <td>0.034178</td>\n",
       "      <td>0.764092</td>\n",
       "      <td>0.572068</td>\n",
       "      <td>0.038090</td>\n",
       "      <td>0.759230</td>\n",
       "      <td>-0.263634</td>\n",
       "      <td>-0.040435</td>\n",
       "      <td>0.872436</td>\n",
       "      <td>0.504016</td>\n",
       "    </tr>\n",
       "    <tr>\n",
       "      <th>9999</th>\n",
       "      <td>1.0</td>\n",
       "      <td>1.0</td>\n",
       "      <td>1.0</td>\n",
       "      <td>1.000000</td>\n",
       "      <td>0.825507</td>\n",
       "      <td>0.994157</td>\n",
       "      <td>0.994157</td>\n",
       "      <td>0.099651</td>\n",
       "      <td>0.099651</td>\n",
       "      <td>0.004991</td>\n",
       "      <td>...</td>\n",
       "      <td>-0.304521</td>\n",
       "      <td>-0.304521</td>\n",
       "      <td>0.838177</td>\n",
       "      <td>0.838177</td>\n",
       "      <td>0.395836</td>\n",
       "      <td>0.395836</td>\n",
       "      <td>-0.603429</td>\n",
       "      <td>-0.603429</td>\n",
       "      <td>0.500925</td>\n",
       "      <td>0.500925</td>\n",
       "    </tr>\n",
       "  </tbody>\n",
       "</table>\n",
       "<p>10000 rows × 125 columns</p>\n",
       "</div>"
      ],
      "text/plain": [
       "      j_1  j_2  bz_1      bz_2  j_12_Target   ox1T0.1   ox2T0.1   oy1T0.1  \\\n",
       "0    -1.0 -1.0  -1.0 -1.000000    -0.619758  0.994527  0.994527 -0.099671   \n",
       "1    -1.0 -1.0  -1.0 -0.777778    -0.271506  0.994915  0.994913 -0.099675   \n",
       "2    -1.0 -1.0  -1.0 -0.555556     0.103436  0.994996  0.994993 -0.099661   \n",
       "3    -1.0 -1.0  -1.0 -0.333333     0.265824  0.994921  0.994919 -0.099651   \n",
       "4    -1.0 -1.0  -1.0 -0.111111     0.367345  0.994841  0.994840 -0.099647   \n",
       "...   ...  ...   ...       ...          ...       ...       ...       ...   \n",
       "9995  1.0  1.0   1.0  0.111111    -0.884211  0.994038  0.994040  0.099561   \n",
       "9996  1.0  1.0   1.0  0.333333     0.559286  0.994618  0.994612  0.099643   \n",
       "9997  1.0  1.0   1.0  0.555556    -0.578882  0.994595  0.994594  0.099599   \n",
       "9998  1.0  1.0   1.0  0.777778    -0.852578  0.994112  0.994112  0.099522   \n",
       "9999  1.0  1.0   1.0  1.000000     0.825507  0.994157  0.994157  0.099651   \n",
       "\n",
       "       oy2T0.1   oz1T0.1  ...   oy1T450   oy2T450   oz1T450   oz2T450  \\\n",
       "0    -0.099671  0.004992  ... -0.314878 -0.314878  0.824949  0.824949   \n",
       "1    -0.099746  0.004992  ... -0.370859  0.686554  0.721849  0.003485   \n",
       "2    -0.099772  0.004992  ... -0.046256  0.380031  0.174486  0.674294   \n",
       "3    -0.099784  0.004991  ... -0.241858 -0.436169  0.196513  0.088101   \n",
       "4    -0.099784  0.004991  ...  0.177218  0.572215  0.570096  0.070948   \n",
       "...        ...       ...  ...       ...       ...       ...       ...   \n",
       "9995  0.099661  0.004989  ...  0.087388  0.421479  0.467271  0.227106   \n",
       "9996  0.099822  0.004991  ... -0.360335 -0.675117  0.437842  0.228584   \n",
       "9997  0.099692  0.004990  ...  0.473326  0.272847  0.426495  0.141145   \n",
       "9998  0.099572  0.004988  ... -0.406658  0.034178  0.764092  0.572068   \n",
       "9999  0.099651  0.004991  ... -0.304521 -0.304521  0.838177  0.838177   \n",
       "\n",
       "       ox1T500   ox2T500   oy1T500   oy2T500   oz1T500   oz2T500  \n",
       "0     0.184704  0.184704 -0.594639 -0.594639  0.715608  0.715608  \n",
       "1     0.634041 -0.441520 -0.523151  0.081804  0.540944  0.875605  \n",
       "2     0.935497 -0.457532 -0.302336 -0.025401  0.003199  0.869823  \n",
       "3     0.644188  0.424165  0.596820  0.835101  0.385271  0.205659  \n",
       "4     0.574927  0.420632 -0.003760  0.570323  0.419947  0.068645  \n",
       "...        ...       ...       ...       ...       ...       ...  \n",
       "9995  0.163088  0.801570  0.222655 -0.030106  0.754260  0.040746  \n",
       "9996  0.250946 -0.333379 -0.182382 -0.464334  0.610999  0.377900  \n",
       "9997  0.658913  0.333132  0.693248 -0.613739  0.094899  0.660388  \n",
       "9998  0.038090  0.759230 -0.263634 -0.040435  0.872436  0.504016  \n",
       "9999  0.395836  0.395836 -0.603429 -0.603429  0.500925  0.500925  \n",
       "\n",
       "[10000 rows x 125 columns]"
      ]
     },
     "execution_count": 4,
     "metadata": {},
     "output_type": "execute_result"
    }
   ],
   "source": [
    "mar"
   ]
  },
  {
   "cell_type": "code",
   "execution_count": 5,
   "id": "e3ee0906-ff03-4c50-af9e-148d0da7690d",
   "metadata": {},
   "outputs": [
    {
     "data": {
      "image/png": "[encoded data removed]",
      "text/plain": [
       "<Figure size 640x480 with 60 Axes>"
      ]
     },
     "metadata": {},
     "output_type": "display_data"
    }
   ],
   "source": [
    "# Share both X and Y axes with all subplots\n",
    "fig, axs = plt.subplots(10, 6, sharey='row', sharex= 'col')\n",
    "for idx in range(10):\n",
    "    #ox\n",
    "    axs[idx,0].plot(range(10),mar.iloc[idx*1000].filter(regex = r\"ox1.*\")[:10])\n",
    "    axs[idx,1].plot(range(500, 5500, 500),mar.iloc[idx*1000].filter(regex = r\"ox1.*\")[10:])\n",
    "    axs[idx,0].plot(range(10),mar.iloc[idx*1000].filter(regex = r\"ox2.*\")[:10])\n",
    "    axs[idx,1].plot(range(500, 5500, 500),mar.iloc[idx*1000].filter(regex = r\"ox2.*\")[10:])\n",
    "    #oy\n",
    "    axs[idx,2].plot(range(10),mar.iloc[idx*1000].filter(regex = r\"oy1.*\")[:10])\n",
    "    axs[idx,3].plot(range(500, 5500, 500),mar.iloc[idx*1000].filter(regex = r\"oy1.*\")[10:])\n",
    "    axs[idx,2].plot(range(10),mar.iloc[idx*1000].filter(regex = r\"oy2.*\")[:10])\n",
    "    axs[idx,3].plot(range(500, 5500, 500),mar.iloc[idx*1000].filter(regex = r\"oy2.*\")[10:])\n",
    "    #oz\n",
    "    axs[idx,4].plot(range(10),mar.iloc[idx*1000].filter(regex = r\"oz1.*\")[:10])\n",
    "    axs[idx,5].plot(range(500, 5500, 500),mar.iloc[idx*1000].filter(regex = r\"oz1.*\")[10:])\n",
    "    axs[idx,4].plot(range(10),mar.iloc[idx*1000].filter(regex = r\"oz2.*\")[:10])\n",
    "    axs[idx,5].plot(range(500, 5500, 500),mar.iloc[idx*1000].filter(regex = r\"oz2.*\")[10:])\n"
   ]
  },
  {
   "cell_type": "markdown",
   "id": "6ef1be73-49d1-44e0-b11a-91ae70d9d756",
   "metadata": {},
   "source": [
    "## 1- Preparando o Dataset:\n",
    "Primeiro precisamos organizar o data set da seguinte maneira.\n",
    "O dataset precisa ter 3 dimensões para aplicar RNN, sendo elas (batch_size, tempo, features). Batch_size sendo o numero de exemplos apresentado pelo modelo a cada passo do treinamento do modelo. Tempo corresponde a quantidade de tempos que vamos utilizar, como pode ser observado no grafico acima, o tempo de 50 a 500 (incluindo as pontas), aparentemente apresenta uma maior relevancia que o tempo de 0.1 a 1 devido a sua variância. Notadamente o tempo de 50 a 500 são as colunas 2, 4, e 6, para os eixos x, y ,z. As features para cada medida de tempo corresponde ao eixo x, y, z para os dois qubits. As dimensões então vão ficar da seguinte forma (batch_size: a ser determinado, tempo:10, features por tempo:6). Antes precisamos dividir o dataset em treino, validação e teste."
   ]
  },
  {
   "cell_type": "code",
   "execution_count": 6,
   "id": "d8f8d096-8c26-4898-8d68-404353d0176f",
   "metadata": {},
   "outputs": [],
   "source": [
    "def get_dataset_partitions_pd(df, train_split=0.7, val_split=0.2, test_split=0.1):\n",
    "    assert (train_split + test_split + val_split) == 1\n",
    "\n",
    "    # Specify seed to always have the same split distribution between runs\n",
    "    df_sample = df.sample(frac=1, random_state=12)\n",
    "    train_ds = df_sample.iloc[:int(train_split * len(df))]   \n",
    "    val_ds = df_sample.iloc[int(train_split * len(df)):int(train_split * len(df))+int(val_split*len(df))]   \n",
    "    test_ds = df_sample.iloc[int(train_split * len(df))+int(val_split*len(df)): int(train_split * len(df))+int(val_split*len(df))+int(test_split*len(df))]\n",
    "    return train_ds, val_ds, test_ds\n",
    "train_df, val_df, test_df = get_dataset_partitions_pd(mar.filter(regex=r'j_1|j_2|bz_1|bz_2|j_12_Target|o[x,y,z].T\\d\\d'))"
   ]
  },
  {
   "cell_type": "code",
   "execution_count": 7,
   "id": "6a78f216-c009-400a-9bb7-6d9000a2be9f",
   "metadata": {},
   "outputs": [],
   "source": [
    "def transform_ds(df, target_columns = ['j_1', 'j_2', 'bz_1', 'bz_2', 'j_12_Target'], time = range(50, 550, 50)):    \n",
    "    new_df = []\n",
    "    for _,row in df.iterrows():\n",
    "        for t in time:\n",
    "            dict_row = {f'{target}': row[target] for target in target_columns}\n",
    "            dict_row.update( {f'tempo': t})\n",
    "            columns_per_t = row.filter(regex=f'.*T{t}$')\n",
    "            for cpt in columns_per_t.index:\n",
    "                dict_row.update({f'{cpt[:3]}': row[cpt]})\n",
    "            new_df.append(dict_row)\n",
    "    return pd.DataFrame(new_df)\n",
    "\n",
    "train_df = transform_ds(train_df)\n",
    "val_df = transform_ds(val_df)\n",
    "test_df = transform_ds(test_df)"
   ]
  },
  {
   "cell_type": "code",
   "execution_count": 8,
   "id": "d01c0889-54f3-4f9c-9248-b9097b9c86b4",
   "metadata": {},
   "outputs": [],
   "source": [
    "class WindowGenerator():\n",
    "    def __init__(self, input_width=10, label_width=5, shift = 0,\n",
    "           train_df=train_df, val_df=val_df, test_df=test_df,\n",
    "           label_columns= ['j_1','j_2','bz_1','bz_2','j_12_Target']):\n",
    "        # Store the raw data.\n",
    "        self.train_df = train_df\n",
    "        self.val_df = val_df\n",
    "        self.test_df = test_df\n",
    "\n",
    "        # Work out the label column indices.\n",
    "        self.label_columns = label_columns\n",
    "        if label_columns is not None:\n",
    "            self.label_columns_indices = {name: train_df.columns.get_loc(name) for name in label_columns}\n",
    "            self.column_indices = {name: i for i, name in\n",
    "                               enumerate(train_df.columns)}\n",
    "\n",
    "        # Work out the window parameters.\n",
    "        self.input_width = input_width\n",
    "        self.label_width = label_width\n",
    "        self.shift = shift\n",
    "\n",
    "        self.total_window_size = input_width \n",
    "\n",
    "        self.input_slice = slice(label_width, input_width)\n",
    "        self.input_indices =[train_df.columns.get_loc(col) for col in \n",
    "                             train_df.columns[~train_df.columns.isin(self.label_columns)]]\n",
    "\n",
    "        self.label_indices = list(self.label_columns_indices.values())\n",
    "\n",
    "    def __repr__(self):\n",
    "        return '\\n'.join([\n",
    "        f'Total window size: {self.total_window_size}',\n",
    "        f'Input indices: {self.input_indices}',\n",
    "        f'Label indices: {self.label_indices}',\n",
    "        f'Label column name(s): {self.label_columns}'])\n",
    "    \n",
    "    def split_window(self, features):\n",
    "        inputs = features[:, :self.input_width, 5:]\n",
    "        labels = features[:, :self.input_width, :5]\n",
    "        #if self.label_columns is not None:\n",
    "        #    labels = tf.stack(\n",
    "        #        [labels[:, :, self.column_indices[name]] for name in self.label_columns],\n",
    "        #        axis=-1)\n",
    "\n",
    "        # Slicing doesn't preserve static shape information, so set the shapes\n",
    "        # manually. This way the `tf.data.Datasets` are easier to inspect.\n",
    "        inputs.set_shape([None, self.input_width, None])\n",
    "        labels.set_shape([None, self.input_width, None])\n",
    "\n",
    "        return inputs, labels"
   ]
  },
  {
   "cell_type": "code",
   "execution_count": 9,
   "id": "b15d138f-4ad2-483d-85a9-5606ce81044f",
   "metadata": {},
   "outputs": [
    {
     "data": {
      "text/plain": [
       "Total window size: 10\n",
       "Input indices: [5, 6, 7, 8, 9, 10, 11]\n",
       "Label indices: [0, 1, 2, 3, 4]\n",
       "Label column name(s): ['j_1', 'j_2', 'bz_1', 'bz_2', 'j_12_Target']"
      ]
     },
     "execution_count": 9,
     "metadata": {},
     "output_type": "execute_result"
    }
   ],
   "source": [
    "w2 = WindowGenerator()\n",
    "w2"
   ]
  },
  {
   "cell_type": "code",
   "execution_count": 10,
   "id": "d634644f-6b30-4f4c-a3af-318a10a4e3b5",
   "metadata": {},
   "outputs": [
    {
     "name": "stdout",
     "output_type": "stream",
     "text": [
      "All shapes are: (batch, time, features)\n",
      "Window shape: (3, 10, 12)\n",
      "Inputs shape: (3, 10, 7)\n",
      "Labels shape: (3, 10, 5)\n"
     ]
    },
    {
     "name": "stderr",
     "output_type": "stream",
     "text": [
      "2023-04-04 05:37:20.484189: I tensorflow/core/common_runtime/gpu/gpu_device.cc:1635] Created device /job:localhost/replica:0/task:0/device:GPU:0 with 2955 MB memory:  -> device: 0, name: NVIDIA GeForce GTX 980, pci bus id: 0000:65:00.0, compute capability: 5.2\n"
     ]
    }
   ],
   "source": [
    "# Stack three slices, the length of the total window.\n",
    "example_window = tf.stack([np.array(train_df[:w2.total_window_size]),\n",
    "                           np.array(train_df[100:100+w2.total_window_size]),\n",
    "                           np.array(train_df[200:200+w2.total_window_size])])\n",
    "\n",
    "example_inputs, example_labels = w2.split_window(example_window)\n",
    "\n",
    "print('All shapes are: (batch, time, features)')\n",
    "print(f'Window shape: {example_window.shape}')\n",
    "print(f'Inputs shape: {example_inputs.shape}')\n",
    "print(f'Labels shape: {example_labels.shape}')"
   ]
  },
  {
   "cell_type": "code",
   "execution_count": 11,
   "id": "0a5c59e7-fb6b-4ff9-87c1-8a923cc920a7",
   "metadata": {},
   "outputs": [],
   "source": [
    "def make_dataset(self, data):\n",
    "    data = np.array(data, dtype=np.float32)\n",
    "    ds = tf.keras.utils.timeseries_dataset_from_array(\n",
    "      data=data,\n",
    "      targets=None,\n",
    "      sequence_length=self.total_window_size,\n",
    "      sequence_stride=1,\n",
    "      shuffle=True,\n",
    "      batch_size=32,)\n",
    "\n",
    "    ds = ds.map(self.split_window)\n",
    "\n",
    "    return ds\n",
    "\n",
    "WindowGenerator.make_dataset = make_dataset"
   ]
  },
  {
   "cell_type": "code",
   "execution_count": 12,
   "id": "9a79e699-e1b2-4e2b-87f0-5a4f53907f8e",
   "metadata": {},
   "outputs": [],
   "source": [
    "@property\n",
    "def train(self):\n",
    "    return self.make_dataset(self.train_df)\n",
    "\n",
    "@property\n",
    "def val(self):\n",
    "    return self.make_dataset(self.val_df)\n",
    "\n",
    "@property\n",
    "def test(self):\n",
    "    return self.make_dataset(self.test_df)\n",
    "\n",
    "@property\n",
    "def example(self):\n",
    "    \"\"\"Get and cache an example batch of `inputs, labels` for plotting.\"\"\"\n",
    "    result = getattr(self, '_example', None)\n",
    "    if result is None:\n",
    "        # No example batch was found, so get one from the `.train` dataset\n",
    "        result = next(iter(self.train))\n",
    "        # And cache it for next time\n",
    "        self._example = result\n",
    "    return result\n",
    "\n",
    "WindowGenerator.train = train\n",
    "WindowGenerator.val = val\n",
    "WindowGenerator.test = test\n",
    "WindowGenerator.example = example"
   ]
  },
  {
   "cell_type": "code",
   "execution_count": 13,
   "id": "41d4f82c-d974-4f0f-8be8-1de2f06420b2",
   "metadata": {},
   "outputs": [
    {
     "data": {
      "text/plain": [
       "(TensorSpec(shape=(None, 10, 7), dtype=tf.float32, name=None),\n",
       " TensorSpec(shape=(None, 10, 5), dtype=tf.float32, name=None))"
      ]
     },
     "execution_count": 13,
     "metadata": {},
     "output_type": "execute_result"
    }
   ],
   "source": [
    "w2.train.element_spec"
   ]
  },
  {
   "cell_type": "code",
   "execution_count": 14,
   "id": "c2c4fe4b-1e43-4e98-a33e-725e44ffca54",
   "metadata": {},
   "outputs": [
    {
     "name": "stderr",
     "output_type": "stream",
     "text": [
      "2023-04-04 05:37:20.719264: I tensorflow/core/common_runtime/executor.cc:1197] [/device:CPU:0] (DEBUG INFO) Executor start aborting (this does not indicate an error and you can ignore this message): INVALID_ARGUMENT: You must feed a value for placeholder tensor 'Placeholder/_13' with dtype int32\n",
      "\t [[{{node Placeholder/_13}}]]\n",
      "2023-04-04 05:37:20.719664: I tensorflow/core/common_runtime/executor.cc:1197] [/device:CPU:0] (DEBUG INFO) Executor start aborting (this does not indicate an error and you can ignore this message): INVALID_ARGUMENT: You must feed a value for placeholder tensor 'Placeholder/_0' with dtype float and shape [70000,12]\n",
      "\t [[{{node Placeholder/_0}}]]\n"
     ]
    },
    {
     "name": "stdout",
     "output_type": "stream",
     "text": [
      "Inputs shape (batch, time, features): (32, 10, 7)\n",
      "Labels shape (batch, time, features): (32, 10, 5)\n"
     ]
    }
   ],
   "source": [
    "for example_inputs, example_labels in w2.train.take(1):\n",
    "    print(f'Inputs shape (batch, time, features): {example_inputs.shape}')\n",
    "    print(f'Labels shape (batch, time, features): {example_labels.shape}')"
   ]
  },
  {
   "cell_type": "code",
   "execution_count": 15,
   "id": "0e36b97a-d394-4a90-8320-4e3351837ade",
   "metadata": {},
   "outputs": [],
   "source": [
    "linear = tf.keras.Sequential([\n",
    "    tf.keras.layers.Dense(units=7),\n",
    "    tf.keras.layers.Dense(units=400, activation='tanh'),\n",
    "    tf.keras.layers.Dense(units=5)\n",
    "])"
   ]
  },
  {
   "cell_type": "code",
   "execution_count": 16,
   "id": "008a7558-8cbb-4434-901c-b89164a57a8f",
   "metadata": {},
   "outputs": [
    {
     "name": "stderr",
     "output_type": "stream",
     "text": [
      "2023-04-04 05:37:20.821890: I tensorflow/core/common_runtime/executor.cc:1197] [/device:CPU:0] (DEBUG INFO) Executor start aborting (this does not indicate an error and you can ignore this message): INVALID_ARGUMENT: You must feed a value for placeholder tensor 'Placeholder/_8' with dtype int32 and shape [69991]\n",
      "\t [[{{node Placeholder/_8}}]]\n",
      "2023-04-04 05:37:20.822356: I tensorflow/core/common_runtime/executor.cc:1197] [/device:CPU:0] (DEBUG INFO) Executor start aborting (this does not indicate an error and you can ignore this message): INVALID_ARGUMENT: You must feed a value for placeholder tensor 'Placeholder/_0' with dtype float and shape [70000,12]\n",
      "\t [[{{node Placeholder/_0}}]]\n"
     ]
    },
    {
     "name": "stdout",
     "output_type": "stream",
     "text": [
      "Input shape: (32, 10, 7)\n",
      "Output shape: (32, 10, 5)\n"
     ]
    }
   ],
   "source": [
    "print('Input shape:', w2.example[0].shape)\n",
    "print('Output shape:', linear(w2.example[0]).shape)"
   ]
  },
  {
   "cell_type": "code",
   "execution_count": 17,
   "id": "2f69b07e-0016-4b84-b6da-5bbc2b8ec5b6",
   "metadata": {},
   "outputs": [],
   "source": [
    "MAX_EPOCHS = 20\n",
    "def compile_and_fit(model, window, patience=2):\n",
    "    early_stopping = tf.keras.callbacks.EarlyStopping(monitor='val_loss',\n",
    "                                                    patience=patience,\n",
    "                                                    mode='min')\n",
    "\n",
    "    model.compile(loss=tf.keras.losses.MeanSquaredError(),\n",
    "                optimizer=tf.keras.optimizers.Adam(),\n",
    "                metrics=[tf.keras.metrics.MeanAbsoluteError()])\n",
    "\n",
    "    history = model.fit(window.train, epochs=MAX_EPOCHS,\n",
    "                      validation_data=window.val,\n",
    "                      callbacks=[early_stopping])\n",
    "    return history"
   ]
  },
  {
   "cell_type": "code",
   "execution_count": 18,
   "id": "4781ab5f-d66e-4fe2-89e0-e9576e3e8c70",
   "metadata": {},
   "outputs": [
    {
     "name": "stdout",
     "output_type": "stream",
     "text": [
      "Epoch 1/20\n"
     ]
    },
    {
     "name": "stderr",
     "output_type": "stream",
     "text": [
      "2023-04-04 05:37:21.263054: I tensorflow/core/common_runtime/executor.cc:1197] [/device:CPU:0] (DEBUG INFO) Executor start aborting (this does not indicate an error and you can ignore this message): INVALID_ARGUMENT: You must feed a value for placeholder tensor 'Placeholder/_0' with dtype float and shape [70000,12]\n",
      "\t [[{{node Placeholder/_0}}]]\n",
      "2023-04-04 05:37:21.263429: I tensorflow/core/common_runtime/executor.cc:1197] [/device:CPU:0] (DEBUG INFO) Executor start aborting (this does not indicate an error and you can ignore this message): INVALID_ARGUMENT: You must feed a value for placeholder tensor 'Placeholder/_8' with dtype int32 and shape [69991]\n",
      "\t [[{{node Placeholder/_8}}]]\n",
      "2023-04-04 05:37:21.860100: I tensorflow/compiler/xla/service/service.cc:169] XLA service 0x7f6fa8013250 initialized for platform CUDA (this does not guarantee that XLA will be used). Devices:\n",
      "2023-04-04 05:37:21.860137: I tensorflow/compiler/xla/service/service.cc:177]   StreamExecutor device (0): NVIDIA GeForce GTX 980, Compute Capability 5.2\n",
      "2023-04-04 05:37:21.866502: I tensorflow/compiler/mlir/tensorflow/utils/dump_mlir_util.cc:269] disabling MLIR crash reproducer, set env var `MLIR_CRASH_REPRODUCER_DIRECTORY` to enable.\n",
      "2023-04-04 05:37:22.775157: I tensorflow/compiler/xla/stream_executor/cuda/cuda_dnn.cc:424] Loaded cuDNN version 8801\n",
      "2023-04-04 05:37:22.896221: I ./tensorflow/compiler/jit/device_compiler.h:180] Compiled cluster using XLA!  This line is logged at most once for the lifetime of the process.\n"
     ]
    },
    {
     "name": "stdout",
     "output_type": "stream",
     "text": [
      "2171/2188 [============================>.] - ETA: 0s - loss: 0.4091 - mean_absolute_error: 0.5507"
     ]
    },
    {
     "name": "stderr",
     "output_type": "stream",
     "text": [
      "2023-04-04 05:37:29.504748: I tensorflow/core/common_runtime/executor.cc:1197] [/device:CPU:0] (DEBUG INFO) Executor start aborting (this does not indicate an error and you can ignore this message): INVALID_ARGUMENT: You must feed a value for placeholder tensor 'Placeholder/_14' with dtype int32\n",
      "\t [[{{node Placeholder/_14}}]]\n",
      "2023-04-04 05:37:29.505145: I tensorflow/core/common_runtime/executor.cc:1197] [/device:CPU:0] (DEBUG INFO) Executor start aborting (this does not indicate an error and you can ignore this message): INVALID_ARGUMENT: You must feed a value for placeholder tensor 'Placeholder/_0' with dtype float and shape [20000,12]\n",
      "\t [[{{node Placeholder/_0}}]]\n"
     ]
    },
    {
     "name": "stdout",
     "output_type": "stream",
     "text": [
      "2188/2188 [==============================] - 9s 3ms/step - loss: 0.4091 - mean_absolute_error: 0.5507 - val_loss: 0.3934 - val_mean_absolute_error: 0.5412\n",
      "Epoch 2/20\n",
      "2188/2188 [==============================] - 7s 3ms/step - loss: 0.4060 - mean_absolute_error: 0.5496 - val_loss: 0.4007 - val_mean_absolute_error: 0.5448\n",
      "Epoch 3/20\n",
      "2188/2188 [==============================] - 7s 3ms/step - loss: 0.4069 - mean_absolute_error: 0.5499 - val_loss: 0.3969 - val_mean_absolute_error: 0.5440\n",
      " 77/625 [==>...........................] - ETA: 1s - loss: 0.3979 - mean_absolute_error: 0.5458"
     ]
    },
    {
     "name": "stderr",
     "output_type": "stream",
     "text": [
      "2023-04-04 05:37:45.200598: I tensorflow/core/common_runtime/executor.cc:1197] [/device:CPU:0] (DEBUG INFO) Executor start aborting (this does not indicate an error and you can ignore this message): INVALID_ARGUMENT: You must feed a value for placeholder tensor 'Placeholder/_13' with dtype int32\n",
      "\t [[{{node Placeholder/_13}}]]\n",
      "2023-04-04 05:37:45.201018: I tensorflow/core/common_runtime/executor.cc:1197] [/device:CPU:0] (DEBUG INFO) Executor start aborting (this does not indicate an error and you can ignore this message): INVALID_ARGUMENT: You must feed a value for placeholder tensor 'Placeholder/_13' with dtype int32\n",
      "\t [[{{node Placeholder/_13}}]]\n"
     ]
    },
    {
     "name": "stdout",
     "output_type": "stream",
     "text": [
      "625/625 [==============================] - 1s 2ms/step - loss: 0.3969 - mean_absolute_error: 0.5440\n"
     ]
    },
    {
     "name": "stderr",
     "output_type": "stream",
     "text": [
      "2023-04-04 05:37:46.460595: I tensorflow/core/common_runtime/executor.cc:1197] [/device:CPU:0] (DEBUG INFO) Executor start aborting (this does not indicate an error and you can ignore this message): INVALID_ARGUMENT: You must feed a value for placeholder tensor 'Placeholder/_0' with dtype float and shape [10000,12]\n",
      "\t [[{{node Placeholder/_0}}]]\n",
      "2023-04-04 05:37:46.460971: I tensorflow/core/common_runtime/executor.cc:1197] [/device:CPU:0] (DEBUG INFO) Executor start aborting (this does not indicate an error and you can ignore this message): INVALID_ARGUMENT: You must feed a value for placeholder tensor 'Placeholder/_0' with dtype float and shape [10000,12]\n",
      "\t [[{{node Placeholder/_0}}]]\n"
     ]
    }
   ],
   "source": [
    "#history = compile_and_fit(linear, w2)\n",
    "#val_performance = {}\n",
    "#performance = {}\n",
    "#val_performance['Linear'] = linear.evaluate(w2.val)\n",
    "#performance['Linear'] = linear.evaluate(w2.test, verbose=0)"
   ]
  },
  {
   "cell_type": "code",
   "execution_count": 19,
   "id": "e37bb19c-2b83-47a4-8f5a-64f3ed67f127",
   "metadata": {},
   "outputs": [
    {
     "name": "stdout",
     "output_type": "stream",
     "text": [
      "Epoch 1/20\n"
     ]
    },
    {
     "name": "stderr",
     "output_type": "stream",
     "text": [
      "2023-04-04 05:37:47.107509: I tensorflow/core/common_runtime/executor.cc:1197] [/device:CPU:0] (DEBUG INFO) Executor start aborting (this does not indicate an error and you can ignore this message): INVALID_ARGUMENT: You must feed a value for placeholder tensor 'Placeholder/_0' with dtype float and shape [70000,12]\n",
      "\t [[{{node Placeholder/_0}}]]\n",
      "2023-04-04 05:37:47.107897: I tensorflow/core/common_runtime/executor.cc:1197] [/device:CPU:0] (DEBUG INFO) Executor start aborting (this does not indicate an error and you can ignore this message): INVALID_ARGUMENT: You must feed a value for placeholder tensor 'Placeholder/_14' with dtype int32\n",
      "\t [[{{node Placeholder/_14}}]]\n"
     ]
    },
    {
     "name": "stdout",
     "output_type": "stream",
     "text": [
      "2188/2188 [==============================] - ETA: 0s - loss: 0.8027 - mean_absolute_error: 0.5984"
     ]
    },
    {
     "name": "stderr",
     "output_type": "stream",
     "text": [
      "2023-04-04 05:37:54.536586: I tensorflow/core/common_runtime/executor.cc:1197] [/device:CPU:0] (DEBUG INFO) Executor start aborting (this does not indicate an error and you can ignore this message): INVALID_ARGUMENT: You must feed a value for placeholder tensor 'Placeholder/_0' with dtype float and shape [20000,12]\n",
      "\t [[{{node Placeholder/_0}}]]\n",
      "2023-04-04 05:37:54.536967: I tensorflow/core/common_runtime/executor.cc:1197] [/device:CPU:0] (DEBUG INFO) Executor start aborting (this does not indicate an error and you can ignore this message): INVALID_ARGUMENT: You must feed a value for placeholder tensor 'Placeholder/_13' with dtype int32\n",
      "\t [[{{node Placeholder/_13}}]]\n"
     ]
    },
    {
     "name": "stdout",
     "output_type": "stream",
     "text": [
      "2188/2188 [==============================] - 9s 3ms/step - loss: 0.8027 - mean_absolute_error: 0.5984 - val_loss: 0.3907 - val_mean_absolute_error: 0.5417\n",
      "Epoch 2/20\n",
      "2188/2188 [==============================] - 7s 3ms/step - loss: 0.4376 - mean_absolute_error: 0.5642 - val_loss: 0.5143 - val_mean_absolute_error: 0.5976\n",
      "Epoch 3/20\n",
      "2188/2188 [==============================] - 7s 3ms/step - loss: 0.4356 - mean_absolute_error: 0.5634 - val_loss: 0.4675 - val_mean_absolute_error: 0.5764\n",
      " 80/625 [==>...........................] - ETA: 1s - loss: 0.4635 - mean_absolute_error: 0.5727"
     ]
    },
    {
     "name": "stderr",
     "output_type": "stream",
     "text": [
      "2023-04-04 05:38:10.831809: I tensorflow/core/common_runtime/executor.cc:1197] [/device:CPU:0] (DEBUG INFO) Executor start aborting (this does not indicate an error and you can ignore this message): INVALID_ARGUMENT: You must feed a value for placeholder tensor 'Placeholder/_13' with dtype int32\n",
      "\t [[{{node Placeholder/_13}}]]\n",
      "2023-04-04 05:38:10.832268: I tensorflow/core/common_runtime/executor.cc:1197] [/device:CPU:0] (DEBUG INFO) Executor start aborting (this does not indicate an error and you can ignore this message): INVALID_ARGUMENT: You must feed a value for placeholder tensor 'Placeholder/_8' with dtype int32 and shape [19991]\n",
      "\t [[{{node Placeholder/_8}}]]\n"
     ]
    },
    {
     "name": "stdout",
     "output_type": "stream",
     "text": [
      "625/625 [==============================] - 1s 2ms/step - loss: 0.4675 - mean_absolute_error: 0.5764\n"
     ]
    },
    {
     "name": "stderr",
     "output_type": "stream",
     "text": [
      "2023-04-04 05:38:12.105281: I tensorflow/core/common_runtime/executor.cc:1197] [/device:CPU:0] (DEBUG INFO) Executor start aborting (this does not indicate an error and you can ignore this message): INVALID_ARGUMENT: You must feed a value for placeholder tensor 'Placeholder/_0' with dtype float and shape [10000,12]\n",
      "\t [[{{node Placeholder/_0}}]]\n",
      "2023-04-04 05:38:12.105654: I tensorflow/core/common_runtime/executor.cc:1197] [/device:CPU:0] (DEBUG INFO) Executor start aborting (this does not indicate an error and you can ignore this message): INVALID_ARGUMENT: You must feed a value for placeholder tensor 'Placeholder/_14' with dtype int32\n",
      "\t [[{{node Placeholder/_14}}]]\n"
     ]
    }
   ],
   "source": [
    "dense = tf.keras.Sequential([\n",
    "    tf.keras.layers.Dense(units=64, activation='relu'),\n",
    "    tf.keras.layers.Dense(units=64, activation='relu'),\n",
    "    tf.keras.layers.Dense(units=1)\n",
    "])\n",
    "\n",
    "#history = compile_and_fit(dense, w2)\n",
    "\n",
    "#val_performance['Dense'] = dense.evaluate(w2.val)\n",
    "#performance['Dense'] = dense.evaluate(w2.test, verbose=0)"
   ]
  },
  {
   "cell_type": "code",
   "execution_count": 20,
   "id": "0566ceb3-4e24-4250-a030-2f98afcd931d",
   "metadata": {},
   "outputs": [],
   "source": [
    "multi_step_dense = tf.keras.Sequential([\n",
    "    # Shape: (time, features) => (time*features)\n",
    "    tf.keras.layers.Flatten(),\n",
    "    tf.keras.layers.Dense(units=128, activation='tanh'),\n",
    "    tf.keras.layers.Dense(units=256, activation='tanh'),\n",
    "    tf.keras.layers.Dense(units=512, activation='tanh'),\n",
    "    tf.keras.layers.Dense(units=1024, activation='tanh'),\n",
    "    tf.keras.layers.Dense(units=1024, activation='tanh'),\n",
    "    tf.keras.layers.Dense(units=512, activation='tanh'),\n",
    "    tf.keras.layers.Dense(units=256, activation='tanh'),\n",
    "    tf.keras.layers.Dense(units=128, activation='tanh'),\n",
    "    tf.keras.layers.Dense(units=5),\n",
    "    # Add back the time dimension.\n",
    "    # Shape: (outputs) => (1, outputs)\n",
    "    tf.keras.layers.Reshape([1, -1]),\n",
    "])\n"
   ]
  },
  {
   "cell_type": "code",
   "execution_count": 21,
   "id": "2de18b37-ee8c-4bcd-9abd-3fc0a4ed1552",
   "metadata": {},
   "outputs": [
    {
     "name": "stdout",
     "output_type": "stream",
     "text": [
      "Input shape: (32, 10, 7)\n",
      "Output shape: (32, 1, 5)\n"
     ]
    }
   ],
   "source": [
    "with tf.device('/CPU:0'):\n",
    "    print('Input shape:', w2.example[0].shape)\n",
    "    print('Output shape:', multi_step_dense(w2.example[0]).shape)"
   ]
  },
  {
   "cell_type": "code",
   "execution_count": 22,
   "id": "0fc94f9d-8fa0-46d3-aa62-a1a6e0fb794b",
   "metadata": {},
   "outputs": [
    {
     "name": "stdout",
     "output_type": "stream",
     "text": [
      " 53/625 [=>............................] - ETA: 1s - loss: 0.3886 - mean_absolute_error: 0.5400"
     ]
    },
    {
     "name": "stderr",
     "output_type": "stream",
     "text": [
      "2023-04-04 05:39:44.840075: I tensorflow/core/common_runtime/executor.cc:1197] [/device:CPU:0] (DEBUG INFO) Executor start aborting (this does not indicate an error and you can ignore this message): INVALID_ARGUMENT: You must feed a value for placeholder tensor 'Placeholder/_0' with dtype float and shape [20000,12]\n",
      "\t [[{{node Placeholder/_0}}]]\n",
      "2023-04-04 05:39:44.840445: I tensorflow/core/common_runtime/executor.cc:1197] [/device:CPU:0] (DEBUG INFO) Executor start aborting (this does not indicate an error and you can ignore this message): INVALID_ARGUMENT: You must feed a value for placeholder tensor 'Placeholder/_0' with dtype float and shape [20000,12]\n",
      "\t [[{{node Placeholder/_0}}]]\n"
     ]
    },
    {
     "name": "stdout",
     "output_type": "stream",
     "text": [
      "625/625 [==============================] - 2s 3ms/step - loss: 0.3917 - mean_absolute_error: 0.5417\n"
     ]
    },
    {
     "name": "stderr",
     "output_type": "stream",
     "text": [
      "2023-04-04 05:39:46.733396: I tensorflow/core/common_runtime/executor.cc:1197] [/device:CPU:0] (DEBUG INFO) Executor start aborting (this does not indicate an error and you can ignore this message): INVALID_ARGUMENT: You must feed a value for placeholder tensor 'Placeholder/_8' with dtype int32 and shape [9991]\n",
      "\t [[{{node Placeholder/_8}}]]\n",
      "2023-04-04 05:39:46.733767: I tensorflow/core/common_runtime/executor.cc:1197] [/device:CPU:0] (DEBUG INFO) Executor start aborting (this does not indicate an error and you can ignore this message): INVALID_ARGUMENT: You must feed a value for placeholder tensor 'Placeholder/_8' with dtype int32 and shape [9991]\n",
      "\t [[{{node Placeholder/_8}}]]\n"
     ]
    }
   ],
   "source": [
    "\n",
    "#history = compile_and_fit(multi_step_dense, w2)\n",
    "\n",
    "#IPython.display.clear_output()\n",
    "#val_performance['Multi step dense'] = multi_step_dense.evaluate(w2.val)\n",
    "#performance['Multi step dense'] = multi_step_dense.evaluate(w2.test, verbose=0)"
   ]
  },
  {
   "cell_type": "code",
   "execution_count": null,
   "id": "b7095874-b533-47b4-b829-ab34fc39379c",
   "metadata": {},
   "outputs": [],
   "source": [
    "conv_model = tf.keras.Sequential([\n",
    "    tf.keras.layers.Conv1D(filters=32,\n",
    "                           kernel_size=(2,),\n",
    "                           activation='tanh'),\n",
    "    tf.keras.layers.Conv1D(filters=64,\n",
    "                       kernel_size=(2,),\n",
    "                       activation='tanh'),\n",
    "    tf.keras.layers.Conv1D(filters=128,\n",
    "                       kernel_size=(2,),\n",
    "                       activation='tanh'),\n",
    "    tf.keras.layers.Conv1D(filters=256,\n",
    "                       kernel_size=(2,),\n",
    "                       activation='tanh'),\n",
    "    tf.keras.layers.Conv1D(filters=512,\n",
    "                       kernel_size=(2,),\n",
    "                       activation='tanh'),\n",
    "    tf.keras.layers.Conv1D(filters=1024,\n",
    "                   kernel_size=(2,),\n",
    "                   activation='tanh'),\n",
    "    tf.keras.layers.Conv1D(filters=2048,\n",
    "                   kernel_size=(2,),\n",
    "                   activation='tanh'),\n",
    "    tf.keras.layers.Conv1D(filters=4096,\n",
    "                   kernel_size=(2,),\n",
    "                   activation='tanh'),\n",
    "    tf.keras.layers.Conv1D(filters=8192,\n",
    "                   kernel_size=(2,),\n",
    "                   activation='tanh'),\n",
    "    \n",
    "    tf.keras.layers.Dense(units=1024, activation='tanh'),\n",
    "    tf.keras.layers.Dense(units=5),\n",
    "])"
   ]
  },
  {
   "cell_type": "code",
   "execution_count": null,
   "id": "01d382e8-efdb-442f-8bca-9043478febbe",
   "metadata": {},
   "outputs": [],
   "source": [
    "2048*2"
   ]
  },
  {
   "cell_type": "code",
   "execution_count": null,
   "id": "f35f6299-a73f-41ed-86cf-daaa3f7ef75b",
   "metadata": {},
   "outputs": [],
   "source": [
    "\n",
    "print(\"Conv model on `conv_window`\")\n",
    "print('Input shape:', w2.example[0].shape)\n",
    "print('Output shape:', conv_model(w2.example[0]).shape)"
   ]
  },
  {
   "cell_type": "code",
   "execution_count": null,
   "id": "9082e942-8a78-43d7-b66c-d8f466c7a775",
   "metadata": {},
   "outputs": [],
   "source": [
    "\n",
    "with tf.device('/GPU:0'):\n",
    "\n",
    "    history = compile_and_fit(conv_model, w2)\n",
    "\n",
    "    #IPython.display.clear_output()\n",
    "    val_performance['Conv'] = conv_model.evaluate(w2.val)\n",
    "    performance['Conv'] = conv_model.evaluate(w2.test, verbose=0)"
   ]
  },
  {
   "cell_type": "code",
   "execution_count": 153,
   "id": "a8bce5dd-9462-412b-ab80-7e0cd20c9320",
   "metadata": {},
   "outputs": [],
   "source": [
    "lstm_model = tf.keras.models.Sequential([\n",
    "    # Shape [batch, time, features] => [batch, time, lstm_units]\n",
    "    tf.keras.layers.LSTM(32, return_sequences=True),\n",
    "    tf.keras.layers.LSTM(64, return_sequences=True),\n",
    "    # Shape => [batch, time, features]\n",
    "    tf.keras.layers.Dense(units=128, activation='tanh'),\n",
    "    tf.keras.layers.Dense(units=5)\n",
    "])"
   ]
  },
  {
   "cell_type": "code",
   "execution_count": 154,
   "id": "17697a7b-ad44-44ac-99a6-28bd1d33109b",
   "metadata": {},
   "outputs": [
    {
     "name": "stdout",
     "output_type": "stream",
     "text": [
      "Input shape: (32, 10, 7)\n"
     ]
    },
    {
     "name": "stderr",
     "output_type": "stream",
     "text": [
      "2023-04-04 09:29:13.657412: I tensorflow/core/common_runtime/executor.cc:1197] [/device:CPU:0] (DEBUG INFO) Executor start aborting (this does not indicate an error and you can ignore this message): INVALID_ARGUMENT: You must feed a value for placeholder tensor 'gradients/split_2_grad/concat/split_2/split_dim' with dtype int32\n",
      "\t [[{{node gradients/split_2_grad/concat/split_2/split_dim}}]]\n",
      "2023-04-04 09:29:13.658659: I tensorflow/core/common_runtime/executor.cc:1197] [/device:CPU:0] (DEBUG INFO) Executor start aborting (this does not indicate an error and you can ignore this message): INVALID_ARGUMENT: You must feed a value for placeholder tensor 'gradients/split_grad/concat/split/split_dim' with dtype int32\n",
      "\t [[{{node gradients/split_grad/concat/split/split_dim}}]]\n",
      "2023-04-04 09:29:13.659615: I tensorflow/core/common_runtime/executor.cc:1197] [/device:CPU:0] (DEBUG INFO) Executor start aborting (this does not indicate an error and you can ignore this message): INVALID_ARGUMENT: You must feed a value for placeholder tensor 'gradients/split_1_grad/concat/split_1/split_dim' with dtype int32\n",
      "\t [[{{node gradients/split_1_grad/concat/split_1/split_dim}}]]\n",
      "2023-04-04 09:29:13.819797: I tensorflow/core/common_runtime/executor.cc:1197] [/device:CPU:0] (DEBUG INFO) Executor start aborting (this does not indicate an error and you can ignore this message): INVALID_ARGUMENT: You must feed a value for placeholder tensor 'gradients/split_2_grad/concat/split_2/split_dim' with dtype int32\n",
      "\t [[{{node gradients/split_2_grad/concat/split_2/split_dim}}]]\n",
      "2023-04-04 09:29:13.820832: I tensorflow/core/common_runtime/executor.cc:1197] [/device:CPU:0] (DEBUG INFO) Executor start aborting (this does not indicate an error and you can ignore this message): INVALID_ARGUMENT: You must feed a value for placeholder tensor 'gradients/split_grad/concat/split/split_dim' with dtype int32\n",
      "\t [[{{node gradients/split_grad/concat/split/split_dim}}]]\n",
      "2023-04-04 09:29:13.821768: I tensorflow/core/common_runtime/executor.cc:1197] [/device:CPU:0] (DEBUG INFO) Executor start aborting (this does not indicate an error and you can ignore this message): INVALID_ARGUMENT: You must feed a value for placeholder tensor 'gradients/split_1_grad/concat/split_1/split_dim' with dtype int32\n",
      "\t [[{{node gradients/split_1_grad/concat/split_1/split_dim}}]]\n"
     ]
    },
    {
     "name": "stdout",
     "output_type": "stream",
     "text": [
      "Output shape: (32, 10, 5)\n"
     ]
    }
   ],
   "source": [
    "print('Input shape:', w2.example[0].shape)\n",
    "print('Output shape:', lstm_model(w2.example[0]).shape)"
   ]
  },
  {
   "cell_type": "code",
   "execution_count": 155,
   "id": "b5534376-5c37-4df5-9c11-cbd17b9ce061",
   "metadata": {},
   "outputs": [
    {
     "name": "stdout",
     "output_type": "stream",
     "text": [
      "  7/625 [..............................] - ETA: 14s - loss: 0.3950 - mean_absolute_error: 0.5488"
     ]
    },
    {
     "name": "stderr",
     "output_type": "stream",
     "text": [
      "2023-04-04 09:33:52.076534: I tensorflow/core/common_runtime/executor.cc:1197] [/device:CPU:0] (DEBUG INFO) Executor start aborting (this does not indicate an error and you can ignore this message): INVALID_ARGUMENT: You must feed a value for placeholder tensor 'Placeholder/_13' with dtype int32\n",
      "\t [[{{node Placeholder/_13}}]]\n",
      "2023-04-04 09:33:52.076991: I tensorflow/core/common_runtime/executor.cc:1197] [/device:CPU:0] (DEBUG INFO) Executor start aborting (this does not indicate an error and you can ignore this message): INVALID_ARGUMENT: You must feed a value for placeholder tensor 'Placeholder/_8' with dtype int32 and shape [19991]\n",
      "\t [[{{node Placeholder/_8}}]]\n"
     ]
    },
    {
     "name": "stdout",
     "output_type": "stream",
     "text": [
      "625/625 [==============================] - 7s 11ms/step - loss: 0.3881 - mean_absolute_error: 0.5412\n"
     ]
    },
    {
     "name": "stderr",
     "output_type": "stream",
     "text": [
      "2023-04-04 09:33:59.110519: I tensorflow/core/common_runtime/executor.cc:1197] [/device:CPU:0] (DEBUG INFO) Executor start aborting (this does not indicate an error and you can ignore this message): INVALID_ARGUMENT: You must feed a value for placeholder tensor 'Placeholder/_14' with dtype int32\n",
      "\t [[{{node Placeholder/_14}}]]\n",
      "2023-04-04 09:33:59.110955: I tensorflow/core/common_runtime/executor.cc:1197] [/device:CPU:0] (DEBUG INFO) Executor start aborting (this does not indicate an error and you can ignore this message): INVALID_ARGUMENT: You must feed a value for placeholder tensor 'Placeholder/_13' with dtype int32\n",
      "\t [[{{node Placeholder/_13}}]]\n"
     ]
    }
   ],
   "source": [
    "history = compile_and_fit(lstm_model, w2)\n",
    "\n",
    "IPython.display.clear_output()\n",
    "val_performance['LSTM'] = lstm_model.evaluate(w2.val)\n",
    "performance['LSTM'] = lstm_model.evaluate(w2.test, verbose=0)"
   ]
  },
  {
   "cell_type": "code",
   "execution_count": 156,
   "id": "8b9111d2-0012-4b16-8971-67f0c4561715",
   "metadata": {},
   "outputs": [],
   "source": [
    "class ResidualWrapper(tf.keras.Model):\n",
    "    def __init__(self, model):\n",
    "        super().__init__()\n",
    "        self.model = model\n",
    "\n",
    "    def call(self, inputs, *args, **kwargs):\n",
    "        delta = self.model(inputs, *args, **kwargs)\n",
    "\n",
    "        # The prediction for each time step is the input\n",
    "        # from the previous time step plus the delta\n",
    "        # calculated by the model.\n",
    "        return inputs + delta"
   ]
  },
  {
   "cell_type": "code",
   "execution_count": 160,
   "id": "2703a416-d3ce-46e1-9f3c-7f23927ba2f4",
   "metadata": {},
   "outputs": [
    {
     "name": "stdout",
     "output_type": "stream",
     "text": [
      "  9/625 [..............................] - ETA: 8s - loss: 1.3658 - mean_absolute_error: 0.8417"
     ]
    },
    {
     "name": "stderr",
     "output_type": "stream",
     "text": [
      "2023-04-04 09:48:37.186527: I tensorflow/core/common_runtime/executor.cc:1197] [/device:CPU:0] (DEBUG INFO) Executor start aborting (this does not indicate an error and you can ignore this message): INVALID_ARGUMENT: You must feed a value for placeholder tensor 'Placeholder/_13' with dtype int32\n",
      "\t [[{{node Placeholder/_13}}]]\n",
      "2023-04-04 09:48:37.186913: I tensorflow/core/common_runtime/executor.cc:1197] [/device:CPU:0] (DEBUG INFO) Executor start aborting (this does not indicate an error and you can ignore this message): INVALID_ARGUMENT: You must feed a value for placeholder tensor 'Placeholder/_14' with dtype int32\n",
      "\t [[{{node Placeholder/_14}}]]\n"
     ]
    },
    {
     "name": "stdout",
     "output_type": "stream",
     "text": [
      "625/625 [==============================] - 6s 10ms/step - loss: 1.3690 - mean_absolute_error: 0.8523\n"
     ]
    },
    {
     "name": "stderr",
     "output_type": "stream",
     "text": [
      "2023-04-04 09:48:43.700209: I tensorflow/core/common_runtime/executor.cc:1197] [/device:CPU:0] (DEBUG INFO) Executor start aborting (this does not indicate an error and you can ignore this message): INVALID_ARGUMENT: You must feed a value for placeholder tensor 'Placeholder/_13' with dtype int32\n",
      "\t [[{{node Placeholder/_13}}]]\n",
      "2023-04-04 09:48:43.700583: I tensorflow/core/common_runtime/executor.cc:1197] [/device:CPU:0] (DEBUG INFO) Executor start aborting (this does not indicate an error and you can ignore this message): INVALID_ARGUMENT: You must feed a value for placeholder tensor 'Placeholder/_8' with dtype int32 and shape [9991]\n",
      "\t [[{{node Placeholder/_8}}]]\n"
     ]
    },
    {
     "name": "stdout",
     "output_type": "stream",
     "text": [
      "\n"
     ]
    }
   ],
   "source": [
    "residual_lstm = ResidualWrapper(\n",
    "    tf.keras.Sequential([\n",
    "    tf.keras.layers.LSTM(32, return_sequences=True),\n",
    "    tf.keras.layers.LSTM(32, return_sequences=True),\n",
    "    tf.keras.layers.Dense(128, activation='relu'),\n",
    "    tf.keras.layers.Dense(\n",
    "        7,\n",
    "        # The predicted deltas should start small.\n",
    "        # Therefore, initialize the output layer with zeros.\n",
    "        kernel_initializer=tf.initializers.zeros())\n",
    "]))\n",
    "residual_lstm2 = tf.keras.Sequential([\n",
    "    residual_lstm,\n",
    "    tf.keras.layers.Dense(units=5),\n",
    "])\n",
    "\n",
    "history = compile_and_fit(residual_lstm2, w2)\n",
    "\n",
    "IPython.display.clear_output()\n",
    "val_performance['Residual LSTM'] = residual_lstm2.evaluate(w2.val)\n",
    "performance['Residual LSTM'] = residual_lstm2.evaluate(w2.test, verbose=0)\n",
    "print()"
   ]
  },
  {
   "cell_type": "code",
   "execution_count": null,
   "id": "558432f4-2c0b-41e1-8c9c-c34078a48182",
   "metadata": {},
   "outputs": [],
   "source": []
  }
 ],
 "metadata": {
  "kernelspec": {
   "display_name": "Python 3 (ipykernel)",
   "language": "python",
   "name": "python3"
  },
  "language_info": {
   "codemirror_mode": {
    "name": "ipython",
    "version": 3
   },
   "file_extension": ".py",
   "mimetype": "text/x-python",
   "name": "python",
   "nbconvert_exporter": "python",
   "pygments_lexer": "ipython3",
   "version": "3.11.0"
  }
 },
 "nbformat": 4,
 "nbformat_minor": 5
}
